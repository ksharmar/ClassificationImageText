{
 "cells": [
  {
   "cell_type": "code",
   "execution_count": 5,
   "metadata": {},
   "outputs": [
    {
     "name": "stdout",
     "output_type": "stream",
     "text": [
      "Namespace(class_list='../trained_models/hymenoptera_data/cleannet_input_classnames.txt', data_path='../trained_models/hymenoptera_data/cleannet_input.tsv', num_ref=32, output_dir='../trained_models/hymenoptera_data/cleannet/', split='train')\n",
      ">> load 244 samples with verification label\n",
      "found 170 positive samples\n",
      "found 0 invalid samples\n"
     ]
    }
   ],
   "source": [
    "feat_dir = \"../trained_models/hymenoptera_data/\"\n",
    "save_tsv_file = feat_dir + 'cleannet_input.tsv'\n",
    "save_class_names_file = feat_dir + 'cleannet_input_classnames.txt'\n",
    "\n",
    "%run -i 'util/convert_data.py' --split=train \\\n",
    "--class_list=\"../trained_models/hymenoptera_data/cleannet_input_classnames.txt\" \\\n",
    "--data_path=\"../trained_models/hymenoptera_data/cleannet_input.tsv\" \\\n",
    "--output_dir=\"../trained_models/hymenoptera_data/cleannet/\""
   ]
  },
  {
   "cell_type": "code",
   "execution_count": 7,
   "metadata": {},
   "outputs": [
    {
     "name": "stdout",
     "output_type": "stream",
     "text": [
      "Namespace(class_list='../trained_models/hymenoptera_data/cleannet_input_classnames.txt', data_path='../trained_models/hymenoptera_data/cleannet_input.tsv', num_ref=32, output_dir='../trained_models/hymenoptera_data/cleannet/', split='val')\n",
      ">> load 244 samples with verification label\n",
      "found 170 positive samples\n",
      "found 0 invalid samples\n"
     ]
    }
   ],
   "source": [
    "%run -i 'util/convert_data.py' --split=val \\\n",
    "--class_list=\"../trained_models/hymenoptera_data/cleannet_input_classnames.txt\" \\\n",
    "--data_path=\"../trained_models/hymenoptera_data/cleannet_input.tsv\" \\\n",
    "--output_dir=\"../trained_models/hymenoptera_data/cleannet/\""
   ]
  },
  {
   "cell_type": "code",
   "execution_count": 10,
   "metadata": {},
   "outputs": [
    {
     "name": "stdout",
     "output_type": "stream",
     "text": [
      "Namespace(class_list='../trained_models/hymenoptera_data/cleannet_input_classnames.txt', data_path='../trained_models/hymenoptera_data/cleannet_input_all.tsv', num_ref=32, output_dir='../trained_models/hymenoptera_data/cleannet/', split='all')\n",
      ">> load 244 samples without verification label\n"
     ]
    }
   ],
   "source": [
    "%run -i 'util/convert_data.py' --split=all \\\n",
    "--class_list=\"../trained_models/hymenoptera_data/cleannet_input_classnames.txt\" \\\n",
    "--data_path=\"../trained_models/hymenoptera_data/cleannet_input_all.tsv\" \\\n",
    "--output_dir=\"../trained_models/hymenoptera_data/cleannet/\""
   ]
  },
  {
   "cell_type": "code",
   "execution_count": 1,
   "metadata": {},
   "outputs": [
    {
     "name": "stdout",
     "output_type": "stream",
     "text": [
      "1.16.2\n",
      "Finding reference features...\n",
      "Loading all image features...\n",
      "Convert to numpy ants\n",
      "Starting K-means ants\n",
      "Convert to numpy bees\n",
      "Starting K-means bees\n",
      "output_data (2, 32, 2048)\n"
     ]
    }
   ],
   "source": [
    "# Downgrate numpy to fix a problem\n",
    "# !pip install numpy==1.16.2\n",
    "import numpy as np\n",
    "print(np.__version__)\n",
    "\n",
    "%run -i 'util/find_reference.py' \\\n",
    "--class_list=\"../trained_models/hymenoptera_data/cleannet_input_classnames.txt\" \\\n",
    "--input_npy=\"../trained_models/hymenoptera_data/cleannet/all.npy\" \\\n",
    "--output_dir=\"../trained_models/hymenoptera_data/cleannet/\" \\\n",
    "--num_ref=32 --img_dim=2048"
   ]
  },
  {
   "cell_type": "code",
   "execution_count": 1,
   "metadata": {},
   "outputs": [
    {
     "name": "stdout",
     "output_type": "stream",
     "text": [
      "INFO:tensorflow:Start training...\n",
      "INFO:tensorflow:Build CleanNet...\n",
      "INFO:tensorflow:Get data batcher...\n",
      "INFO:tensorflow:Training from scratch.\n",
      "INFO:tensorflow:step 100: train/loss = 7.928856372833252, train/acc = 0.375\n",
      "INFO:tensorflow:step 200: train/loss = 6.550243377685547, train/acc = 0.5\n",
      "INFO:tensorflow:step 300: train/loss = 5.592586994171143, train/acc = 0.78125\n",
      ">> Evaluated losses for 3 of 3 batches.\n",
      "INFO:tensorflow:step 300: val/loss = 5.911392052968343, val/acc = 0.71875\n",
      "Model saved in path: ../trained_models/hymenoptera_data/results/checkpoints/model-300\n",
      "Best model saved in path: ../trained_models/hymenoptera_data/results/checkpoints/best_model_300\n",
      "INFO:tensorflow:step 400: train/loss = 4.75914192199707, train/acc = 0.65625\n",
      "INFO:tensorflow:step 500: train/loss = 4.351515293121338, train/acc = 0.71875\n",
      "INFO:tensorflow:step 600: train/loss = 3.973572015762329, train/acc = 0.625\n",
      ">> Evaluated losses for 3 of 3 batches.\n",
      "INFO:tensorflow:step 600: val/loss = 4.3530653317769366, val/acc = 0.734375\n",
      "Model saved in path: ../trained_models/hymenoptera_data/results/checkpoints/model-600\n",
      "Best model saved in path: ../trained_models/hymenoptera_data/results/checkpoints/best_model_600\n",
      "INFO:tensorflow:step 700: train/loss = 3.905996322631836, train/acc = 0.8125\n",
      "INFO:tensorflow:step 800: train/loss = 3.569913625717163, train/acc = 0.75\n"
     ]
    }
   ],
   "source": [
    "\n",
    "%run -i 'train.py' \\\n",
    "--data_dir=\"../trained_models/hymenoptera_data/cleannet/\" \\\n",
    "--checkpoint_dir=\"../trained_models/hymenoptera_data/results/checkpoints/\" \\\n",
    "--log_dir=\"../trained_models/hymenoptera_data/results/log/\" \\\n",
    "--n_step=800 \\\n",
    "--val_interval=300 \\\n",
    "--batch_size_sup=32 \\\n",
    "--batch_size_unsup=32 \\\n",
    "--val_sim_thres=0.1 \\\n",
    "--dropout_rate=0.2"
   ]
  },
  {
   "cell_type": "code",
   "execution_count": 1,
   "metadata": {},
   "outputs": [
    {
     "name": "stdout",
     "output_type": "stream",
     "text": [
      "INFO:tensorflow:Build CleanNet...\n",
      "INFO:tensorflow:Scale of 0 disables regularizer.\n",
      "INFO:tensorflow:Scale of 0 disables regularizer.\n",
      "INFO:tensorflow:Scale of 0 disables regularizer.\n",
      "INFO:tensorflow:Scale of 0 disables regularizer.\n",
      "INFO:tensorflow:Scale of 0 disables regularizer.\n",
      "INFO:tensorflow:Scale of 0 disables regularizer.\n",
      "INFO:tensorflow:Scale of 0 disables regularizer.\n",
      "INFO:tensorflow:Scale of 0 disables regularizer.\n",
      "INFO:tensorflow:Loading model from checkpoint: ../trained_models/hymenoptera_data/results/checkpoints/model-600\n",
      "INFO:tensorflow:Restoring parameters from ../trained_models/hymenoptera_data/results/checkpoints/model-600\n",
      "INFO:tensorflow:Successfully loaded model-600 at global step = 600.\n",
      "INFO:tensorflow:Start validate once...\n",
      "INFO:tensorflow:Get data batcher...\n",
      ">> Predict for 192 batches.\n",
      "INFO:tensorflow:acc = 0.7291666666666666 err = 0.27083333333333337\n",
      "INFO:tensorflow:recall = 0.2\n",
      "INFO:tensorflow:precision = 0.75\n",
      "INFO:tensorflow:f1 = 0.31578947368421056\n",
      "INFO:tensorflow:avg acc (cls) = 0.7154471544715447 avg error (cls) = 0.2845528455284553\n"
     ]
    }
   ],
   "source": [
    "\n",
    "%run 'inference.py' \\\n",
    "--data_dir=\"../trained_models/hymenoptera_data/cleannet/\" \\\n",
    "--class_list=\"../trained_models/hymenoptera_data/cleannet_input_classnames.txt\" \\\n",
    "--output_file=\"../trained_models/hymenoptera_data/cleannet_output_val.txt\" \\\n",
    "--checkpoint_dir=\"../trained_models/hymenoptera_data/results/checkpoints/\" \\\n",
    "--mode=val \\\n",
    "--val_sim_thres=0.1"
   ]
  },
  {
   "cell_type": "code",
   "execution_count": 1,
   "metadata": {},
   "outputs": [
    {
     "name": "stdout",
     "output_type": "stream",
     "text": [
      "INFO:tensorflow:Start avg baseline validate once...\n",
      "INFO:tensorflow:Get data batcher...\n",
      ">> Predict for 192 batches.\n",
      "INFO:tensorflow:acc = 0.6875 err = 0.3125\n",
      "INFO:tensorflow:recall = 0.0\n",
      "INFO:tensorflow:precision = nan since total_prec_denom=0\n",
      "INFO:tensorflow:avg acc (cls) = 0.679745493107105 avg error (cls) = 0.32025450689289503\n"
     ]
    }
   ],
   "source": [
    "\n",
    "# %run 'inference.py' \\\n",
    "# --data_dir=\"../trained_models/hymenoptera_data/cleannet/\" \\\n",
    "# --image_feature_list=\"../trained_models/hymenoptera_data/cleannet_input_all.tsv\" \\\n",
    "# --class_list=\"../trained_models/hymenoptera_data/cleannet_input_classnames.txt\" \\\n",
    "# --output_file=\"../trained_models/hymenoptera_data/cleannet_output_pred.txt\" \\\n",
    "# --checkpoint_dir=\"../trained_models/hymenoptera_data/results/checkpoints/\" \\\n",
    "# --mode=inference\n",
    "\n",
    "%run 'inference.py' \\\n",
    "--data_dir=\"../trained_models/hymenoptera_data/cleannet/\" \\\n",
    "--class_list=\"../trained_models/hymenoptera_data/cleannet_input_classnames.txt\" \\\n",
    "--output_file=\"../trained_models/hymenoptera_data/avgbaseline_output_val.txt\" \\\n",
    "# --checkpoint_dir=\"../trained_models/hymenoptera_data/results/checkpoints/\" \\\n",
    "--mode=avgbaseline"
   ]
  },
  {
   "cell_type": "code",
   "execution_count": null,
   "metadata": {},
   "outputs": [],
   "source": []
  }
 ],
 "metadata": {
  "kernelspec": {
   "display_name": "Python [conda env:labelnoise]",
   "language": "python",
   "name": "conda-env-labelnoise-py"
  },
  "language_info": {
   "codemirror_mode": {
    "name": "ipython",
    "version": 3
   },
   "file_extension": ".py",
   "mimetype": "text/x-python",
   "name": "python",
   "nbconvert_exporter": "python",
   "pygments_lexer": "ipython3",
   "version": "3.6.9"
  }
 },
 "nbformat": 4,
 "nbformat_minor": 2
}
