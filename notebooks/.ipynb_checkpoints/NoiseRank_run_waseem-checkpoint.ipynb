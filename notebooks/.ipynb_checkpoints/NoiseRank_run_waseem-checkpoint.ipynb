{
 "cells": [
  {
   "cell_type": "code",
   "execution_count": 28,
   "metadata": {},
   "outputs": [],
   "source": [
    "%load_ext autoreload\n",
    "%autoreload 2\n"
   ]
  },
  {
   "cell_type": "code",
   "execution_count": 7,
   "metadata": {},
   "outputs": [
    {
     "data": {
      "text/html": [
       "<div>\n",
       "<style scoped>\n",
       "    .dataframe tbody tr th:only-of-type {\n",
       "        vertical-align: middle;\n",
       "    }\n",
       "\n",
       "    .dataframe tbody tr th {\n",
       "        vertical-align: top;\n",
       "    }\n",
       "\n",
       "    .dataframe thead th {\n",
       "        text-align: right;\n",
       "    }\n",
       "</style>\n",
       "<table border=\"1\" class=\"dataframe\">\n",
       "  <thead>\n",
       "    <tr style=\"text-align: right;\">\n",
       "      <th></th>\n",
       "      <th>0</th>\n",
       "      <th>1</th>\n",
       "      <th>2</th>\n",
       "      <th>3</th>\n",
       "    </tr>\n",
       "  </thead>\n",
       "  <tbody>\n",
       "    <tr>\n",
       "      <th>0</th>\n",
       "      <td>0</td>\n",
       "      <td>597576902212063232</td>\n",
       "      <td>3</td>\n",
       "      <td>-0.59,0.027,0.081,0.871,0.133,0.058,0.878,0.39...</td>\n",
       "    </tr>\n",
       "    <tr>\n",
       "      <th>1</th>\n",
       "      <td>1</td>\n",
       "      <td>595380689534656512</td>\n",
       "      <td>3</td>\n",
       "      <td>-0.266,-0.159,0.117,0.089,0.348,0.061,0.612,0....</td>\n",
       "    </tr>\n",
       "    <tr>\n",
       "      <th>2</th>\n",
       "      <td>2</td>\n",
       "      <td>563757610327748608</td>\n",
       "      <td>3</td>\n",
       "      <td>-0.204,-0.418,0.075,-0.104,0.282,-0.31,0.412,0...</td>\n",
       "    </tr>\n",
       "    <tr>\n",
       "      <th>3</th>\n",
       "      <td>3</td>\n",
       "      <td>563082741370339330</td>\n",
       "      <td>3</td>\n",
       "      <td>-0.936,-0.129,0.476,0.173,0.176,0.25,0.418,-0....</td>\n",
       "    </tr>\n",
       "    <tr>\n",
       "      <th>4</th>\n",
       "      <td>4</td>\n",
       "      <td>596962098845851648</td>\n",
       "      <td>3</td>\n",
       "      <td>-0.674,-0.397,0.341,0.355,0.314,-0.275,0.446,0...</td>\n",
       "    </tr>\n",
       "  </tbody>\n",
       "</table>\n",
       "</div>"
      ],
      "text/plain": [
       "   0                   1  2                                                  3\n",
       "0  0  597576902212063232  3  -0.59,0.027,0.081,0.871,0.133,0.058,0.878,0.39...\n",
       "1  1  595380689534656512  3  -0.266,-0.159,0.117,0.089,0.348,0.061,0.612,0....\n",
       "2  2  563757610327748608  3  -0.204,-0.418,0.075,-0.104,0.282,-0.31,0.412,0...\n",
       "3  3  563082741370339330  3  -0.936,-0.129,0.476,0.173,0.176,0.25,0.418,-0....\n",
       "4  4  596962098845851648  3  -0.674,-0.397,0.341,0.355,0.314,-0.275,0.446,0..."
      ]
     },
     "execution_count": 7,
     "metadata": {},
     "output_type": "execute_result"
    }
   ],
   "source": [
    "import pandas as pd\n",
    "df = pd.read_csv('../trained_models/waseem/cleannet_all.tsv', header=None, sep='\\t')\n",
    "df.head()"
   ]
  },
  {
   "cell_type": "code",
   "execution_count": 1,
   "metadata": {},
   "outputs": [],
   "source": [
    "import pandas as pd\n",
    "df = pd.read_csv('../trained_models/waseem/noiserank_val.tsv', sep='\\t', header=None)\n",
    "# list(df[df[3] == 0][0])[0:5]\n",
    "# df.head()\n",
    "# df[df[3] == 0]\n",
    "\n",
    "# [sample key, content url, class name, h-dimensional feature delimited by ',']\n",
    "# [sample key, content url, class name, vlabel]\n",
    "# label_map = {'racism':0, 'sexism':1, 'both':2, 'neither':3}"
   ]
  },
  {
   "cell_type": "code",
   "execution_count": 13,
   "metadata": {},
   "outputs": [
    {
     "data": {
      "text/plain": [
       "4313"
      ]
     },
     "execution_count": 13,
     "metadata": {},
     "output_type": "execute_result"
    }
   ],
   "source": [
    "df = pd.read_csv('../trained_models/waseem/cleannet_all.tsv', sep='\\t', header=None)\n",
    "len(df[df[2]==3])"
   ]
  },
  {
   "cell_type": "code",
   "execution_count": 17,
   "metadata": {},
   "outputs": [
    {
     "name": "stdout",
     "output_type": "stream",
     "text": [
      "[0.0325674  0.18491044 0.00217116 0.780351  ]\n",
      "[ 30.70555556   5.40802348 460.58333333   1.28147461]\n"
     ]
    }
   ],
   "source": [
    "print(np.array([180, 1022, 12, 4313]) * 1.0/5527)  # prob\n",
    "print(1/(np.array([180, 1022, 12, 4313]) * 1.0/5527))  # 1/prob"
   ]
  },
  {
   "cell_type": "code",
   "execution_count": 1,
   "metadata": {},
   "outputs": [
    {
     "name": "stderr",
     "output_type": "stream",
     "text": [
      "Loading faiss with AVX2 support.\n"
     ]
    },
    {
     "name": "stdout",
     "output_type": "stream",
     "text": [
      "Namespace(input_path='../trained_models/waseem/cleannet_all.tsv', list_alpha=[0.5], list_b=[1.0], list_bf=[1.0], list_e=[1.0], list_k=[250], save_path_dir='../trained_models/waseem_trial5/noiserank/')\n",
      "starting noise ranking..\n",
      "Index(['sample_key', 'content_url', 'class_name', 'features'], dtype='object')\n",
      "Starting nearest neighbor search..\n",
      "Indexing dataset.. 5527\n",
      "Search for max k=251 neighbors\n",
      "knn Search completed (5527, 251)\n",
      "[3 3 3 ... 3 3 3]\n",
      "--------------Starting noise ranking with params=k=250_a=0.5_bf=1.0_b=1.0_e=1.0----------\n",
      "Assign blame/reward scores to neighbors acc to clique types..\n",
      "prior on each class: [0.012987012987012988, 0.023809523809523808, 0.018867924528301886, 0.25]\n",
      ">>instance=5526 with given label=3 and pred_label=3\n",
      "Done score assignment by clique types.. (5527, 250)\n",
      "Starting aggregation of scores..\n",
      ">>elem=5526\n",
      "Done aggregation.. 5527\n",
      "finished noise ranking..\n"
     ]
    }
   ],
   "source": [
    "# %run -i \"main.py\" \\\n",
    "# --input_path='../trained_models/waseem/cleannet_all.tsv' \\\n",
    "# --list_k 150 \\\n",
    "# --list_alpha 0.5 --list_bf 1.0 \\\n",
    "# --list_b 1 --list_e 1 \\\n",
    "# --save_path_dir='../trained_models/waseem/noiserank_p/'\n",
    "\n",
    "\n",
    "%run -i \"main.py\" \\\n",
    "--input_path='../trained_models/waseem/cleannet_all.tsv' \\\n",
    "--list_k 250 \\\n",
    "--list_alpha 0.5 --list_bf 1.0 \\\n",
    "--list_b 1 --list_e 1 \\\n",
    "--save_path_dir='../trained_models/waseem_trial5/noiserank/'\n",
    "\n"
   ]
  },
  {
   "cell_type": "code",
   "execution_count": 2,
   "metadata": {},
   "outputs": [
    {
     "name": "stdout",
     "output_type": "stream",
     "text": [
      "Namespace(results_path_dir='../trained_models/waseem_trial5/noiserank/', validation_path='../trained_models/waseem/noiserank_val.tsv')\n",
      "Starting evaluation on validation verified labels..\n",
      "\n",
      "\n",
      "-------------------Evaluating file = ../trained_models/waseem_trial5/noiserank/k=250_a=0.5_bf=1.0_b=1.0_e=1.0.txt ------------------\n",
      "P/R/F1 (noise) (0.5334224598930482, 0.6027190332326284, 0.5659574468085107, None)\n",
      "f1_metrics (macro/unweighted mean) 0.7446520700976421\n",
      "avg accuracy over classes 0.6704032887021631 AvgErrorRate 0.32959671129783685\n",
      "\n",
      "f1_metrics (accuracy/micro) 0.8697040664253779 ErrorRate 0.1302959335746221\n",
      "P/R/F1 (clean) (0.9334008609774627, 0.9135068153655515, 0.9233466933867736, None)\n",
      "f1_metrics (weighted mean of f1) 0.8729758862258602\n",
      "Finished evaluation..\n"
     ]
    }
   ],
   "source": [
    "\n",
    "# %run -i \"eval_util.py\" \\\n",
    "# --validation_path='../trained_models/waseem/noiserank_val.tsv' \\\n",
    "# --results_path_dir='../trained_models/waseem/noiserank_p/'\n",
    "\n",
    "%run -i \"eval_util.py\" \\\n",
    "--validation_path='../trained_models/waseem/noiserank_val.tsv' \\\n",
    "--results_path_dir='../trained_models/waseem_trial5/noiserank/'\n"
   ]
  },
  {
   "cell_type": "code",
   "execution_count": null,
   "metadata": {},
   "outputs": [],
   "source": []
  }
 ],
 "metadata": {
  "kernelspec": {
   "display_name": "faiss",
   "language": "python",
   "name": "faiss"
  },
  "language_info": {
   "codemirror_mode": {
    "name": "ipython",
    "version": 3
   },
   "file_extension": ".py",
   "mimetype": "text/x-python",
   "name": "python",
   "nbconvert_exporter": "python",
   "pygments_lexer": "ipython3",
   "version": "3.6.9"
  }
 },
 "nbformat": 4,
 "nbformat_minor": 4
}
