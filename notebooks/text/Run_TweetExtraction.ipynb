{
 "cells": [
  {
   "cell_type": "markdown",
   "metadata": {},
   "source": [
    "# WASEEM dataset"
   ]
  },
  {
   "cell_type": "code",
   "execution_count": 2,
   "metadata": {},
   "outputs": [],
   "source": [
    "import pandas as pd\n",
    "\n",
    "df = pd.read_csv('../datasets/waseem/tweet_dataset.csv', sep='\\t', header=None)[0]\n",
    "print(df.head())\n",
    "print(len(df))\n",
    "df.to_csv('../datasets/waseem/tweet_dataset_ids.txt', header=None, index=False)"
   ]
  },
  {
   "cell_type": "code",
   "execution_count": 19,
   "metadata": {},
   "outputs": [
    {
     "name": "stdout",
     "output_type": "stream",
     "text": [
      "done till 0 77\n",
      "done till 90 78\n",
      "done till 180 80\n",
      "done till 270 83\n",
      "done till 360 85\n",
      "done till 450 83\n",
      "done till 540 85\n",
      "done till 630 75\n",
      "done till 720 80\n",
      "done till 810 84\n",
      "done till 900 79\n",
      "done till 990 83\n",
      "done till 1080 80\n",
      "done till 1170 84\n",
      "done till 1260 81\n",
      "done till 1350 84\n",
      "done till 1440 82\n",
      "done till 1530 82\n",
      "done till 1620 84\n",
      "done till 1710 77\n",
      "done till 1800 82\n",
      "done till 1890 85\n",
      "done till 1980 87\n",
      "done till 2070 80\n",
      "done till 2160 83\n",
      "done till 2250 77\n",
      "done till 2340 83\n",
      "done till 2430 81\n",
      "done till 2520 85\n",
      "done till 2610 84\n",
      "done till 2700 81\n",
      "done till 2790 72\n",
      "done till 2880 82\n",
      "done till 2970 72\n",
      "done till 3060 79\n",
      "done till 3150 80\n",
      "done till 3240 82\n",
      "done till 3330 81\n",
      "done till 3420 85\n",
      "done till 3510 82\n",
      "done till 3600 84\n",
      "done till 3690 81\n",
      "done till 3780 85\n",
      "done till 3870 82\n",
      "done till 3960 81\n",
      "done till 4050 81\n",
      "done till 4140 82\n",
      "done till 4230 86\n",
      "done till 4320 82\n",
      "done till 4410 85\n",
      "done till 4500 80\n",
      "done till 4590 81\n",
      "done till 4680 80\n",
      "done till 4770 79\n",
      "done till 4860 80\n",
      "done till 4950 81\n",
      "done till 5040 79\n",
      "done till 5130 82\n",
      "done till 5220 80\n",
      "done till 5310 81\n",
      "done till 5400 80\n",
      "done till 5490 80\n",
      "done till 5580 81\n",
      "done till 5670 81\n",
      "done till 5760 81\n",
      "done till 5850 78\n",
      "done till 5940 79\n",
      "done till 6030 83\n",
      "done till 6120 82\n",
      "done till 6210 82\n",
      "done till 6300 81\n",
      "done till 6390 82\n",
      "done till 6480 83\n",
      "done till 6570 79\n",
      "done till 6660 77\n",
      "done till 6750 85\n",
      "done till 6840 61\n",
      "finished\n"
     ]
    }
   ],
   "source": [
    "%run -i \"tweetdownload_tweepy.py\" \\\n",
    "# -i '../datasets/waseem/tweet_dataset.csv' \\\n",
    "# -o '../datasets/waseem/extracted_texts.txt' \\\n",
    "# --consumerkey 'zg5ZoWps3wHjfAwjmR5mQHjKW' \\\n",
    "# --consumersecret 'dsCwQ2Da7ajUTj4IWHTEUY0owJ0GxZOiGVM9Lr0529RqEiRk31' \\\n",
    "# --accesstoken '936005824111026176-WfU8grlXW2ogKis6vmB1rC6dcAquaCO' \\\n",
    "# --accesssecret 'nJZBE8h2Y8aloEZnJ4Fuwq3MFJvf6E4BVRx41lwbXqpyc'\n"
   ]
  },
  {
   "cell_type": "code",
   "execution_count": null,
   "metadata": {},
   "outputs": [],
   "source": []
  },
  {
   "cell_type": "code",
   "execution_count": 2,
   "metadata": {},
   "outputs": [
    {
     "name": "stdout",
     "output_type": "stream",
     "text": [
      "{'contributors': None,\n",
      " 'coordinates': None,\n",
      " 'created_at': 'Mon Feb 23 20:28:36 +0000 2015',\n",
      " 'entities': {'hashtags': [],\n",
      "              'symbols': [],\n",
      "              'urls': [],\n",
      "              'user_mentions': [{'id': 297535251,\n",
      "                                 'id_str': '297535251',\n",
      "                                 'indices': [0, 14],\n",
      "                                 'name': 'The Ritual Tree',\n",
      "                                 'screen_name': 'OutworldDOTA2'}]},\n",
      " 'favorite_count': 0,\n",
      " 'favorited': False,\n",
      " 'geo': None,\n",
      " 'id': 569957017655226369,\n",
      " 'id_str': '569957017655226369',\n",
      " 'in_reply_to_screen_name': 'OutworldDOTA2',\n",
      " 'in_reply_to_status_id': 569956825057120256,\n",
      " 'in_reply_to_status_id_str': '569956825057120256',\n",
      " 'in_reply_to_user_id': 297535251,\n",
      " 'in_reply_to_user_id_str': '297535251',\n",
      " 'is_quote_status': False,\n",
      " 'lang': 'en',\n",
      " 'place': None,\n",
      " 'retweet_count': 0,\n",
      " 'retweeted': False,\n",
      " 'source': '<a href=\"http://twitter.com\" rel=\"nofollow\">Twitter Web Client</a>',\n",
      " 'text': '@OutworldDOTA2 i\\'m very entertained that all it takes is \"155 IQ\" '\n",
      "         'for me to know precisely who is being discussed.',\n",
      " 'truncated': False,\n",
      " 'user': {'can_media_tag': False,\n",
      "          'contributors_enabled': False,\n",
      "          'created_at': 'Sat Feb 23 07:27:19 +0000 2008',\n",
      "          'default_profile': False,\n",
      "          'default_profile_image': False,\n",
      "          'description': 'senior cyber^Wcloud engineer. oldest osu! gamer, '\n",
      "                         'very gamer swole. Founder, Online Abuse Prevention '\n",
      "                         'Initiative. I fucking hate systemd. gaming: '\n",
      "                         '@grandma_kj',\n",
      "          'entities': {'description': {'urls': []},\n",
      "                       'url': {'urls': [{'display_url': 'twitch.tv/grandmakj',\n",
      "                                         'expanded_url': 'http://twitch.tv/grandmakj',\n",
      "                                         'indices': [0, 23],\n",
      "                                         'url': 'https://t.co/XYjnFQFhbi'}]}},\n",
      "          'favourites_count': 70805,\n",
      "          'follow_request_sent': False,\n",
      "          'followed_by': False,\n",
      "          'followers_count': 19974,\n",
      "          'following': False,\n",
      "          'friends_count': 772,\n",
      "          'geo_enabled': True,\n",
      "          'has_extended_profile': True,\n",
      "          'id': 13857342,\n",
      "          'id_str': '13857342',\n",
      "          'is_translation_enabled': False,\n",
      "          'is_translator': False,\n",
      "          'lang': None,\n",
      "          'listed_count': 905,\n",
      "          'location': 'Portland, OR',\n",
      "          'name': 'needlessly obscenity-laced',\n",
      "          'notifications': False,\n",
      "          'profile_background_color': '1A1B1F',\n",
      "          'profile_background_image_url': 'http://abs.twimg.com/images/themes/theme9/bg.gif',\n",
      "          'profile_background_image_url_https': 'https://abs.twimg.com/images/themes/theme9/bg.gif',\n",
      "          'profile_background_tile': False,\n",
      "          'profile_banner_url': 'https://pbs.twimg.com/profile_banners/13857342/1460615663',\n",
      "          'profile_image_url': 'http://pbs.twimg.com/profile_images/1191399292113584144/AmAxsGjj_normal.jpg',\n",
      "          'profile_image_url_https': 'https://pbs.twimg.com/profile_images/1191399292113584144/AmAxsGjj_normal.jpg',\n",
      "          'profile_link_color': '2FC2EF',\n",
      "          'profile_sidebar_border_color': '181A1E',\n",
      "          'profile_sidebar_fill_color': '252429',\n",
      "          'profile_text_color': '666666',\n",
      "          'profile_use_background_image': True,\n",
      "          'protected': False,\n",
      "          'screen_name': 'randileeharper',\n",
      "          'statuses_count': 136451,\n",
      "          'time_zone': None,\n",
      "          'translator_type': 'regular',\n",
      "          'url': 'https://t.co/XYjnFQFhbi',\n",
      "          'utc_offset': None,\n",
      "          'verified': True}}\n"
     ]
    }
   ],
   "source": [
    "from pprint import pprint\n",
    "import pandas as pd\n",
    "import pickle as pkl\n",
    "\n",
    "# GET tweet texts extracted from ids\n",
    "d = pkl.load(open('../datasets/waseem/output_status_list.pkl', 'rb'))\n",
    "dict_texts = {}\n",
    "for status in d:\n",
    "    s = status._json\n",
    "    pprint(s)\n",
    "    break\n",
    "    dict_texts[s['id']] = s['text']\n",
    "# GET expert label and annotator lables\n",
    "# l = pd.read_csv('../datasets/waseem/tweet_dataset.csv', sep='\\t', header=None)"
   ]
  },
  {
   "cell_type": "code",
   "execution_count": 90,
   "metadata": {},
   "outputs": [
    {
     "name": "stdout",
     "output_type": "stream",
     "text": [
      ">> i=1091\n"
     ]
    },
    {
     "data": {
      "text/html": [
       "<div>\n",
       "<style scoped>\n",
       "    .dataframe tbody tr th:only-of-type {\n",
       "        vertical-align: middle;\n",
       "    }\n",
       "\n",
       "    .dataframe tbody tr th {\n",
       "        vertical-align: top;\n",
       "    }\n",
       "\n",
       "    .dataframe thead th {\n",
       "        text-align: right;\n",
       "    }\n",
       "</style>\n",
       "<table border=\"1\" class=\"dataframe\">\n",
       "  <thead>\n",
       "    <tr style=\"text-align: right;\">\n",
       "      <th></th>\n",
       "      <th>0</th>\n",
       "      <th>1</th>\n",
       "      <th>2</th>\n",
       "      <th>3</th>\n",
       "      <th>4</th>\n",
       "      <th>5</th>\n",
       "      <th>6</th>\n",
       "      <th>7</th>\n",
       "      <th>8</th>\n",
       "      <th>9</th>\n",
       "      <th>...</th>\n",
       "      <th>1082</th>\n",
       "      <th>1083</th>\n",
       "      <th>1084</th>\n",
       "      <th>1085</th>\n",
       "      <th>1086</th>\n",
       "      <th>1087</th>\n",
       "      <th>1088</th>\n",
       "      <th>1089</th>\n",
       "      <th>1090</th>\n",
       "      <th>1091</th>\n",
       "    </tr>\n",
       "  </thead>\n",
       "  <tbody>\n",
       "    <tr>\n",
       "      <th>0</th>\n",
       "      <td>597576902212063232</td>\n",
       "      <td>3</td>\n",
       "      <td>3</td>\n",
       "      <td>3</td>\n",
       "      <td>3</td>\n",
       "      <td>NaN</td>\n",
       "      <td>NaN</td>\n",
       "      <td>NaN</td>\n",
       "      <td>NaN</td>\n",
       "      <td>NaN</td>\n",
       "      <td>...</td>\n",
       "      <td>NaN</td>\n",
       "      <td>NaN</td>\n",
       "      <td>NaN</td>\n",
       "      <td>NaN</td>\n",
       "      <td>NaN</td>\n",
       "      <td>NaN</td>\n",
       "      <td>NaN</td>\n",
       "      <td>NaN</td>\n",
       "      <td>NaN</td>\n",
       "      <td>NaN</td>\n",
       "    </tr>\n",
       "    <tr>\n",
       "      <th>1</th>\n",
       "      <td>565586175864610817</td>\n",
       "      <td>3</td>\n",
       "      <td>3</td>\n",
       "      <td>3</td>\n",
       "      <td>3</td>\n",
       "      <td>NaN</td>\n",
       "      <td>NaN</td>\n",
       "      <td>NaN</td>\n",
       "      <td>NaN</td>\n",
       "      <td>NaN</td>\n",
       "      <td>...</td>\n",
       "      <td>NaN</td>\n",
       "      <td>NaN</td>\n",
       "      <td>NaN</td>\n",
       "      <td>NaN</td>\n",
       "      <td>NaN</td>\n",
       "      <td>NaN</td>\n",
       "      <td>NaN</td>\n",
       "      <td>NaN</td>\n",
       "      <td>NaN</td>\n",
       "      <td>NaN</td>\n",
       "    </tr>\n",
       "    <tr>\n",
       "      <th>2</th>\n",
       "      <td>563881580209246209</td>\n",
       "      <td>3</td>\n",
       "      <td>3</td>\n",
       "      <td>3</td>\n",
       "      <td>3</td>\n",
       "      <td>NaN</td>\n",
       "      <td>NaN</td>\n",
       "      <td>NaN</td>\n",
       "      <td>NaN</td>\n",
       "      <td>NaN</td>\n",
       "      <td>...</td>\n",
       "      <td>NaN</td>\n",
       "      <td>NaN</td>\n",
       "      <td>NaN</td>\n",
       "      <td>NaN</td>\n",
       "      <td>NaN</td>\n",
       "      <td>NaN</td>\n",
       "      <td>NaN</td>\n",
       "      <td>NaN</td>\n",
       "      <td>NaN</td>\n",
       "      <td>NaN</td>\n",
       "    </tr>\n",
       "    <tr>\n",
       "      <th>3</th>\n",
       "      <td>595380689534656512</td>\n",
       "      <td>3</td>\n",
       "      <td>3</td>\n",
       "      <td>1</td>\n",
       "      <td>3</td>\n",
       "      <td>NaN</td>\n",
       "      <td>NaN</td>\n",
       "      <td>NaN</td>\n",
       "      <td>NaN</td>\n",
       "      <td>NaN</td>\n",
       "      <td>...</td>\n",
       "      <td>NaN</td>\n",
       "      <td>NaN</td>\n",
       "      <td>NaN</td>\n",
       "      <td>NaN</td>\n",
       "      <td>NaN</td>\n",
       "      <td>NaN</td>\n",
       "      <td>NaN</td>\n",
       "      <td>NaN</td>\n",
       "      <td>NaN</td>\n",
       "      <td>NaN</td>\n",
       "    </tr>\n",
       "    <tr>\n",
       "      <th>4</th>\n",
       "      <td>563757610327748608</td>\n",
       "      <td>3</td>\n",
       "      <td>3</td>\n",
       "      <td>3</td>\n",
       "      <td>3</td>\n",
       "      <td>NaN</td>\n",
       "      <td>NaN</td>\n",
       "      <td>NaN</td>\n",
       "      <td>NaN</td>\n",
       "      <td>NaN</td>\n",
       "      <td>...</td>\n",
       "      <td>NaN</td>\n",
       "      <td>NaN</td>\n",
       "      <td>NaN</td>\n",
       "      <td>NaN</td>\n",
       "      <td>NaN</td>\n",
       "      <td>NaN</td>\n",
       "      <td>NaN</td>\n",
       "      <td>NaN</td>\n",
       "      <td>NaN</td>\n",
       "      <td>NaN</td>\n",
       "    </tr>\n",
       "  </tbody>\n",
       "</table>\n",
       "<p>5 rows × 1092 columns</p>\n",
       "</div>"
      ],
      "text/plain": [
       "                 0    1    2    3    4    5    6    7    8    9     ... 1082  \\\n",
       "0  597576902212063232    3    3    3    3  NaN  NaN  NaN  NaN  NaN  ...  NaN   \n",
       "1  565586175864610817    3    3    3    3  NaN  NaN  NaN  NaN  NaN  ...  NaN   \n",
       "2  563881580209246209    3    3    3    3  NaN  NaN  NaN  NaN  NaN  ...  NaN   \n",
       "3  595380689534656512    3    3    1    3  NaN  NaN  NaN  NaN  NaN  ...  NaN   \n",
       "4  563757610327748608    3    3    3    3  NaN  NaN  NaN  NaN  NaN  ...  NaN   \n",
       "\n",
       "  1083 1084 1085 1086 1087 1088 1089 1090 1091  \n",
       "0  NaN  NaN  NaN  NaN  NaN  NaN  NaN  NaN  NaN  \n",
       "1  NaN  NaN  NaN  NaN  NaN  NaN  NaN  NaN  NaN  \n",
       "2  NaN  NaN  NaN  NaN  NaN  NaN  NaN  NaN  NaN  \n",
       "3  NaN  NaN  NaN  NaN  NaN  NaN  NaN  NaN  NaN  \n",
       "4  NaN  NaN  NaN  NaN  NaN  NaN  NaN  NaN  NaN  \n",
       "\n",
       "[5 rows x 1092 columns]"
      ]
     },
     "execution_count": 90,
     "metadata": {},
     "output_type": "execute_result"
    }
   ],
   "source": [
    "print(l.head(1))\n",
    "\n",
    "from time import sleep\n",
    "from IPython.display import clear_output, display\n",
    "\n",
    "import numpy as np\n",
    "label_map = {'racism':0, 'sexism':1, 'both':2, 'neither':3}\n",
    "\n",
    "tweet_ids = l[0]\n",
    "tweet_texts = [dict_texts[tid] if tid in dict_texts else np.inf for tid in tweet_ids]\n",
    "\n",
    "def map_func(x):\n",
    "    if pd.isnull(x):\n",
    "        return x\n",
    "    elif x=='link':\n",
    "        return np.NaN\n",
    "    elif x in label_map:\n",
    "        return int(label_map[x])\n",
    "    else:\n",
    "        return x\n",
    "    \n",
    "for i in range(1,len(l.columns)):\n",
    "    clear_output(wait=True)\n",
    "    print('>> i={}'.format(i))\n",
    "    l[i] = l[i].apply(lambda x: map_func(x))\n",
    "    l[i] = l[i].dropna().apply(lambda x: str(int(x)))\n",
    "    # break\n",
    "l.head(5)"
   ]
  },
  {
   "cell_type": "code",
   "execution_count": 252,
   "metadata": {},
   "outputs": [],
   "source": [
    "l.to_csv('../datasets/waseem/tweet_dataset_numbered.csv', sep='\\t', header=None, index=False)\n"
   ]
  },
  {
   "cell_type": "code",
   "execution_count": 254,
   "metadata": {},
   "outputs": [
    {
     "name": "stdout",
     "output_type": "stream",
     "text": [
      ">> i=6908\n",
      "[3, 3, 3, 3, 3, 3, 3, 3, 3, 1, 3, 3, 3, 3, 0, 3, 3, 1, 3, 3, 3, 3, 3, 3, 3]\n"
     ]
    }
   ],
   "source": [
    "l = pd.read_csv('../datasets/waseem/tweet_dataset_numbered.csv', sep='\\t', header=None)\n",
    "\n",
    "majority_labels = []\n",
    "print(l.head())\n",
    "for i, row in l.iterrows():\n",
    "    clear_output(wait=True)\n",
    "    print('>> i={}'.format(i))\n",
    "    vals = list(row[2:].dropna().values)\n",
    "    if vals == []:\n",
    "        maj = row[1]  # expert_label\n",
    "    else:\n",
    "        maj = max(set(vals), key = vals.count)\n",
    "    majority_labels.append(int(maj))\n",
    "    # break\n",
    "print(majority_labels[0:25])\n",
    "# print(l.head(1))\n"
   ]
  },
  {
   "cell_type": "code",
   "execution_count": 255,
   "metadata": {},
   "outputs": [
    {
     "data": {
      "text/html": [
       "<div>\n",
       "<style scoped>\n",
       "    .dataframe tbody tr th:only-of-type {\n",
       "        vertical-align: middle;\n",
       "    }\n",
       "\n",
       "    .dataframe tbody tr th {\n",
       "        vertical-align: top;\n",
       "    }\n",
       "\n",
       "    .dataframe thead th {\n",
       "        text-align: right;\n",
       "    }\n",
       "</style>\n",
       "<table border=\"1\" class=\"dataframe\">\n",
       "  <thead>\n",
       "    <tr style=\"text-align: right;\">\n",
       "      <th></th>\n",
       "      <th>id</th>\n",
       "      <th>text</th>\n",
       "      <th>gt_label</th>\n",
       "      <th>label</th>\n",
       "      <th>vlabel</th>\n",
       "    </tr>\n",
       "  </thead>\n",
       "  <tbody>\n",
       "    <tr>\n",
       "      <th>0</th>\n",
       "      <td>597576902212063232</td>\n",
       "      <td>Cisco had to deal with a fat cash payout to th...</td>\n",
       "      <td>3</td>\n",
       "      <td>3</td>\n",
       "      <td>1</td>\n",
       "    </tr>\n",
       "    <tr>\n",
       "      <th>1</th>\n",
       "      <td>565586175864610817</td>\n",
       "      <td>@MadamPlumpette I'm decent at editing, no worr...</td>\n",
       "      <td>3</td>\n",
       "      <td>3</td>\n",
       "      <td>1</td>\n",
       "    </tr>\n",
       "    <tr>\n",
       "      <th>2</th>\n",
       "      <td>563881580209246209</td>\n",
       "      <td>@girlziplocked will read. gotta go afk for a b...</td>\n",
       "      <td>3</td>\n",
       "      <td>3</td>\n",
       "      <td>1</td>\n",
       "    </tr>\n",
       "    <tr>\n",
       "      <th>3</th>\n",
       "      <td>595380689534656512</td>\n",
       "      <td>guys. show me the data. show me your github. t...</td>\n",
       "      <td>3</td>\n",
       "      <td>3</td>\n",
       "      <td>1</td>\n",
       "    </tr>\n",
       "    <tr>\n",
       "      <th>4</th>\n",
       "      <td>563757610327748608</td>\n",
       "      <td>@tpw_rules nothings broken. I was just driving...</td>\n",
       "      <td>3</td>\n",
       "      <td>3</td>\n",
       "      <td>1</td>\n",
       "    </tr>\n",
       "  </tbody>\n",
       "</table>\n",
       "</div>"
      ],
      "text/plain": [
       "                   id                                               text  \\\n",
       "0  597576902212063232  Cisco had to deal with a fat cash payout to th...   \n",
       "1  565586175864610817  @MadamPlumpette I'm decent at editing, no worr...   \n",
       "2  563881580209246209  @girlziplocked will read. gotta go afk for a b...   \n",
       "3  595380689534656512  guys. show me the data. show me your github. t...   \n",
       "4  563757610327748608  @tpw_rules nothings broken. I was just driving...   \n",
       "\n",
       "   gt_label  label  vlabel  \n",
       "0         3      3       1  \n",
       "1         3      3       1  \n",
       "2         3      3       1  \n",
       "3         3      3       1  \n",
       "4         3      3       1  "
      ]
     },
     "execution_count": 255,
     "metadata": {},
     "output_type": "execute_result"
    }
   ],
   "source": [
    "new_df = pd.DataFrame()\n",
    "new_df['id'] = l[0]\n",
    "new_df['text'] = tweet_texts\n",
    "new_df['gt_label'] = np.array(l[1], dtype=np.int32)\n",
    "new_df['label'] = majority_labels\n",
    "new_df['vlabel'] = (new_df['gt_label'] == new_df['label'])*1\n",
    "new_df.head()"
   ]
  },
  {
   "cell_type": "code",
   "execution_count": 256,
   "metadata": {},
   "outputs": [
    {
     "data": {
      "text/plain": [
       "6909"
      ]
     },
     "execution_count": 256,
     "metadata": {},
     "output_type": "execute_result"
    }
   ],
   "source": [
    "len(new_df)"
   ]
  },
  {
   "cell_type": "code",
   "execution_count": 257,
   "metadata": {},
   "outputs": [
    {
     "name": "stdout",
     "output_type": "stream",
     "text": [
      "13.98176291793313\n"
     ]
    }
   ],
   "source": [
    "print((new_df.gt_label != new_df.label).sum() / 6909 * 100)"
   ]
  },
  {
   "cell_type": "code",
   "execution_count": 258,
   "metadata": {},
   "outputs": [
    {
     "name": "stdout",
     "output_type": "stream",
     "text": [
      "227\n",
      "1274\n",
      "19\n",
      "5389\n"
     ]
    }
   ],
   "source": [
    "for i in range(0,4):\n",
    "    print((new_df.label == i).sum())"
   ]
  },
  {
   "cell_type": "code",
   "execution_count": 259,
   "metadata": {},
   "outputs": [
    {
     "name": "stdout",
     "output_type": "stream",
     "text": [
      "183 227\n",
      "546 1274\n",
      "10 19\n",
      "227 5389\n"
     ]
    }
   ],
   "source": [
    "# mislabled in each class (acc to given label)\n",
    "for i in range(0, 4):\n",
    "    test = new_df[new_df['label'] == i]\n",
    "    # print(test.head())\n",
    "    print((test.vlabel == 0).sum(), len(test)) # / len(test)* 100.0)"
   ]
  },
  {
   "cell_type": "code",
   "execution_count": 260,
   "metadata": {},
   "outputs": [
    {
     "name": "stdout",
     "output_type": "stream",
     "text": [
      "98\n",
      "911\n",
      "50\n",
      "5850\n",
      "[[44.9   3.06  0.   52.04]\n",
      " [ 2.52 79.91  0.33 17.23]\n",
      " [20.   24.   18.   38.  ]\n",
      " [ 2.56  9.08  0.12 88.24]]\n"
     ]
    }
   ],
   "source": [
    "mat = np.zeros((4,4))\n",
    "for i in range(0, 4):\n",
    "    test = new_df[new_df['gt_label'] == i]\n",
    "    print(len(test))\n",
    "    for j in range(0, 4):\n",
    "        # print(i, j, (test.label == j).sum())\n",
    "        mat[i][j] = (test.label == j).sum() / len(test) * 100\n",
    "        # print(mat[i][j])\n",
    "print(np.round(mat, 2))"
   ]
  },
  {
   "cell_type": "code",
   "execution_count": 261,
   "metadata": {},
   "outputs": [
    {
     "data": {
      "text/plain": [
       "6909"
      ]
     },
     "execution_count": 261,
     "metadata": {},
     "output_type": "execute_result"
    }
   ],
   "source": [
    "len(new_df)"
   ]
  },
  {
   "cell_type": "code",
   "execution_count": 263,
   "metadata": {},
   "outputs": [
    {
     "name": "stdout",
     "output_type": "stream",
     "text": [
      "[2729 3918 3258 ... 4041  563 4686]\n",
      "[6753 4890 4626 ... 2827 5219 1513]\n",
      "[3 3 0 ... 3 3 3]\n",
      "[3 3 3 ... 2 3 3]\n",
      "5527\n",
      "1382\n"
     ]
    }
   ],
   "source": [
    "from sklearn.model_selection import train_test_split\n",
    "ind = np.arange(len(new_df))\n",
    "ind_train, ind_test, gt_train, gt_test = train_test_split(ind, np.array(new_df.gt_label), test_size=0.20, random_state=42, stratify=new_df.gt_label)\n",
    "\n",
    "print(ind_train)\n",
    "print(ind_test)\n",
    "print(gt_train)\n",
    "print(gt_test)\n",
    "\n",
    "print(len(ind_train))\n",
    "print(len(ind_test))"
   ]
  },
  {
   "cell_type": "code",
   "execution_count": 265,
   "metadata": {},
   "outputs": [
    {
     "name": "stdout",
     "output_type": "stream",
     "text": [
      "1382\n",
      "1.447178002894356\n",
      "13.16931982633864\n",
      "0.723589001447178\n",
      "84.65991316931982\n"
     ]
    }
   ],
   "source": [
    "\n",
    "a = np.zeros(len(new_df), np.int32)\n",
    "a[ind_test] = 1\n",
    "new_df['test'] = a\n",
    "\n",
    "print(new_df.test.sum())\n",
    "\n",
    "for i in range(0,4):\n",
    "    test = new_df[new_df.test == 1]\n",
    "    print((test.gt_label == i).sum() / len(test) * 100)\n",
    "    \n",
    "# for i in range(0,4):\n",
    "#     test = new_df[new_df.test == 0]\n",
    "#     print((test.gt_label == i).sum() / len(test) * 100)"
   ]
  },
  {
   "cell_type": "code",
   "execution_count": 266,
   "metadata": {},
   "outputs": [
    {
     "name": "stdout",
     "output_type": "stream",
     "text": [
      "Index(['id', 'text', 'gt_label', 'label', 'vlabel', 'test'], dtype='object')\n"
     ]
    },
    {
     "data": {
      "text/plain": [
       "array([3, 3, 3, ..., 3, 3, 3])"
      ]
     },
     "execution_count": 266,
     "metadata": {},
     "output_type": "execute_result"
    }
   ],
   "source": [
    "print(new_df.columns)\n",
    "new_df.head()\n",
    "new_df.label.values"
   ]
  },
  {
   "cell_type": "code",
   "execution_count": 289,
   "metadata": {},
   "outputs": [
    {
     "name": "stdout",
     "output_type": "stream",
     "text": [
      ">>i = 6908\n",
      "                   id                                               text  \\\n",
      "0  597576902212063232  Cisco had to deal with a fat cash payout to th...   \n",
      "1  565586175864610817  @MadamPlumpette I'm decent at editing, no worr...   \n",
      "2  563881580209246209  @girlziplocked will read. gotta go afk for a b...   \n",
      "3  595380689534656512  guys. show me the data. show me your github. t...   \n",
      "4  563757610327748608  @tpw_rules nothings broken. I was just driving...   \n",
      "\n",
      "   gt_label  label  vlabel  test  \\\n",
      "0         3      3       1     0   \n",
      "1         3      3       1     1   \n",
      "2         3      3       1     1   \n",
      "3         3      3       1     0   \n",
      "4         3      3       1     0   \n",
      "\n",
      "                                            new_text  \n",
      "0  Cisco had to deal with a fat cash payout to th...  \n",
      "1  @MadamPlumpette I'm decent at editing, no worr...  \n",
      "2  @girlziplocked will read. gotta go afk for a b...  \n",
      "3  guys. show me the data. show me your github. t...  \n",
      "4  @tpw_rules nothings broken. I was just driving...  \n"
     ]
    }
   ],
   "source": [
    "len(new_df)\n",
    "\n",
    "tab_removed_text = []\n",
    "for i, text in enumerate(new_df['text']):\n",
    "    clear_output(True)\n",
    "    print('>>i = {}'.format(i))\n",
    "    s=str(text).replace('\\t', ' ')\n",
    "    s=s.replace('\\n', ' ')\n",
    "    s=s.replace('\\r', ' ')\n",
    "    tab_removed_text.append(s)\n",
    "new_df['new_text'] = tab_removed_text\n",
    "print(new_df.head())"
   ]
  },
  {
   "cell_type": "code",
   "execution_count": 290,
   "metadata": {},
   "outputs": [
    {
     "name": "stdout",
     "output_type": "stream",
     "text": [
      "6909\n"
     ]
    }
   ],
   "source": [
    "new_df['text'] = new_df['new_text']\n",
    "del new_df['new_text']\n",
    "print(len(new_df))"
   ]
  },
  {
   "cell_type": "code",
   "execution_count": 291,
   "metadata": {},
   "outputs": [],
   "source": [
    "import csv\n",
    "new_df.to_csv('../datasets/waseem/waseem_data.csv', sep='\\t', index=False) # , quoting=csv.QUOTE_NONNUMERIC)"
   ]
  },
  {
   "cell_type": "code",
   "execution_count": 292,
   "metadata": {},
   "outputs": [],
   "source": [
    "new_df[new_df['test'] == 1].to_csv('../datasets/waseem/waseem_test.csv', sep='\\t', index=False)\n",
    "new_df[new_df['test'] == 0].to_csv('../datasets/waseem/waseem_train.csv', sep='\\t', index=False)\n",
    "\n"
   ]
  },
  {
   "cell_type": "code",
   "execution_count": 247,
   "metadata": {},
   "outputs": [
    {
     "name": "stdout",
     "output_type": "stream",
     "text": [
      "830\n"
     ]
    }
   ],
   "source": [
    "ind = np.arange(len(new_df))\n",
    "_, ind_vtrain, _, _ = train_test_split(ind_train, np.array(new_df.iloc[ind_train].gt_label), test_size=0.15, random_state=42, stratify=new_df.iloc[ind_train].gt_label)\n",
    "\n",
    "print(len(ind_vtrain))"
   ]
  },
  {
   "cell_type": "code",
   "execution_count": 294,
   "metadata": {},
   "outputs": [
    {
     "data": {
      "text/plain": [
       "6909"
      ]
     },
     "execution_count": 294,
     "metadata": {},
     "output_type": "execute_result"
    }
   ],
   "source": [
    "5527 +1382"
   ]
  },
  {
   "cell_type": "code",
   "execution_count": null,
   "metadata": {},
   "outputs": [],
   "source": []
  }
 ],
 "metadata": {
  "kernelspec": {
   "display_name": "bert",
   "language": "python",
   "name": "bert"
  },
  "language_info": {
   "codemirror_mode": {
    "name": "ipython",
    "version": 3
   },
   "file_extension": ".py",
   "mimetype": "text/x-python",
   "name": "python",
   "nbconvert_exporter": "python",
   "pygments_lexer": "ipython3",
   "version": "3.7.4"
  }
 },
 "nbformat": 4,
 "nbformat_minor": 4
}
