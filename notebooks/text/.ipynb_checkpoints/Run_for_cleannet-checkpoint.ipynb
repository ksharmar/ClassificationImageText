{
 "cells": [
  {
   "cell_type": "code",
   "execution_count": 4,
   "metadata": {},
   "outputs": [
    {
     "name": "stdout",
     "output_type": "stream",
     "text": [
      "Namespace(class_list='/home/krsharma/labelnoise/trained_models/waseem/cleannet_classnames.txt', data_path='/home/krsharma/labelnoise/trained_models/waseem/cleannet_val.tsv', num_ref=32, output_dir='/home/krsharma/labelnoise/trained_models/waseem/cleannet/', split='val')\n",
      ">> load 4697 samples with verification label\n",
      "found 4035 positive samples\n",
      "found 0 invalid samples\n"
     ]
    }
   ],
   "source": [
    "%run -i '/home/krsharma/labelnoise/clean-net/util/convert_data.py' --split=val \\\n",
    "--class_list='/home/krsharma/labelnoise/trained_models/waseem/cleannet_classnames.txt' \\\n",
    "--data_path='/home/krsharma/labelnoise/trained_models/waseem/cleannet_val.tsv' \\\n",
    "--output_dir='/home/krsharma/labelnoise/trained_models/waseem/cleannet/'"
   ]
  },
  {
   "cell_type": "code",
   "execution_count": 3,
   "metadata": {},
   "outputs": [
    {
     "name": "stdout",
     "output_type": "stream",
     "text": [
      "Namespace(class_list='/home/krsharma/labelnoise/trained_models/waseem/cleannet_classnames.txt', data_path='/home/krsharma/labelnoise/trained_models/waseem/cleannet_train.tsv', num_ref=32, output_dir='/home/krsharma/labelnoise/trained_models/waseem/cleannet/', split='train')\n",
      ">> load 830 samples with verification label\n",
      "found 721 positive samples\n",
      "found 0 invalid samples\n"
     ]
    }
   ],
   "source": [
    "%run -i '/home/krsharma/labelnoise/clean-net/util/convert_data.py' --split=train \\\n",
    "--class_list='/home/krsharma/labelnoise/trained_models/waseem/cleannet_classnames.txt' \\\n",
    "--data_path='/home/krsharma/labelnoise/trained_models/waseem/cleannet_train.tsv' \\\n",
    "--output_dir='/home/krsharma/labelnoise/trained_models/waseem/cleannet/'"
   ]
  },
  {
   "cell_type": "code",
   "execution_count": 7,
   "metadata": {},
   "outputs": [
    {
     "name": "stdout",
     "output_type": "stream",
     "text": [
      "Namespace(class_list='/home/krsharma/labelnoise/trained_models/waseem/cleannet_classnames.txt', data_path='/home/krsharma/labelnoise/trained_models/waseem/cleannet_all.tsv', num_ref=32, output_dir='/home/krsharma/labelnoise/trained_models/waseem/cleannet/', split='all')\n",
      ">> load 5527 samples without verification label\n"
     ]
    }
   ],
   "source": [
    "\n",
    "%run -i '/home/krsharma/labelnoise/clean-net/util/convert_data.py' --split=all \\\n",
    "--class_list='/home/krsharma/labelnoise/trained_models/waseem/cleannet_classnames.txt' \\\n",
    "--data_path='/home/krsharma/labelnoise/trained_models/waseem/cleannet_all.tsv' \\\n",
    "--output_dir='/home/krsharma/labelnoise/trained_models/waseem/cleannet/'\n"
   ]
  },
  {
   "cell_type": "code",
   "execution_count": 2,
   "metadata": {},
   "outputs": [],
   "source": [
    "# %run -i '/home/krsharma/labelnoise/clean-net/util/find_reference.py' \\\n",
    "# --class_list='/home/krsharma/labelnoise/trained_models/waseem/cleannet_classnames.txt' \\\n",
    "# --input_npy='/home/krsharma/labelnoise/trained_models/waseem/cleannet/all.npy' \\\n",
    "# --output_dir='/home/krsharma/labelnoise/trained_models/waseem/cleannet/' \\\n",
    "# --num_ref=12 --img_dim=768"
   ]
  },
  {
   "cell_type": "code",
   "execution_count": 1,
   "metadata": {},
   "outputs": [
    {
     "name": "stdout",
     "output_type": "stream",
     "text": [
      "INFO:tensorflow:Start training...\n",
      "INFO:tensorflow:Build CleanNet...\n",
      "INFO:tensorflow:Get data batcher...\n",
      "INFO:tensorflow:Training from scratch.\n",
      "INFO:tensorflow:step 100: train/loss = 0.2941516637802124, train/acc = 0.8125\n",
      "INFO:tensorflow:step 200: train/loss = 0.3778954744338989, train/acc = 0.71875\n",
      "INFO:tensorflow:step 300: train/loss = 0.25219985842704773, train/acc = 0.9375\n",
      "INFO:tensorflow:step 400: train/loss = 0.22797738015651703, train/acc = 0.875\n",
      "INFO:tensorflow:step 500: train/loss = 0.26122528314590454, train/acc = 0.84375\n",
      ">> Evaluated losses for 73 of 73 batches.\n",
      "INFO:tensorflow:step 500: val/loss = 0.40900410854653135, val/acc = 0.8777825342465754\n",
      "Model saved in path: /home/krsharma/labelnoise/trained_models/waseem/cleannet1/checkpoints/model-500\n",
      "Best model saved in path: /home/krsharma/labelnoise/trained_models/waseem/cleannet1/checkpoints/best_model_500\n",
      "INFO:tensorflow:step 600: train/loss = 0.2489818036556244, train/acc = 0.9375\n",
      "INFO:tensorflow:step 700: train/loss = 0.3102641999721527, train/acc = 0.84375\n",
      "INFO:tensorflow:step 800: train/loss = 0.27251484990119934, train/acc = 0.9375\n",
      "INFO:tensorflow:step 900: train/loss = 0.33154332637786865, train/acc = 0.90625\n",
      "INFO:tensorflow:step 1000: train/loss = 0.24533861875534058, train/acc = 0.875\n",
      ">> Evaluated losses for 73 of 73 batches.\n",
      "INFO:tensorflow:step 1000: val/loss = 0.3829217116310172, val/acc = 0.8482448630136986\n",
      "Model saved in path: /home/krsharma/labelnoise/trained_models/waseem/cleannet1/checkpoints/model-1000\n",
      "INFO:tensorflow:step 1100: train/loss = 0.23651549220085144, train/acc = 0.90625\n",
      "INFO:tensorflow:step 1200: train/loss = 0.2801026701927185, train/acc = 0.96875\n",
      "INFO:tensorflow:step 1300: train/loss = 0.3414105176925659, train/acc = 0.875\n",
      "INFO:tensorflow:step 1400: train/loss = 0.2751603126525879, train/acc = 0.8125\n",
      "INFO:tensorflow:step 1500: train/loss = 0.26478031277656555, train/acc = 0.875\n",
      ">> Evaluated losses for 73 of 73 batches.\n",
      "INFO:tensorflow:step 1500: val/loss = 0.38350975350157857, val/acc = 0.8505993150684932\n",
      "Model saved in path: /home/krsharma/labelnoise/trained_models/waseem/cleannet1/checkpoints/model-1500\n",
      "INFO:tensorflow:step 1600: train/loss = 0.23432810604572296, train/acc = 1.0\n",
      "INFO:tensorflow:step 1700: train/loss = 0.3311578929424286, train/acc = 0.875\n",
      "INFO:tensorflow:step 1800: train/loss = 0.3019002377986908, train/acc = 0.9375\n",
      "INFO:tensorflow:step 1900: train/loss = 0.25030234456062317, train/acc = 0.96875\n",
      "INFO:tensorflow:step 2000: train/loss = 0.2159518003463745, train/acc = 0.875\n",
      ">> Evaluated losses for 73 of 73 batches.\n",
      "INFO:tensorflow:step 2000: val/loss = 0.3842602068022506, val/acc = 0.864083904109589\n",
      "Model saved in path: /home/krsharma/labelnoise/trained_models/waseem/cleannet1/checkpoints/model-2000\n"
     ]
    }
   ],
   "source": [
    "%run -i '/home/krsharma/labelnoise/clean-net/train.py' \\\n",
    "--data_dir=\"/home/krsharma/labelnoise/trained_models/waseem/cleannet/\" \\\n",
    "--checkpoint_dir=\"/home/krsharma/labelnoise/trained_models/waseem/cleannet/checkpoints/\" \\\n",
    "--log_dir=\"/home/krsharma/labelnoise/trained_models/waseem/cleannet/log/\" \\\n",
    "--num_ref=12 --img_dim 768 \\\n",
    "--n_step=2000 --lr_update=300 --val_interval=100 \\\n",
    "--batch_size_sup=32 --batch_size_unsup=32 --val_batch_size 64 \\\n",
    "--val_sim_thres=0.1 --neg_weight=4.0 --embed_norm='l2norm' \\\n",
    "--learning_rate=0.01 --lr_decay=0.1 --dropout_rate=0.2 --weight_decay=0.0001 --momentum=0.9"
   ]
  },
  {
   "cell_type": "code",
   "execution_count": 1,
   "metadata": {},
   "outputs": [
    {
     "name": "stdout",
     "output_type": "stream",
     "text": [
      "INFO:tensorflow:Build CleanNet...\n",
      "INFO:tensorflow:Scale of 0 disables regularizer.\n",
      "INFO:tensorflow:Scale of 0 disables regularizer.\n",
      "INFO:tensorflow:Scale of 0 disables regularizer.\n",
      "INFO:tensorflow:Scale of 0 disables regularizer.\n",
      "INFO:tensorflow:Scale of 0 disables regularizer.\n",
      "INFO:tensorflow:Scale of 0 disables regularizer.\n",
      "INFO:tensorflow:Scale of 0 disables regularizer.\n",
      "INFO:tensorflow:Scale of 0 disables regularizer.\n",
      "INFO:tensorflow:Loading model from checkpoint: /home/krsharma/labelnoise/trained_models/waseem/cleannet/checkpoints/model-2000\n",
      "INFO:tensorflow:Restoring parameters from /home/krsharma/labelnoise/trained_models/waseem/cleannet/checkpoints/model-2000\n",
      "INFO:tensorflow:Successfully loaded model-2000 at global step = 2000.\n",
      "INFO:tensorflow:Start validate once...\n",
      "INFO:tensorflow:Get data batcher...\n",
      ">> Predict for 4672 batches.\n",
      "INFO:tensorflow:acc = 0.8867722602739726 err = 0.1132277397260274\n",
      "INFO:tensorflow:recall = 0.4122137404580153\n",
      "INFO:tensorflow:precision = 0.6521739130434783\n",
      "INFO:tensorflow:f1_noise = 0.5051449953227315\n",
      "INFO:tensorflow:avg acc (cls) = 0.6795090397305888 avg error (cls) = 0.32049096026941115\n",
      "f1_metrics (clean) 0.9360725075528702\n",
      "f1_metrics (noise) 0.5051449953227315\n",
      "f1_metrics (accuracy/micro) 0.8867722602739726\n",
      "f1_metrics (macro/unweighted mean) 0.7206087514378008\n",
      "f1_metrics (weighted mean of f1) 0.875657798539441\n"
     ]
    }
   ],
   "source": [
    "%run -i '/home/krsharma/labelnoise/clean-net/inference.py' \\\n",
    "--data_dir=\"/home/krsharma/labelnoise/trained_models/waseem/cleannet/\" \\\n",
    "--class_list='/home/krsharma/labelnoise/trained_models/waseem/cleannet_classnames.txt' \\\n",
    "--output_file=\"/home/krsharma/labelnoise/trained_models/waseem/cleannet/cleannet_predval.txt\" \\\n",
    "--checkpoint_dir=\"/home/krsharma/labelnoise/trained_models/waseem/cleannet/checkpoints/\" \\\n",
    "--img_dim=768 --num_ref=12 --batch_size=64 \\\n",
    "--mode=val --val_sim_thres=0.1 --embed_norm='l2norm'\n"
   ]
  },
  {
   "cell_type": "code",
   "execution_count": 1,
   "metadata": {},
   "outputs": [
    {
     "name": "stdout",
     "output_type": "stream",
     "text": [
      "INFO:tensorflow:Start avg baseline validate once...\n",
      "INFO:tensorflow:Get data batcher...\n",
      ">> Predict for 4672 batches.\n",
      "INFO:tensorflow:acc = 0.8035102739726028 err = 0.19648972602739723\n",
      "INFO:tensorflow:recall = 0.3938931297709924\n",
      "INFO:tensorflow:precision = 0.33119383825417203\n",
      "INFO:tensorflow:f1_noise = 0.35983263598326365\n",
      "INFO:tensorflow:avg acc (cls) = 0.6156793401189902 avg error (cls) = 0.38432065988100983\n",
      "f1_metrics (clean) 0.8839443742098609\n",
      "f1_metrics (noise) 0.35983263598326365\n",
      "f1_metrics (accuracy/micro) 0.8035102739726028\n",
      "f1_metrics (macro/unweighted mean) 0.6218885050965623\n",
      "f1_metrics (weighted mean of f1) 0.8104655239233838\n"
     ]
    }
   ],
   "source": [
    "%run -i '/home/krsharma/labelnoise/clean-net/inference.py' \\\n",
    "--data_dir=\"/home/krsharma/labelnoise/trained_models/waseem/cleannet/\" \\\n",
    "--class_list='/home/krsharma/labelnoise/trained_models/waseem/cleannet_classnames.txt' \\\n",
    "--output_file=\"/home/krsharma/labelnoise/trained_models/waseem/cleannet/avgbaseline_predval.txt\" \\\n",
    "--checkpoint_dir=None \\\n",
    "--img_dim=768 --num_ref=12 --batch_size=64 \\\n",
    "--mode=avgbaseline --val_sim_thres=0.8 --embed_norm='log'\n"
   ]
  },
  {
   "cell_type": "code",
   "execution_count": null,
   "metadata": {},
   "outputs": [],
   "source": []
  }
 ],
 "metadata": {
  "kernelspec": {
   "display_name": "tf16",
   "language": "python",
   "name": "tf16"
  },
  "language_info": {
   "codemirror_mode": {
    "name": "ipython",
    "version": 3
   },
   "file_extension": ".py",
   "mimetype": "text/x-python",
   "name": "python",
   "nbconvert_exporter": "python",
   "pygments_lexer": "ipython3",
   "version": "3.6.9"
  }
 },
 "nbformat": 4,
 "nbformat_minor": 4
}
