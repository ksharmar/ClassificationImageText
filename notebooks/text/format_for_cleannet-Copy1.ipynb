{
 "cells": [
  {
   "cell_type": "code",
   "execution_count": null,
   "metadata": {},
   "outputs": [],
   "source": [
    "# tsv = [sample key, image url, class name, verification label, h-dimensional feature delimited by ',']."
   ]
  },
  {
   "cell_type": "code",
   "execution_count": 1,
   "metadata": {},
   "outputs": [
    {
     "name": "stdout",
     "output_type": "stream",
     "text": [
      "ok\n"
     ]
    }
   ],
   "source": [
    "# emb_file = feat_dir + 'extracted_emb.txt'\n",
    "# img_path_file = feat_dir + 'extracted_imgpaths.txt'\n",
    "\n",
    "# save_train_tsv_file = feat_dir + 'cleannet_train.tsv'\n",
    "# save_val_tsv_file = feat_dir + 'cleannet_val.tsv'\n",
    "# save_all_tsv_file = feat_dir + 'cleannet_all.tsv'\n",
    "# save_class_names_file = feat_dir + 'cleannet_classnames.txt'\n",
    "# np.savetxt(save_class_names_file, tsv['class_name'].unique(), fmt='%s')\n",
    "\n",
    "import numpy as np\n",
    "import pandas as pd\n",
    "print(\"ok\")"
   ]
  },
  {
   "cell_type": "markdown",
   "metadata": {},
   "source": [
    "# Waseem"
   ]
  },
  {
   "cell_type": "code",
   "execution_count": 27,
   "metadata": {},
   "outputs": [
    {
     "name": "stdout",
     "output_type": "stream",
     "text": [
      "                   id                                               text  \\\n",
      "0  597576902212063232  Cisco had to deal with a fat cash payout to th...   \n",
      "1  595380689534656512  guys. show me the data. show me your github. t...   \n",
      "2  563757610327748608  @tpw_rules nothings broken. I was just driving...   \n",
      "3  563082741370339330     ur face is classified as a utility by the FCC.   \n",
      "4  596962098845851648  @lysandraws yay! Absolutely. I'm not gone unti...   \n",
      "\n",
      "   gt_label  label  vlabel  test  sample_key  \n",
      "0         3      3       1     0           0  \n",
      "1         3      3       1     0           1  \n",
      "2         3      3       1     0           2  \n",
      "3         3      3       1     0           3  \n",
      "4         3      3       1     0           4  \n",
      "5527\n"
     ]
    }
   ],
   "source": [
    "# sample_key\timage_url\tclass_name\tverification_label\tfeature\n",
    "\n",
    "train = pd.read_csv('../datasets/waseem/waseem_train.csv', sep='\\t')\n",
    "train['sample_key'] = np.arange(len(train))\n",
    "print(train.head())\n",
    "\n",
    "# t.to_csv(save_tsv_file, sep='\\t', index=False, header=None)\n",
    "#         print(\"tsv created\", t.head())\n",
    "print(len(train))"
   ]
  },
  {
   "cell_type": "code",
   "execution_count": 52,
   "metadata": {},
   "outputs": [
    {
     "name": "stdout",
     "output_type": "stream",
     "text": [
      "(5527, 768)\n"
     ]
    }
   ],
   "source": [
    "# sample_key\timage_url\tclass_name\tverification_label\tfeature\n",
    "\n",
    "train_emb = np.loadtxt('/home/krsharma/labelnoise/trained_models/waseem/emb_epoch.txt')\n",
    "print(train_emb.shape)"
   ]
  },
  {
   "cell_type": "code",
   "execution_count": 40,
   "metadata": {},
   "outputs": [
    {
     "name": "stdout",
     "output_type": "stream",
     "text": [
      "4697\n",
      "830\n",
      "4697\n",
      "830\n"
     ]
    }
   ],
   "source": [
    "from sklearn.model_selection import train_test_split\n",
    "\n",
    "ind = np.arange(len(train))\n",
    "ind_train, ind_test, gt_train, gt_test = train_test_split(ind, np.array(train.gt_label), test_size=0.15, random_state=42, stratify=train.gt_label)\n",
    "print(len(ind_train))\n",
    "print(len(ind_test))\n",
    "print(len(gt_train))\n",
    "print(len(gt_test))\n",
    "\n"
   ]
  },
  {
   "cell_type": "code",
   "execution_count": 46,
   "metadata": {},
   "outputs": [],
   "source": [
    "allsamples = pd.DataFrame()\n",
    "\n",
    "allsamples['sample_key'] = train['sample_key']\n",
    "allsamples['image_url'] = train['id']\n",
    "allsamples['class_name'] = train['label']\n",
    "allsamples['verification_label'] = train['vlabel']\n",
    "allsamples['feature'] = [\",\".join(map(str, emb)) for emb in train_emb]"
   ]
  },
  {
   "cell_type": "code",
   "execution_count": 43,
   "metadata": {},
   "outputs": [
    {
     "data": {
      "text/html": [
       "<div>\n",
       "<style scoped>\n",
       "    .dataframe tbody tr th:only-of-type {\n",
       "        vertical-align: middle;\n",
       "    }\n",
       "\n",
       "    .dataframe tbody tr th {\n",
       "        vertical-align: top;\n",
       "    }\n",
       "\n",
       "    .dataframe thead th {\n",
       "        text-align: right;\n",
       "    }\n",
       "</style>\n",
       "<table border=\"1\" class=\"dataframe\">\n",
       "  <thead>\n",
       "    <tr style=\"text-align: right;\">\n",
       "      <th></th>\n",
       "      <th>sample_key</th>\n",
       "      <th>image_url</th>\n",
       "      <th>class_name</th>\n",
       "      <th>verification_label</th>\n",
       "      <th>feature</th>\n",
       "    </tr>\n",
       "  </thead>\n",
       "  <tbody>\n",
       "    <tr>\n",
       "      <th>2779</th>\n",
       "      <td>2779</td>\n",
       "      <td>571261793567436800</td>\n",
       "      <td>3</td>\n",
       "      <td>1</td>\n",
       "      <td>-0.431,-0.017,0.393,0.203,0.199,0.081,0.71,0.3...</td>\n",
       "    </tr>\n",
       "    <tr>\n",
       "      <th>2074</th>\n",
       "      <td>2074</td>\n",
       "      <td>571056355580055553</td>\n",
       "      <td>1</td>\n",
       "      <td>1</td>\n",
       "      <td>-0.337,-0.182,-0.771,-0.247,-0.021,0.125,-0.43...</td>\n",
       "    </tr>\n",
       "    <tr>\n",
       "      <th>4431</th>\n",
       "      <td>4431</td>\n",
       "      <td>576097413275897856</td>\n",
       "      <td>3</td>\n",
       "      <td>1</td>\n",
       "      <td>-0.523,-0.19,0.146,0.317,0.746,-0.626,0.396,0....</td>\n",
       "    </tr>\n",
       "    <tr>\n",
       "      <th>2613</th>\n",
       "      <td>2613</td>\n",
       "      <td>576089368395304960</td>\n",
       "      <td>3</td>\n",
       "      <td>1</td>\n",
       "      <td>-0.697,-0.278,0.253,0.302,0.317,-0.28,0.319,0....</td>\n",
       "    </tr>\n",
       "    <tr>\n",
       "      <th>3536</th>\n",
       "      <td>3536</td>\n",
       "      <td>603671235009126401</td>\n",
       "      <td>3</td>\n",
       "      <td>1</td>\n",
       "      <td>-0.337,-0.182,-0.771,-0.247,-0.021,0.125,-0.43...</td>\n",
       "    </tr>\n",
       "  </tbody>\n",
       "</table>\n",
       "</div>"
      ],
      "text/plain": [
       "      sample_key           image_url  class_name  verification_label  \\\n",
       "2779        2779  571261793567436800           3                   1   \n",
       "2074        2074  571056355580055553           1                   1   \n",
       "4431        4431  576097413275897856           3                   1   \n",
       "2613        2613  576089368395304960           3                   1   \n",
       "3536        3536  603671235009126401           3                   1   \n",
       "\n",
       "                                                feature  \n",
       "2779  -0.431,-0.017,0.393,0.203,0.199,0.081,0.71,0.3...  \n",
       "2074  -0.337,-0.182,-0.771,-0.247,-0.021,0.125,-0.43...  \n",
       "4431  -0.523,-0.19,0.146,0.317,0.746,-0.626,0.396,0....  \n",
       "2613  -0.697,-0.278,0.253,0.302,0.317,-0.28,0.319,0....  \n",
       "3536  -0.337,-0.182,-0.771,-0.247,-0.021,0.125,-0.43...  "
      ]
     },
     "execution_count": 43,
     "metadata": {},
     "output_type": "execute_result"
    }
   ],
   "source": [
    "\n",
    "vtrain = allsamples.iloc[ind_test] # 15% = 830 for verified train, rest can be used for verified validation.\n",
    "vval = allsamples.iloc[ind_train]\n",
    "vtrain.head()"
   ]
  },
  {
   "cell_type": "code",
   "execution_count": 44,
   "metadata": {},
   "outputs": [
    {
     "data": {
      "text/html": [
       "<div>\n",
       "<style scoped>\n",
       "    .dataframe tbody tr th:only-of-type {\n",
       "        vertical-align: middle;\n",
       "    }\n",
       "\n",
       "    .dataframe tbody tr th {\n",
       "        vertical-align: top;\n",
       "    }\n",
       "\n",
       "    .dataframe thead th {\n",
       "        text-align: right;\n",
       "    }\n",
       "</style>\n",
       "<table border=\"1\" class=\"dataframe\">\n",
       "  <thead>\n",
       "    <tr style=\"text-align: right;\">\n",
       "      <th></th>\n",
       "      <th>sample_key</th>\n",
       "      <th>image_url</th>\n",
       "      <th>class_name</th>\n",
       "      <th>verification_label</th>\n",
       "      <th>feature</th>\n",
       "    </tr>\n",
       "  </thead>\n",
       "  <tbody>\n",
       "    <tr>\n",
       "      <th>818</th>\n",
       "      <td>818</td>\n",
       "      <td>595376073983983616</td>\n",
       "      <td>3</td>\n",
       "      <td>1</td>\n",
       "      <td>0.513,-0.061,0.267,0.194,0.613,0.062,0.3,0.252...</td>\n",
       "    </tr>\n",
       "    <tr>\n",
       "      <th>4694</th>\n",
       "      <td>4694</td>\n",
       "      <td>572200958643580928</td>\n",
       "      <td>1</td>\n",
       "      <td>1</td>\n",
       "      <td>-0.337,-0.182,-0.771,-0.247,-0.021,0.125,-0.43...</td>\n",
       "    </tr>\n",
       "    <tr>\n",
       "      <th>1357</th>\n",
       "      <td>1357</td>\n",
       "      <td>576190185085374464</td>\n",
       "      <td>3</td>\n",
       "      <td>1</td>\n",
       "      <td>-0.039,-0.203,0.081,0.163,-0.004,0.404,0.889,0...</td>\n",
       "    </tr>\n",
       "    <tr>\n",
       "      <th>1123</th>\n",
       "      <td>1123</td>\n",
       "      <td>599062574798213120</td>\n",
       "      <td>3</td>\n",
       "      <td>1</td>\n",
       "      <td>-0.068,-0.271,-0.101,0.566,0.349,-0.303,0.221,...</td>\n",
       "    </tr>\n",
       "    <tr>\n",
       "      <th>254</th>\n",
       "      <td>254</td>\n",
       "      <td>597135449086296064</td>\n",
       "      <td>3</td>\n",
       "      <td>1</td>\n",
       "      <td>-0.267,0.107,0.263,-0.072,0.049,0.278,0.435,0....</td>\n",
       "    </tr>\n",
       "  </tbody>\n",
       "</table>\n",
       "</div>"
      ],
      "text/plain": [
       "      sample_key           image_url  class_name  verification_label  \\\n",
       "818          818  595376073983983616           3                   1   \n",
       "4694        4694  572200958643580928           1                   1   \n",
       "1357        1357  576190185085374464           3                   1   \n",
       "1123        1123  599062574798213120           3                   1   \n",
       "254          254  597135449086296064           3                   1   \n",
       "\n",
       "                                                feature  \n",
       "818   0.513,-0.061,0.267,0.194,0.613,0.062,0.3,0.252...  \n",
       "4694  -0.337,-0.182,-0.771,-0.247,-0.021,0.125,-0.43...  \n",
       "1357  -0.039,-0.203,0.081,0.163,-0.004,0.404,0.889,0...  \n",
       "1123  -0.068,-0.271,-0.101,0.566,0.349,-0.303,0.221,...  \n",
       "254   -0.267,0.107,0.263,-0.072,0.049,0.278,0.435,0....  "
      ]
     },
     "execution_count": 44,
     "metadata": {},
     "output_type": "execute_result"
    }
   ],
   "source": [
    "vval.head()"
   ]
  },
  {
   "cell_type": "code",
   "execution_count": 45,
   "metadata": {},
   "outputs": [
    {
     "data": {
      "text/html": [
       "<div>\n",
       "<style scoped>\n",
       "    .dataframe tbody tr th:only-of-type {\n",
       "        vertical-align: middle;\n",
       "    }\n",
       "\n",
       "    .dataframe tbody tr th {\n",
       "        vertical-align: top;\n",
       "    }\n",
       "\n",
       "    .dataframe thead th {\n",
       "        text-align: right;\n",
       "    }\n",
       "</style>\n",
       "<table border=\"1\" class=\"dataframe\">\n",
       "  <thead>\n",
       "    <tr style=\"text-align: right;\">\n",
       "      <th></th>\n",
       "      <th>sample_key</th>\n",
       "      <th>image_url</th>\n",
       "      <th>class_name</th>\n",
       "      <th>verification_label</th>\n",
       "      <th>feature</th>\n",
       "    </tr>\n",
       "  </thead>\n",
       "  <tbody>\n",
       "    <tr>\n",
       "      <th>0</th>\n",
       "      <td>0</td>\n",
       "      <td>597576902212063232</td>\n",
       "      <td>3</td>\n",
       "      <td>1</td>\n",
       "      <td>-0.59,0.027,0.081,0.871,0.133,0.058,0.878,0.39...</td>\n",
       "    </tr>\n",
       "    <tr>\n",
       "      <th>1</th>\n",
       "      <td>1</td>\n",
       "      <td>595380689534656512</td>\n",
       "      <td>3</td>\n",
       "      <td>1</td>\n",
       "      <td>-0.266,-0.159,0.117,0.089,0.348,0.061,0.612,0....</td>\n",
       "    </tr>\n",
       "    <tr>\n",
       "      <th>2</th>\n",
       "      <td>2</td>\n",
       "      <td>563757610327748608</td>\n",
       "      <td>3</td>\n",
       "      <td>1</td>\n",
       "      <td>-0.204,-0.418,0.075,-0.104,0.282,-0.31,0.412,0...</td>\n",
       "    </tr>\n",
       "    <tr>\n",
       "      <th>3</th>\n",
       "      <td>3</td>\n",
       "      <td>563082741370339330</td>\n",
       "      <td>3</td>\n",
       "      <td>1</td>\n",
       "      <td>-0.936,-0.129,0.476,0.173,0.176,0.25,0.418,-0....</td>\n",
       "    </tr>\n",
       "    <tr>\n",
       "      <th>4</th>\n",
       "      <td>4</td>\n",
       "      <td>596962098845851648</td>\n",
       "      <td>3</td>\n",
       "      <td>1</td>\n",
       "      <td>-0.674,-0.397,0.341,0.355,0.314,-0.275,0.446,0...</td>\n",
       "    </tr>\n",
       "  </tbody>\n",
       "</table>\n",
       "</div>"
      ],
      "text/plain": [
       "   sample_key           image_url  class_name  verification_label  \\\n",
       "0           0  597576902212063232           3                   1   \n",
       "1           1  595380689534656512           3                   1   \n",
       "2           2  563757610327748608           3                   1   \n",
       "3           3  563082741370339330           3                   1   \n",
       "4           4  596962098845851648           3                   1   \n",
       "\n",
       "                                             feature  \n",
       "0  -0.59,0.027,0.081,0.871,0.133,0.058,0.878,0.39...  \n",
       "1  -0.266,-0.159,0.117,0.089,0.348,0.061,0.612,0....  \n",
       "2  -0.204,-0.418,0.075,-0.104,0.282,-0.31,0.412,0...  \n",
       "3  -0.936,-0.129,0.476,0.173,0.176,0.25,0.418,-0....  \n",
       "4  -0.674,-0.397,0.341,0.355,0.314,-0.275,0.446,0...  "
      ]
     },
     "execution_count": 45,
     "metadata": {},
     "output_type": "execute_result"
    }
   ],
   "source": [
    "allsamples.head()"
   ]
  },
  {
   "cell_type": "code",
   "execution_count": 47,
   "metadata": {},
   "outputs": [],
   "source": [
    "vtrain.to_csv('../trained_models/waseem/cleannet_train.tsv', sep='\\t', index=False, header=None)\n"
   ]
  },
  {
   "cell_type": "code",
   "execution_count": 48,
   "metadata": {},
   "outputs": [],
   "source": [
    "vval.to_csv('../trained_models/waseem/cleannet_val.tsv', sep='\\t', index=False, header=None)\n"
   ]
  },
  {
   "cell_type": "code",
   "execution_count": 49,
   "metadata": {},
   "outputs": [],
   "source": [
    "cols = ['sample_key', 'image_url', 'class_name', 'feature']\n",
    "allsamples[cols].to_csv('../trained_models/waseem/cleannet_all.tsv', sep='\\t', index=False, header=None)\n"
   ]
  },
  {
   "cell_type": "code",
   "execution_count": 51,
   "metadata": {},
   "outputs": [
    {
     "name": "stdout",
     "output_type": "stream",
     "text": [
      "5527 830 4697\n"
     ]
    }
   ],
   "source": [
    "print(len(allsamples), len(vtrain), len(vval))"
   ]
  },
  {
   "cell_type": "code",
   "execution_count": 3,
   "metadata": {},
   "outputs": [
    {
     "data": {
      "text/html": [
       "<div>\n",
       "<style scoped>\n",
       "    .dataframe tbody tr th:only-of-type {\n",
       "        vertical-align: middle;\n",
       "    }\n",
       "\n",
       "    .dataframe tbody tr th {\n",
       "        vertical-align: top;\n",
       "    }\n",
       "\n",
       "    .dataframe thead th {\n",
       "        text-align: right;\n",
       "    }\n",
       "</style>\n",
       "<table border=\"1\" class=\"dataframe\">\n",
       "  <thead>\n",
       "    <tr style=\"text-align: right;\">\n",
       "      <th></th>\n",
       "      <th>0</th>\n",
       "      <th>1</th>\n",
       "      <th>2</th>\n",
       "      <th>3</th>\n",
       "      <th>4</th>\n",
       "    </tr>\n",
       "  </thead>\n",
       "  <tbody>\n",
       "    <tr>\n",
       "      <th>0</th>\n",
       "      <td>818</td>\n",
       "      <td>595376073983983616</td>\n",
       "      <td>3</td>\n",
       "      <td>1</td>\n",
       "      <td>0.513,-0.061,0.267,0.194,0.613,0.062,0.3,0.252...</td>\n",
       "    </tr>\n",
       "    <tr>\n",
       "      <th>1</th>\n",
       "      <td>4694</td>\n",
       "      <td>572200958643580928</td>\n",
       "      <td>1</td>\n",
       "      <td>1</td>\n",
       "      <td>-0.337,-0.182,-0.771,-0.247,-0.021,0.125,-0.43...</td>\n",
       "    </tr>\n",
       "    <tr>\n",
       "      <th>2</th>\n",
       "      <td>1357</td>\n",
       "      <td>576190185085374464</td>\n",
       "      <td>3</td>\n",
       "      <td>1</td>\n",
       "      <td>-0.039,-0.203,0.081,0.163,-0.004,0.404,0.889,0...</td>\n",
       "    </tr>\n",
       "    <tr>\n",
       "      <th>3</th>\n",
       "      <td>1123</td>\n",
       "      <td>599062574798213120</td>\n",
       "      <td>3</td>\n",
       "      <td>1</td>\n",
       "      <td>-0.068,-0.271,-0.101,0.566,0.349,-0.303,0.221,...</td>\n",
       "    </tr>\n",
       "    <tr>\n",
       "      <th>4</th>\n",
       "      <td>254</td>\n",
       "      <td>597135449086296064</td>\n",
       "      <td>3</td>\n",
       "      <td>1</td>\n",
       "      <td>-0.267,0.107,0.263,-0.072,0.049,0.278,0.435,0....</td>\n",
       "    </tr>\n",
       "  </tbody>\n",
       "</table>\n",
       "</div>"
      ],
      "text/plain": [
       "      0                   1  2  3  \\\n",
       "0   818  595376073983983616  3  1   \n",
       "1  4694  572200958643580928  1  1   \n",
       "2  1357  576190185085374464  3  1   \n",
       "3  1123  599062574798213120  3  1   \n",
       "4   254  597135449086296064  3  1   \n",
       "\n",
       "                                                   4  \n",
       "0  0.513,-0.061,0.267,0.194,0.613,0.062,0.3,0.252...  \n",
       "1  -0.337,-0.182,-0.771,-0.247,-0.021,0.125,-0.43...  \n",
       "2  -0.039,-0.203,0.081,0.163,-0.004,0.404,0.889,0...  \n",
       "3  -0.068,-0.271,-0.101,0.566,0.349,-0.303,0.221,...  \n",
       "4  -0.267,0.107,0.263,-0.072,0.049,0.278,0.435,0....  "
      ]
     },
     "execution_count": 3,
     "metadata": {},
     "output_type": "execute_result"
    }
   ],
   "source": [
    "import pandas as pd\n",
    "noiserank_vval = pd.read_csv('../trained_models/waseem/cleannet_val.tsv', sep='\\t', header=None)\n",
    "noiserank_vval.head()"
   ]
  },
  {
   "cell_type": "code",
   "execution_count": 5,
   "metadata": {},
   "outputs": [],
   "source": [
    "del noiserank_vval[4] # sample_key\timage_url\tclass_name\tverification_label\tfeature"
   ]
  },
  {
   "cell_type": "code",
   "execution_count": 6,
   "metadata": {},
   "outputs": [
    {
     "data": {
      "text/html": [
       "<div>\n",
       "<style scoped>\n",
       "    .dataframe tbody tr th:only-of-type {\n",
       "        vertical-align: middle;\n",
       "    }\n",
       "\n",
       "    .dataframe tbody tr th {\n",
       "        vertical-align: top;\n",
       "    }\n",
       "\n",
       "    .dataframe thead th {\n",
       "        text-align: right;\n",
       "    }\n",
       "</style>\n",
       "<table border=\"1\" class=\"dataframe\">\n",
       "  <thead>\n",
       "    <tr style=\"text-align: right;\">\n",
       "      <th></th>\n",
       "      <th>0</th>\n",
       "      <th>1</th>\n",
       "      <th>2</th>\n",
       "      <th>3</th>\n",
       "    </tr>\n",
       "  </thead>\n",
       "  <tbody>\n",
       "    <tr>\n",
       "      <th>0</th>\n",
       "      <td>818</td>\n",
       "      <td>595376073983983616</td>\n",
       "      <td>3</td>\n",
       "      <td>1</td>\n",
       "    </tr>\n",
       "    <tr>\n",
       "      <th>1</th>\n",
       "      <td>4694</td>\n",
       "      <td>572200958643580928</td>\n",
       "      <td>1</td>\n",
       "      <td>1</td>\n",
       "    </tr>\n",
       "    <tr>\n",
       "      <th>2</th>\n",
       "      <td>1357</td>\n",
       "      <td>576190185085374464</td>\n",
       "      <td>3</td>\n",
       "      <td>1</td>\n",
       "    </tr>\n",
       "    <tr>\n",
       "      <th>3</th>\n",
       "      <td>1123</td>\n",
       "      <td>599062574798213120</td>\n",
       "      <td>3</td>\n",
       "      <td>1</td>\n",
       "    </tr>\n",
       "    <tr>\n",
       "      <th>4</th>\n",
       "      <td>254</td>\n",
       "      <td>597135449086296064</td>\n",
       "      <td>3</td>\n",
       "      <td>1</td>\n",
       "    </tr>\n",
       "  </tbody>\n",
       "</table>\n",
       "</div>"
      ],
      "text/plain": [
       "      0                   1  2  3\n",
       "0   818  595376073983983616  3  1\n",
       "1  4694  572200958643580928  1  1\n",
       "2  1357  576190185085374464  3  1\n",
       "3  1123  599062574798213120  3  1\n",
       "4   254  597135449086296064  3  1"
      ]
     },
     "execution_count": 6,
     "metadata": {},
     "output_type": "execute_result"
    }
   ],
   "source": [
    "noiserank_vval.head() # [sample key, content url, class name, verification label]"
   ]
  },
  {
   "cell_type": "code",
   "execution_count": 7,
   "metadata": {},
   "outputs": [],
   "source": [
    "noiserank_vval.to_csv('../trained_models/waseem/noiserank_val.tsv', sep='\\t', index=False, header=None)"
   ]
  },
  {
   "cell_type": "code",
   "execution_count": null,
   "metadata": {},
   "outputs": [],
   "source": []
  }
 ],
 "metadata": {
  "kernelspec": {
   "display_name": "bert",
   "language": "python",
   "name": "bert"
  },
  "language_info": {
   "codemirror_mode": {
    "name": "ipython",
    "version": 3
   },
   "file_extension": ".py",
   "mimetype": "text/x-python",
   "name": "python",
   "nbconvert_exporter": "python",
   "pygments_lexer": "ipython3",
   "version": "3.7.4"
  }
 },
 "nbformat": 4,
 "nbformat_minor": 4
}
