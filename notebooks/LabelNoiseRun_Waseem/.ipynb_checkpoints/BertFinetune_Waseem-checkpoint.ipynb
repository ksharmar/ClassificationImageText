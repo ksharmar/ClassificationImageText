{
 "cells": [
  {
   "cell_type": "code",
   "execution_count": 17,
   "metadata": {},
   "outputs": [
    {
     "name": "stdout",
     "output_type": "stream",
     "text": [
      "Namespace(batch_size=16, emb_file_name='emb_epoch.txt', epochs=6, input_test='/home/krsharma/labelnoise/datasets/waseem/waseem_test.csv', input_train='/home/krsharma/labelnoise/datasets/waseem/waseem_train.csv', lr=2e-05, max_seqlen=128, mode='train', model_file_name='model_epoch.pt', nb_cls=4, results_dir='/home/krsharma/labelnoise/trained_models/waseem', weight_decay=0.01)\n",
      "starting program..\n",
      "GeForce GTX 1080 Ti\n",
      "starting data loading..\n",
      "[3 3 3 ... 3 3 3]\n",
      "[0 1 2 3]\n",
      "<class 'numpy.ndarray'>\n",
      "read data: 5526\n",
      "[3 3 3 ... 3 3 1]\n",
      "[0 1 2 3]\n",
      "<class 'numpy.ndarray'>\n",
      "read data: 1381\n",
      "loading pretrained model..\n"
     ]
    },
    {
     "name": "stderr",
     "output_type": "stream",
     "text": [
      "Epoch:   0%|          | 0/6 [00:00<?, ?it/s]"
     ]
    },
    {
     "name": "stdout",
     "output_type": "stream",
     "text": [
      "starting model fine-tuning..\n",
      "computed train class_weights: [  7.675        1.3517612  115.125        0.32038498]\n",
      "Train loss: 0.8928755925311519\n",
      "Test Accuracy: 0.8683908045977011\n"
     ]
    },
    {
     "name": "stderr",
     "output_type": "stream",
     "text": [
      "Epoch:  17%|█▋        | 1/6 [01:19<06:37, 79.46s/it]"
     ]
    },
    {
     "name": "stdout",
     "output_type": "stream",
     "text": [
      "Train loss: 0.6494366967178493\n",
      "Test Accuracy: 0.8570402298850575\n"
     ]
    },
    {
     "name": "stderr",
     "output_type": "stream",
     "text": [
      "Epoch:  33%|███▎      | 2/6 [02:38<05:17, 79.35s/it]"
     ]
    },
    {
     "name": "stdout",
     "output_type": "stream",
     "text": [
      "Train loss: 0.4965471674855045\n",
      "Test Accuracy: 0.8531609195402298\n"
     ]
    },
    {
     "name": "stderr",
     "output_type": "stream",
     "text": [
      "Epoch:  50%|█████     | 3/6 [03:58<03:58, 79.43s/it]"
     ]
    },
    {
     "name": "stdout",
     "output_type": "stream",
     "text": [
      "Train loss: 0.39615959017349117\n",
      "Test Accuracy: 0.869683908045977\n"
     ]
    },
    {
     "name": "stderr",
     "output_type": "stream",
     "text": [
      "Epoch:  67%|██████▋   | 4/6 [05:17<02:38, 79.50s/it]"
     ]
    },
    {
     "name": "stdout",
     "output_type": "stream",
     "text": [
      "Train loss: 0.34095842507802426\n",
      "Test Accuracy: 0.8748563218390805\n"
     ]
    },
    {
     "name": "stderr",
     "output_type": "stream",
     "text": [
      "Epoch:  83%|████████▎ | 5/6 [06:37<01:19, 79.41s/it]"
     ]
    },
    {
     "name": "stdout",
     "output_type": "stream",
     "text": [
      "Train loss: 0.2828776599769346\n",
      "Test Accuracy: 0.8669540229885058\n"
     ]
    },
    {
     "name": "stderr",
     "output_type": "stream",
     "text": [
      "Epoch: 100%|██████████| 6/6 [07:55<00:00, 79.20s/it]\n"
     ]
    },
    {
     "name": "stdout",
     "output_type": "stream",
     "text": [
      "create results dir if not exists..\n",
      "finished model evaluation and saving..\n",
      "Test Accuracy: 0.8669540229885058\n",
      "('              precision    recall  f1-score   support\\n'\n",
      " '\\n'\n",
      " '           0       0.38      0.38      0.38        47\\n'\n",
      " '           1       0.66      0.94      0.78       252\\n'\n",
      " '           2       1.00      0.14      0.25         7\\n'\n",
      " '           3       0.97      0.88      0.92      1075\\n'\n",
      " '\\n'\n",
      " '    accuracy                           0.87      1381\\n'\n",
      " '   macro avg       0.75      0.58      0.58      1381\\n'\n",
      " 'weighted avg       0.89      0.87      0.87      1381\\n')\n",
      "matthews corr coeff: 0.6821320575216033\n",
      "finished saving representations..\n",
      "finished program.\n"
     ]
    }
   ],
   "source": [
    "# CHANGE CODE FOR HEADER=? and COLUMNNAMES=? and LABEL/GT_LABEL\n",
    "\n",
    "%run -i 'bert_classifier.py' \\\n",
    "--nb_cls 4 --max_seqlen 128 --batch_size 16 --epochs 6 --lr 2e-5 --weight_decay 0.01 \\\n",
    "--input_train '/home/krsharma/labelnoise/datasets/waseem/waseem_train.csv' \\\n",
    "--input_test '/home/krsharma/labelnoise/datasets/waseem/waseem_test.csv' \\\n",
    "--results_dir '/home/krsharma/labelnoise/trained_models/waseem' \\\n",
    "--model_file_name 'model_epoch.pt' \\\n",
    "--emb_file_name 'emb_epoch.txt' \\\n",
    "--mode 'train'"
   ]
  },
  {
   "cell_type": "code",
   "execution_count": 22,
   "metadata": {},
   "outputs": [
    {
     "name": "stdout",
     "output_type": "stream",
     "text": [
      "Namespace(batch_size=16, emb_file_name='discard_emb_epoch.txt', epochs=6, input_test='/home/krsharma/labelnoise/datasets/waseem/waseem_test.csv', input_train='/home/krsharma/labelnoise/datasets/waseem/waseem_train.csv', lr=2e-05, max_seqlen=128, mode='test', model_file_name='model_epoch.pt', nb_cls=4, results_dir='/home/krsharma/labelnoise/trained_models/waseem', weight_decay=0.01)\n",
      "starting program..\n",
      "GeForce GTX 1080 Ti\n",
      "starting data loading..\n",
      "[3 3 3 ... 3 3 3]\n",
      "[0 1 2 3]\n",
      "<class 'numpy.ndarray'>\n",
      "read data: 5527\n",
      "[3 3 3 ... 3 3 3]\n",
      "[0 1 2 3]\n",
      "<class 'numpy.ndarray'>\n",
      "read data: 1382\n",
      "loading pretrained model..\n",
      "loading saved fine-tuned model weights..\n",
      "create results dir if not exists..\n",
      "finished model evaluation..\n",
      "Test Accuracy: 0.8215996168582376\n",
      "('              precision    recall  f1-score   support\\n'\n",
      " '\\n'\n",
      " '           0       0.26      0.60      0.36        20\\n'\n",
      " '           1       0.46      0.91      0.62       182\\n'\n",
      " '           2       0.00      0.00      0.00        10\\n'\n",
      " '           3       0.98      0.82      0.89      1170\\n'\n",
      " '\\n'\n",
      " '    accuracy                           0.82      1382\\n'\n",
      " '   macro avg       0.43      0.58      0.47      1382\\n'\n",
      " 'weighted avg       0.90      0.82      0.84      1382\\n')\n",
      "matthews corr coeff: 0.5597530474255794\n",
      "finished program.\n"
     ]
    }
   ],
   "source": [
    "# USE THE ABOVE MODEL TRAINED ON LABEL -> CHANGE CODE TO TAKE GT_LABELS FOR EVAL\n",
    "\n",
    "%run -i 'bert_classifier.py' \\\n",
    "--nb_cls 4 --max_seqlen 128 --batch_size 16 --epochs 6 --lr 2e-5 --weight_decay 0.01 \\\n",
    "--input_train '/home/krsharma/labelnoise/datasets/waseem/waseem_train.csv' \\\n",
    "--input_test '/home/krsharma/labelnoise/datasets/waseem/waseem_test.csv' \\\n",
    "--results_dir '/home/krsharma/labelnoise/trained_models/waseem' \\\n",
    "--model_file_name 'model_epoch.pt' \\\n",
    "--emb_file_name 'discard_emb_epoch.txt' \\\n",
    "--mode 'test'"
   ]
  },
  {
   "cell_type": "code",
   "execution_count": 23,
   "metadata": {},
   "outputs": [
    {
     "name": "stdout",
     "output_type": "stream",
     "text": [
      "Namespace(batch_size=16, emb_file_name='emb_epoch.txt', epochs=6, input_test='/home/krsharma/labelnoise/datasets/waseem/waseem_test.csv', input_train='/home/krsharma/labelnoise/datasets/waseem/waseem_train.csv', lr=2e-05, max_seqlen=128, mode='ext', model_file_name='model_epoch.pt', nb_cls=4, results_dir='/home/krsharma/labelnoise/trained_models/waseem', weight_decay=0.01)\n",
      "starting program..\n",
      "GeForce GTX 1080 Ti\n",
      "starting data loading..\n",
      "[3 3 3 ... 3 3 3]\n",
      "[0 1 2 3]\n",
      "<class 'numpy.ndarray'>\n",
      "read data: 5527\n",
      "[3 3 3 ... 3 3 3]\n",
      "[0 1 2 3]\n",
      "<class 'numpy.ndarray'>\n",
      "read data: 1382\n",
      "loading pretrained model..\n",
      "loading saved fine-tuned model weights..\n",
      "create results dir if not exists..\n",
      "finished saving representations..\n",
      "finished program.\n"
     ]
    }
   ],
   "source": [
    "# FEAT EXT\n",
    "\n",
    "%run -i 'bert_classifier.py' \\\n",
    "--nb_cls 4 --max_seqlen 128 --batch_size 16 --epochs 6 --lr 2e-5 --weight_decay 0.01 \\\n",
    "--input_train '/home/krsharma/labelnoise/datasets/waseem/waseem_train.csv' \\\n",
    "--input_test '/home/krsharma/labelnoise/datasets/waseem/waseem_test.csv' \\\n",
    "--results_dir '/home/krsharma/labelnoise/trained_models/waseem' \\\n",
    "--model_file_name 'model_epoch.pt' \\\n",
    "--emb_file_name 'emb_epoch.txt' \\\n",
    "--mode 'ext'"
   ]
  },
  {
   "cell_type": "code",
   "execution_count": 4,
   "metadata": {},
   "outputs": [
    {
     "name": "stdout",
     "output_type": "stream",
     "text": [
      "Namespace(batch_size=16, emb_file_name=None, epochs=6, input_test='/home/krsharma/labelnoise/datasets/waseem/waseem_test.csv', input_train='/home/krsharma/labelnoise/datasets/waseem/waseem_train.csv', logits_file_name='logits_epoch.txt', lr=2e-05, max_seqlen=128, mode='class_filtering', model_file_name='model_epoch.pt', nb_cls=4, results_dir='/home/krsharma/labelnoise/trained_models/waseem', weight_decay=0.01)\n",
      "starting program..\n",
      "GeForce GTX 1080 Ti\n",
      "starting data loading..\n",
      "[3 3 3 ... 3 3 3]\n",
      "[0 1 2 3]\n",
      "<class 'numpy.ndarray'>\n",
      "read data: 5527\n",
      "[3 3 3 ... 3 3 1]\n",
      "[0 1 2 3]\n",
      "<class 'numpy.ndarray'>\n",
      "read data: 1382\n",
      "loading pretrained model..\n",
      "loading saved fine-tuned model weights..\n",
      "create results dir if not exists..\n",
      "finish saving logits for classification filtering baseline..\n",
      "Test Accuracy: 0.928106936416185\n",
      "finished program.\n"
     ]
    }
   ],
   "source": [
    "# LOGITS SAVE\n",
    "\n",
    "%run -i 'bert_classifier.py' \\\n",
    "--nb_cls 4 --max_seqlen 128 --batch_size 16 --epochs 6 --lr 2e-5 --weight_decay 0.01 \\\n",
    "--input_train '/home/krsharma/labelnoise/datasets/waseem/waseem_train.csv' \\\n",
    "--input_test '/home/krsharma/labelnoise/datasets/waseem/waseem_test.csv' \\\n",
    "--results_dir '/home/krsharma/labelnoise/trained_models/waseem' \\\n",
    "--model_file_name 'model_epoch.pt' \\\n",
    "--logits_file_name 'logits_epoch.txt' \\\n",
    "--mode 'class_filtering'"
   ]
  },
  {
   "cell_type": "code",
   "execution_count": 19,
   "metadata": {},
   "outputs": [
    {
     "name": "stdout",
     "output_type": "stream",
     "text": [
      "Namespace(batch_size=16, emb_file_name='upper_emb_epoch.txt', epochs=6, input_test='/home/krsharma/labelnoise/datasets/waseem/waseem_test.csv', input_train='/home/krsharma/labelnoise/datasets/waseem/waseem_train.csv', lr=2e-05, max_seqlen=128, mode='train', model_file_name='upper_model_epoch.pt', nb_cls=4, results_dir='/home/krsharma/labelnoise/trained_models/waseem', weight_decay=0.01)\n",
      "starting program..\n",
      "GeForce GTX 1080 Ti\n",
      "starting data loading..\n",
      "[3 3 3 ... 3 3 3]\n",
      "[0 1 2 3]\n",
      "<class 'numpy.ndarray'>\n",
      "read data: 5526\n",
      "[3 3 3 ... 3 3 3]\n",
      "[0 1 2 3]\n",
      "<class 'numpy.ndarray'>\n",
      "read data: 1381\n",
      "loading pretrained model..\n"
     ]
    },
    {
     "name": "stderr",
     "output_type": "stream",
     "text": [
      "Epoch:   0%|          | 0/6 [00:00<?, ?it/s]"
     ]
    },
    {
     "name": "stdout",
     "output_type": "stream",
     "text": [
      "starting model fine-tuning..\n",
      "computed train class_weights: [17.711538   1.8950617 34.5375     0.2952554]\n",
      "Train loss: 1.0236274089255084\n",
      "Test Accuracy: 0.8462643678160919\n"
     ]
    },
    {
     "name": "stderr",
     "output_type": "stream",
     "text": [
      "Epoch:  17%|█▋        | 1/6 [01:19<06:36, 79.38s/it]"
     ]
    },
    {
     "name": "stdout",
     "output_type": "stream",
     "text": [
      "Train loss: 0.7730987268376213\n",
      "Test Accuracy: 0.8764367816091954\n"
     ]
    },
    {
     "name": "stderr",
     "output_type": "stream",
     "text": [
      "Epoch:  33%|███▎      | 2/6 [02:38<05:17, 79.41s/it]"
     ]
    },
    {
     "name": "stdout",
     "output_type": "stream",
     "text": [
      "Train loss: 0.6946803752462126\n",
      "Test Accuracy: 0.8554597701149425\n"
     ]
    },
    {
     "name": "stderr",
     "output_type": "stream",
     "text": [
      "Epoch:  50%|█████     | 3/6 [03:58<03:58, 79.37s/it]"
     ]
    },
    {
     "name": "stdout",
     "output_type": "stream",
     "text": [
      "Train loss: 0.5816665033384555\n",
      "Test Accuracy: 0.8504310344827586\n"
     ]
    },
    {
     "name": "stderr",
     "output_type": "stream",
     "text": [
      "Epoch:  67%|██████▋   | 4/6 [05:18<02:39, 79.57s/it]"
     ]
    },
    {
     "name": "stdout",
     "output_type": "stream",
     "text": [
      "Train loss: 0.5249410337321676\n",
      "Test Accuracy: 0.8360632183908046\n"
     ]
    },
    {
     "name": "stderr",
     "output_type": "stream",
     "text": [
      "Epoch:  83%|████████▎ | 5/6 [06:37<01:19, 79.63s/it]"
     ]
    },
    {
     "name": "stdout",
     "output_type": "stream",
     "text": [
      "Train loss: 0.4530479846376861\n",
      "Test Accuracy: 0.8748563218390805\n"
     ]
    },
    {
     "name": "stderr",
     "output_type": "stream",
     "text": [
      "Epoch: 100%|██████████| 6/6 [07:57<00:00, 79.60s/it]\n"
     ]
    },
    {
     "name": "stdout",
     "output_type": "stream",
     "text": [
      "create results dir if not exists..\n",
      "finished model evaluation and saving..\n",
      "Test Accuracy: 0.8748563218390805\n",
      "('              precision    recall  f1-score   support\\n'\n",
      " '\\n'\n",
      " '           0       0.50      0.65      0.57        20\\n'\n",
      " '           1       0.56      0.80      0.66       182\\n'\n",
      " '           2       0.50      0.20      0.29        10\\n'\n",
      " '           3       0.96      0.90      0.93      1169\\n'\n",
      " '\\n'\n",
      " '    accuracy                           0.88      1381\\n'\n",
      " '   macro avg       0.63      0.64      0.61      1381\\n'\n",
      " 'weighted avg       0.90      0.88      0.88      1381\\n')\n",
      "matthews corr coeff: 0.6059304968022828\n",
      "finished saving representations..\n",
      "finished program.\n"
     ]
    }
   ],
   "source": [
    "# UPPER BOUND (TRAIN ON GT_LABEL)\n",
    "\n",
    "%run -i 'bert_classifier.py' \\\n",
    "--nb_cls 4 --max_seqlen 128 --batch_size 16 --epochs 6 --lr 2e-5 --weight_decay 0.01 \\\n",
    "--input_train '/home/krsharma/labelnoise/datasets/waseem/waseem_train.csv' \\\n",
    "--input_test '/home/krsharma/labelnoise/datasets/waseem/waseem_test.csv' \\\n",
    "--results_dir '/home/krsharma/labelnoise/trained_models/waseem' \\\n",
    "--model_file_name 'upper_model_epoch.pt' \\\n",
    "--emb_file_name 'upper_emb_epoch.txt' \\\n",
    "--mode 'train'"
   ]
  },
  {
   "cell_type": "code",
   "execution_count": null,
   "metadata": {},
   "outputs": [],
   "source": []
  }
 ],
 "metadata": {
  "kernelspec": {
   "display_name": "bert",
   "language": "python",
   "name": "bert"
  },
  "language_info": {
   "codemirror_mode": {
    "name": "ipython",
    "version": 3
   },
   "file_extension": ".py",
   "mimetype": "text/x-python",
   "name": "python",
   "nbconvert_exporter": "python",
   "pygments_lexer": "ipython3",
   "version": "3.7.4"
  }
 },
 "nbformat": 4,
 "nbformat_minor": 4
}
