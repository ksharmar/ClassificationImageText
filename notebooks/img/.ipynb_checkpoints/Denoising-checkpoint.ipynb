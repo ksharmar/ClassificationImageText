{
 "cells": [
  {
   "cell_type": "code",
   "execution_count": 30,
   "metadata": {},
   "outputs": [
    {
     "name": "stdout",
     "output_type": "stream",
     "text": [
      "[0.5329162  0.47797173 0.33432958 ... 0.92006093 0.03518206 0.88384426]\n"
     ]
    }
   ],
   "source": [
    "# Round 1 food: denoising train 310K\n",
    "\n",
    "preds = []\n",
    "\n",
    "f=open(\"/home/krsharma/labelnoise/trained_models/food101n_20e/cleannet/cleannet_predtrain.txt\", 'r')\n",
    "for line in f.readlines():\n",
    "    # print(line)\n",
    "    for item in line.strip().split(' '):\n",
    "        try:\n",
    "            preds.append(float(item))\n",
    "        except:\n",
    "            pass\n",
    "    # break\n",
    "preds = np.array(preds)\n",
    "print(preds)"
   ]
  },
  {
   "cell_type": "code",
   "execution_count": 40,
   "metadata": {},
   "outputs": [
    {
     "name": "stdout",
     "output_type": "stream",
     "text": [
      "(array([     0,      1,      2, ..., 305718, 305721, 305723]), array([    11,     13,     14, ..., 305719, 305720, 305722]))\n",
      "(249490, 56234, 18.393714592246603)\n"
     ]
    }
   ],
   "source": [
    "threshold = 0.3\n",
    "import numpy as np\n",
    "ind_clean = np.where(preds >= threshold)[0]\n",
    "ind_noise = np.where(preds < threshold)[0]  # similarity is too small (so noise)\n",
    "print(ind_clean, ind_noise)\n",
    "c = len(ind_clean)\n",
    "n = len(ind_noise)\n",
    "print(c, n, float(n)/(n+c)*100)\n",
    "\n"
   ]
  },
  {
   "cell_type": "code",
   "execution_count": null,
   "metadata": {},
   "outputs": [],
   "source": [
    "# keep clean ones\n",
    "\n",
    "import pandas as pd\n",
    "\n"
   ]
  }
 ],
 "metadata": {
  "kernelspec": {
   "display_name": "Python [default]",
   "language": "python",
   "name": "python2"
  },
  "language_info": {
   "codemirror_mode": {
    "name": "ipython",
    "version": 2
   },
   "file_extension": ".py",
   "mimetype": "text/x-python",
   "name": "python",
   "nbconvert_exporter": "python",
   "pygments_lexer": "ipython2",
   "version": "2.7.15"
  }
 },
 "nbformat": 4,
 "nbformat_minor": 2
}
