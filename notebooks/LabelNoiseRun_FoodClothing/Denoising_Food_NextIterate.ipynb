{
 "cells": [
  {
   "cell_type": "code",
   "execution_count": 48,
   "metadata": {},
   "outputs": [
    {
     "name": "stdout",
     "output_type": "stream",
     "text": [
      "[0.5329162  0.47797173 0.33432958 ... 0.03518206 0.88384426 0.46864653]\n",
      "310009\n"
     ]
    }
   ],
   "source": [
    "# Round 1 food: denoising train 310K\n",
    "\n",
    "preds = []\n",
    "\n",
    "f=open(\"/home/krsharma/labelnoise/trained_models/food101n_20e/cleannet/cleannet_predtrain.txt\", 'r')\n",
    "for line in f.readlines():\n",
    "    # print(line)\n",
    "    for item in line.strip().replace('[', '').replace(']', '').split(' '):\n",
    "        if item == '': continue\n",
    "        try:\n",
    "            preds.append(float(item))\n",
    "        except:\n",
    "            print(item)\n",
    "            pass\n",
    "    # break\n",
    "preds = np.array(preds)\n",
    "print(preds)\n",
    "print(len(preds))"
   ]
  },
  {
   "cell_type": "code",
   "execution_count": 49,
   "metadata": {},
   "outputs": [
    {
     "name": "stdout",
     "output_type": "stream",
     "text": [
      "(array([     0,      1,      2, ..., 310005, 310007, 310008]), array([    11,     13,     14, ..., 310003, 310004, 310006]))\n",
      "(252686, 57323, 18.490753494253394)\n",
      "310009\n"
     ]
    }
   ],
   "source": [
    "threshold = 0.3\n",
    "import numpy as np\n",
    "ind_clean = np.where(preds >= threshold)[0]\n",
    "ind_noise = np.where(preds < threshold)[0]  # similarity is too small (so noise)\n",
    "print(ind_clean, ind_noise)\n",
    "c = len(ind_clean)\n",
    "n = len(ind_noise)\n",
    "print(c, n, float(n)/(n+c)*100)\n",
    "\n",
    "print(len(preds))"
   ]
  },
  {
   "cell_type": "code",
   "execution_count": 71,
   "metadata": {},
   "outputs": [
    {
     "name": "stdout",
     "output_type": "stream",
     "text": [
      "                                        image_url class_name       sim  \\\n",
      "0  apple_pie/000036ee3613531a745a05052e6a3ed7.jpg  apple_pie  0.532916   \n",
      "1  apple_pie/00168d0c6df7fb7b7b786a22c2ff2f4a.jpg  apple_pie  0.477972   \n",
      "2  apple_pie/00196077deceacae8f88408b7e0cc216.jpg  apple_pie  0.334330   \n",
      "3  apple_pie/003ba1197bb2ffca00036bbd1bfae139.jpg  apple_pie  0.387519   \n",
      "4  apple_pie/00861f70adfd37898114b83ff16978d0.jpg  apple_pie  0.545982   \n",
      "\n",
      "   binary_pred  \n",
      "0            1  \n",
      "1            1  \n",
      "2            1  \n",
      "3            1  \n",
      "4            1  \n",
      "                                        image_url class_name       sim  \\\n",
      "0  apple_pie/000036ee3613531a745a05052e6a3ed7.jpg  apple_pie  0.532916   \n",
      "1  apple_pie/00168d0c6df7fb7b7b786a22c2ff2f4a.jpg  apple_pie  0.477972   \n",
      "2  apple_pie/00196077deceacae8f88408b7e0cc216.jpg  apple_pie  0.334330   \n",
      "3  apple_pie/003ba1197bb2ffca00036bbd1bfae139.jpg  apple_pie  0.387519   \n",
      "4  apple_pie/00861f70adfd37898114b83ff16978d0.jpg  apple_pie  0.545982   \n",
      "\n",
      "   binary_pred  \n",
      "0            1  \n",
      "1            1  \n",
      "2            1  \n",
      "3            1  \n",
      "4            1  \n",
      "(310009, 252686)\n"
     ]
    }
   ],
   "source": [
    "# keep clean ones\n",
    "# awk 'NF{NF-=1};1' <in >out (will eliminate reading large 2048 dim features)\n",
    "\n",
    "import pandas as pd\n",
    "all_filename = '/home/krsharma/labelnoise/trained_models/food101n_20e/cleannet_all_without_feats.tsv'\n",
    "df = pd.read_csv(all_filename, sep=' ', header=None)\n",
    "df.columns = ['sample_key', 'image_url', 'class_name']\n",
    "df = df[['image_url', 'class_name']]\n",
    "df['sim'] = preds\n",
    "df['binary_pred'] = (preds >= threshold)*1  # mislabeled = 0\n",
    "print(df.head())\n",
    "denoised_kv = df[df.binary_pred == 1]\n",
    "print(denoised_kv.head())\n",
    "print(len(df), len(denoised_kv))\n",
    "\n",
    "w = denoised_kv[['image_url', 'class_name']]\n",
    "w.to_csv('/home/krsharma/labelnoise/trained_models/food101n_20e/denoised_kv.txt', \n",
    "         header=None, index=False, sep=' ')"
   ]
  }
 ],
 "metadata": {
  "kernelspec": {
   "display_name": "bert",
   "language": "python",
   "name": "bert"
  },
  "language_info": {
   "codemirror_mode": {
    "name": "ipython",
    "version": 3
   },
   "file_extension": ".py",
   "mimetype": "text/x-python",
   "name": "python",
   "nbconvert_exporter": "python",
   "pygments_lexer": "ipython3",
   "version": "3.7.4"
  }
 },
 "nbformat": 4,
 "nbformat_minor": 4
}
