{
 "cells": [
  {
   "cell_type": "code",
   "execution_count": 1,
   "metadata": {},
   "outputs": [],
   "source": [
    "path = \"/home/krsharma/ClassificationImageText/trained_models/food101n_20e/robustnoiserank/food-256d_round1/\""
   ]
  },
  {
   "cell_type": "markdown",
   "metadata": {},
   "source": [
    "# Format ref numpy to tsv"
   ]
  },
  {
   "cell_type": "code",
   "execution_count": 40,
   "metadata": {},
   "outputs": [
    {
     "name": "stdout",
     "output_type": "stream",
     "text": [
      "(101, 10, 256)\n"
     ]
    }
   ],
   "source": [
    "p = path + \"ref_10.npy\"\n",
    "import numpy as np\n",
    "\n",
    "ref = np.load(p)\n",
    "\n",
    "print(ref.shape)"
   ]
  },
  {
   "cell_type": "code",
   "execution_count": 41,
   "metadata": {},
   "outputs": [
    {
     "data": {
      "text/html": [
       "<div>\n",
       "<style scoped>\n",
       "    .dataframe tbody tr th:only-of-type {\n",
       "        vertical-align: middle;\n",
       "    }\n",
       "\n",
       "    .dataframe tbody tr th {\n",
       "        vertical-align: top;\n",
       "    }\n",
       "\n",
       "    .dataframe thead th {\n",
       "        text-align: right;\n",
       "    }\n",
       "</style>\n",
       "<table border=\"1\" class=\"dataframe\">\n",
       "  <thead>\n",
       "    <tr style=\"text-align: right;\">\n",
       "      <th></th>\n",
       "      <th>id</th>\n",
       "      <th>img</th>\n",
       "      <th>labels</th>\n",
       "      <th>feats</th>\n",
       "    </tr>\n",
       "  </thead>\n",
       "  <tbody>\n",
       "    <tr>\n",
       "      <th>0</th>\n",
       "      <td>0</td>\n",
       "      <td>0</td>\n",
       "      <td>0</td>\n",
       "      <td>-2.164,0.999,-0.822,-0.875,-1.187,-0.955,1.833...</td>\n",
       "    </tr>\n",
       "    <tr>\n",
       "      <th>1</th>\n",
       "      <td>1</td>\n",
       "      <td>1</td>\n",
       "      <td>0</td>\n",
       "      <td>-2.124,-2.03,-1.74,-1.389,-1.634,-2.199,3.293,...</td>\n",
       "    </tr>\n",
       "    <tr>\n",
       "      <th>2</th>\n",
       "      <td>2</td>\n",
       "      <td>2</td>\n",
       "      <td>0</td>\n",
       "      <td>-0.099,0.33,0.126,-0.536,-0.274,0.241,0.37,-0....</td>\n",
       "    </tr>\n",
       "    <tr>\n",
       "      <th>3</th>\n",
       "      <td>3</td>\n",
       "      <td>3</td>\n",
       "      <td>0</td>\n",
       "      <td>-0.439,1.144,-0.38,0.624,-0.169,-0.446,1.071,0...</td>\n",
       "    </tr>\n",
       "    <tr>\n",
       "      <th>4</th>\n",
       "      <td>4</td>\n",
       "      <td>4</td>\n",
       "      <td>0</td>\n",
       "      <td>-0.781,0.013,-0.488,-0.843,-0.4,-1.142,1.859,-...</td>\n",
       "    </tr>\n",
       "  </tbody>\n",
       "</table>\n",
       "</div>"
      ],
      "text/plain": [
       "   id  img  labels                                              feats\n",
       "0   0    0       0  -2.164,0.999,-0.822,-0.875,-1.187,-0.955,1.833...\n",
       "1   1    1       0  -2.124,-2.03,-1.74,-1.389,-1.634,-2.199,3.293,...\n",
       "2   2    2       0  -0.099,0.33,0.126,-0.536,-0.274,0.241,0.37,-0....\n",
       "3   3    3       0  -0.439,1.144,-0.38,0.624,-0.169,-0.446,1.071,0...\n",
       "4   4    4       0  -0.781,0.013,-0.488,-0.843,-0.4,-1.142,1.859,-..."
      ]
     },
     "execution_count": 41,
     "metadata": {},
     "output_type": "execute_result"
    }
   ],
   "source": [
    "import pandas as pd\n",
    "\n",
    "df = pd.DataFrame()\n",
    "\n",
    "def join_str(ci):\n",
    "    return \",\".join(map(str, ci))\n",
    "    \n",
    "labels = []\n",
    "vecs = []\n",
    "for classname, c in enumerate(ref):\n",
    "    labels += [int(classname)] * len(c)\n",
    "    vecs += [join_str(ci) for ci in np.round(c, 3)]\n",
    "labels = np.array(labels, dtype=np.int32)\n",
    "df['id'] = np.arange(len(labels))\n",
    "df['img'] = np.arange(len(labels))\n",
    "df['labels'] = labels\n",
    "df['feats'] = vecs\n",
    "\n",
    "df.head()"
   ]
  },
  {
   "cell_type": "code",
   "execution_count": 42,
   "metadata": {},
   "outputs": [],
   "source": [
    "df.to_csv(path + 'ref_10.tsv', sep='\\t', header=None, index=False)"
   ]
  },
  {
   "cell_type": "markdown",
   "metadata": {},
   "source": [
    "# Format extracted 256d embeddings from pkl to tsv"
   ]
  },
  {
   "cell_type": "code",
   "execution_count": 2,
   "metadata": {},
   "outputs": [],
   "source": [
    "import pickle as pkl\n",
    "\n",
    "d = pkl.load(open(path + 'd_00000_310016x256.pickle', 'rb'))"
   ]
  },
  {
   "cell_type": "code",
   "execution_count": 3,
   "metadata": {},
   "outputs": [
    {
     "data": {
      "text/plain": [
       "(310016, 256)"
      ]
     },
     "execution_count": 3,
     "metadata": {},
     "output_type": "execute_result"
    }
   ],
   "source": [
    "d[0].shape"
   ]
  },
  {
   "cell_type": "code",
   "execution_count": 100,
   "metadata": {},
   "outputs": [
    {
     "name": "stdout",
     "output_type": "stream",
     "text": [
      "310016 310016\n"
     ]
    },
    {
     "data": {
      "text/plain": [
       "(   sid                                   eid\n",
       " 0    0  GCiwEgX3XXnyBvwBAJ2fMlAu0y8nbiMZAAAB\n",
       " 1    1  GCkNDwV2uTAIM7wCAFvqMM6giBogbiMZAAAB\n",
       " 2    2  GObHBAV-dDAYVvwAANNJM4xiofBtbiMZAAAB\n",
       " 3    3  GEuxBAWRRZNq6sACADEEqzTycsFbbiMZAAAB\n",
       " 4    4  GBhuAQVZEMDLZJ0AAIqqAYMah3EobiMZAAAB, 310016, 310016, 310016)"
      ]
     },
     "execution_count": 100,
     "metadata": {},
     "output_type": "execute_result"
    }
   ],
   "source": [
    "import pandas as pd\n",
    "import numpy as np\n",
    "df = pd.DataFrame()\n",
    "sid = np.arange(310016)\n",
    "eid = d[1]\n",
    "print(len(sid), len(eid))\n",
    "df['sid'] = sid\n",
    "df['eid'] = eid\n",
    "df.head(), len(eid), len(sid), len(df)"
   ]
  },
  {
   "cell_type": "code",
   "execution_count": 102,
   "metadata": {},
   "outputs": [
    {
     "data": {
      "text/plain": [
       "(310016, 303370)"
      ]
     },
     "execution_count": 102,
     "metadata": {},
     "output_type": "execute_result"
    }
   ],
   "source": [
    "x = df.drop_duplicates(subset='eid', keep='first', inplace=False)\n",
    "x.head()\n",
    "len(df), len(x)"
   ]
  },
  {
   "cell_type": "code",
   "execution_count": 7,
   "metadata": {},
   "outputs": [
    {
     "data": {
      "text/html": [
       "<div>\n",
       "<style scoped>\n",
       "    .dataframe tbody tr th:only-of-type {\n",
       "        vertical-align: middle;\n",
       "    }\n",
       "\n",
       "    .dataframe tbody tr th {\n",
       "        vertical-align: top;\n",
       "    }\n",
       "\n",
       "    .dataframe thead th {\n",
       "        text-align: right;\n",
       "    }\n",
       "</style>\n",
       "<table border=\"1\" class=\"dataframe\">\n",
       "  <thead>\n",
       "    <tr style=\"text-align: right;\">\n",
       "      <th></th>\n",
       "      <th>0</th>\n",
       "      <th>1</th>\n",
       "      <th>2</th>\n",
       "      <th>3</th>\n",
       "      <th>4</th>\n",
       "      <th>5</th>\n",
       "      <th>6</th>\n",
       "      <th>7</th>\n",
       "    </tr>\n",
       "  </thead>\n",
       "  <tbody>\n",
       "    <tr>\n",
       "      <th>0</th>\n",
       "      <td>caesar_salad/f8c49734588789daf70be79ffcef9eeb.jpg</td>\n",
       "      <td>f8c49734588789daf70be79ffcef9eeb.jpg</td>\n",
       "      <td>GGLeAwXvkdcqIkcCAI1Z3nzqCwY_biMZAAAB</td>\n",
       "      <td>caesar_salad</td>\n",
       "      <td>11</td>\n",
       "      <td>1.0</td>\n",
       "      <td>2020-02-04</td>\n",
       "      <td>val</td>\n",
       "    </tr>\n",
       "    <tr>\n",
       "      <th>1</th>\n",
       "      <td>foie_gras/7a46407ee4c2157aa9abbba1d553e2dd.jpg</td>\n",
       "      <td>7a46407ee4c2157aa9abbba1d553e2dd.jpg</td>\n",
       "      <td>GOX-EQULBp9FmCYDAJLabL7HqXAybiMZAAAB</td>\n",
       "      <td>foie_gras</td>\n",
       "      <td>39</td>\n",
       "      <td>1.0</td>\n",
       "      <td>2020-02-04</td>\n",
       "      <td>val</td>\n",
       "    </tr>\n",
       "    <tr>\n",
       "      <th>2</th>\n",
       "      <td>chicken_curry/04b4c813f792838a1cf5ab5086fcb3bb...</td>\n",
       "      <td>04b4c813f792838a1cf5ab5086fcb3bb.jpg</td>\n",
       "      <td>GDSUEQXgTAGMv6kAAAgDm2KPWXBFbiMZAAAB</td>\n",
       "      <td>chicken_curry</td>\n",
       "      <td>18</td>\n",
       "      <td>1.0</td>\n",
       "      <td>2020-02-04</td>\n",
       "      <td>val</td>\n",
       "    </tr>\n",
       "    <tr>\n",
       "      <th>3</th>\n",
       "      <td>caprese_salad/8b77869b9f11f198dab328ea2ba0345b...</td>\n",
       "      <td>8b77869b9f11f198dab328ea2ba0345b.jpg</td>\n",
       "      <td>GCunEwXTgNf9OyQCAH40C9EZf98tbiMZAAAB</td>\n",
       "      <td>caprese_salad</td>\n",
       "      <td>13</td>\n",
       "      <td>1.0</td>\n",
       "      <td>2020-02-04</td>\n",
       "      <td>val</td>\n",
       "    </tr>\n",
       "    <tr>\n",
       "      <th>4</th>\n",
       "      <td>chocolate_cake/a1e79808922f9c3b219718aeda7b591...</td>\n",
       "      <td>a1e79808922f9c3b219718aeda7b5916.jpg</td>\n",
       "      <td>GFiYAwVHTQHbYhQDAC1ZOvBfpK9BbiMZAAAB</td>\n",
       "      <td>chocolate_cake</td>\n",
       "      <td>21</td>\n",
       "      <td>1.0</td>\n",
       "      <td>2020-02-04</td>\n",
       "      <td>val</td>\n",
       "    </tr>\n",
       "  </tbody>\n",
       "</table>\n",
       "</div>"
      ],
      "text/plain": [
       "                                                   0  \\\n",
       "0  caesar_salad/f8c49734588789daf70be79ffcef9eeb.jpg   \n",
       "1     foie_gras/7a46407ee4c2157aa9abbba1d553e2dd.jpg   \n",
       "2  chicken_curry/04b4c813f792838a1cf5ab5086fcb3bb...   \n",
       "3  caprese_salad/8b77869b9f11f198dab328ea2ba0345b...   \n",
       "4  chocolate_cake/a1e79808922f9c3b219718aeda7b591...   \n",
       "\n",
       "                                      1                                     2  \\\n",
       "0  f8c49734588789daf70be79ffcef9eeb.jpg  GGLeAwXvkdcqIkcCAI1Z3nzqCwY_biMZAAAB   \n",
       "1  7a46407ee4c2157aa9abbba1d553e2dd.jpg  GOX-EQULBp9FmCYDAJLabL7HqXAybiMZAAAB   \n",
       "2  04b4c813f792838a1cf5ab5086fcb3bb.jpg  GDSUEQXgTAGMv6kAAAgDm2KPWXBFbiMZAAAB   \n",
       "3  8b77869b9f11f198dab328ea2ba0345b.jpg  GCunEwXTgNf9OyQCAH40C9EZf98tbiMZAAAB   \n",
       "4  a1e79808922f9c3b219718aeda7b5916.jpg  GFiYAwVHTQHbYhQDAC1ZOvBfpK9BbiMZAAAB   \n",
       "\n",
       "                3   4    5           6    7  \n",
       "0    caesar_salad  11  1.0  2020-02-04  val  \n",
       "1       foie_gras  39  1.0  2020-02-04  val  \n",
       "2   chicken_curry  18  1.0  2020-02-04  val  \n",
       "3   caprese_salad  13  1.0  2020-02-04  val  \n",
       "4  chocolate_cake  21  1.0  2020-02-04  val  "
      ]
     },
     "execution_count": 7,
     "metadata": {},
     "output_type": "execute_result"
    }
   ],
   "source": [
    "ldf = pd.read_csv(path + 'eluo_food101n_everstore_handle_with_label_and_type.csv', header=None)\n",
    "\n",
    "ldf.head()\n"
   ]
  },
  {
   "cell_type": "code",
   "execution_count": 8,
   "metadata": {},
   "outputs": [
    {
     "data": {
      "text/plain": [
       "3069.3960396039606"
      ]
     },
     "execution_count": 8,
     "metadata": {},
     "output_type": "execute_result"
    }
   ],
   "source": [
    "np.unique(ldf[4], return_counts=True)[1].mean() # .mean()"
   ]
  },
  {
   "cell_type": "code",
   "execution_count": 10,
   "metadata": {},
   "outputs": [
    {
     "name": "stdout",
     "output_type": "stream",
     "text": [
      "31.71750305430741\n",
      "39.179076048319466\n",
      "51.69139193328034\n"
     ]
    }
   ],
   "source": [
    "# 30 (min), 40 (mean), 50 (max) vs 100 (min), 190 (mean), 211 (max)\n",
    "K = np.sqrt(2012/2)\n",
    "print(K)\n",
    "\n",
    "K = np.sqrt(3070/2)\n",
    "print(K)\n",
    "\n",
    "K = np.sqrt(5344/2)\n",
    "print(K)"
   ]
  },
  {
   "cell_type": "code",
   "execution_count": 11,
   "metadata": {},
   "outputs": [],
   "source": [
    "ldict = dict(zip(ldf[2], ldf[4]))"
   ]
  },
  {
   "cell_type": "code",
   "execution_count": 12,
   "metadata": {},
   "outputs": [],
   "source": [
    "df['label'] = df['eid'].apply(lambda x: ldict[x])"
   ]
  },
  {
   "cell_type": "code",
   "execution_count": 13,
   "metadata": {},
   "outputs": [
    {
     "data": {
      "text/html": [
       "<div>\n",
       "<style scoped>\n",
       "    .dataframe tbody tr th:only-of-type {\n",
       "        vertical-align: middle;\n",
       "    }\n",
       "\n",
       "    .dataframe tbody tr th {\n",
       "        vertical-align: top;\n",
       "    }\n",
       "\n",
       "    .dataframe thead th {\n",
       "        text-align: right;\n",
       "    }\n",
       "</style>\n",
       "<table border=\"1\" class=\"dataframe\">\n",
       "  <thead>\n",
       "    <tr style=\"text-align: right;\">\n",
       "      <th></th>\n",
       "      <th>sid</th>\n",
       "      <th>eid</th>\n",
       "      <th>label</th>\n",
       "    </tr>\n",
       "  </thead>\n",
       "  <tbody>\n",
       "    <tr>\n",
       "      <th>0</th>\n",
       "      <td>0</td>\n",
       "      <td>GCiwEgX3XXnyBvwBAJ2fMlAu0y8nbiMZAAAB</td>\n",
       "      <td>18</td>\n",
       "    </tr>\n",
       "    <tr>\n",
       "      <th>1</th>\n",
       "      <td>1</td>\n",
       "      <td>GCkNDwV2uTAIM7wCAFvqMM6giBogbiMZAAAB</td>\n",
       "      <td>63</td>\n",
       "    </tr>\n",
       "    <tr>\n",
       "      <th>2</th>\n",
       "      <td>2</td>\n",
       "      <td>GObHBAV-dDAYVvwAANNJM4xiofBtbiMZAAAB</td>\n",
       "      <td>98</td>\n",
       "    </tr>\n",
       "    <tr>\n",
       "      <th>3</th>\n",
       "      <td>3</td>\n",
       "      <td>GEuxBAWRRZNq6sACADEEqzTycsFbbiMZAAAB</td>\n",
       "      <td>74</td>\n",
       "    </tr>\n",
       "    <tr>\n",
       "      <th>4</th>\n",
       "      <td>4</td>\n",
       "      <td>GBhuAQVZEMDLZJ0AAIqqAYMah3EobiMZAAAB</td>\n",
       "      <td>68</td>\n",
       "    </tr>\n",
       "  </tbody>\n",
       "</table>\n",
       "</div>"
      ],
      "text/plain": [
       "   sid                                   eid  label\n",
       "0    0  GCiwEgX3XXnyBvwBAJ2fMlAu0y8nbiMZAAAB     18\n",
       "1    1  GCkNDwV2uTAIM7wCAFvqMM6giBogbiMZAAAB     63\n",
       "2    2  GObHBAV-dDAYVvwAANNJM4xiofBtbiMZAAAB     98\n",
       "3    3  GEuxBAWRRZNq6sACADEEqzTycsFbbiMZAAAB     74\n",
       "4    4  GBhuAQVZEMDLZJ0AAIqqAYMah3EobiMZAAAB     68"
      ]
     },
     "execution_count": 13,
     "metadata": {},
     "output_type": "execute_result"
    }
   ],
   "source": [
    "df.head()"
   ]
  },
  {
   "cell_type": "code",
   "execution_count": 15,
   "metadata": {},
   "outputs": [],
   "source": [
    "emb = np.vstack([d[0]])"
   ]
  },
  {
   "cell_type": "code",
   "execution_count": 16,
   "metadata": {},
   "outputs": [
    {
     "data": {
      "text/html": [
       "<div>\n",
       "<style scoped>\n",
       "    .dataframe tbody tr th:only-of-type {\n",
       "        vertical-align: middle;\n",
       "    }\n",
       "\n",
       "    .dataframe tbody tr th {\n",
       "        vertical-align: top;\n",
       "    }\n",
       "\n",
       "    .dataframe thead th {\n",
       "        text-align: right;\n",
       "    }\n",
       "</style>\n",
       "<table border=\"1\" class=\"dataframe\">\n",
       "  <thead>\n",
       "    <tr style=\"text-align: right;\">\n",
       "      <th></th>\n",
       "      <th>sid</th>\n",
       "      <th>eid</th>\n",
       "      <th>label</th>\n",
       "      <th>emb</th>\n",
       "    </tr>\n",
       "  </thead>\n",
       "  <tbody>\n",
       "    <tr>\n",
       "      <th>0</th>\n",
       "      <td>0</td>\n",
       "      <td>GCiwEgX3XXnyBvwBAJ2fMlAu0y8nbiMZAAAB</td>\n",
       "      <td>18</td>\n",
       "      <td>[-1.213, -2.396, -0.537, -3.458, -0.046, 0.845...</td>\n",
       "    </tr>\n",
       "    <tr>\n",
       "      <th>1</th>\n",
       "      <td>1</td>\n",
       "      <td>GCkNDwV2uTAIM7wCAFvqMM6giBogbiMZAAAB</td>\n",
       "      <td>63</td>\n",
       "      <td>[0.981, 2.095, -2.309, 0.819, -0.231, 0.701, 0...</td>\n",
       "    </tr>\n",
       "    <tr>\n",
       "      <th>2</th>\n",
       "      <td>2</td>\n",
       "      <td>GObHBAV-dDAYVvwAANNJM4xiofBtbiMZAAAB</td>\n",
       "      <td>98</td>\n",
       "      <td>[-0.994, 2.514, -0.184, -0.496, 0.773, -3.008,...</td>\n",
       "    </tr>\n",
       "    <tr>\n",
       "      <th>3</th>\n",
       "      <td>3</td>\n",
       "      <td>GEuxBAWRRZNq6sACADEEqzTycsFbbiMZAAAB</td>\n",
       "      <td>74</td>\n",
       "      <td>[-2.814, -2.551, 0.317, -4.25, -0.723, 1.592, ...</td>\n",
       "    </tr>\n",
       "    <tr>\n",
       "      <th>4</th>\n",
       "      <td>4</td>\n",
       "      <td>GBhuAQVZEMDLZJ0AAIqqAYMah3EobiMZAAAB</td>\n",
       "      <td>68</td>\n",
       "      <td>[0.85, -0.682, 0.532, -0.019, -0.274, 2.993, 1...</td>\n",
       "    </tr>\n",
       "  </tbody>\n",
       "</table>\n",
       "</div>"
      ],
      "text/plain": [
       "   sid                                   eid  label  \\\n",
       "0    0  GCiwEgX3XXnyBvwBAJ2fMlAu0y8nbiMZAAAB     18   \n",
       "1    1  GCkNDwV2uTAIM7wCAFvqMM6giBogbiMZAAAB     63   \n",
       "2    2  GObHBAV-dDAYVvwAANNJM4xiofBtbiMZAAAB     98   \n",
       "3    3  GEuxBAWRRZNq6sACADEEqzTycsFbbiMZAAAB     74   \n",
       "4    4  GBhuAQVZEMDLZJ0AAIqqAYMah3EobiMZAAAB     68   \n",
       "\n",
       "                                                 emb  \n",
       "0  [-1.213, -2.396, -0.537, -3.458, -0.046, 0.845...  \n",
       "1  [0.981, 2.095, -2.309, 0.819, -0.231, 0.701, 0...  \n",
       "2  [-0.994, 2.514, -0.184, -0.496, 0.773, -3.008,...  \n",
       "3  [-2.814, -2.551, 0.317, -4.25, -0.723, 1.592, ...  \n",
       "4  [0.85, -0.682, 0.532, -0.019, -0.274, 2.993, 1...  "
      ]
     },
     "execution_count": 16,
     "metadata": {},
     "output_type": "execute_result"
    }
   ],
   "source": [
    "df['emb'] = list(np.round(emb, 3))\n",
    "df.head()"
   ]
  },
  {
   "cell_type": "code",
   "execution_count": 17,
   "metadata": {},
   "outputs": [],
   "source": [
    "df['emb'] = df['emb'].apply(lambda x: \",\".join(map(str, x)))"
   ]
  },
  {
   "cell_type": "code",
   "execution_count": 18,
   "metadata": {},
   "outputs": [
    {
     "data": {
      "text/html": [
       "<div>\n",
       "<style scoped>\n",
       "    .dataframe tbody tr th:only-of-type {\n",
       "        vertical-align: middle;\n",
       "    }\n",
       "\n",
       "    .dataframe tbody tr th {\n",
       "        vertical-align: top;\n",
       "    }\n",
       "\n",
       "    .dataframe thead th {\n",
       "        text-align: right;\n",
       "    }\n",
       "</style>\n",
       "<table border=\"1\" class=\"dataframe\">\n",
       "  <thead>\n",
       "    <tr style=\"text-align: right;\">\n",
       "      <th></th>\n",
       "      <th>sid</th>\n",
       "      <th>eid</th>\n",
       "      <th>label</th>\n",
       "      <th>emb</th>\n",
       "    </tr>\n",
       "  </thead>\n",
       "  <tbody>\n",
       "    <tr>\n",
       "      <th>0</th>\n",
       "      <td>0</td>\n",
       "      <td>GCiwEgX3XXnyBvwBAJ2fMlAu0y8nbiMZAAAB</td>\n",
       "      <td>18</td>\n",
       "      <td>-1.213,-2.396,-0.537,-3.458,-0.046,0.845,-2.28...</td>\n",
       "    </tr>\n",
       "    <tr>\n",
       "      <th>1</th>\n",
       "      <td>1</td>\n",
       "      <td>GCkNDwV2uTAIM7wCAFvqMM6giBogbiMZAAAB</td>\n",
       "      <td>63</td>\n",
       "      <td>0.981,2.095,-2.309,0.819,-0.231,0.701,0.174,0....</td>\n",
       "    </tr>\n",
       "    <tr>\n",
       "      <th>2</th>\n",
       "      <td>2</td>\n",
       "      <td>GObHBAV-dDAYVvwAANNJM4xiofBtbiMZAAAB</td>\n",
       "      <td>98</td>\n",
       "      <td>-0.994,2.514,-0.184,-0.496,0.773,-3.008,0.816,...</td>\n",
       "    </tr>\n",
       "    <tr>\n",
       "      <th>3</th>\n",
       "      <td>3</td>\n",
       "      <td>GEuxBAWRRZNq6sACADEEqzTycsFbbiMZAAAB</td>\n",
       "      <td>74</td>\n",
       "      <td>-2.814,-2.551,0.317,-4.25,-0.723,1.592,-1.321,...</td>\n",
       "    </tr>\n",
       "    <tr>\n",
       "      <th>4</th>\n",
       "      <td>4</td>\n",
       "      <td>GBhuAQVZEMDLZJ0AAIqqAYMah3EobiMZAAAB</td>\n",
       "      <td>68</td>\n",
       "      <td>0.85,-0.682,0.532,-0.019,-0.274,2.993,1.029,-0...</td>\n",
       "    </tr>\n",
       "  </tbody>\n",
       "</table>\n",
       "</div>"
      ],
      "text/plain": [
       "   sid                                   eid  label  \\\n",
       "0    0  GCiwEgX3XXnyBvwBAJ2fMlAu0y8nbiMZAAAB     18   \n",
       "1    1  GCkNDwV2uTAIM7wCAFvqMM6giBogbiMZAAAB     63   \n",
       "2    2  GObHBAV-dDAYVvwAANNJM4xiofBtbiMZAAAB     98   \n",
       "3    3  GEuxBAWRRZNq6sACADEEqzTycsFbbiMZAAAB     74   \n",
       "4    4  GBhuAQVZEMDLZJ0AAIqqAYMah3EobiMZAAAB     68   \n",
       "\n",
       "                                                 emb  \n",
       "0  -1.213,-2.396,-0.537,-3.458,-0.046,0.845,-2.28...  \n",
       "1  0.981,2.095,-2.309,0.819,-0.231,0.701,0.174,0....  \n",
       "2  -0.994,2.514,-0.184,-0.496,0.773,-3.008,0.816,...  \n",
       "3  -2.814,-2.551,0.317,-4.25,-0.723,1.592,-1.321,...  \n",
       "4  0.85,-0.682,0.532,-0.019,-0.274,2.993,1.029,-0...  "
      ]
     },
     "execution_count": 18,
     "metadata": {},
     "output_type": "execute_result"
    }
   ],
   "source": [
    "df.head()"
   ]
  },
  {
   "cell_type": "code",
   "execution_count": 19,
   "metadata": {},
   "outputs": [],
   "source": [
    "df.to_csv(path + 'cleannet_all_256d.tsv', sep='\\t', index=False, header=None)\n",
    "\n",
    "\n"
   ]
  },
  {
   "cell_type": "markdown",
   "metadata": {},
   "source": [
    "# Evaluate robustnoiserank"
   ]
  },
  {
   "cell_type": "code",
   "execution_count": 23,
   "metadata": {},
   "outputs": [
    {
     "data": {
      "text/plain": [
       "'GCiwEgX3XXnyBvwBAJ2fMlAu0y8nbiMZAAAB'"
      ]
     },
     "execution_count": 23,
     "metadata": {},
     "output_type": "execute_result"
    }
   ],
   "source": [
    "cleannet_all_256d = pd.read_csv(path + '/cleannet_all_256d.tsv', header=None, sep='\\t')\n",
    "\n",
    "cleannet_all_256d_df = cleannet_all_256d[[0, 1, 2]]\n",
    "\n",
    "cleannet_all_256d_df.head()\n",
    "\n",
    "everstore_mapping = dict(zip(cleannet_all_256d_df[0], cleannet_all_256d_df[1]))\n",
    "everstore_mapping[0]"
   ]
  },
  {
   "cell_type": "code",
   "execution_count": 24,
   "metadata": {},
   "outputs": [
    {
     "data": {
      "text/html": [
       "<div>\n",
       "<style scoped>\n",
       "    .dataframe tbody tr th:only-of-type {\n",
       "        vertical-align: middle;\n",
       "    }\n",
       "\n",
       "    .dataframe tbody tr th {\n",
       "        vertical-align: top;\n",
       "    }\n",
       "\n",
       "    .dataframe thead th {\n",
       "        text-align: right;\n",
       "    }\n",
       "</style>\n",
       "<table border=\"1\" class=\"dataframe\">\n",
       "  <thead>\n",
       "    <tr style=\"text-align: right;\">\n",
       "      <th></th>\n",
       "      <th>0</th>\n",
       "      <th>1</th>\n",
       "      <th>2</th>\n",
       "      <th>3</th>\n",
       "      <th>4</th>\n",
       "      <th>5</th>\n",
       "      <th>6</th>\n",
       "      <th>7</th>\n",
       "    </tr>\n",
       "  </thead>\n",
       "  <tbody>\n",
       "    <tr>\n",
       "      <th>0</th>\n",
       "      <td>caesar_salad/f8c49734588789daf70be79ffcef9eeb.jpg</td>\n",
       "      <td>f8c49734588789daf70be79ffcef9eeb.jpg</td>\n",
       "      <td>GGLeAwXvkdcqIkcCAI1Z3nzqCwY_biMZAAAB</td>\n",
       "      <td>caesar_salad</td>\n",
       "      <td>11</td>\n",
       "      <td>1.0</td>\n",
       "      <td>2020-02-04</td>\n",
       "      <td>val</td>\n",
       "    </tr>\n",
       "    <tr>\n",
       "      <th>1</th>\n",
       "      <td>foie_gras/7a46407ee4c2157aa9abbba1d553e2dd.jpg</td>\n",
       "      <td>7a46407ee4c2157aa9abbba1d553e2dd.jpg</td>\n",
       "      <td>GOX-EQULBp9FmCYDAJLabL7HqXAybiMZAAAB</td>\n",
       "      <td>foie_gras</td>\n",
       "      <td>39</td>\n",
       "      <td>1.0</td>\n",
       "      <td>2020-02-04</td>\n",
       "      <td>val</td>\n",
       "    </tr>\n",
       "    <tr>\n",
       "      <th>2</th>\n",
       "      <td>chicken_curry/04b4c813f792838a1cf5ab5086fcb3bb...</td>\n",
       "      <td>04b4c813f792838a1cf5ab5086fcb3bb.jpg</td>\n",
       "      <td>GDSUEQXgTAGMv6kAAAgDm2KPWXBFbiMZAAAB</td>\n",
       "      <td>chicken_curry</td>\n",
       "      <td>18</td>\n",
       "      <td>1.0</td>\n",
       "      <td>2020-02-04</td>\n",
       "      <td>val</td>\n",
       "    </tr>\n",
       "    <tr>\n",
       "      <th>3</th>\n",
       "      <td>caprese_salad/8b77869b9f11f198dab328ea2ba0345b...</td>\n",
       "      <td>8b77869b9f11f198dab328ea2ba0345b.jpg</td>\n",
       "      <td>GCunEwXTgNf9OyQCAH40C9EZf98tbiMZAAAB</td>\n",
       "      <td>caprese_salad</td>\n",
       "      <td>13</td>\n",
       "      <td>1.0</td>\n",
       "      <td>2020-02-04</td>\n",
       "      <td>val</td>\n",
       "    </tr>\n",
       "    <tr>\n",
       "      <th>4</th>\n",
       "      <td>chocolate_cake/a1e79808922f9c3b219718aeda7b591...</td>\n",
       "      <td>a1e79808922f9c3b219718aeda7b5916.jpg</td>\n",
       "      <td>GFiYAwVHTQHbYhQDAC1ZOvBfpK9BbiMZAAAB</td>\n",
       "      <td>chocolate_cake</td>\n",
       "      <td>21</td>\n",
       "      <td>1.0</td>\n",
       "      <td>2020-02-04</td>\n",
       "      <td>val</td>\n",
       "    </tr>\n",
       "  </tbody>\n",
       "</table>\n",
       "</div>"
      ],
      "text/plain": [
       "                                                   0  \\\n",
       "0  caesar_salad/f8c49734588789daf70be79ffcef9eeb.jpg   \n",
       "1     foie_gras/7a46407ee4c2157aa9abbba1d553e2dd.jpg   \n",
       "2  chicken_curry/04b4c813f792838a1cf5ab5086fcb3bb...   \n",
       "3  caprese_salad/8b77869b9f11f198dab328ea2ba0345b...   \n",
       "4  chocolate_cake/a1e79808922f9c3b219718aeda7b591...   \n",
       "\n",
       "                                      1                                     2  \\\n",
       "0  f8c49734588789daf70be79ffcef9eeb.jpg  GGLeAwXvkdcqIkcCAI1Z3nzqCwY_biMZAAAB   \n",
       "1  7a46407ee4c2157aa9abbba1d553e2dd.jpg  GOX-EQULBp9FmCYDAJLabL7HqXAybiMZAAAB   \n",
       "2  04b4c813f792838a1cf5ab5086fcb3bb.jpg  GDSUEQXgTAGMv6kAAAgDm2KPWXBFbiMZAAAB   \n",
       "3  8b77869b9f11f198dab328ea2ba0345b.jpg  GCunEwXTgNf9OyQCAH40C9EZf98tbiMZAAAB   \n",
       "4  a1e79808922f9c3b219718aeda7b5916.jpg  GFiYAwVHTQHbYhQDAC1ZOvBfpK9BbiMZAAAB   \n",
       "\n",
       "                3   4    5           6    7  \n",
       "0    caesar_salad  11  1.0  2020-02-04  val  \n",
       "1       foie_gras  39  1.0  2020-02-04  val  \n",
       "2   chicken_curry  18  1.0  2020-02-04  val  \n",
       "3   caprese_salad  13  1.0  2020-02-04  val  \n",
       "4  chocolate_cake  21  1.0  2020-02-04  val  "
      ]
     },
     "execution_count": 24,
     "metadata": {},
     "output_type": "execute_result"
    }
   ],
   "source": [
    "dict_noisylabel = dict(zip(ldf[0], ldf[4]))\n",
    "dict_everstorehandle = dict(zip(ldf[0], ldf[2]))\n",
    "ldf.head()"
   ]
  },
  {
   "cell_type": "code",
   "execution_count": 25,
   "metadata": {},
   "outputs": [
    {
     "data": {
      "text/plain": [
       "(4741,                                                    0  \\\n",
       " 0  caesar_salad/f8c49734588789daf70be79ffcef9eeb.jpg   \n",
       " 1     foie_gras/7a46407ee4c2157aa9abbba1d553e2dd.jpg   \n",
       " 2  chicken_curry/04b4c813f792838a1cf5ab5086fcb3bb...   \n",
       " 3  caprese_salad/8b77869b9f11f198dab328ea2ba0345b...   \n",
       " 4  chocolate_cake/a1e79808922f9c3b219718aeda7b591...   \n",
       " \n",
       "                                       1                                     2  \\\n",
       " 0  f8c49734588789daf70be79ffcef9eeb.jpg  GGLeAwXvkdcqIkcCAI1Z3nzqCwY_biMZAAAB   \n",
       " 1  7a46407ee4c2157aa9abbba1d553e2dd.jpg  GOX-EQULBp9FmCYDAJLabL7HqXAybiMZAAAB   \n",
       " 2  04b4c813f792838a1cf5ab5086fcb3bb.jpg  GDSUEQXgTAGMv6kAAAgDm2KPWXBFbiMZAAAB   \n",
       " 3  8b77869b9f11f198dab328ea2ba0345b.jpg  GCunEwXTgNf9OyQCAH40C9EZf98tbiMZAAAB   \n",
       " 4  a1e79808922f9c3b219718aeda7b5916.jpg  GFiYAwVHTQHbYhQDAC1ZOvBfpK9BbiMZAAAB   \n",
       " \n",
       "                 3   4    5           6    7  \n",
       " 0    caesar_salad  11  1.0  2020-02-04  val  \n",
       " 1       foie_gras  39  1.0  2020-02-04  val  \n",
       " 2   chicken_curry  18  1.0  2020-02-04  val  \n",
       " 3   caprese_salad  13  1.0  2020-02-04  val  \n",
       " 4  chocolate_cake  21  1.0  2020-02-04  val  )"
      ]
     },
     "execution_count": 25,
     "metadata": {},
     "output_type": "execute_result"
    }
   ],
   "source": [
    "val = ldf[ldf[7] == 'val']\n",
    "len(val), val.head()"
   ]
  },
  {
   "cell_type": "code",
   "execution_count": 115,
   "metadata": {},
   "outputs": [
    {
     "name": "stdout",
     "output_type": "stream",
     "text": [
      "129890\n",
      "['GFPxBQVWcApoZcIAAEXgFN4aWD4ubiMZAAAB', 'GCkNDwXkpw441iMCAFIUXaRhbDRubiMZAAAB', 'GDydEAVpLnW9A9wBAD_qPRFOlB4ubiMZAAAB', 'GLGnEgU4jPAgDWwAADJkMv7HdMMibiMZAAAB', 'GFbUBgVBsi9_E7gAAJSlmcLS-JQbbiMZAAAB'] 129890\n",
      "[ 17238. 154260. 245112. 115510.  49273. 215713. 205484. 271906.]\n"
     ]
    }
   ],
   "source": [
    "detected = np.loadtxt(path + 'results_40/k=5_a=0.5_bf=1.0_b=1.0_e=2.0.txt')\n",
    "\n",
    "print(len(detected))\n",
    "\n",
    "# 342202 \n",
    "# 633645 k=250_a=0.5_bf=1.0_b=1.0_e=2.0.txt\n",
    "\n",
    "detected_noise_everstore = [everstore_mapping[d] for d in detected]\n",
    "print(detected_noise_everstore[0:5], len(detected_noise_everstore))\n",
    "\n",
    "print(detected[0:8])"
   ]
  },
  {
   "cell_type": "code",
   "execution_count": 116,
   "metadata": {},
   "outputs": [
    {
     "name": "stdout",
     "output_type": "stream",
     "text": [
      "P/R/F1 (noise) (0.40156326331216413, 0.8964013086150491, 0.5546558704453441, None)\n",
      "f1_metrics (macro/unweighted mean) 0.676069880604691\n",
      "avg accuracy over classes 0.7211837711990654 AvgErrorRate 0.2788162288009346\n"
     ]
    },
    {
     "name": "stderr",
     "output_type": "stream",
     "text": [
      "/home/krsharma/miniconda3/envs/bert/lib/python3.7/site-packages/ipykernel_launcher.py:3: SettingWithCopyWarning: \n",
      "A value is trying to be set on a copy of a slice from a DataFrame.\n",
      "Try using .loc[row_indexer,col_indexer] = value instead\n",
      "\n",
      "See the caveats in the documentation: http://pandas.pydata.org/pandas-docs/stable/user_guide/indexing.html#returning-a-view-versus-a-copy\n",
      "  This is separate from the ipykernel package so we can avoid doing imports until\n"
     ]
    }
   ],
   "source": [
    "set_detected_noise = set(detected_noise_everstore)\n",
    "\n",
    "val['detected_label'] = val[2].apply(lambda x: 0.0 if x in set_detected_noise else 1.0)\n",
    "val.head()\n",
    "\n",
    "vlabels = np.array(val[5], dtype=np.int32)\n",
    "preds = np.array(val['detected_label'], dtype=np.int32)\n",
    "classes = np.array(val[4], dtype=np.int32)\n",
    "\n",
    "from sklearn.metrics import f1_score, classification_report, precision_recall_fscore_support\n",
    "\n",
    "def report_metrics(targets, preds, classes):\n",
    "    C = np.max(classes) + 1\n",
    "    per_class_accuracies = np.zeros((C,))\n",
    "    for c in range(C):\n",
    "        ind = np.where(classes == c)[0]\n",
    "        class_acc = f1_score(targets[ind], preds[ind], average='micro')\n",
    "        per_class_accuracies[c] = class_acc\n",
    "    \n",
    "    print('P/R/F1 (noise)', precision_recall_fscore_support(targets, preds, pos_label=0, average='binary'))\n",
    "    print('f1_metrics (macro/unweighted mean)', f1_score(targets, preds, average='macro'))\n",
    "    acc_classes = np.mean(per_class_accuracies)\n",
    "    print('avg accuracy over classes', acc_classes, 'AvgErrorRate', 1 - acc_classes)\n",
    "    \n",
    "    report_additional = False\n",
    "    if report_additional:\n",
    "        print()\n",
    "        acc = f1_score(targets, preds, average='micro')\n",
    "        print('f1_metrics (accuracy/micro)', acc, 'ErrorRate', 1 - acc)\n",
    "        print('P/R/F1 (clean)', precision_recall_fscore_support(targets, preds, pos_label=1, average='binary'))\n",
    "        print('f1_metrics (weighted mean of f1)', f1_score(targets, preds, average='weighted'))\n",
    "    # cr = classification_report(targets, preds)\n",
    "\n",
    "report_metrics(vlabels, preds, classes)"
   ]
  },
  {
   "cell_type": "markdown",
   "metadata": {},
   "source": [
    "## results_30\n",
    "\n",
    "5P/R/F1 (noise) (0.39812992125984253, 0.8822246455834242, 0.5486605629026788, None)\n",
    "f1_metrics (macro/unweighted mean) 0.6724628392348998\n",
    "avg accuracy over classes 0.7185903864103752 AvgErrorRate 0.2814096135896248\n",
    "\n",
    "10P/R/F1 (noise) (0.3869441816461684, 0.8920392584514721, 0.5397558561530847, None)\n",
    "f1_metrics (macro/unweighted mean) 0.6617551564132343\n",
    "avg accuracy over classes 0.7040161392502351 AvgErrorRate 0.2959838607497649\n",
    "\n",
    "results_40\n",
    "\n",
    "5P/R/F1 (noise) (0.40699442473390773, 0.8756815703380589, 0.5557093425605536, None)\n",
    "f1_metrics (macro/unweighted mean) 0.6804638945812477\n",
    "avg accuracy over classes 0.7282107586403482 AvgErrorRate 0.27178924135965177\n",
    "\n",
    "P/R/F1 (noise) (0.40156326331216413, 0.8964013086150491, 0.5546558704453441, None)\n",
    "f1_metrics (macro/unweighted mean) 0.676069880604691\n",
    "avg accuracy over classes 0.7211837711990654 AvgErrorRate 0.2788162288009346\n"
   ]
  },
  {
   "cell_type": "markdown",
   "metadata": {},
   "source": [
    "# Give detected ranked list as everstore handles\n"
   ]
  },
  {
   "cell_type": "code",
   "execution_count": 111,
   "metadata": {},
   "outputs": [],
   "source": [
    "detected = np.loadtxt(path + 'results_40/k=5_a=0.5_bf=1.0_b=1.0_e=2.0.txt')\n"
   ]
  },
  {
   "cell_type": "code",
   "execution_count": 83,
   "metadata": {},
   "outputs": [
    {
     "data": {
      "text/plain": [
       "'GDoyEQUtQxd01jACALJMfB_0WrxjbiMZAAAB'"
      ]
     },
     "execution_count": 83,
     "metadata": {},
     "output_type": "execute_result"
    }
   ],
   "source": [
    "# cleannet_all_256d.tsv everstore (matches row number)\n",
    "\n",
    "cleannet_all_256d = pd.read_csv(path + 'cleannet_all_256d.tsv', header=None, sep='\\t')\n",
    "\n",
    "cleannet_all_256d_df = cleannet_all_256d[[0, 1, 2]]\n",
    "\n",
    "cleannet_all_256d_df.head()\n",
    "\n",
    "everstore_mapping = dict(zip(cleannet_all_256d_df[0], cleannet_all_256d_df[1]))\n",
    "everstore_mapping[0]"
   ]
  },
  {
   "cell_type": "code",
   "execution_count": 84,
   "metadata": {},
   "outputs": [
    {
     "data": {
      "text/html": [
       "<div>\n",
       "<style scoped>\n",
       "    .dataframe tbody tr th:only-of-type {\n",
       "        vertical-align: middle;\n",
       "    }\n",
       "\n",
       "    .dataframe tbody tr th {\n",
       "        vertical-align: top;\n",
       "    }\n",
       "\n",
       "    .dataframe thead th {\n",
       "        text-align: right;\n",
       "    }\n",
       "</style>\n",
       "<table border=\"1\" class=\"dataframe\">\n",
       "  <thead>\n",
       "    <tr style=\"text-align: right;\">\n",
       "      <th></th>\n",
       "      <th>0</th>\n",
       "      <th>1</th>\n",
       "      <th>2</th>\n",
       "    </tr>\n",
       "  </thead>\n",
       "  <tbody>\n",
       "    <tr>\n",
       "      <th>0</th>\n",
       "      <td>0</td>\n",
       "      <td>GDoyEQUtQxd01jACALJMfB_0WrxjbiMZAAAB</td>\n",
       "      <td>13</td>\n",
       "    </tr>\n",
       "    <tr>\n",
       "      <th>1</th>\n",
       "      <td>1</td>\n",
       "      <td>GNK5EQVrDdu7pcsCAKZh3_qxRyEAbiMZAAAB</td>\n",
       "      <td>3</td>\n",
       "    </tr>\n",
       "    <tr>\n",
       "      <th>2</th>\n",
       "      <td>2</td>\n",
       "      <td>GPDHFAWlrY28t9ICAO5LPJxb4xsxbiMZAAAB</td>\n",
       "      <td>13</td>\n",
       "    </tr>\n",
       "    <tr>\n",
       "      <th>3</th>\n",
       "      <td>3</td>\n",
       "      <td>GLMtEAWodQHs4qwAALnKwegHDsknbiMZAAAB</td>\n",
       "      <td>8</td>\n",
       "    </tr>\n",
       "    <tr>\n",
       "      <th>4</th>\n",
       "      <td>4</td>\n",
       "      <td>GBgX5QQ0Rri3QJwAAMBVW0O6Quo0biMZAAAB</td>\n",
       "      <td>0</td>\n",
       "    </tr>\n",
       "  </tbody>\n",
       "</table>\n",
       "</div>"
      ],
      "text/plain": [
       "   0                                     1   2\n",
       "0  0  GDoyEQUtQxd01jACALJMfB_0WrxjbiMZAAAB  13\n",
       "1  1  GNK5EQVrDdu7pcsCAKZh3_qxRyEAbiMZAAAB   3\n",
       "2  2  GPDHFAWlrY28t9ICAO5LPJxb4xsxbiMZAAAB  13\n",
       "3  3  GLMtEAWodQHs4qwAALnKwegHDsknbiMZAAAB   8\n",
       "4  4  GBgX5QQ0Rri3QJwAAMBVW0O6Quo0biMZAAAB   0"
      ]
     },
     "execution_count": 84,
     "metadata": {},
     "output_type": "execute_result"
    }
   ],
   "source": [
    "cleannet_all_256d_df.head()"
   ]
  },
  {
   "cell_type": "code",
   "execution_count": 112,
   "metadata": {},
   "outputs": [
    {
     "data": {
      "text/plain": [
       "129890"
      ]
     },
     "execution_count": 112,
     "metadata": {},
     "output_type": "execute_result"
    }
   ],
   "source": [
    "len(detected)"
   ]
  },
  {
   "cell_type": "code",
   "execution_count": 113,
   "metadata": {},
   "outputs": [
    {
     "name": "stdout",
     "output_type": "stream",
     "text": [
      "['GFPxBQVWcApoZcIAAEXgFN4aWD4ubiMZAAAB', 'GCkNDwXkpw441iMCAFIUXaRhbDRubiMZAAAB', 'GDydEAVpLnW9A9wBAD_qPRFOlB4ubiMZAAAB', 'GLGnEgU4jPAgDWwAADJkMv7HdMMibiMZAAAB', 'GFbUBgVBsi9_E7gAAJSlmcLS-JQbbiMZAAAB', 'GK3bEQWfkYc3h94IAEGo2gnh0vgbbiMZAAAB', 'GN7GBgVS6T_I3dgBAIprZnkmsfsCbiMZAAAB', 'GF93EQWK3igsUGoDAIAvEVXHBLlFbiMZAAAB', 'GIWtDQV-WV8ed6kAABQ3j8cxvlhlbiMZAAAB', 'GLtcFAXTzmeec9YCAG9AG3RxEDxwbiMZAAAB'] 129890\n"
     ]
    }
   ],
   "source": [
    "eranked = [everstore_mapping[d] for d in detected]\n",
    "print(eranked[0:10], len(eranked))"
   ]
  },
  {
   "cell_type": "code",
   "execution_count": 114,
   "metadata": {},
   "outputs": [],
   "source": [
    "np.savetxt('out.txt', eranked, fmt='%s')"
   ]
  },
  {
   "cell_type": "code",
   "execution_count": null,
   "metadata": {},
   "outputs": [],
   "source": []
  }
 ],
 "metadata": {
  "kernelspec": {
   "display_name": "bert",
   "language": "python",
   "name": "bert"
  },
  "language_info": {
   "codemirror_mode": {
    "name": "ipython",
    "version": 3
   },
   "file_extension": ".py",
   "mimetype": "text/x-python",
   "name": "python",
   "nbconvert_exporter": "python",
   "pygments_lexer": "ipython3",
   "version": "3.7.4"
  }
 },
 "nbformat": 4,
 "nbformat_minor": 4
}
