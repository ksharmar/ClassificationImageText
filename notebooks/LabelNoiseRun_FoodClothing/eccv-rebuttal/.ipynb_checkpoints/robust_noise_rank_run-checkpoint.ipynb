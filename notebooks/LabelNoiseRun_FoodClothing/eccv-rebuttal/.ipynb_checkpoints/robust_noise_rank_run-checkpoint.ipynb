{
 "cells": [
  {
   "cell_type": "code",
   "execution_count": 37,
   "metadata": {},
   "outputs": [],
   "source": [
    "import pickle as pkl\n",
    "import pandas as pd\n",
    "import numpy as np"
   ]
  },
  {
   "cell_type": "code",
   "execution_count": 38,
   "metadata": {},
   "outputs": [],
   "source": [
    "# datadir = '/home/krsharma/ClassificationImageText/trained_models/food101n_20e/robustnoiserank/eccvR_food-256d_emb/'\n",
    "# datapkl = ['d_00000_303590x256.pickle']\n",
    "# labelfile = datadir + 'eluo_food101n_everstore_handle_with_label_and_type.csv'\n",
    "\n",
    "datadir = '/home/krsharma/ClassificationImageText/trained_models/clothing1m_10e/robustnoiserank/eccvR_clothing-256d_emb/'\n",
    "datapkl = ['d_00000_781250x256.pickle', 'd_00001_236739x256.pickle']\n",
    "labelfile = datadir + 'eluo_clothing1m_everstore_handle_with_label_and_type.csv'"
   ]
  },
  {
   "cell_type": "markdown",
   "metadata": {},
   "source": [
    "# Format extracted 256d embeddings from pkl to tsv"
   ]
  },
  {
   "cell_type": "code",
   "execution_count": 42,
   "metadata": {},
   "outputs": [
    {
     "name": "stdout",
     "output_type": "stream",
     "text": [
      "(1017989, 256)\n",
      "(1017989,)\n"
     ]
    }
   ],
   "source": [
    "d0_list = []  # everstore \n",
    "d1_list = []  # embedding\n",
    "for p in datapkl:\n",
    "    di = pkl.load(open(datadir + p, 'rb'))\n",
    "    d0_list.append(di[0]); d1_list.append(di[1])\n",
    "\n",
    "d0 = np.vstack(d0_list)\n",
    "print(d0.shape)\n",
    "\n",
    "d1 = np.hstack(d1_list)\n",
    "print(d1.shape)"
   ]
  },
  {
   "cell_type": "code",
   "execution_count": null,
   "metadata": {},
   "outputs": [],
   "source": []
  },
  {
   "cell_type": "code",
   "execution_count": 44,
   "metadata": {},
   "outputs": [
    {
     "data": {
      "text/plain": [
       "(   sid                                   eid\n",
       " 0    0  GIPsEAWbm8NMUVECAOkij2nvJTQvbiMZAAAB\n",
       " 1    1  GKHrDQWieLFkLXkJAIaDGKAkHzFAbiMZAAAB\n",
       " 2    2  GIubAgXFwnwkyr4BAIvraNOp1D9jbiMZAAAB\n",
       " 3    3  GN9QEgX1E50yB4IJAOP6qTt1_CNebiMZAAAB\n",
       " 4    4  GNKBDAV3PCNpAQgBAGejLVTPZyFrbiMZAAAB, 1017989, 1017989)"
      ]
     },
     "execution_count": 44,
     "metadata": {},
     "output_type": "execute_result"
    }
   ],
   "source": [
    "df = pd.DataFrame()\n",
    "sid = np.arange(d0.shape[0])\n",
    "eid = d1\n",
    "df['sid'] = sid\n",
    "df['eid'] = eid\n",
    "df.head(), len(eid), len(sid)"
   ]
  },
  {
   "cell_type": "code",
   "execution_count": 45,
   "metadata": {},
   "outputs": [
    {
     "data": {
      "text/html": [
       "<div>\n",
       "<style scoped>\n",
       "    .dataframe tbody tr th:only-of-type {\n",
       "        vertical-align: middle;\n",
       "    }\n",
       "\n",
       "    .dataframe tbody tr th {\n",
       "        vertical-align: top;\n",
       "    }\n",
       "\n",
       "    .dataframe thead th {\n",
       "        text-align: right;\n",
       "    }\n",
       "</style>\n",
       "<table border=\"1\" class=\"dataframe\">\n",
       "  <thead>\n",
       "    <tr style=\"text-align: right;\">\n",
       "      <th></th>\n",
       "      <th>0</th>\n",
       "      <th>1</th>\n",
       "      <th>2</th>\n",
       "      <th>3</th>\n",
       "      <th>4</th>\n",
       "      <th>5</th>\n",
       "      <th>6</th>\n",
       "      <th>7</th>\n",
       "    </tr>\n",
       "  </thead>\n",
       "  <tbody>\n",
       "    <tr>\n",
       "      <th>0</th>\n",
       "      <td>images/0/53/260975258,2323897053.jpg</td>\n",
       "      <td>260975258,2323897053.jpg</td>\n",
       "      <td>GOotBwWSElDZtFsAAGshNhrA9hdEbiMZAAAB</td>\n",
       "      <td>Jacket</td>\n",
       "      <td>7</td>\n",
       "      <td>0.0</td>\n",
       "      <td>2020-02-04</td>\n",
       "      <td>val</td>\n",
       "    </tr>\n",
       "    <tr>\n",
       "      <th>1</th>\n",
       "      <td>images/3/61/2976764135,2716435361.jpg</td>\n",
       "      <td>2976764135,2716435361.jpg</td>\n",
       "      <td>GProEQWGvjYQw6kAAK1c8Yf51zpabiMZAAAB</td>\n",
       "      <td>Jacket</td>\n",
       "      <td>7</td>\n",
       "      <td>0.0</td>\n",
       "      <td>2020-02-04</td>\n",
       "      <td>val</td>\n",
       "    </tr>\n",
       "    <tr>\n",
       "      <th>2</th>\n",
       "      <td>images/9/51/2289770356,3952390951.jpg</td>\n",
       "      <td>2289770356,3952390951.jpg</td>\n",
       "      <td>GO3cCwUP8P3SX28AANt4RxtOHgYmbiMZAAAB</td>\n",
       "      <td>T-Shirt</td>\n",
       "      <td>0</td>\n",
       "      <td>NaN</td>\n",
       "      <td>2020-02-04</td>\n",
       "      <td>test</td>\n",
       "    </tr>\n",
       "    <tr>\n",
       "      <th>3</th>\n",
       "      <td>images/9/46/430097811,2005980946.jpg</td>\n",
       "      <td>430097811,2005980946.jpg</td>\n",
       "      <td>GCAlEQWVFrN0SpECAJkqle41WVwlbiMZAAAB</td>\n",
       "      <td>Vest</td>\n",
       "      <td>12</td>\n",
       "      <td>NaN</td>\n",
       "      <td>2020-02-04</td>\n",
       "      <td>test</td>\n",
       "    </tr>\n",
       "    <tr>\n",
       "      <th>4</th>\n",
       "      <td>images/4/53/3469714287,432026453.jpg</td>\n",
       "      <td>3469714287,432026453.jpg</td>\n",
       "      <td>GCKSEQVFfl_GL3kAANhTTwICHxdGbiMZAAAB</td>\n",
       "      <td>Dress</td>\n",
       "      <td>11</td>\n",
       "      <td>NaN</td>\n",
       "      <td>2020-02-04</td>\n",
       "      <td>test</td>\n",
       "    </tr>\n",
       "  </tbody>\n",
       "</table>\n",
       "</div>"
      ],
      "text/plain": [
       "                                       0                          1  \\\n",
       "0   images/0/53/260975258,2323897053.jpg   260975258,2323897053.jpg   \n",
       "1  images/3/61/2976764135,2716435361.jpg  2976764135,2716435361.jpg   \n",
       "2  images/9/51/2289770356,3952390951.jpg  2289770356,3952390951.jpg   \n",
       "3   images/9/46/430097811,2005980946.jpg   430097811,2005980946.jpg   \n",
       "4   images/4/53/3469714287,432026453.jpg   3469714287,432026453.jpg   \n",
       "\n",
       "                                      2        3   4    5           6     7  \n",
       "0  GOotBwWSElDZtFsAAGshNhrA9hdEbiMZAAAB   Jacket   7  0.0  2020-02-04   val  \n",
       "1  GProEQWGvjYQw6kAAK1c8Yf51zpabiMZAAAB   Jacket   7  0.0  2020-02-04   val  \n",
       "2  GO3cCwUP8P3SX28AANt4RxtOHgYmbiMZAAAB  T-Shirt   0  NaN  2020-02-04  test  \n",
       "3  GCAlEQWVFrN0SpECAJkqle41WVwlbiMZAAAB     Vest  12  NaN  2020-02-04  test  \n",
       "4  GCKSEQVFfl_GL3kAANhTTwICHxdGbiMZAAAB    Dress  11  NaN  2020-02-04  test  "
      ]
     },
     "execution_count": 45,
     "metadata": {},
     "output_type": "execute_result"
    }
   ],
   "source": [
    "ldf = pd.read_csv(labelfile, header=None)\n",
    "ldf.head()"
   ]
  },
  {
   "cell_type": "code",
   "execution_count": 46,
   "metadata": {},
   "outputs": [
    {
     "data": {
      "text/plain": [
       "72713.64285714286"
      ]
     },
     "execution_count": 46,
     "metadata": {},
     "output_type": "execute_result"
    }
   ],
   "source": [
    "np.unique(ldf[4], return_counts=True)[1].mean()  # .max() # .mean()"
   ]
  },
  {
   "cell_type": "code",
   "execution_count": 47,
   "metadata": {},
   "outputs": [
    {
     "name": "stdout",
     "output_type": "stream",
     "text": [
      "44.85532298401161\n",
      "190.6738052276715\n",
      "73.10266752998827\n"
     ]
    }
   ],
   "source": [
    "# 30 (min), 40 (mean), 50 (max) vs 100 (min), 190 (mean), 211 (max)\n",
    "K = np.sqrt(2012)\n",
    "print(K)\n",
    "\n",
    "K = np.sqrt(72713/2)\n",
    "print(K)\n",
    "\n",
    "K = np.sqrt(5344)\n",
    "print(K)"
   ]
  },
  {
   "cell_type": "code",
   "execution_count": 48,
   "metadata": {},
   "outputs": [
    {
     "data": {
      "text/html": [
       "<div>\n",
       "<style scoped>\n",
       "    .dataframe tbody tr th:only-of-type {\n",
       "        vertical-align: middle;\n",
       "    }\n",
       "\n",
       "    .dataframe tbody tr th {\n",
       "        vertical-align: top;\n",
       "    }\n",
       "\n",
       "    .dataframe thead th {\n",
       "        text-align: right;\n",
       "    }\n",
       "</style>\n",
       "<table border=\"1\" class=\"dataframe\">\n",
       "  <thead>\n",
       "    <tr style=\"text-align: right;\">\n",
       "      <th></th>\n",
       "      <th>sid</th>\n",
       "      <th>eid</th>\n",
       "      <th>label</th>\n",
       "    </tr>\n",
       "  </thead>\n",
       "  <tbody>\n",
       "    <tr>\n",
       "      <th>0</th>\n",
       "      <td>0</td>\n",
       "      <td>GIPsEAWbm8NMUVECAOkij2nvJTQvbiMZAAAB</td>\n",
       "      <td>13</td>\n",
       "    </tr>\n",
       "    <tr>\n",
       "      <th>1</th>\n",
       "      <td>1</td>\n",
       "      <td>GKHrDQWieLFkLXkJAIaDGKAkHzFAbiMZAAAB</td>\n",
       "      <td>0</td>\n",
       "    </tr>\n",
       "    <tr>\n",
       "      <th>2</th>\n",
       "      <td>2</td>\n",
       "      <td>GIubAgXFwnwkyr4BAIvraNOp1D9jbiMZAAAB</td>\n",
       "      <td>8</td>\n",
       "    </tr>\n",
       "    <tr>\n",
       "      <th>3</th>\n",
       "      <td>3</td>\n",
       "      <td>GN9QEgX1E50yB4IJAOP6qTt1_CNebiMZAAAB</td>\n",
       "      <td>12</td>\n",
       "    </tr>\n",
       "    <tr>\n",
       "      <th>4</th>\n",
       "      <td>4</td>\n",
       "      <td>GNKBDAV3PCNpAQgBAGejLVTPZyFrbiMZAAAB</td>\n",
       "      <td>7</td>\n",
       "    </tr>\n",
       "  </tbody>\n",
       "</table>\n",
       "</div>"
      ],
      "text/plain": [
       "   sid                                   eid  label\n",
       "0    0  GIPsEAWbm8NMUVECAOkij2nvJTQvbiMZAAAB     13\n",
       "1    1  GKHrDQWieLFkLXkJAIaDGKAkHzFAbiMZAAAB      0\n",
       "2    2  GIubAgXFwnwkyr4BAIvraNOp1D9jbiMZAAAB      8\n",
       "3    3  GN9QEgX1E50yB4IJAOP6qTt1_CNebiMZAAAB     12\n",
       "4    4  GNKBDAV3PCNpAQgBAGejLVTPZyFrbiMZAAAB      7"
      ]
     },
     "execution_count": 48,
     "metadata": {},
     "output_type": "execute_result"
    }
   ],
   "source": [
    "ldict = dict(zip(ldf[2], ldf[4]))\n",
    "df['label'] = df['eid'].apply(lambda x: ldict[x])\n",
    "df.head()"
   ]
  },
  {
   "cell_type": "code",
   "execution_count": 50,
   "metadata": {},
   "outputs": [],
   "source": [
    "emb = np.vstack([d0]) # , d2[0]])"
   ]
  },
  {
   "cell_type": "code",
   "execution_count": 51,
   "metadata": {},
   "outputs": [
    {
     "data": {
      "text/html": [
       "<div>\n",
       "<style scoped>\n",
       "    .dataframe tbody tr th:only-of-type {\n",
       "        vertical-align: middle;\n",
       "    }\n",
       "\n",
       "    .dataframe tbody tr th {\n",
       "        vertical-align: top;\n",
       "    }\n",
       "\n",
       "    .dataframe thead th {\n",
       "        text-align: right;\n",
       "    }\n",
       "</style>\n",
       "<table border=\"1\" class=\"dataframe\">\n",
       "  <thead>\n",
       "    <tr style=\"text-align: right;\">\n",
       "      <th></th>\n",
       "      <th>sid</th>\n",
       "      <th>eid</th>\n",
       "      <th>label</th>\n",
       "      <th>emb</th>\n",
       "    </tr>\n",
       "  </thead>\n",
       "  <tbody>\n",
       "    <tr>\n",
       "      <th>0</th>\n",
       "      <td>0</td>\n",
       "      <td>GIPsEAWbm8NMUVECAOkij2nvJTQvbiMZAAAB</td>\n",
       "      <td>13</td>\n",
       "      <td>[0.63, 1.031, 0.156, -0.34, 0.3, 0.817, -0.64,...</td>\n",
       "    </tr>\n",
       "    <tr>\n",
       "      <th>1</th>\n",
       "      <td>1</td>\n",
       "      <td>GKHrDQWieLFkLXkJAIaDGKAkHzFAbiMZAAAB</td>\n",
       "      <td>0</td>\n",
       "      <td>[-0.106, 0.228, -0.458, 0.02, 0.057, -0.445, -...</td>\n",
       "    </tr>\n",
       "    <tr>\n",
       "      <th>2</th>\n",
       "      <td>2</td>\n",
       "      <td>GIubAgXFwnwkyr4BAIvraNOp1D9jbiMZAAAB</td>\n",
       "      <td>8</td>\n",
       "      <td>[0.068, -0.239, -0.313, 0.343, -0.332, -0.167,...</td>\n",
       "    </tr>\n",
       "    <tr>\n",
       "      <th>3</th>\n",
       "      <td>3</td>\n",
       "      <td>GN9QEgX1E50yB4IJAOP6qTt1_CNebiMZAAAB</td>\n",
       "      <td>12</td>\n",
       "      <td>[0.298, 0.186, 0.239, -0.263, 0.225, 0.212, 0....</td>\n",
       "    </tr>\n",
       "    <tr>\n",
       "      <th>4</th>\n",
       "      <td>4</td>\n",
       "      <td>GNKBDAV3PCNpAQgBAGejLVTPZyFrbiMZAAAB</td>\n",
       "      <td>7</td>\n",
       "      <td>[-0.625, -0.125, 0.104, -0.508, -0.798, -0.442...</td>\n",
       "    </tr>\n",
       "  </tbody>\n",
       "</table>\n",
       "</div>"
      ],
      "text/plain": [
       "   sid                                   eid  label  \\\n",
       "0    0  GIPsEAWbm8NMUVECAOkij2nvJTQvbiMZAAAB     13   \n",
       "1    1  GKHrDQWieLFkLXkJAIaDGKAkHzFAbiMZAAAB      0   \n",
       "2    2  GIubAgXFwnwkyr4BAIvraNOp1D9jbiMZAAAB      8   \n",
       "3    3  GN9QEgX1E50yB4IJAOP6qTt1_CNebiMZAAAB     12   \n",
       "4    4  GNKBDAV3PCNpAQgBAGejLVTPZyFrbiMZAAAB      7   \n",
       "\n",
       "                                                 emb  \n",
       "0  [0.63, 1.031, 0.156, -0.34, 0.3, 0.817, -0.64,...  \n",
       "1  [-0.106, 0.228, -0.458, 0.02, 0.057, -0.445, -...  \n",
       "2  [0.068, -0.239, -0.313, 0.343, -0.332, -0.167,...  \n",
       "3  [0.298, 0.186, 0.239, -0.263, 0.225, 0.212, 0....  \n",
       "4  [-0.625, -0.125, 0.104, -0.508, -0.798, -0.442...  "
      ]
     },
     "execution_count": 51,
     "metadata": {},
     "output_type": "execute_result"
    }
   ],
   "source": [
    "df['emb'] = list(np.round(emb, 3))\n",
    "df.head()"
   ]
  },
  {
   "cell_type": "code",
   "execution_count": 52,
   "metadata": {},
   "outputs": [],
   "source": [
    "df['emb'] = df['emb'].apply(lambda x: \",\".join(map(str, x)))"
   ]
  },
  {
   "cell_type": "code",
   "execution_count": 53,
   "metadata": {},
   "outputs": [
    {
     "data": {
      "text/html": [
       "<div>\n",
       "<style scoped>\n",
       "    .dataframe tbody tr th:only-of-type {\n",
       "        vertical-align: middle;\n",
       "    }\n",
       "\n",
       "    .dataframe tbody tr th {\n",
       "        vertical-align: top;\n",
       "    }\n",
       "\n",
       "    .dataframe thead th {\n",
       "        text-align: right;\n",
       "    }\n",
       "</style>\n",
       "<table border=\"1\" class=\"dataframe\">\n",
       "  <thead>\n",
       "    <tr style=\"text-align: right;\">\n",
       "      <th></th>\n",
       "      <th>sid</th>\n",
       "      <th>eid</th>\n",
       "      <th>label</th>\n",
       "      <th>emb</th>\n",
       "    </tr>\n",
       "  </thead>\n",
       "  <tbody>\n",
       "    <tr>\n",
       "      <th>0</th>\n",
       "      <td>0</td>\n",
       "      <td>GIPsEAWbm8NMUVECAOkij2nvJTQvbiMZAAAB</td>\n",
       "      <td>13</td>\n",
       "      <td>0.63,1.031,0.156,-0.34,0.3,0.817,-0.64,0.377,-...</td>\n",
       "    </tr>\n",
       "    <tr>\n",
       "      <th>1</th>\n",
       "      <td>1</td>\n",
       "      <td>GKHrDQWieLFkLXkJAIaDGKAkHzFAbiMZAAAB</td>\n",
       "      <td>0</td>\n",
       "      <td>-0.106,0.228,-0.458,0.02,0.057,-0.445,-0.051,-...</td>\n",
       "    </tr>\n",
       "    <tr>\n",
       "      <th>2</th>\n",
       "      <td>2</td>\n",
       "      <td>GIubAgXFwnwkyr4BAIvraNOp1D9jbiMZAAAB</td>\n",
       "      <td>8</td>\n",
       "      <td>0.068,-0.239,-0.313,0.343,-0.332,-0.167,-0.342...</td>\n",
       "    </tr>\n",
       "    <tr>\n",
       "      <th>3</th>\n",
       "      <td>3</td>\n",
       "      <td>GN9QEgX1E50yB4IJAOP6qTt1_CNebiMZAAAB</td>\n",
       "      <td>12</td>\n",
       "      <td>0.298,0.186,0.239,-0.263,0.225,0.212,0.322,-0....</td>\n",
       "    </tr>\n",
       "    <tr>\n",
       "      <th>4</th>\n",
       "      <td>4</td>\n",
       "      <td>GNKBDAV3PCNpAQgBAGejLVTPZyFrbiMZAAAB</td>\n",
       "      <td>7</td>\n",
       "      <td>-0.625,-0.125,0.104,-0.508,-0.798,-0.442,-0.28...</td>\n",
       "    </tr>\n",
       "  </tbody>\n",
       "</table>\n",
       "</div>"
      ],
      "text/plain": [
       "   sid                                   eid  label  \\\n",
       "0    0  GIPsEAWbm8NMUVECAOkij2nvJTQvbiMZAAAB     13   \n",
       "1    1  GKHrDQWieLFkLXkJAIaDGKAkHzFAbiMZAAAB      0   \n",
       "2    2  GIubAgXFwnwkyr4BAIvraNOp1D9jbiMZAAAB      8   \n",
       "3    3  GN9QEgX1E50yB4IJAOP6qTt1_CNebiMZAAAB     12   \n",
       "4    4  GNKBDAV3PCNpAQgBAGejLVTPZyFrbiMZAAAB      7   \n",
       "\n",
       "                                                 emb  \n",
       "0  0.63,1.031,0.156,-0.34,0.3,0.817,-0.64,0.377,-...  \n",
       "1  -0.106,0.228,-0.458,0.02,0.057,-0.445,-0.051,-...  \n",
       "2  0.068,-0.239,-0.313,0.343,-0.332,-0.167,-0.342...  \n",
       "3  0.298,0.186,0.239,-0.263,0.225,0.212,0.322,-0....  \n",
       "4  -0.625,-0.125,0.104,-0.508,-0.798,-0.442,-0.28...  "
      ]
     },
     "execution_count": 53,
     "metadata": {},
     "output_type": "execute_result"
    }
   ],
   "source": [
    "df.head()"
   ]
  },
  {
   "cell_type": "code",
   "execution_count": 54,
   "metadata": {},
   "outputs": [],
   "source": [
    "df.to_csv(datadir + 'cleannet_all_256d.tsv', sep='\\t', index=False, header=None)"
   ]
  },
  {
   "cell_type": "markdown",
   "metadata": {},
   "source": [
    "# Prototype Selection (bash script)"
   ]
  },
  {
   "cell_type": "code",
   "execution_count": null,
   "metadata": {},
   "outputs": [],
   "source": [
    "datadir='/home/krsharma/ClassificationImageText/trained_models/clothing1m_10e/robustnoiserank/eccvR_clothing-256d_emb'\n",
    "codedir='/home/krsharma/ClassificationImageText/clean-net'\n",
    "outdir=$datadir/\n",
    "\n",
    "python $codedir/util/convert_data.py --split=all \\\n",
    "--class_list=$datadir/cleannet_classnames.txt \\\n",
    "--data_path=$datadir/cleannet_all_256d.tsv \\\n",
    "--output_dir=$datadir\n",
    "\n",
    "for num in 190 100 500; do  # food - 40 30 50 100\n",
    "    mkdir $datadir/ref$num\n",
    "    \n",
    "    python $codedir/util/find_reference.py \\\n",
    "    --class_list=$datadir/cleannet_classnames.txt \\\n",
    "    --input_npy=$datadir/all.npy \\\n",
    "    --output_dir=$datadir/ref$num \\\n",
    "    --num_ref=$num --img_dim=256\n",
    "    \n",
    "    mv $datadir/ref$num/ref.npy $datadir/ref_$num.npy\n",
    "done"
   ]
  },
  {
   "cell_type": "markdown",
   "metadata": {},
   "source": [
    "# Format ref numpy to tsv"
   ]
  },
  {
   "cell_type": "code",
   "execution_count": 56,
   "metadata": {},
   "outputs": [
    {
     "name": "stdout",
     "output_type": "stream",
     "text": [
      "(14, 100, 256)\n",
      "   id  img  labels                                              feats\n",
      "0   0    0       0  -0.306,0.16,0.034,-0.139,0.092,-0.45,0.136,-0....\n",
      "1   1    1       0  -0.378,0.551,-0.193,-0.24,0.08,-0.645,0.202,-0...\n",
      "2   2    2       0  -0.6,0.222,-0.028,-0.268,-0.003,-0.718,0.304,-...\n",
      "3   3    3       0  -0.083,-0.15,0.219,-0.054,0.156,-0.026,0.301,-...\n",
      "4   4    4       0  -0.132,0.119,-0.151,-0.098,0.101,-0.23,0.124,-...\n",
      "(14, 190, 256)\n",
      "   id  img  labels                                              feats\n",
      "0   0    0       0  -0.394,-0.017,0.432,-0.273,0.086,-0.416,0.627,...\n",
      "1   1    1       0  -0.277,0.322,-0.169,-0.137,0.078,-0.578,0.19,-...\n",
      "2   2    2       0  -0.512,0.156,-0.14,-0.146,0.053,-0.779,0.225,-...\n",
      "3   3    3       0  -0.184,-0.17,-0.086,0.115,0.128,-0.184,0.1,-0....\n",
      "4   4    4       0  0.027,-0.098,0.231,-0.043,0.281,0.019,0.352,-0...\n",
      "(14, 500, 256)\n",
      "   id  img  labels                                              feats\n",
      "0   0    0       0  -0.068,0.208,-0.076,-0.025,0.23,-0.17,0.221,-0...\n",
      "1   1    1       0  -0.502,0.238,-0.247,-0.18,0.119,-0.704,0.209,-...\n",
      "2   2    2       0  -0.228,-0.337,0.179,0.1,0.283,-0.202,0.433,-0....\n",
      "3   3    3       0  -0.189,0.136,0.281,-0.27,0.099,-0.281,0.674,-0...\n",
      "4   4    4       0  -0.578,0.306,-0.147,-0.242,-0.002,-0.807,0.419...\n"
     ]
    }
   ],
   "source": [
    "NR_list = [100, 190, 500]\n",
    "\n",
    "for NR in NR_list:\n",
    "    path = datadir + \"ref_{}.npy\".format(NR)\n",
    "\n",
    "    ref = np.load(path)\n",
    "\n",
    "    print(ref.shape)\n",
    "    \n",
    "    \n",
    "    df = pd.DataFrame()\n",
    "\n",
    "    def join_str(ci):\n",
    "        return \",\".join(map(str, ci))\n",
    "\n",
    "    labels = []\n",
    "    vecs = []\n",
    "    for classname, c in enumerate(ref):\n",
    "        labels += [int(classname)] * len(c)\n",
    "        vecs += [join_str(ci) for ci in np.round(c, 3)]\n",
    "    labels = np.array(labels, dtype=np.int32)\n",
    "    df['id'] = np.arange(len(labels))\n",
    "    df['img'] = np.arange(len(labels))\n",
    "    df['labels'] = labels\n",
    "    df['feats'] = vecs\n",
    "\n",
    "    print(df.head())\n",
    "    \n",
    "    df.to_csv(datadir + 'ref_{}.tsv'.format(NR), sep='\\t', header=None, index=False)\n",
    "    "
   ]
  },
  {
   "cell_type": "markdown",
   "metadata": {},
   "source": [
    "# Run Robust Noise Rank (conda activate faiss, bash script)"
   ]
  },
  {
   "cell_type": "code",
   "execution_count": null,
   "metadata": {},
   "outputs": [],
   "source": [
    "# datadir='/home/krsharma/ClassificationImageText/trained_models/food101n_20e/robustnoiserank/eccvR_food-256d_emb'\n",
    "datadir='/home/krsharma/ClassificationImageText/trained_models/clothing1m_10e/robustnoiserank/eccvR_clothing-256d_emb'\n",
    "codedir='/home/krsharma/RobustNoiseRank'\n",
    "\n",
    "conda activate faiss\n",
    "\n",
    "for num in 190 100 500; do  # food - 40 30 50 100\n",
    "    mkdir $datadir/ref$num\n",
    "    \n",
    "    python $codedir/main.py \\\n",
    "    --input_path=$datadir/cleannet_all_256d.tsv \\\n",
    "    --ref_input_path=$datadir/ref_$num.tsv \\\n",
    "    --list_k  50 100 250 500 1000 1500 2500 \\ # food - 10 20 30 50 100 250 \\\n",
    "    --list_alpha 0.5 --list_bf 1.0 \\\n",
    "    --list_b 1 --list_e 2 \\\n",
    "    --save_path_dir=$datadir/results_$num/\n",
    "done"
   ]
  },
  {
   "cell_type": "markdown",
   "metadata": {},
   "source": [
    "# Evaluate Results of RobustNoiseRank"
   ]
  },
  {
   "cell_type": "code",
   "execution_count": 57,
   "metadata": {},
   "outputs": [
    {
     "data": {
      "text/plain": [
       "'GIPsEAWbm8NMUVECAOkij2nvJTQvbiMZAAAB'"
      ]
     },
     "execution_count": 57,
     "metadata": {},
     "output_type": "execute_result"
    }
   ],
   "source": [
    "cleannet_all_256d = pd.read_csv(datadir + 'cleannet_all_256d.tsv', header=None, sep='\\t')\n",
    "\n",
    "cleannet_all_256d_df = cleannet_all_256d[[0, 1, 2]]\n",
    "\n",
    "cleannet_all_256d_df.head()\n",
    "\n",
    "everstore_mapping = dict(zip(cleannet_all_256d_df[0], cleannet_all_256d_df[1]))\n",
    "everstore_mapping[0]"
   ]
  },
  {
   "cell_type": "code",
   "execution_count": 58,
   "metadata": {},
   "outputs": [
    {
     "data": {
      "text/html": [
       "<div>\n",
       "<style scoped>\n",
       "    .dataframe tbody tr th:only-of-type {\n",
       "        vertical-align: middle;\n",
       "    }\n",
       "\n",
       "    .dataframe tbody tr th {\n",
       "        vertical-align: top;\n",
       "    }\n",
       "\n",
       "    .dataframe thead th {\n",
       "        text-align: right;\n",
       "    }\n",
       "</style>\n",
       "<table border=\"1\" class=\"dataframe\">\n",
       "  <thead>\n",
       "    <tr style=\"text-align: right;\">\n",
       "      <th></th>\n",
       "      <th>0</th>\n",
       "      <th>1</th>\n",
       "      <th>2</th>\n",
       "      <th>3</th>\n",
       "      <th>4</th>\n",
       "      <th>5</th>\n",
       "      <th>6</th>\n",
       "      <th>7</th>\n",
       "    </tr>\n",
       "  </thead>\n",
       "  <tbody>\n",
       "    <tr>\n",
       "      <th>0</th>\n",
       "      <td>images/0/53/260975258,2323897053.jpg</td>\n",
       "      <td>260975258,2323897053.jpg</td>\n",
       "      <td>GOotBwWSElDZtFsAAGshNhrA9hdEbiMZAAAB</td>\n",
       "      <td>Jacket</td>\n",
       "      <td>7</td>\n",
       "      <td>0.0</td>\n",
       "      <td>2020-02-04</td>\n",
       "      <td>val</td>\n",
       "    </tr>\n",
       "    <tr>\n",
       "      <th>1</th>\n",
       "      <td>images/3/61/2976764135,2716435361.jpg</td>\n",
       "      <td>2976764135,2716435361.jpg</td>\n",
       "      <td>GProEQWGvjYQw6kAAK1c8Yf51zpabiMZAAAB</td>\n",
       "      <td>Jacket</td>\n",
       "      <td>7</td>\n",
       "      <td>0.0</td>\n",
       "      <td>2020-02-04</td>\n",
       "      <td>val</td>\n",
       "    </tr>\n",
       "    <tr>\n",
       "      <th>2</th>\n",
       "      <td>images/9/51/2289770356,3952390951.jpg</td>\n",
       "      <td>2289770356,3952390951.jpg</td>\n",
       "      <td>GO3cCwUP8P3SX28AANt4RxtOHgYmbiMZAAAB</td>\n",
       "      <td>T-Shirt</td>\n",
       "      <td>0</td>\n",
       "      <td>NaN</td>\n",
       "      <td>2020-02-04</td>\n",
       "      <td>test</td>\n",
       "    </tr>\n",
       "    <tr>\n",
       "      <th>3</th>\n",
       "      <td>images/9/46/430097811,2005980946.jpg</td>\n",
       "      <td>430097811,2005980946.jpg</td>\n",
       "      <td>GCAlEQWVFrN0SpECAJkqle41WVwlbiMZAAAB</td>\n",
       "      <td>Vest</td>\n",
       "      <td>12</td>\n",
       "      <td>NaN</td>\n",
       "      <td>2020-02-04</td>\n",
       "      <td>test</td>\n",
       "    </tr>\n",
       "    <tr>\n",
       "      <th>4</th>\n",
       "      <td>images/4/53/3469714287,432026453.jpg</td>\n",
       "      <td>3469714287,432026453.jpg</td>\n",
       "      <td>GCKSEQVFfl_GL3kAANhTTwICHxdGbiMZAAAB</td>\n",
       "      <td>Dress</td>\n",
       "      <td>11</td>\n",
       "      <td>NaN</td>\n",
       "      <td>2020-02-04</td>\n",
       "      <td>test</td>\n",
       "    </tr>\n",
       "  </tbody>\n",
       "</table>\n",
       "</div>"
      ],
      "text/plain": [
       "                                       0                          1  \\\n",
       "0   images/0/53/260975258,2323897053.jpg   260975258,2323897053.jpg   \n",
       "1  images/3/61/2976764135,2716435361.jpg  2976764135,2716435361.jpg   \n",
       "2  images/9/51/2289770356,3952390951.jpg  2289770356,3952390951.jpg   \n",
       "3   images/9/46/430097811,2005980946.jpg   430097811,2005980946.jpg   \n",
       "4   images/4/53/3469714287,432026453.jpg   3469714287,432026453.jpg   \n",
       "\n",
       "                                      2        3   4    5           6     7  \n",
       "0  GOotBwWSElDZtFsAAGshNhrA9hdEbiMZAAAB   Jacket   7  0.0  2020-02-04   val  \n",
       "1  GProEQWGvjYQw6kAAK1c8Yf51zpabiMZAAAB   Jacket   7  0.0  2020-02-04   val  \n",
       "2  GO3cCwUP8P3SX28AANt4RxtOHgYmbiMZAAAB  T-Shirt   0  NaN  2020-02-04  test  \n",
       "3  GCAlEQWVFrN0SpECAJkqle41WVwlbiMZAAAB     Vest  12  NaN  2020-02-04  test  \n",
       "4  GCKSEQVFfl_GL3kAANhTTwICHxdGbiMZAAAB    Dress  11  NaN  2020-02-04  test  "
      ]
     },
     "execution_count": 58,
     "metadata": {},
     "output_type": "execute_result"
    }
   ],
   "source": [
    "ldf = pd.read_csv(labelfile, header=None)\n",
    "dict_noisylabel = dict(zip(ldf[0], ldf[4]))\n",
    "dict_everstorehandle = dict(zip(ldf[0], ldf[2]))\n",
    "ldf.head()"
   ]
  },
  {
   "cell_type": "code",
   "execution_count": 59,
   "metadata": {},
   "outputs": [
    {
     "data": {
      "text/plain": [
       "(7465,                                        0                          1  \\\n",
       " 0   images/0/53/260975258,2323897053.jpg   260975258,2323897053.jpg   \n",
       " 1  images/3/61/2976764135,2716435361.jpg  2976764135,2716435361.jpg   \n",
       " 5  images/0/61/2084697051,3460346061.jpg  2084697051,3460346061.jpg   \n",
       " 6    images/4/45/1970005206,57268445.jpg    1970005206,57268445.jpg   \n",
       " 7   images/9/45/3795980266,517718945.jpg   3795980266,517718945.jpg   \n",
       " \n",
       "                                       2       3  4    5           6    7  \n",
       " 0  GOotBwWSElDZtFsAAGshNhrA9hdEbiMZAAAB  Jacket  7  0.0  2020-02-04  val  \n",
       " 1  GProEQWGvjYQw6kAAK1c8Yf51zpabiMZAAAB  Jacket  7  0.0  2020-02-04  val  \n",
       " 5  GEMWEgUop6FFgmoAAJa94brcVmQrbiMZAAAB  Jacket  7  0.0  2020-02-04  val  \n",
       " 6  GNi3DwVh9M2U95wAAIYARk8RzqpEbiMZAAAB  Jacket  7  0.0  2020-02-04  val  \n",
       " 7  GOjYEAXTDWHbKNQAABY6FZpR1tgabiMZAAAB  Jacket  7  1.0  2020-02-04  val  )"
      ]
     },
     "execution_count": 59,
     "metadata": {},
     "output_type": "execute_result"
    }
   ],
   "source": [
    "val = ldf[ldf[7] == 'val']\n",
    "len(val), val.head()"
   ]
  },
  {
   "cell_type": "code",
   "execution_count": 60,
   "metadata": {},
   "outputs": [],
   "source": [
    "def evalutil(detected):\n",
    "    print(len(detected))\n",
    "\n",
    "    # 342202 \n",
    "    # 633645 k=250_a=0.5_bf=1.0_b=1.0_e=2.0.txt\n",
    "\n",
    "    detected_noise_everstore = [everstore_mapping[d] for d in detected]\n",
    "    print(detected_noise_everstore[0:5], len(detected_noise_everstore))\n",
    "\n",
    "    print(detected[0:8])\n",
    "    \n",
    "    set_detected_noise = set(detected_noise_everstore)\n",
    "\n",
    "    val['detected_label'] = val[2].apply(lambda x: 0.0 if x in set_detected_noise else 1.0)\n",
    "    val.head()\n",
    "\n",
    "    vlabels = np.array(val[5], dtype=np.int32)\n",
    "    preds = np.array(val['detected_label'], dtype=np.int32)\n",
    "    classes = np.array(val[4], dtype=np.int32)\n",
    "\n",
    "    from sklearn.metrics import f1_score, classification_report, precision_recall_fscore_support\n",
    "\n",
    "    def report_metrics(targets, preds, classes):\n",
    "        C = np.max(classes) + 1\n",
    "        per_class_accuracies = np.zeros((C,))\n",
    "        for c in range(C):\n",
    "            ind = np.where(classes == c)[0]\n",
    "            class_acc = f1_score(targets[ind], preds[ind], average='micro')\n",
    "            per_class_accuracies[c] = class_acc\n",
    "\n",
    "        print('P/R/F1 (noise)', precision_recall_fscore_support(targets, preds, pos_label=0, average='binary'))\n",
    "        print('f1_metrics (macro/unweighted mean)', f1_score(targets, preds, average='macro'))\n",
    "        acc_classes = np.mean(per_class_accuracies)\n",
    "        print('avg accuracy over classes', acc_classes, 'AvgErrorRate', 1 - acc_classes)\n",
    "\n",
    "        report_additional = False\n",
    "        if report_additional:\n",
    "            print()\n",
    "            acc = f1_score(targets, preds, average='micro')\n",
    "            print('f1_metrics (accuracy/micro)', acc, 'ErrorRate', 1 - acc)\n",
    "            print('P/R/F1 (clean)', precision_recall_fscore_support(targets, preds, pos_label=1, average='binary'))\n",
    "            print('f1_metrics (weighted mean of f1)', f1_score(targets, preds, average='weighted'))\n",
    "        # cr = classification_report(targets, preds)\n",
    "\n",
    "    report_metrics(vlabels, preds, classes)\n",
    "    \n",
    "    "
   ]
  },
  {
   "cell_type": "code",
   "execution_count": 61,
   "metadata": {},
   "outputs": [
    {
     "name": "stdout",
     "output_type": "stream",
     "text": [
      "-------------\n",
      "\n",
      "/home/krsharma/ClassificationImageText/trained_models/clothing1m_10e/robustnoiserank/eccvR_clothing-256d_emb/results_500/\n",
      "k=250_a=0.5_bf=1.0_b=1.0_e=2.0.txt\n",
      "221992\n",
      "['GJHZCwUaindpRcABADG_tneEdjoSbiMZAAAB', 'GB-b7QRaBz12tWIJAIamA13j518IbiMZAAAB', 'GK7VEQWTxrCv1KsAACiLUj3r4nNSbiMZAAAB', 'GH65EAXEFs9uYtUBAK5IWq9NpYtLbiMZAAAB', 'GGorAgVyQV-swUsIAPt5cJyssPBkbiMZAAAB'] 221992\n",
      "[141846.   2288.  70691.  68205. 546514.  21453.  18420. 752970.]\n",
      "P/R/F1 (noise) (0.7230401910067649, 0.6322199025748086, 0.674586968628179, None)\n",
      "f1_metrics (macro/unweighted mean) 0.7454460568803685\n",
      "avg accuracy over classes 0.7559934405929155 AvgErrorRate 0.2440065594070845\n",
      "\n",
      "/home/krsharma/ClassificationImageText/trained_models/clothing1m_10e/robustnoiserank/eccvR_clothing-256d_emb/results_500/\n",
      "k=2500_a=0.5_bf=1.0_b=1.0_e=2.0.txt\n"
     ]
    },
    {
     "name": "stderr",
     "output_type": "stream",
     "text": [
      "/home/krsharma/miniconda3/envs/cascade/lib/python3.7/site-packages/ipykernel_launcher.py:14: SettingWithCopyWarning: \n",
      "A value is trying to be set on a copy of a slice from a DataFrame.\n",
      "Try using .loc[row_indexer,col_indexer] = value instead\n",
      "\n",
      "See the caveats in the documentation: http://pandas.pydata.org/pandas-docs/stable/user_guide/indexing.html#returning-a-view-versus-a-copy\n",
      "  \n"
     ]
    },
    {
     "name": "stdout",
     "output_type": "stream",
     "text": [
      "461072\n",
      "['GJHZCwUaindpRcABADG_tneEdjoSbiMZAAAB', 'GFTtEgUVauLJ8f8CAEptWfIc-I49biMZAAAB', 'GDR0EgU91lLcksoBAKo0Sll5HVwybiMZAAAB', 'GProBgV6m-OL1LoAAKge6Xf56PlnbiMZAAAB', 'GC1pEgVJCzQfOhABAJUSVN_uKSFdbiMZAAAB'] 461072\n",
      "[ 141846.  228626.  814022.  997880.  650415.    2288. 1011535.  963521.]\n",
      "P/R/F1 (noise) (0.5812843160658868, 0.8472512178148921, 0.6895087073481524, None)\n",
      "f1_metrics (macro/unweighted mean) 0.7053746663726906\n",
      "avg accuracy over classes 0.7145203445863038 AvgErrorRate 0.28547965541369624\n",
      "\n",
      "/home/krsharma/ClassificationImageText/trained_models/clothing1m_10e/robustnoiserank/eccvR_clothing-256d_emb/results_500/\n",
      "k=100_a=0.5_bf=1.0_b=1.0_e=2.0.txt\n",
      "201899\n",
      "['GJHZCwUaindpRcABADG_tneEdjoSbiMZAAAB', 'GB-b7QRaBz12tWIJAIamA13j518IbiMZAAAB', 'GCuBAgW6xzIGMpUAAEp1qUSnZ4JlbiMZAAAB', 'GK7VEQWTxrCv1KsAACiLUj3r4nNSbiMZAAAB', 'GLGlEgX_wE4CuNwMAC5dTESYBagGbiMZAAAB'] 201899\n",
      "[141846.   2288.  21453.  70691. 752970. 546514. 639999. 879060.]\n",
      "P/R/F1 (noise) (0.7404873877725524, 0.6026443980514962, 0.6644926146173029, None)\n",
      "f1_metrics (macro/unweighted mean) 0.7422493946812974\n",
      "avg accuracy over classes 0.7527440444327967 AvgErrorRate 0.24725595556720326\n",
      "\n",
      "/home/krsharma/ClassificationImageText/trained_models/clothing1m_10e/robustnoiserank/eccvR_clothing-256d_emb/results_500/\n",
      "k=1500_a=0.5_bf=1.0_b=1.0_e=2.0.txt\n",
      "368983\n",
      "['GJHZCwUaindpRcABADG_tneEdjoSbiMZAAAB', 'GFTtEgUVauLJ8f8CAEptWfIc-I49biMZAAAB', 'GB-b7QRaBz12tWIJAIamA13j518IbiMZAAAB', 'GProBgV6m-OL1LoAAKge6Xf56PlnbiMZAAAB', 'GC1pEgVJCzQfOhABAJUSVN_uKSFdbiMZAAAB'] 368983\n",
      "[ 141846.  228626.    2288.  997880.  650415. 1011535.  814022.   70691.]\n",
      "P/R/F1 (noise) (0.626536312849162, 0.7804453723034099, 0.6950728230554695, None)\n",
      "f1_metrics (macro/unweighted mean) 0.7314439150671401\n",
      "avg accuracy over classes 0.738828958380375 AvgErrorRate 0.261171041619625\n",
      "\n",
      "/home/krsharma/ClassificationImageText/trained_models/clothing1m_10e/robustnoiserank/eccvR_clothing-256d_emb/results_500/\n",
      "k=50_a=0.5_bf=1.0_b=1.0_e=2.0.txt\n",
      "192475\n",
      "['GJHZCwUaindpRcABADG_tneEdjoSbiMZAAAB', 'GCuBAgW6xzIGMpUAAEp1qUSnZ4JlbiMZAAAB', 'GK7VEQWTxrCv1KsAACiLUj3r4nNSbiMZAAAB', 'GDQZ9gQyNfgKn6sAAOOffd-l3DVobiMZAAAB', 'GB-b7QRaBz12tWIJAIamA13j518IbiMZAAAB'] 192475\n",
      "[141846.  21453.  70691. 639999.   2288. 752970. 879060. 546514.]\n",
      "P/R/F1 (noise) (0.7496659242761693, 0.5855949895615866, 0.6575503027935143, None)\n",
      "f1_metrics (macro/unweighted mean) 0.7394366537920278\n",
      "avg accuracy over classes 0.7518294597544212 AvgErrorRate 0.24817054024557883\n",
      "\n",
      "/home/krsharma/ClassificationImageText/trained_models/clothing1m_10e/robustnoiserank/eccvR_clothing-256d_emb/results_500/\n",
      "k=1000_a=0.5_bf=1.0_b=1.0_e=2.0.txt\n",
      "309304\n",
      "['GJHZCwUaindpRcABADG_tneEdjoSbiMZAAAB', 'GB-b7QRaBz12tWIJAIamA13j518IbiMZAAAB', 'GFTtEgUVauLJ8f8CAEptWfIc-I49biMZAAAB', 'GProBgV6m-OL1LoAAKge6Xf56PlnbiMZAAAB', 'GC1pEgVJCzQfOhABAJUSVN_uKSFdbiMZAAAB'] 309304\n",
      "[ 141846.    2288.  228626.  997880.  650415.   70691.   68205. 1011535.]\n",
      "P/R/F1 (noise) (0.660178685386088, 0.7199025748086291, 0.6887483355525966, None)\n",
      "f1_metrics (macro/unweighted mean) 0.7395770370881118\n",
      "avg accuracy over classes 0.745989365000734 AvgErrorRate 0.254010634999266\n",
      "\n",
      "/home/krsharma/ClassificationImageText/trained_models/clothing1m_10e/robustnoiserank/eccvR_clothing-256d_emb/results_500/\n",
      "k=500_a=0.5_bf=1.0_b=1.0_e=2.0.txt\n",
      "250683\n",
      "['GJHZCwUaindpRcABADG_tneEdjoSbiMZAAAB', 'GB-b7QRaBz12tWIJAIamA13j518IbiMZAAAB', 'GK7VEQWTxrCv1KsAACiLUj3r4nNSbiMZAAAB', 'GH65EAXEFs9uYtUBAK5IWq9NpYtLbiMZAAAB', 'GFTtEgUVauLJ8f8CAEptWfIc-I49biMZAAAB'] 250683\n",
      "[141846.   2288.  70691.  68205. 228626.  18420. 546514. 650415.]\n",
      "P/R/F1 (noise) (0.6976487876561352, 0.6607515657620042, 0.678699070764832, None)\n",
      "f1_metrics (macro/unweighted mean) 0.7430349864216275\n",
      "avg accuracy over classes 0.7513231871315148 AvgErrorRate 0.2486768128684852\n",
      "-------------\n",
      "\n",
      "/home/krsharma/ClassificationImageText/trained_models/clothing1m_10e/robustnoiserank/eccvR_clothing-256d_emb/results_100/\n",
      "k=250_a=0.5_bf=1.0_b=1.0_e=2.0.txt\n",
      "334446\n",
      "['GJHZCwUaindpRcABADG_tneEdjoSbiMZAAAB', 'GKHICgUHQPTO4vgDABQ6pLu2hS4GbiMZAAAB', 'GFTtEgUVauLJ8f8CAEptWfIc-I49biMZAAAB', 'GB-b7QRaBz12tWIJAIamA13j518IbiMZAAAB', 'GMdnEQUFAQdb8XcAALCN1qz_5EVlbiMZAAAB'] 334446\n",
      "[ 141846.  999850.  228626.    2288. 1011535.  997880.  986547.   70691.]\n",
      "P/R/F1 (noise) (0.6446974236069503, 0.7487821851078637, 0.6928525434642627, None)\n",
      "f1_metrics (macro/unweighted mean) 0.7369975036660612\n",
      "avg accuracy over classes 0.7423427924653773 AvgErrorRate 0.25765720753462273\n",
      "\n",
      "/home/krsharma/ClassificationImageText/trained_models/clothing1m_10e/robustnoiserank/eccvR_clothing-256d_emb/results_100/\n",
      "k=2500_a=0.5_bf=1.0_b=1.0_e=2.0.txt\n",
      "613069\n",
      "['GKHICgUHQPTO4vgDABQ6pLu2hS4GbiMZAAAB', 'GJHZCwUaindpRcABADG_tneEdjoSbiMZAAAB', 'GLiGEQUHMZ4kYNUIAPe2H_wWap0ebiMZAAAB', 'GDR0EgU91lLcksoBAKo0Sll5HVwybiMZAAAB', 'GCGDAgX1nbyF4CkCABNJStnUjzITbiMZAAAB'] 613069\n",
      "[ 999850.  141846.  929575.  814022.  329997.  347388.  228626. 1001389.]\n",
      "P/R/F1 (noise) (0.5076269550106198, 0.9147529575504524, 0.6529243760089408, None)\n",
      "f1_metrics (macro/unweighted mean) 0.6232485774184591\n",
      "avg accuracy over classes 0.6387130093193111 AvgErrorRate 0.3612869906806889\n",
      "\n",
      "/home/krsharma/ClassificationImageText/trained_models/clothing1m_10e/robustnoiserank/eccvR_clothing-256d_emb/results_100/\n",
      "k=100_a=0.5_bf=1.0_b=1.0_e=2.0.txt\n",
      "248420\n",
      "['GJHZCwUaindpRcABADG_tneEdjoSbiMZAAAB', 'GB-b7QRaBz12tWIJAIamA13j518IbiMZAAAB', 'GK7VEQWTxrCv1KsAACiLUj3r4nNSbiMZAAAB', 'GJqrEAUkXxc16C4JAENBpy6Y-M8tbiMZAAAB', 'GKHICgUHQPTO4vgDABQ6pLu2hS4GbiMZAAAB'] 248420\n",
      "[141846.   2288.  70691.  18420. 999850.  68205. 228626. 986547.]\n",
      "P/R/F1 (noise) (0.7024732373569583, 0.66214335421016, 0.6817123410352858, None)\n",
      "f1_metrics (macro/unweighted mean) 0.7457989329012954\n",
      "avg accuracy over classes 0.7546136470637742 AvgErrorRate 0.2453863529362258\n",
      "\n",
      "/home/krsharma/ClassificationImageText/trained_models/clothing1m_10e/robustnoiserank/eccvR_clothing-256d_emb/results_100/\n",
      "k=1500_a=0.5_bf=1.0_b=1.0_e=2.0.txt\n",
      "613069\n",
      "['GKHICgUHQPTO4vgDABQ6pLu2hS4GbiMZAAAB', 'GJHZCwUaindpRcABADG_tneEdjoSbiMZAAAB', 'GLiGEQUHMZ4kYNUIAPe2H_wWap0ebiMZAAAB', 'GDR0EgU91lLcksoBAKo0Sll5HVwybiMZAAAB', 'GCGDAgX1nbyF4CkCABNJStnUjzITbiMZAAAB'] 613069\n",
      "[ 999850.  141846.  929575.  814022.  329997.  347388.  228626. 1001389.]\n",
      "P/R/F1 (noise) (0.5076269550106198, 0.9147529575504524, 0.6529243760089408, None)\n",
      "f1_metrics (macro/unweighted mean) 0.6232485774184591\n",
      "avg accuracy over classes 0.6387130093193111 AvgErrorRate 0.3612869906806889\n",
      "\n",
      "/home/krsharma/ClassificationImageText/trained_models/clothing1m_10e/robustnoiserank/eccvR_clothing-256d_emb/results_100/\n",
      "k=50_a=0.5_bf=1.0_b=1.0_e=2.0.txt\n",
      "221316\n",
      "['GJHZCwUaindpRcABADG_tneEdjoSbiMZAAAB', 'GB-b7QRaBz12tWIJAIamA13j518IbiMZAAAB', 'GK7VEQWTxrCv1KsAACiLUj3r4nNSbiMZAAAB', 'GKHICgUHQPTO4vgDABQ6pLu2hS4GbiMZAAAB', 'GJqrEAUkXxc16C4JAENBpy6Y-M8tbiMZAAAB'] 221316\n",
      "[141846.   2288.  70691. 999850.  18420.  68205. 929575. 752970.]\n",
      "P/R/F1 (noise) (0.7223548130469372, 0.6318719554627696, 0.674090571640683, None)\n",
      "f1_metrics (macro/unweighted mean) 0.7450310330431459\n",
      "avg accuracy over classes 0.7557375673251947 AvgErrorRate 0.2442624326748053\n",
      "\n",
      "/home/krsharma/ClassificationImageText/trained_models/clothing1m_10e/robustnoiserank/eccvR_clothing-256d_emb/results_100/\n",
      "k=1000_a=0.5_bf=1.0_b=1.0_e=2.0.txt\n",
      "572278\n",
      "['GKHICgUHQPTO4vgDABQ6pLu2hS4GbiMZAAAB', 'GJHZCwUaindpRcABADG_tneEdjoSbiMZAAAB', 'GLiGEQUHMZ4kYNUIAPe2H_wWap0ebiMZAAAB', 'GDR0EgU91lLcksoBAKo0Sll5HVwybiMZAAAB', 'GFTtEgUVauLJ8f8CAEptWfIc-I49biMZAAAB'] 572278\n",
      "[ 999850.  141846.  929575.  814022.  228626.  329997.  347388. 1001389.]\n",
      "P/R/F1 (noise) (0.526412400571079, 0.8980514961725817, 0.6637520894946638, None)\n",
      "f1_metrics (macro/unweighted mean) 0.6490856071686936\n",
      "avg accuracy over classes 0.6617881279992266 AvgErrorRate 0.3382118720007734\n",
      "\n",
      "/home/krsharma/ClassificationImageText/trained_models/clothing1m_10e/robustnoiserank/eccvR_clothing-256d_emb/results_100/\n",
      "k=500_a=0.5_bf=1.0_b=1.0_e=2.0.txt\n",
      "454703\n",
      "['GJHZCwUaindpRcABADG_tneEdjoSbiMZAAAB', 'GKHICgUHQPTO4vgDABQ6pLu2hS4GbiMZAAAB', 'GFTtEgUVauLJ8f8CAEptWfIc-I49biMZAAAB', 'GDR0EgU91lLcksoBAKo0Sll5HVwybiMZAAAB', 'GLiGEQUHMZ4kYNUIAPe2H_wWap0ebiMZAAAB'] 454703\n",
      "[ 141846.  999850.  228626.  814022.  929575. 1011535.  997880.  986547.]\n",
      "P/R/F1 (noise) (0.5815073440886106, 0.8402922755741128, 0.6873487974953749, None)\n",
      "f1_metrics (macro/unweighted mean) 0.7046765498295551\n",
      "avg accuracy over classes 0.7125975304270836 AvgErrorRate 0.2874024695729164\n",
      "-------------\n",
      "\n",
      "/home/krsharma/ClassificationImageText/trained_models/clothing1m_10e/robustnoiserank/eccvR_clothing-256d_emb/results_190/\n",
      "k=250_a=0.5_bf=1.0_b=1.0_e=2.0.txt\n",
      "266952\n",
      "['GJHZCwUaindpRcABADG_tneEdjoSbiMZAAAB', 'GB-b7QRaBz12tWIJAIamA13j518IbiMZAAAB', 'GFTtEgUVauLJ8f8CAEptWfIc-I49biMZAAAB', 'GK7VEQWTxrCv1KsAACiLUj3r4nNSbiMZAAAB', 'GProBgV6m-OL1LoAAKge6Xf56PlnbiMZAAAB'] 266952\n",
      "[ 141846.    2288.  228626.   70691.  997880.   18420.   68205. 1011535.]\n",
      "P/R/F1 (noise) (0.6909027046013347, 0.6844119693806542, 0.6876420206257648, None)\n",
      "f1_metrics (macro/unweighted mean) 0.7467963605137728\n",
      "avg accuracy over classes 0.7543342854671993 AvgErrorRate 0.24566571453280073\n",
      "\n",
      "/home/krsharma/ClassificationImageText/trained_models/clothing1m_10e/robustnoiserank/eccvR_clothing-256d_emb/results_190/\n",
      "k=2500_a=0.5_bf=1.0_b=1.0_e=2.0.txt\n",
      "611760\n",
      "['GFTtEgUVauLJ8f8CAEptWfIc-I49biMZAAAB', 'GJHZCwUaindpRcABADG_tneEdjoSbiMZAAAB', 'GDR0EgU91lLcksoBAKo0Sll5HVwybiMZAAAB', 'GProBgV6m-OL1LoAAKge6Xf56PlnbiMZAAAB', 'GKHICgUHQPTO4vgDABQ6pLu2hS4GbiMZAAAB'] 611760\n",
      "[ 228626.  141846.  814022.  997880.  999850.  329997. 1011535.  650415.]\n",
      "P/R/F1 (noise) (0.5093131548311991, 0.9133611691022965, 0.6539611360239163, None)\n",
      "f1_metrics (macro/unweighted mean) 0.6257345523643197\n",
      "avg accuracy over classes 0.6413136917125034 AvgErrorRate 0.3586863082874966\n",
      "\n",
      "/home/krsharma/ClassificationImageText/trained_models/clothing1m_10e/robustnoiserank/eccvR_clothing-256d_emb/results_190/\n",
      "k=100_a=0.5_bf=1.0_b=1.0_e=2.0.txt\n",
      "223654\n",
      "['GJHZCwUaindpRcABADG_tneEdjoSbiMZAAAB', 'GB-b7QRaBz12tWIJAIamA13j518IbiMZAAAB', 'GK7VEQWTxrCv1KsAACiLUj3r4nNSbiMZAAAB', 'GJqrEAUkXxc16C4JAENBpy6Y-M8tbiMZAAAB', 'GH65EAXEFs9uYtUBAK5IWq9NpYtLbiMZAAAB'] 223654\n",
      "[141846.   2288.  70691.  18420.  68205. 546514. 228626.  21453.]\n",
      "P/R/F1 (noise) (0.7257165605095541, 0.6343075852470424, 0.6769402153731897, None)\n",
      "f1_metrics (macro/unweighted mean) 0.747313359991708\n",
      "avg accuracy over classes 0.7569959791131445 AvgErrorRate 0.24300402088685547\n",
      "\n",
      "/home/krsharma/ClassificationImageText/trained_models/clothing1m_10e/robustnoiserank/eccvR_clothing-256d_emb/results_190/\n",
      "k=1500_a=0.5_bf=1.0_b=1.0_e=2.0.txt\n",
      "537014\n",
      "['GFTtEgUVauLJ8f8CAEptWfIc-I49biMZAAAB', 'GJHZCwUaindpRcABADG_tneEdjoSbiMZAAAB', 'GDR0EgU91lLcksoBAKo0Sll5HVwybiMZAAAB', 'GProBgV6m-OL1LoAAKge6Xf56PlnbiMZAAAB', 'GMdnEQUFAQdb8XcAALCN1qz_5EVlbiMZAAAB'] 537014\n",
      "[ 228626.  141846.  814022.  997880. 1011535.  999850.  650415.    2288.]\n",
      "P/R/F1 (noise) (0.5417554324669791, 0.8848295059151009, 0.6720401691331923, None)\n",
      "f1_metrics (macro/unweighted mean) 0.6674517607415487\n",
      "avg accuracy over classes 0.6781200794882513 AvgErrorRate 0.32187992051174874\n",
      "\n",
      "/home/krsharma/ClassificationImageText/trained_models/clothing1m_10e/robustnoiserank/eccvR_clothing-256d_emb/results_190/\n",
      "k=50_a=0.5_bf=1.0_b=1.0_e=2.0.txt\n",
      "207385\n",
      "['GB-b7QRaBz12tWIJAIamA13j518IbiMZAAAB', 'GJHZCwUaindpRcABADG_tneEdjoSbiMZAAAB', 'GK7VEQWTxrCv1KsAACiLUj3r4nNSbiMZAAAB', 'GCuBAgW6xzIGMpUAAEp1qUSnZ4JlbiMZAAAB', 'GGorAgVyQV-swUsIAPt5cJyssPBkbiMZAAAB'] 207385\n",
      "[  2288. 141846.  70691.  21453. 546514. 752970. 639999.  18420.]\n",
      "P/R/F1 (noise) (0.740041928721174, 0.6141266527487822, 0.6712302719148127, None)\n",
      "f1_metrics (macro/unweighted mean) 0.7462241732855006\n",
      "avg accuracy over classes 0.7574326176199541 AvgErrorRate 0.24256738238004594\n",
      "\n",
      "/home/krsharma/ClassificationImageText/trained_models/clothing1m_10e/robustnoiserank/eccvR_clothing-256d_emb/results_190/\n",
      "k=1000_a=0.5_bf=1.0_b=1.0_e=2.0.txt\n",
      "465485\n",
      "['GFTtEgUVauLJ8f8CAEptWfIc-I49biMZAAAB', 'GJHZCwUaindpRcABADG_tneEdjoSbiMZAAAB', 'GProBgV6m-OL1LoAAKge6Xf56PlnbiMZAAAB', 'GDR0EgU91lLcksoBAKo0Sll5HVwybiMZAAAB', 'GMdnEQUFAQdb8XcAALCN1qz_5EVlbiMZAAAB'] 465485\n",
      "[ 228626.  141846.  997880.  814022. 1011535.    2288.  650415.  941868.]\n",
      "P/R/F1 (noise) (0.5785612872692854, 0.8507306889352818, 0.6887323943661973, None)\n",
      "f1_metrics (macro/unweighted mean) 0.7032423146799058\n",
      "avg accuracy over classes 0.7135128635563402 AvgErrorRate 0.28648713644365975\n",
      "\n",
      "/home/krsharma/ClassificationImageText/trained_models/clothing1m_10e/robustnoiserank/eccvR_clothing-256d_emb/results_190/\n",
      "k=500_a=0.5_bf=1.0_b=1.0_e=2.0.txt\n",
      "343698\n",
      "['GJHZCwUaindpRcABADG_tneEdjoSbiMZAAAB', 'GFTtEgUVauLJ8f8CAEptWfIc-I49biMZAAAB', 'GProBgV6m-OL1LoAAKge6Xf56PlnbiMZAAAB', 'GB-b7QRaBz12tWIJAIamA13j518IbiMZAAAB', 'GMdnEQUFAQdb8XcAALCN1qz_5EVlbiMZAAAB'] 343698\n",
      "[ 141846.  228626.  997880.    2288. 1011535.  650415.   70691.  814022.]\n",
      "P/R/F1 (noise) (0.6391329818394845, 0.7592205984690327, 0.6940203562340967, None)\n",
      "f1_metrics (macro/unweighted mean) 0.7356933533079764\n",
      "avg accuracy over classes 0.7408126957150262 AvgErrorRate 0.25918730428497383\n"
     ]
    }
   ],
   "source": [
    "import os\n",
    "from glob import glob\n",
    "\n",
    "outpath = datadir\n",
    "for subdir in glob(outpath + '*/'):\n",
    "    print('-------------')\n",
    "    for filename in os.listdir(subdir):\n",
    "        print()\n",
    "        print(subdir)\n",
    "        print(filename)\n",
    "        detected1 = np.loadtxt('{}/{}'.format(subdir, filename))\n",
    "        evalutil(detected1)\n"
   ]
  },
  {
   "cell_type": "markdown",
   "metadata": {},
   "source": [
    "# Give detected ranked list as everstore handles"
   ]
  },
  {
   "cell_type": "code",
   "execution_count": 68,
   "metadata": {},
   "outputs": [],
   "source": [
    "odir = datadir + 'results_190/'\n",
    "oname = 'k=250_a=0.5_bf=1.0_b=1.0_e=2.0.txt'\n",
    "detected = np.loadtxt(odir + oname)\n"
   ]
  },
  {
   "cell_type": "code",
   "execution_count": 63,
   "metadata": {},
   "outputs": [
    {
     "data": {
      "text/plain": [
       "'GIPsEAWbm8NMUVECAOkij2nvJTQvbiMZAAAB'"
      ]
     },
     "execution_count": 63,
     "metadata": {},
     "output_type": "execute_result"
    }
   ],
   "source": [
    "# cleannet_all_256d.tsv everstore (matches row number)\n",
    "\n",
    "cleannet_all_256d = pd.read_csv(datadir + 'cleannet_all_256d.tsv', header=None, sep='\\t')\n",
    "\n",
    "cleannet_all_256d_df = cleannet_all_256d[[0, 1, 2]]\n",
    "\n",
    "cleannet_all_256d_df.head()\n",
    "\n",
    "everstore_mapping = dict(zip(cleannet_all_256d_df[0], cleannet_all_256d_df[1]))\n",
    "everstore_mapping[0]"
   ]
  },
  {
   "cell_type": "code",
   "execution_count": 64,
   "metadata": {},
   "outputs": [
    {
     "data": {
      "text/html": [
       "<div>\n",
       "<style scoped>\n",
       "    .dataframe tbody tr th:only-of-type {\n",
       "        vertical-align: middle;\n",
       "    }\n",
       "\n",
       "    .dataframe tbody tr th {\n",
       "        vertical-align: top;\n",
       "    }\n",
       "\n",
       "    .dataframe thead th {\n",
       "        text-align: right;\n",
       "    }\n",
       "</style>\n",
       "<table border=\"1\" class=\"dataframe\">\n",
       "  <thead>\n",
       "    <tr style=\"text-align: right;\">\n",
       "      <th></th>\n",
       "      <th>0</th>\n",
       "      <th>1</th>\n",
       "      <th>2</th>\n",
       "    </tr>\n",
       "  </thead>\n",
       "  <tbody>\n",
       "    <tr>\n",
       "      <th>0</th>\n",
       "      <td>0</td>\n",
       "      <td>GIPsEAWbm8NMUVECAOkij2nvJTQvbiMZAAAB</td>\n",
       "      <td>13</td>\n",
       "    </tr>\n",
       "    <tr>\n",
       "      <th>1</th>\n",
       "      <td>1</td>\n",
       "      <td>GKHrDQWieLFkLXkJAIaDGKAkHzFAbiMZAAAB</td>\n",
       "      <td>0</td>\n",
       "    </tr>\n",
       "    <tr>\n",
       "      <th>2</th>\n",
       "      <td>2</td>\n",
       "      <td>GIubAgXFwnwkyr4BAIvraNOp1D9jbiMZAAAB</td>\n",
       "      <td>8</td>\n",
       "    </tr>\n",
       "    <tr>\n",
       "      <th>3</th>\n",
       "      <td>3</td>\n",
       "      <td>GN9QEgX1E50yB4IJAOP6qTt1_CNebiMZAAAB</td>\n",
       "      <td>12</td>\n",
       "    </tr>\n",
       "    <tr>\n",
       "      <th>4</th>\n",
       "      <td>4</td>\n",
       "      <td>GNKBDAV3PCNpAQgBAGejLVTPZyFrbiMZAAAB</td>\n",
       "      <td>7</td>\n",
       "    </tr>\n",
       "  </tbody>\n",
       "</table>\n",
       "</div>"
      ],
      "text/plain": [
       "   0                                     1   2\n",
       "0  0  GIPsEAWbm8NMUVECAOkij2nvJTQvbiMZAAAB  13\n",
       "1  1  GKHrDQWieLFkLXkJAIaDGKAkHzFAbiMZAAAB   0\n",
       "2  2  GIubAgXFwnwkyr4BAIvraNOp1D9jbiMZAAAB   8\n",
       "3  3  GN9QEgX1E50yB4IJAOP6qTt1_CNebiMZAAAB  12\n",
       "4  4  GNKBDAV3PCNpAQgBAGejLVTPZyFrbiMZAAAB   7"
      ]
     },
     "execution_count": 64,
     "metadata": {},
     "output_type": "execute_result"
    }
   ],
   "source": [
    "cleannet_all_256d_df.head()"
   ]
  },
  {
   "cell_type": "code",
   "execution_count": 65,
   "metadata": {},
   "outputs": [
    {
     "data": {
      "text/plain": [
       "266952"
      ]
     },
     "execution_count": 65,
     "metadata": {},
     "output_type": "execute_result"
    }
   ],
   "source": [
    "len(detected)"
   ]
  },
  {
   "cell_type": "code",
   "execution_count": 66,
   "metadata": {},
   "outputs": [
    {
     "name": "stdout",
     "output_type": "stream",
     "text": [
      "['GJHZCwUaindpRcABADG_tneEdjoSbiMZAAAB', 'GB-b7QRaBz12tWIJAIamA13j518IbiMZAAAB', 'GFTtEgUVauLJ8f8CAEptWfIc-I49biMZAAAB', 'GK7VEQWTxrCv1KsAACiLUj3r4nNSbiMZAAAB', 'GProBgV6m-OL1LoAAKge6Xf56PlnbiMZAAAB', 'GJqrEAUkXxc16C4JAENBpy6Y-M8tbiMZAAAB', 'GH65EAXEFs9uYtUBAK5IWq9NpYtLbiMZAAAB', 'GMdnEQUFAQdb8XcAALCN1qz_5EVlbiMZAAAB', 'GGorAgVyQV-swUsIAPt5cJyssPBkbiMZAAAB', 'GC1pEgVJCzQfOhABAJUSVN_uKSFdbiMZAAAB'] 266952\n"
     ]
    }
   ],
   "source": [
    "eranked = [everstore_mapping[d] for d in detected]\n",
    "print(eranked[0:10], len(eranked))"
   ]
  },
  {
   "cell_type": "code",
   "execution_count": 69,
   "metadata": {},
   "outputs": [],
   "source": [
    "np.savetxt('out.txt', eranked, fmt='%s')\n",
    "np.savetxt(odir + 'out' + oname, eranked, fmt='%s')"
   ]
  },
  {
   "cell_type": "markdown",
   "metadata": {},
   "source": [
    "# Results"
   ]
  },
  {
   "cell_type": "code",
   "execution_count": null,
   "metadata": {},
   "outputs": [],
   "source": [
    "FOOD (ROUND-0)\n",
    "\n",
    "WITH IMAGENET PRETRAINING\n",
    "\n",
    "results_30\n",
    "\n",
    "5P/R/F1 (noise) (0.39812992125984253, 0.8822246455834242, 0.5486605629026788, None)\n",
    "f1_metrics (macro/unweighted mean) 0.6724628392348998\n",
    "avg accuracy over classes 0.7185903864103752 AvgErrorRate 0.2814096135896248\n",
    "\n",
    "10P/R/F1 (noise) (0.3869441816461684, 0.8920392584514721, 0.5397558561530847, None)\n",
    "f1_metrics (macro/unweighted mean) 0.6617551564132343\n",
    "avg accuracy over classes 0.7040161392502351 AvgErrorRate 0.2959838607497649\n",
    "\n",
    "results_40\n",
    "5P/R/F1 (noise) (0.40699442473390773, 0.8756815703380589, 0.5557093425605536, None)\n",
    "f1_metrics (macro/unweighted mean) 0.6804638945812477\n",
    "avg accuracy over classes 0.7282107586403482 AvgErrorRate 0.27178924135965177\n",
    "\n",
    "10 P/R/F1 (noise) (0.4025403028822667, 0.8985823336968375, 0.5560053981106613, None)\n",
    "f1_metrics (macro/unweighted mean) 0.6770514870271012\n",
    "avg accuracy over classes 0.7207489675232696 AvgErrorRate 0.27925103247673044\n",
    "\n",
    "results_50 *\n",
    "5P/R/F1 (noise) (0.4117946110828673, 0.8833151581243184, 0.5617198335644938, None)\n",
    "f1_metrics (macro/unweighted mean) 0.6850733147816408\n",
    "avg accuracy over classes 0.7328569955055766 AvgErrorRate 0.2671430044944234\n",
    "\n",
    "results_100\n",
    "5P/R/F1 (noise) (0.423936170212766, 0.8691384950926936, 0.5698963174830175, None)\n",
    "f1_metrics (macro/unweighted mean) 0.6949705970361983\n",
    "avg accuracy over classes 0.745269233253319 AvgErrorRate 0.25473076674668105\n",
    "\n",
    "10P/R/F1 (noise) (0.4117943548387097, 0.8909487459105779, 0.5632540503274733, None)\n",
    "f1_metrics (macro/unweighted mean) 0.6853650588972118\n",
    "avg accuracy over classes 0.7317169146044237 AvgErrorRate 0.2682830853955763\n",
    "\n",
    "\n",
    "WITHOUT IMAGENET PRETRAINING\n",
    "\n",
    "/home/krsharma/ClassificationImageText/trained_models/food101n_20e/robustnoiserank/eccvR_food-256d_emb/results_40/\n",
    "k=10_a=0.5_bf=1.0_b=1.0_e=2.0.txt\n",
    "102909\n",
    "['GKNuAwUrW0Uij8YBADEtn3Yft0w6biMZAAAB', 'GB-b7QT5YtHA96sDANhdgJzV5CxkbiMZAAAB', 'GM-bEAVuW7Vw360BAMAnWufyev4gbiMZAAAB', 'GCCSEQXFZGhLTXMCAHffM814myVNbiMZAAAB', 'GGosEwWdC7yM_lUEAOyA0wSHdz8ubiMZAAAB'] 102909\n",
    "[ 10315. 291272. 217971.  48794. 167911.  90199.  18152.  93281.]\n",
    "P/R/F1 (noise) (0.40986908358509566, 0.8876772082878953, 0.5607991732690321, None)\n",
    "f1_metrics (macro/unweighted mean) 0.6835003618283144\n",
    "avg accuracy over classes 0.7291915600594527 AvgErrorRate 0.27080843994054726\n",
    "\n",
    "Error Recall, F1, MacroF1\n",
    "Paper NoiseRank (I) unsup. 24/18, 85.61 64.42 76.06 (actually similar to bottom row)\n",
    "                           26.71, 88.33, 56.17, 68.51\n",
    "No pretraining             27, 88,   56,   68\n",
    "\n",
    "Clothing\n",
    "NoiseRank (I) unsup. 23/22, 74.18 71.74 76.52\n",
    "No pretraining       24/ ,  68.44,68.76,74.67 "
   ]
  },
  {
   "cell_type": "code",
   "execution_count": null,
   "metadata": {},
   "outputs": [],
   "source": [
    "CLOTHING (ROUND - 0)\n",
    "\n",
    "WIHTOUT IMAGENET PRETRAINING\n",
    "\n",
    "/home/krsharma/ClassificationImageText/trained_models/clothing1m_10e/robustnoiserank/eccvR_clothing-256d_emb/results_190/\n",
    "k=250_a=0.5_bf=1.0_b=1.0_e=2.0.txt\n",
    "266952\n",
    "['GJHZCwUaindpRcABADG_tneEdjoSbiMZAAAB', 'GB-b7QRaBz12tWIJAIamA13j518IbiMZAAAB', 'GFTtEgUVauLJ8f8CAEptWfIc-I49biMZAAAB', 'GK7VEQWTxrCv1KsAACiLUj3r4nNSbiMZAAAB', 'GProBgV6m-OL1LoAAKge6Xf56PlnbiMZAAAB'] 266952\n",
    "[ 141846.    2288.  228626.   70691.  997880.   18420.   68205. 1011535.]\n",
    "P/R/F1 (noise) (0.6909027046013347, 0.6844119693806542, 0.6876420206257648, None)\n",
    "f1_metrics (macro/unweighted mean) 0.7467963605137728\n",
    "avg accuracy over classes 0.7543342854671993 AvgErrorRate 0.24566571453280073\n",
    "\n",
    "23.54\n",
    "22.81"
   ]
  },
  {
   "cell_type": "markdown",
   "metadata": {},
   "source": [
    "# Fine Tune Flows"
   ]
  },
  {
   "cell_type": "code",
   "execution_count": null,
   "metadata": {},
   "outputs": [],
   "source": [
    "f171259422 (Clothing 73% round 0 denoised finetune parameters)\n",
    "f132905000 (Food101N 85.78% round 1 denoised finetune parameters)\n"
   ]
  },
  {
   "cell_type": "code",
   "execution_count": 70,
   "metadata": {},
   "outputs": [
    {
     "data": {
      "text/plain": [
       "1.0199999999999996"
      ]
     },
     "execution_count": 70,
     "metadata": {},
     "output_type": "execute_result"
    }
   ],
   "source": [
    "24.56 - 23.54"
   ]
  },
  {
   "cell_type": "code",
   "execution_count": null,
   "metadata": {},
   "outputs": [],
   "source": [
    "o 67\\% (plain ResNet trained on noisy train set, without noise removal) from 68.94\\% (with ImageNet pretraining). With label noise removal, using representations extracted from the new baseline model, the result was 72\\%; compared to 73.82\\% reported for the corresponding setting on the ResNet pretrained on ImageNet. The error rate for noise detection reduced by $1\\%$.\n",
    "\n"
   ]
  },
  {
   "cell_type": "code",
   "execution_count": 75,
   "metadata": {},
   "outputs": [
    {
     "data": {
      "text/plain": [
       "4.700000000000003"
      ]
     },
     "execution_count": 75,
     "metadata": {},
     "output_type": "execute_result"
    }
   ],
   "source": [
    "71.7-67"
   ]
  },
  {
   "cell_type": "code",
   "execution_count": 72,
   "metadata": {},
   "outputs": [
    {
     "data": {
      "text/plain": [
       "4.8799999999999955"
      ]
     },
     "execution_count": 72,
     "metadata": {},
     "output_type": "execute_result"
    }
   ],
   "source": [
    "73.82 - 68.94"
   ]
  },
  {
   "cell_type": "code",
   "execution_count": 76,
   "metadata": {},
   "outputs": [
    {
     "data": {
      "text/plain": [
       "2.1199999999999903"
      ]
     },
     "execution_count": 76,
     "metadata": {},
     "output_type": "execute_result"
    }
   ],
   "source": [
    "73.82-71.7"
   ]
  },
  {
   "cell_type": "code",
   "execution_count": 79,
   "metadata": {},
   "outputs": [
    {
     "data": {
      "text/plain": [
       "1.9399999999999977"
      ]
     },
     "execution_count": 79,
     "metadata": {},
     "output_type": "execute_result"
    }
   ],
   "source": [
    "68.94-67"
   ]
  },
  {
   "cell_type": "code",
   "execution_count": 80,
   "metadata": {},
   "outputs": [
    {
     "data": {
      "text/plain": [
       "81.5"
      ]
     },
     "execution_count": 80,
     "metadata": {},
     "output_type": "execute_result"
    }
   ],
   "source": [
    "100 - 18.5"
   ]
  },
  {
   "cell_type": "code",
   "execution_count": 81,
   "metadata": {},
   "outputs": [
    {
     "data": {
      "text/plain": [
       "79.9"
      ]
     },
     "execution_count": 81,
     "metadata": {},
     "output_type": "execute_result"
    }
   ],
   "source": [
    "100 - 20.1"
   ]
  },
  {
   "cell_type": "code",
   "execution_count": 82,
   "metadata": {},
   "outputs": [
    {
     "data": {
      "text/plain": [
       "33"
      ]
     },
     "execution_count": 82,
     "metadata": {},
     "output_type": "execute_result"
    }
   ],
   "source": [
    "90-57"
   ]
  },
  {
   "cell_type": "code",
   "execution_count": null,
   "metadata": {},
   "outputs": [],
   "source": []
  }
 ],
 "metadata": {
  "kernelspec": {
   "display_name": "Python 3",
   "language": "python",
   "name": "python3"
  },
  "language_info": {
   "codemirror_mode": {
    "name": "ipython",
    "version": 3
   },
   "file_extension": ".py",
   "mimetype": "text/x-python",
   "name": "python",
   "nbconvert_exporter": "python",
   "pygments_lexer": "ipython3",
   "version": "3.7.4"
  }
 },
 "nbformat": 4,
 "nbformat_minor": 4
}
