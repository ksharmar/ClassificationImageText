{
 "cells": [
  {
   "cell_type": "code",
   "execution_count": 8,
   "metadata": {},
   "outputs": [],
   "source": [
    "path = \"/home/krsharma/ClassificationImageText/trained_models/clothing1m_10e/robustnoiserank/clothing-256d_round1/\""
   ]
  },
  {
   "cell_type": "markdown",
   "metadata": {},
   "source": [
    "# Format ref numpy to tsv"
   ]
  },
  {
   "cell_type": "code",
   "execution_count": 85,
   "metadata": {},
   "outputs": [
    {
     "name": "stdout",
     "output_type": "stream",
     "text": [
      "(14, 200, 256)\n"
     ]
    }
   ],
   "source": [
    "p = path + \"ref_200.npy\"\n",
    "import numpy as np\n",
    "\n",
    "ref = np.load(p)\n",
    "\n",
    "print(ref.shape)"
   ]
  },
  {
   "cell_type": "code",
   "execution_count": 86,
   "metadata": {},
   "outputs": [
    {
     "data": {
      "text/html": [
       "<div>\n",
       "<style scoped>\n",
       "    .dataframe tbody tr th:only-of-type {\n",
       "        vertical-align: middle;\n",
       "    }\n",
       "\n",
       "    .dataframe tbody tr th {\n",
       "        vertical-align: top;\n",
       "    }\n",
       "\n",
       "    .dataframe thead th {\n",
       "        text-align: right;\n",
       "    }\n",
       "</style>\n",
       "<table border=\"1\" class=\"dataframe\">\n",
       "  <thead>\n",
       "    <tr style=\"text-align: right;\">\n",
       "      <th></th>\n",
       "      <th>id</th>\n",
       "      <th>img</th>\n",
       "      <th>labels</th>\n",
       "      <th>feats</th>\n",
       "    </tr>\n",
       "  </thead>\n",
       "  <tbody>\n",
       "    <tr>\n",
       "      <th>0</th>\n",
       "      <td>0</td>\n",
       "      <td>0</td>\n",
       "      <td>0</td>\n",
       "      <td>-0.486,0.059,0.673,0.141,-0.315,0.351,1.056,-0...</td>\n",
       "    </tr>\n",
       "    <tr>\n",
       "      <th>1</th>\n",
       "      <td>1</td>\n",
       "      <td>1</td>\n",
       "      <td>0</td>\n",
       "      <td>-0.354,-0.281,0.595,-0.419,0.784,0.669,1.373,-...</td>\n",
       "    </tr>\n",
       "    <tr>\n",
       "      <th>2</th>\n",
       "      <td>2</td>\n",
       "      <td>2</td>\n",
       "      <td>0</td>\n",
       "      <td>-1.185,-1.534,-1.001,0.684,-0.073,-0.86,0.161,...</td>\n",
       "    </tr>\n",
       "    <tr>\n",
       "      <th>3</th>\n",
       "      <td>3</td>\n",
       "      <td>3</td>\n",
       "      <td>0</td>\n",
       "      <td>-0.008,-0.692,0.247,-0.151,0.913,1.116,1.488,-...</td>\n",
       "    </tr>\n",
       "    <tr>\n",
       "      <th>4</th>\n",
       "      <td>4</td>\n",
       "      <td>4</td>\n",
       "      <td>0</td>\n",
       "      <td>-0.074,0.269,-0.065,1.263,0.38,0.246,0.987,0.5...</td>\n",
       "    </tr>\n",
       "  </tbody>\n",
       "</table>\n",
       "</div>"
      ],
      "text/plain": [
       "   id  img  labels                                              feats\n",
       "0   0    0       0  -0.486,0.059,0.673,0.141,-0.315,0.351,1.056,-0...\n",
       "1   1    1       0  -0.354,-0.281,0.595,-0.419,0.784,0.669,1.373,-...\n",
       "2   2    2       0  -1.185,-1.534,-1.001,0.684,-0.073,-0.86,0.161,...\n",
       "3   3    3       0  -0.008,-0.692,0.247,-0.151,0.913,1.116,1.488,-...\n",
       "4   4    4       0  -0.074,0.269,-0.065,1.263,0.38,0.246,0.987,0.5..."
      ]
     },
     "execution_count": 86,
     "metadata": {},
     "output_type": "execute_result"
    }
   ],
   "source": [
    "import pandas as pd\n",
    "\n",
    "df = pd.DataFrame()\n",
    "\n",
    "def join_str(ci):\n",
    "    return \",\".join(map(str, ci))\n",
    "    \n",
    "labels = []\n",
    "vecs = []\n",
    "for classname, c in enumerate(ref):\n",
    "    labels += [int(classname)] * len(c)\n",
    "    vecs += [join_str(ci) for ci in np.round(c, 3)]\n",
    "labels = np.array(labels, dtype=np.int32)\n",
    "df['id'] = np.arange(len(labels))\n",
    "df['img'] = np.arange(len(labels))\n",
    "df['labels'] = labels\n",
    "df['feats'] = vecs\n",
    "\n",
    "df.head()"
   ]
  },
  {
   "cell_type": "code",
   "execution_count": 46,
   "metadata": {},
   "outputs": [],
   "source": [
    "df.to_csv(path + 'ref_200.tsv', sep='\\t', header=None, index=False)"
   ]
  },
  {
   "cell_type": "markdown",
   "metadata": {},
   "source": [
    "# Format extracted 256d embeddings from pkl to tsv"
   ]
  },
  {
   "cell_type": "code",
   "execution_count": 21,
   "metadata": {},
   "outputs": [],
   "source": [
    "import pickle as pkl\n",
    "\n",
    "d = pkl.load(open(path + 'd_00000_781250x256.pickle', 'rb'))"
   ]
  },
  {
   "cell_type": "code",
   "execution_count": 22,
   "metadata": {},
   "outputs": [
    {
     "data": {
      "text/plain": [
       "(781250, 256)"
      ]
     },
     "execution_count": 22,
     "metadata": {},
     "output_type": "execute_result"
    }
   ],
   "source": [
    "d[0].shape"
   ]
  },
  {
   "cell_type": "code",
   "execution_count": 23,
   "metadata": {},
   "outputs": [],
   "source": [
    "d2 = pkl.load(open(path + 'd_00001_226366x256.pickle', 'rb'))"
   ]
  },
  {
   "cell_type": "code",
   "execution_count": 24,
   "metadata": {},
   "outputs": [
    {
     "data": {
      "text/plain": [
       "(226366, 256)"
      ]
     },
     "execution_count": 24,
     "metadata": {},
     "output_type": "execute_result"
    }
   ],
   "source": [
    "d2[0].shape"
   ]
  },
  {
   "cell_type": "code",
   "execution_count": 25,
   "metadata": {},
   "outputs": [
    {
     "data": {
      "text/plain": [
       "1007616"
      ]
     },
     "execution_count": 25,
     "metadata": {},
     "output_type": "execute_result"
    }
   ],
   "source": [
    "781250 + 226366"
   ]
  },
  {
   "cell_type": "code",
   "execution_count": 26,
   "metadata": {},
   "outputs": [
    {
     "name": "stdout",
     "output_type": "stream",
     "text": [
      "1007616 1007616\n"
     ]
    },
    {
     "data": {
      "text/plain": [
       "(   sid                                   eid\n",
       " 0    0  GDoyEQUtQxd01jACALJMfB_0WrxjbiMZAAAB\n",
       " 1    1  GNK5EQVrDdu7pcsCAKZh3_qxRyEAbiMZAAAB\n",
       " 2    2  GPDHFAWlrY28t9ICAO5LPJxb4xsxbiMZAAAB\n",
       " 3    3  GLMtEAWodQHs4qwAALnKwegHDsknbiMZAAAB\n",
       " 4    4  GBgX5QQ0Rri3QJwAAMBVW0O6Quo0biMZAAAB, 1007616, 1007616)"
      ]
     },
     "execution_count": 26,
     "metadata": {},
     "output_type": "execute_result"
    }
   ],
   "source": [
    "import pandas as pd\n",
    "import numpy as np\n",
    "df = pd.DataFrame()\n",
    "sid = np.arange(1007616)\n",
    "eid = d[1] + d2[1]\n",
    "print(len(sid), len(eid))\n",
    "df['sid'] = sid\n",
    "df['eid'] = eid\n",
    "df.head(), len(eid), len(sid)"
   ]
  },
  {
   "cell_type": "code",
   "execution_count": 27,
   "metadata": {},
   "outputs": [
    {
     "data": {
      "text/html": [
       "<div>\n",
       "<style scoped>\n",
       "    .dataframe tbody tr th:only-of-type {\n",
       "        vertical-align: middle;\n",
       "    }\n",
       "\n",
       "    .dataframe tbody tr th {\n",
       "        vertical-align: top;\n",
       "    }\n",
       "\n",
       "    .dataframe thead th {\n",
       "        text-align: right;\n",
       "    }\n",
       "</style>\n",
       "<table border=\"1\" class=\"dataframe\">\n",
       "  <thead>\n",
       "    <tr style=\"text-align: right;\">\n",
       "      <th></th>\n",
       "      <th>0</th>\n",
       "      <th>1</th>\n",
       "      <th>2</th>\n",
       "      <th>3</th>\n",
       "      <th>4</th>\n",
       "      <th>5</th>\n",
       "      <th>6</th>\n",
       "      <th>7</th>\n",
       "    </tr>\n",
       "  </thead>\n",
       "  <tbody>\n",
       "    <tr>\n",
       "      <th>0</th>\n",
       "      <td>images/0/53/260975258,2323897053.jpg</td>\n",
       "      <td>260975258,2323897053.jpg</td>\n",
       "      <td>GOotBwWSElDZtFsAAGshNhrA9hdEbiMZAAAB</td>\n",
       "      <td>Jacket</td>\n",
       "      <td>7</td>\n",
       "      <td>0.0</td>\n",
       "      <td>2020-02-04</td>\n",
       "      <td>val</td>\n",
       "    </tr>\n",
       "    <tr>\n",
       "      <th>1</th>\n",
       "      <td>images/3/61/2976764135,2716435361.jpg</td>\n",
       "      <td>2976764135,2716435361.jpg</td>\n",
       "      <td>GProEQWGvjYQw6kAAK1c8Yf51zpabiMZAAAB</td>\n",
       "      <td>Jacket</td>\n",
       "      <td>7</td>\n",
       "      <td>0.0</td>\n",
       "      <td>2020-02-04</td>\n",
       "      <td>val</td>\n",
       "    </tr>\n",
       "    <tr>\n",
       "      <th>2</th>\n",
       "      <td>images/9/51/2289770356,3952390951.jpg</td>\n",
       "      <td>2289770356,3952390951.jpg</td>\n",
       "      <td>GO3cCwUP8P3SX28AANt4RxtOHgYmbiMZAAAB</td>\n",
       "      <td>T-Shirt</td>\n",
       "      <td>0</td>\n",
       "      <td>NaN</td>\n",
       "      <td>2020-02-04</td>\n",
       "      <td>test</td>\n",
       "    </tr>\n",
       "    <tr>\n",
       "      <th>3</th>\n",
       "      <td>images/9/46/430097811,2005980946.jpg</td>\n",
       "      <td>430097811,2005980946.jpg</td>\n",
       "      <td>GCAlEQWVFrN0SpECAJkqle41WVwlbiMZAAAB</td>\n",
       "      <td>Vest</td>\n",
       "      <td>12</td>\n",
       "      <td>NaN</td>\n",
       "      <td>2020-02-04</td>\n",
       "      <td>test</td>\n",
       "    </tr>\n",
       "    <tr>\n",
       "      <th>4</th>\n",
       "      <td>images/4/53/3469714287,432026453.jpg</td>\n",
       "      <td>3469714287,432026453.jpg</td>\n",
       "      <td>GCKSEQVFfl_GL3kAANhTTwICHxdGbiMZAAAB</td>\n",
       "      <td>Dress</td>\n",
       "      <td>11</td>\n",
       "      <td>NaN</td>\n",
       "      <td>2020-02-04</td>\n",
       "      <td>test</td>\n",
       "    </tr>\n",
       "  </tbody>\n",
       "</table>\n",
       "</div>"
      ],
      "text/plain": [
       "                                       0                          1  \\\n",
       "0   images/0/53/260975258,2323897053.jpg   260975258,2323897053.jpg   \n",
       "1  images/3/61/2976764135,2716435361.jpg  2976764135,2716435361.jpg   \n",
       "2  images/9/51/2289770356,3952390951.jpg  2289770356,3952390951.jpg   \n",
       "3   images/9/46/430097811,2005980946.jpg   430097811,2005980946.jpg   \n",
       "4   images/4/53/3469714287,432026453.jpg   3469714287,432026453.jpg   \n",
       "\n",
       "                                      2        3   4    5           6     7  \n",
       "0  GOotBwWSElDZtFsAAGshNhrA9hdEbiMZAAAB   Jacket   7  0.0  2020-02-04   val  \n",
       "1  GProEQWGvjYQw6kAAK1c8Yf51zpabiMZAAAB   Jacket   7  0.0  2020-02-04   val  \n",
       "2  GO3cCwUP8P3SX28AANt4RxtOHgYmbiMZAAAB  T-Shirt   0  NaN  2020-02-04  test  \n",
       "3  GCAlEQWVFrN0SpECAJkqle41WVwlbiMZAAAB     Vest  12  NaN  2020-02-04  test  \n",
       "4  GCKSEQVFfl_GL3kAANhTTwICHxdGbiMZAAAB    Dress  11  NaN  2020-02-04  test  "
      ]
     },
     "execution_count": 27,
     "metadata": {},
     "output_type": "execute_result"
    }
   ],
   "source": [
    "ldf = pd.read_csv('/home/krsharma/ClassificationImageText/trained_models/clothing1m_10e/robustnoiserank/clothing-256d_emb/eluo_clothing1m_everstore_handle_with_label_and_type.csv', header=None)\n",
    "\n",
    "ldf.head()\n"
   ]
  },
  {
   "cell_type": "code",
   "execution_count": 28,
   "metadata": {},
   "outputs": [
    {
     "data": {
      "text/plain": [
       "72713.64285714286"
      ]
     },
     "execution_count": 28,
     "metadata": {},
     "output_type": "execute_result"
    }
   ],
   "source": [
    "np.unique(ldf[4], return_counts=True)[1].mean() # .mean()"
   ]
  },
  {
   "cell_type": "code",
   "execution_count": 29,
   "metadata": {},
   "outputs": [
    {
     "name": "stdout",
     "output_type": "stream",
     "text": [
      "141.59449141827517\n",
      "269.65467334563823\n",
      "299.75156379909015\n"
     ]
    }
   ],
   "source": [
    "# 200\n",
    "K = np.sqrt(20049)\n",
    "print(K)\n",
    "\n",
    "K = np.sqrt(72713.64285714286)\n",
    "print(K)\n",
    "\n",
    "K = np.sqrt(89851)\n",
    "print(K)"
   ]
  },
  {
   "cell_type": "code",
   "execution_count": 30,
   "metadata": {},
   "outputs": [],
   "source": [
    "ldict = dict(zip(ldf[2], ldf[4]))"
   ]
  },
  {
   "cell_type": "code",
   "execution_count": 31,
   "metadata": {},
   "outputs": [],
   "source": [
    "df['label'] = df['eid'].apply(lambda x: ldict[x])"
   ]
  },
  {
   "cell_type": "code",
   "execution_count": 32,
   "metadata": {},
   "outputs": [
    {
     "data": {
      "text/html": [
       "<div>\n",
       "<style scoped>\n",
       "    .dataframe tbody tr th:only-of-type {\n",
       "        vertical-align: middle;\n",
       "    }\n",
       "\n",
       "    .dataframe tbody tr th {\n",
       "        vertical-align: top;\n",
       "    }\n",
       "\n",
       "    .dataframe thead th {\n",
       "        text-align: right;\n",
       "    }\n",
       "</style>\n",
       "<table border=\"1\" class=\"dataframe\">\n",
       "  <thead>\n",
       "    <tr style=\"text-align: right;\">\n",
       "      <th></th>\n",
       "      <th>sid</th>\n",
       "      <th>eid</th>\n",
       "      <th>label</th>\n",
       "    </tr>\n",
       "  </thead>\n",
       "  <tbody>\n",
       "    <tr>\n",
       "      <th>0</th>\n",
       "      <td>0</td>\n",
       "      <td>GDoyEQUtQxd01jACALJMfB_0WrxjbiMZAAAB</td>\n",
       "      <td>13</td>\n",
       "    </tr>\n",
       "    <tr>\n",
       "      <th>1</th>\n",
       "      <td>1</td>\n",
       "      <td>GNK5EQVrDdu7pcsCAKZh3_qxRyEAbiMZAAAB</td>\n",
       "      <td>3</td>\n",
       "    </tr>\n",
       "    <tr>\n",
       "      <th>2</th>\n",
       "      <td>2</td>\n",
       "      <td>GPDHFAWlrY28t9ICAO5LPJxb4xsxbiMZAAAB</td>\n",
       "      <td>13</td>\n",
       "    </tr>\n",
       "    <tr>\n",
       "      <th>3</th>\n",
       "      <td>3</td>\n",
       "      <td>GLMtEAWodQHs4qwAALnKwegHDsknbiMZAAAB</td>\n",
       "      <td>8</td>\n",
       "    </tr>\n",
       "    <tr>\n",
       "      <th>4</th>\n",
       "      <td>4</td>\n",
       "      <td>GBgX5QQ0Rri3QJwAAMBVW0O6Quo0biMZAAAB</td>\n",
       "      <td>0</td>\n",
       "    </tr>\n",
       "  </tbody>\n",
       "</table>\n",
       "</div>"
      ],
      "text/plain": [
       "   sid                                   eid  label\n",
       "0    0  GDoyEQUtQxd01jACALJMfB_0WrxjbiMZAAAB     13\n",
       "1    1  GNK5EQVrDdu7pcsCAKZh3_qxRyEAbiMZAAAB      3\n",
       "2    2  GPDHFAWlrY28t9ICAO5LPJxb4xsxbiMZAAAB     13\n",
       "3    3  GLMtEAWodQHs4qwAALnKwegHDsknbiMZAAAB      8\n",
       "4    4  GBgX5QQ0Rri3QJwAAMBVW0O6Quo0biMZAAAB      0"
      ]
     },
     "execution_count": 32,
     "metadata": {},
     "output_type": "execute_result"
    }
   ],
   "source": [
    "df.head()"
   ]
  },
  {
   "cell_type": "code",
   "execution_count": 33,
   "metadata": {},
   "outputs": [],
   "source": [
    "emb = np.vstack([d[0], d2[0]])"
   ]
  },
  {
   "cell_type": "code",
   "execution_count": 34,
   "metadata": {},
   "outputs": [
    {
     "data": {
      "text/html": [
       "<div>\n",
       "<style scoped>\n",
       "    .dataframe tbody tr th:only-of-type {\n",
       "        vertical-align: middle;\n",
       "    }\n",
       "\n",
       "    .dataframe tbody tr th {\n",
       "        vertical-align: top;\n",
       "    }\n",
       "\n",
       "    .dataframe thead th {\n",
       "        text-align: right;\n",
       "    }\n",
       "</style>\n",
       "<table border=\"1\" class=\"dataframe\">\n",
       "  <thead>\n",
       "    <tr style=\"text-align: right;\">\n",
       "      <th></th>\n",
       "      <th>sid</th>\n",
       "      <th>eid</th>\n",
       "      <th>label</th>\n",
       "      <th>emb</th>\n",
       "    </tr>\n",
       "  </thead>\n",
       "  <tbody>\n",
       "    <tr>\n",
       "      <th>0</th>\n",
       "      <td>0</td>\n",
       "      <td>GDoyEQUtQxd01jACALJMfB_0WrxjbiMZAAAB</td>\n",
       "      <td>13</td>\n",
       "      <td>[0.664, -0.476, -1.639, 0.314, -0.354, -1.087,...</td>\n",
       "    </tr>\n",
       "    <tr>\n",
       "      <th>1</th>\n",
       "      <td>1</td>\n",
       "      <td>GNK5EQVrDdu7pcsCAKZh3_qxRyEAbiMZAAAB</td>\n",
       "      <td>3</td>\n",
       "      <td>[-1.596, 2.179, 0.033, -0.349, -0.972, -1.686,...</td>\n",
       "    </tr>\n",
       "    <tr>\n",
       "      <th>2</th>\n",
       "      <td>2</td>\n",
       "      <td>GPDHFAWlrY28t9ICAO5LPJxb4xsxbiMZAAAB</td>\n",
       "      <td>13</td>\n",
       "      <td>[1.366, -0.64, -0.376, 0.742, 1.742, 0.262, -0...</td>\n",
       "    </tr>\n",
       "    <tr>\n",
       "      <th>3</th>\n",
       "      <td>3</td>\n",
       "      <td>GLMtEAWodQHs4qwAALnKwegHDsknbiMZAAAB</td>\n",
       "      <td>8</td>\n",
       "      <td>[-1.614, 2.128, 1.153, -1.956, -0.706, 0.894, ...</td>\n",
       "    </tr>\n",
       "    <tr>\n",
       "      <th>4</th>\n",
       "      <td>4</td>\n",
       "      <td>GBgX5QQ0Rri3QJwAAMBVW0O6Quo0biMZAAAB</td>\n",
       "      <td>0</td>\n",
       "      <td>[-0.519, 0.575, 1.326, -0.446, 0.174, 1.367, 0...</td>\n",
       "    </tr>\n",
       "  </tbody>\n",
       "</table>\n",
       "</div>"
      ],
      "text/plain": [
       "   sid                                   eid  label  \\\n",
       "0    0  GDoyEQUtQxd01jACALJMfB_0WrxjbiMZAAAB     13   \n",
       "1    1  GNK5EQVrDdu7pcsCAKZh3_qxRyEAbiMZAAAB      3   \n",
       "2    2  GPDHFAWlrY28t9ICAO5LPJxb4xsxbiMZAAAB     13   \n",
       "3    3  GLMtEAWodQHs4qwAALnKwegHDsknbiMZAAAB      8   \n",
       "4    4  GBgX5QQ0Rri3QJwAAMBVW0O6Quo0biMZAAAB      0   \n",
       "\n",
       "                                                 emb  \n",
       "0  [0.664, -0.476, -1.639, 0.314, -0.354, -1.087,...  \n",
       "1  [-1.596, 2.179, 0.033, -0.349, -0.972, -1.686,...  \n",
       "2  [1.366, -0.64, -0.376, 0.742, 1.742, 0.262, -0...  \n",
       "3  [-1.614, 2.128, 1.153, -1.956, -0.706, 0.894, ...  \n",
       "4  [-0.519, 0.575, 1.326, -0.446, 0.174, 1.367, 0...  "
      ]
     },
     "execution_count": 34,
     "metadata": {},
     "output_type": "execute_result"
    }
   ],
   "source": [
    "df['emb'] = list(np.round(emb, 3))\n",
    "df.head()"
   ]
  },
  {
   "cell_type": "code",
   "execution_count": 35,
   "metadata": {},
   "outputs": [],
   "source": [
    "df['emb'] = df['emb'].apply(lambda x: \",\".join(map(str, x)))"
   ]
  },
  {
   "cell_type": "code",
   "execution_count": 36,
   "metadata": {},
   "outputs": [
    {
     "data": {
      "text/html": [
       "<div>\n",
       "<style scoped>\n",
       "    .dataframe tbody tr th:only-of-type {\n",
       "        vertical-align: middle;\n",
       "    }\n",
       "\n",
       "    .dataframe tbody tr th {\n",
       "        vertical-align: top;\n",
       "    }\n",
       "\n",
       "    .dataframe thead th {\n",
       "        text-align: right;\n",
       "    }\n",
       "</style>\n",
       "<table border=\"1\" class=\"dataframe\">\n",
       "  <thead>\n",
       "    <tr style=\"text-align: right;\">\n",
       "      <th></th>\n",
       "      <th>sid</th>\n",
       "      <th>eid</th>\n",
       "      <th>label</th>\n",
       "      <th>emb</th>\n",
       "    </tr>\n",
       "  </thead>\n",
       "  <tbody>\n",
       "    <tr>\n",
       "      <th>0</th>\n",
       "      <td>0</td>\n",
       "      <td>GDoyEQUtQxd01jACALJMfB_0WrxjbiMZAAAB</td>\n",
       "      <td>13</td>\n",
       "      <td>0.664,-0.476,-1.639,0.314,-0.354,-1.087,0.202,...</td>\n",
       "    </tr>\n",
       "    <tr>\n",
       "      <th>1</th>\n",
       "      <td>1</td>\n",
       "      <td>GNK5EQVrDdu7pcsCAKZh3_qxRyEAbiMZAAAB</td>\n",
       "      <td>3</td>\n",
       "      <td>-1.596,2.179,0.033,-0.349,-0.972,-1.686,0.054,...</td>\n",
       "    </tr>\n",
       "    <tr>\n",
       "      <th>2</th>\n",
       "      <td>2</td>\n",
       "      <td>GPDHFAWlrY28t9ICAO5LPJxb4xsxbiMZAAAB</td>\n",
       "      <td>13</td>\n",
       "      <td>1.366,-0.64,-0.376,0.742,1.742,0.262,-0.938,0....</td>\n",
       "    </tr>\n",
       "    <tr>\n",
       "      <th>3</th>\n",
       "      <td>3</td>\n",
       "      <td>GLMtEAWodQHs4qwAALnKwegHDsknbiMZAAAB</td>\n",
       "      <td>8</td>\n",
       "      <td>-1.614,2.128,1.153,-1.956,-0.706,0.894,0.579,-...</td>\n",
       "    </tr>\n",
       "    <tr>\n",
       "      <th>4</th>\n",
       "      <td>4</td>\n",
       "      <td>GBgX5QQ0Rri3QJwAAMBVW0O6Quo0biMZAAAB</td>\n",
       "      <td>0</td>\n",
       "      <td>-0.519,0.575,1.326,-0.446,0.174,1.367,0.89,0.0...</td>\n",
       "    </tr>\n",
       "  </tbody>\n",
       "</table>\n",
       "</div>"
      ],
      "text/plain": [
       "   sid                                   eid  label  \\\n",
       "0    0  GDoyEQUtQxd01jACALJMfB_0WrxjbiMZAAAB     13   \n",
       "1    1  GNK5EQVrDdu7pcsCAKZh3_qxRyEAbiMZAAAB      3   \n",
       "2    2  GPDHFAWlrY28t9ICAO5LPJxb4xsxbiMZAAAB     13   \n",
       "3    3  GLMtEAWodQHs4qwAALnKwegHDsknbiMZAAAB      8   \n",
       "4    4  GBgX5QQ0Rri3QJwAAMBVW0O6Quo0biMZAAAB      0   \n",
       "\n",
       "                                                 emb  \n",
       "0  0.664,-0.476,-1.639,0.314,-0.354,-1.087,0.202,...  \n",
       "1  -1.596,2.179,0.033,-0.349,-0.972,-1.686,0.054,...  \n",
       "2  1.366,-0.64,-0.376,0.742,1.742,0.262,-0.938,0....  \n",
       "3  -1.614,2.128,1.153,-1.956,-0.706,0.894,0.579,-...  \n",
       "4  -0.519,0.575,1.326,-0.446,0.174,1.367,0.89,0.0...  "
      ]
     },
     "execution_count": 36,
     "metadata": {},
     "output_type": "execute_result"
    }
   ],
   "source": [
    "df.head()"
   ]
  },
  {
   "cell_type": "code",
   "execution_count": 39,
   "metadata": {},
   "outputs": [],
   "source": [
    "df.to_csv('/home/krsharma/ClassificationImageText/trained_models/clothing1m_10e/robustnoiserank/clothing-256d_round1/cleannet_all_256d.tsv', sep='\\t', index=False, header=None)\n",
    "\n",
    "\n"
   ]
  },
  {
   "cell_type": "markdown",
   "metadata": {},
   "source": [
    "# Evaluate robustnoiserank"
   ]
  },
  {
   "cell_type": "code",
   "execution_count": 38,
   "metadata": {},
   "outputs": [
    {
     "data": {
      "text/plain": [
       "'GDoyEQUtQxd01jACALJMfB_0WrxjbiMZAAAB'"
      ]
     },
     "execution_count": 38,
     "metadata": {},
     "output_type": "execute_result"
    }
   ],
   "source": [
    "cleannet_all_256d = pd.read_csv(path + '/cleannet_all_256d.tsv', header=None, sep='\\t')\n",
    "\n",
    "cleannet_all_256d_df = cleannet_all_256d[[0, 1, 2]]\n",
    "\n",
    "cleannet_all_256d_df.head()\n",
    "\n",
    "everstore_mapping = dict(zip(cleannet_all_256d_df[0], cleannet_all_256d_df[1]))\n",
    "everstore_mapping[0]"
   ]
  },
  {
   "cell_type": "code",
   "execution_count": 48,
   "metadata": {},
   "outputs": [
    {
     "data": {
      "text/html": [
       "<div>\n",
       "<style scoped>\n",
       "    .dataframe tbody tr th:only-of-type {\n",
       "        vertical-align: middle;\n",
       "    }\n",
       "\n",
       "    .dataframe tbody tr th {\n",
       "        vertical-align: top;\n",
       "    }\n",
       "\n",
       "    .dataframe thead th {\n",
       "        text-align: right;\n",
       "    }\n",
       "</style>\n",
       "<table border=\"1\" class=\"dataframe\">\n",
       "  <thead>\n",
       "    <tr style=\"text-align: right;\">\n",
       "      <th></th>\n",
       "      <th>0</th>\n",
       "      <th>1</th>\n",
       "      <th>2</th>\n",
       "      <th>3</th>\n",
       "      <th>4</th>\n",
       "      <th>5</th>\n",
       "      <th>6</th>\n",
       "      <th>7</th>\n",
       "    </tr>\n",
       "  </thead>\n",
       "  <tbody>\n",
       "    <tr>\n",
       "      <th>0</th>\n",
       "      <td>images/0/53/260975258,2323897053.jpg</td>\n",
       "      <td>260975258,2323897053.jpg</td>\n",
       "      <td>GOotBwWSElDZtFsAAGshNhrA9hdEbiMZAAAB</td>\n",
       "      <td>Jacket</td>\n",
       "      <td>7</td>\n",
       "      <td>0.0</td>\n",
       "      <td>2020-02-04</td>\n",
       "      <td>val</td>\n",
       "    </tr>\n",
       "    <tr>\n",
       "      <th>1</th>\n",
       "      <td>images/3/61/2976764135,2716435361.jpg</td>\n",
       "      <td>2976764135,2716435361.jpg</td>\n",
       "      <td>GProEQWGvjYQw6kAAK1c8Yf51zpabiMZAAAB</td>\n",
       "      <td>Jacket</td>\n",
       "      <td>7</td>\n",
       "      <td>0.0</td>\n",
       "      <td>2020-02-04</td>\n",
       "      <td>val</td>\n",
       "    </tr>\n",
       "    <tr>\n",
       "      <th>2</th>\n",
       "      <td>images/9/51/2289770356,3952390951.jpg</td>\n",
       "      <td>2289770356,3952390951.jpg</td>\n",
       "      <td>GO3cCwUP8P3SX28AANt4RxtOHgYmbiMZAAAB</td>\n",
       "      <td>T-Shirt</td>\n",
       "      <td>0</td>\n",
       "      <td>NaN</td>\n",
       "      <td>2020-02-04</td>\n",
       "      <td>test</td>\n",
       "    </tr>\n",
       "    <tr>\n",
       "      <th>3</th>\n",
       "      <td>images/9/46/430097811,2005980946.jpg</td>\n",
       "      <td>430097811,2005980946.jpg</td>\n",
       "      <td>GCAlEQWVFrN0SpECAJkqle41WVwlbiMZAAAB</td>\n",
       "      <td>Vest</td>\n",
       "      <td>12</td>\n",
       "      <td>NaN</td>\n",
       "      <td>2020-02-04</td>\n",
       "      <td>test</td>\n",
       "    </tr>\n",
       "    <tr>\n",
       "      <th>4</th>\n",
       "      <td>images/4/53/3469714287,432026453.jpg</td>\n",
       "      <td>3469714287,432026453.jpg</td>\n",
       "      <td>GCKSEQVFfl_GL3kAANhTTwICHxdGbiMZAAAB</td>\n",
       "      <td>Dress</td>\n",
       "      <td>11</td>\n",
       "      <td>NaN</td>\n",
       "      <td>2020-02-04</td>\n",
       "      <td>test</td>\n",
       "    </tr>\n",
       "  </tbody>\n",
       "</table>\n",
       "</div>"
      ],
      "text/plain": [
       "                                       0                          1  \\\n",
       "0   images/0/53/260975258,2323897053.jpg   260975258,2323897053.jpg   \n",
       "1  images/3/61/2976764135,2716435361.jpg  2976764135,2716435361.jpg   \n",
       "2  images/9/51/2289770356,3952390951.jpg  2289770356,3952390951.jpg   \n",
       "3   images/9/46/430097811,2005980946.jpg   430097811,2005980946.jpg   \n",
       "4   images/4/53/3469714287,432026453.jpg   3469714287,432026453.jpg   \n",
       "\n",
       "                                      2        3   4    5           6     7  \n",
       "0  GOotBwWSElDZtFsAAGshNhrA9hdEbiMZAAAB   Jacket   7  0.0  2020-02-04   val  \n",
       "1  GProEQWGvjYQw6kAAK1c8Yf51zpabiMZAAAB   Jacket   7  0.0  2020-02-04   val  \n",
       "2  GO3cCwUP8P3SX28AANt4RxtOHgYmbiMZAAAB  T-Shirt   0  NaN  2020-02-04  test  \n",
       "3  GCAlEQWVFrN0SpECAJkqle41WVwlbiMZAAAB     Vest  12  NaN  2020-02-04  test  \n",
       "4  GCKSEQVFfl_GL3kAANhTTwICHxdGbiMZAAAB    Dress  11  NaN  2020-02-04  test  "
      ]
     },
     "execution_count": 48,
     "metadata": {},
     "output_type": "execute_result"
    }
   ],
   "source": [
    "dict_noisylabel = dict(zip(ldf[0], ldf[4]))\n",
    "dict_everstorehandle = dict(zip(ldf[0], ldf[2]))\n",
    "ldf.head()"
   ]
  },
  {
   "cell_type": "code",
   "execution_count": 19,
   "metadata": {},
   "outputs": [
    {
     "data": {
      "text/plain": [
       "(7465,                                        0                          1  \\\n",
       " 0   images/0/53/260975258,2323897053.jpg   260975258,2323897053.jpg   \n",
       " 1  images/3/61/2976764135,2716435361.jpg  2976764135,2716435361.jpg   \n",
       " 5  images/0/61/2084697051,3460346061.jpg  2084697051,3460346061.jpg   \n",
       " 6    images/4/45/1970005206,57268445.jpg    1970005206,57268445.jpg   \n",
       " 7   images/9/45/3795980266,517718945.jpg   3795980266,517718945.jpg   \n",
       " \n",
       "                                       2       3  4    5           6    7  \n",
       " 0  GOotBwWSElDZtFsAAGshNhrA9hdEbiMZAAAB  Jacket  7  0.0  2020-02-04  val  \n",
       " 1  GProEQWGvjYQw6kAAK1c8Yf51zpabiMZAAAB  Jacket  7  0.0  2020-02-04  val  \n",
       " 5  GEMWEgUop6FFgmoAAJa94brcVmQrbiMZAAAB  Jacket  7  0.0  2020-02-04  val  \n",
       " 6  GNi3DwVh9M2U95wAAIYARk8RzqpEbiMZAAAB  Jacket  7  0.0  2020-02-04  val  \n",
       " 7  GOjYEAXTDWHbKNQAABY6FZpR1tgabiMZAAAB  Jacket  7  1.0  2020-02-04  val  )"
      ]
     },
     "execution_count": 19,
     "metadata": {},
     "output_type": "execute_result"
    }
   ],
   "source": [
    "val = ldf[ldf[7] == 'val']\n",
    "len(val), val.head()"
   ]
  },
  {
   "cell_type": "code",
   "execution_count": 80,
   "metadata": {},
   "outputs": [
    {
     "name": "stdout",
     "output_type": "stream",
     "text": [
      "277161\n",
      "['GEa6EwXdt-4vCBABANIEXWabrZENbiMZAAAB', 'GEr3EAUKT1mdjLAAAJ0S6hMQyo58biMZAAAB', 'GB7RXwTOQCW5IWoCAAtANBAS254SbiMZAAAB', 'GBlcAgWMRCjqH5UAAB5fXwMwMmF0biMZAAAB', 'GJqrEAXR9OM1HPYCABTo_blaQ2t3biMZAAAB'] 277161\n",
      "[533066. 322306. 708568. 804783. 671484. 300050.  64817. 991509.]\n"
     ]
    }
   ],
   "source": [
    "detected = np.loadtxt(path + 'results_200/k=50_a=0.5_bf=1.0_b=1.0_e=2.0.txt')\n",
    "\n",
    "print(len(detected))\n",
    "\n",
    "# 342202 \n",
    "# 633645 k=250_a=0.5_bf=1.0_b=1.0_e=2.0.txt\n",
    "\n",
    "detected_noise_everstore = [everstore_mapping[d] for d in detected]\n",
    "print(detected_noise_everstore[0:5], len(detected_noise_everstore))\n",
    "\n",
    "print(detected[0:8])"
   ]
  },
  {
   "cell_type": "code",
   "execution_count": 81,
   "metadata": {},
   "outputs": [
    {
     "name": "stdout",
     "output_type": "stream",
     "text": [
      "P/R/F1 (noise) (0.6944625407166124, 0.7418232428670842, 0.7173620457604307, None)\n",
      "f1_metrics (macro/unweighted mean) 0.7652022781662158\n",
      "avg accuracy over classes 0.7718288428116713 AvgErrorRate 0.2281711571883287\n"
     ]
    },
    {
     "name": "stderr",
     "output_type": "stream",
     "text": [
      "/home/krsharma/miniconda3/envs/bert/lib/python3.7/site-packages/ipykernel_launcher.py:3: SettingWithCopyWarning: \n",
      "A value is trying to be set on a copy of a slice from a DataFrame.\n",
      "Try using .loc[row_indexer,col_indexer] = value instead\n",
      "\n",
      "See the caveats in the documentation: http://pandas.pydata.org/pandas-docs/stable/user_guide/indexing.html#returning-a-view-versus-a-copy\n",
      "  This is separate from the ipykernel package so we can avoid doing imports until\n"
     ]
    }
   ],
   "source": [
    "set_detected_noise = set(detected_noise_everstore)\n",
    "\n",
    "val['detected_label'] = val[2].apply(lambda x: 0.0 if x in set_detected_noise else 1.0)\n",
    "val.head()\n",
    "\n",
    "vlabels = np.array(val[5], dtype=np.int32)\n",
    "preds = np.array(val['detected_label'], dtype=np.int32)\n",
    "classes = np.array(val[4], dtype=np.int32)\n",
    "\n",
    "from sklearn.metrics import f1_score, classification_report, precision_recall_fscore_support\n",
    "\n",
    "def report_metrics(targets, preds, classes):\n",
    "    C = np.max(classes) + 1\n",
    "    per_class_accuracies = np.zeros((C,))\n",
    "    for c in range(C):\n",
    "        ind = np.where(classes == c)[0]\n",
    "        class_acc = f1_score(targets[ind], preds[ind], average='micro')\n",
    "        per_class_accuracies[c] = class_acc\n",
    "    \n",
    "    print('P/R/F1 (noise)', precision_recall_fscore_support(targets, preds, pos_label=0, average='binary'))\n",
    "    print('f1_metrics (macro/unweighted mean)', f1_score(targets, preds, average='macro'))\n",
    "    acc_classes = np.mean(per_class_accuracies)\n",
    "    print('avg accuracy over classes', acc_classes, 'AvgErrorRate', 1 - acc_classes)\n",
    "    \n",
    "    report_additional = False\n",
    "    if report_additional:\n",
    "        print()\n",
    "        acc = f1_score(targets, preds, average='micro')\n",
    "        print('f1_metrics (accuracy/micro)', acc, 'ErrorRate', 1 - acc)\n",
    "        print('P/R/F1 (clean)', precision_recall_fscore_support(targets, preds, pos_label=1, average='binary'))\n",
    "        print('f1_metrics (weighted mean of f1)', f1_score(targets, preds, average='weighted'))\n",
    "    # cr = classification_report(targets, preds)\n",
    "\n",
    "report_metrics(vlabels, preds, classes)"
   ]
  },
  {
   "cell_type": "code",
   "execution_count": null,
   "metadata": {},
   "outputs": [],
   "source": [
    "results_100\n",
    "\n",
    "\n",
    "ROUND1=50P/R/F1 (noise) (0.6809045226130653, 0.7543493389004872, 0.7157477715417631, None)\n",
    "f1_metrics (macro/unweighted mean) 0.7608269966816119\n",
    "avg accuracy over classes 0.7656435274605865 AvgErrorRate 0.2343564725394135\n",
    "\n",
    "*342202 detected = np.loadtxt('/home/krsharma/ClassificationImageText/trained_models/clothing1m_10e/robustnoiserank/clothing-256d_emb/results_100/k=100_a=0.5_bf=1.0_b=1.0_e=2.0.txt')\n",
    "\n",
    "P/R/F1 (noise) (0.6354902514834699, 0.7825330549756437, 0.7013878060190238, None)\n",
    "f1_metrics (macro/unweighted mean) 0.738271688614772\n",
    "avg accuracy over classes 0.7441506457285033 AvgErrorRate 0.2558493542714967\n",
    "\n",
    "\n",
    "results_190/200\n",
    "\n",
    "10P/R/F1 (noise) (0.7016460905349794, 0.7118997912317327, 0.7067357512953367, None)\n",
    "f1_metrics (macro/unweighted mean) 0.7604794730218478\n",
    "avg accuracy over classes 0.7670790818470609 AvgErrorRate 0.23292091815293914\n",
    "\n",
    "20P/R/F1 (noise) (0.6984605087014726, 0.7261656228253306, 0.7120436711020129, None)\n",
    "f1_metrics (macro/unweighted mean) 0.7629472876903978\n",
    "avg accuracy over classes 0.7695333479127294 AvgErrorRate 0.23046665208727057\n",
    "\n",
    "**ROUND1=50P/R/F1 (noise) (0.6944625407166124, 0.7418232428670842, 0.7173620457604307, None)\n",
    "f1_metrics (macro/unweighted mean) 0.7652022781662158\n",
    "avg accuracy over classes 0.7718288428116713 AvgErrorRate 0.2281711571883287\n",
    "\n",
    "P/R/F1 (noise) (0.6837311557788944, 0.7574808629088379, 0.7187190491911521, None)\n",
    "f1_metrics (macro/unweighted mean) 0.7633270629183895\n",
    "avg accuracy over classes 0.7690530501167325 AvgErrorRate 0.23094694988326747\n",
    "\n",
    "P/R/F1 (noise) (0.6450070323488045, 0.7978427279053584, 0.7133302224296157, None)\n",
    "f1_metrics (macro/unweighted mean) 0.7482660993338527\n",
    "avg accuracy over classes 0.7542679293459138 AvgErrorRate 0.2457320706540862\n",
    "\n",
    "**247021 detected = np.loadtxt('/home/krsharma/ClassificationImageText/trained_models/clothing1m_10e/robustnoiserank/clothing-256d_emb/results_190/k=50_a=0.5_bf=1.0_b=1.0_e=2.0.txt')\n",
    "\n",
    "P/R/F1 (noise) (0.7011772853185596, 0.7045929018789144, 0.7028809441166263, None)\n",
    "f1_metrics (macro/unweighted mean) 0.7580722347110183\n",
    "avg accuracy over classes 0.7645810177532378 AvgErrorRate 0.23541898224676217\n",
    "\n",
    "detected = np.loadtxt('/home/krsharma/ClassificationImageText/trained_models/clothing1m_10e/robustnoiserank/clothing-256d_emb/results_190/k=100_a=0.5_bf=1.0_b=1.0_e=2.0.txt')\n",
    "\n",
    "P/R/F1 (noise) (0.6735020826658122, 0.7313848295059151, 0.7012510425354462, None)\n",
    "f1_metrics (macro/unweighted mean) 0.750401682431685\n",
    "avg accuracy over classes 0.7553283437043063 AvgErrorRate 0.24467165629569365\n"
   ]
  },
  {
   "cell_type": "markdown",
   "metadata": {},
   "source": [
    "# Give detected ranked list as everstore handles\n"
   ]
  },
  {
   "cell_type": "code",
   "execution_count": 82,
   "metadata": {},
   "outputs": [],
   "source": [
    "detected = np.loadtxt(path + 'results_200/k=50_a=0.5_bf=1.0_b=1.0_e=2.0.txt')\n"
   ]
  },
  {
   "cell_type": "code",
   "execution_count": 83,
   "metadata": {},
   "outputs": [
    {
     "data": {
      "text/plain": [
       "'GDoyEQUtQxd01jACALJMfB_0WrxjbiMZAAAB'"
      ]
     },
     "execution_count": 83,
     "metadata": {},
     "output_type": "execute_result"
    }
   ],
   "source": [
    "# cleannet_all_256d.tsv everstore (matches row number)\n",
    "\n",
    "cleannet_all_256d = pd.read_csv(path + 'cleannet_all_256d.tsv', header=None, sep='\\t')\n",
    "\n",
    "cleannet_all_256d_df = cleannet_all_256d[[0, 1, 2]]\n",
    "\n",
    "cleannet_all_256d_df.head()\n",
    "\n",
    "everstore_mapping = dict(zip(cleannet_all_256d_df[0], cleannet_all_256d_df[1]))\n",
    "everstore_mapping[0]"
   ]
  },
  {
   "cell_type": "code",
   "execution_count": 84,
   "metadata": {},
   "outputs": [
    {
     "data": {
      "text/html": [
       "<div>\n",
       "<style scoped>\n",
       "    .dataframe tbody tr th:only-of-type {\n",
       "        vertical-align: middle;\n",
       "    }\n",
       "\n",
       "    .dataframe tbody tr th {\n",
       "        vertical-align: top;\n",
       "    }\n",
       "\n",
       "    .dataframe thead th {\n",
       "        text-align: right;\n",
       "    }\n",
       "</style>\n",
       "<table border=\"1\" class=\"dataframe\">\n",
       "  <thead>\n",
       "    <tr style=\"text-align: right;\">\n",
       "      <th></th>\n",
       "      <th>0</th>\n",
       "      <th>1</th>\n",
       "      <th>2</th>\n",
       "    </tr>\n",
       "  </thead>\n",
       "  <tbody>\n",
       "    <tr>\n",
       "      <th>0</th>\n",
       "      <td>0</td>\n",
       "      <td>GDoyEQUtQxd01jACALJMfB_0WrxjbiMZAAAB</td>\n",
       "      <td>13</td>\n",
       "    </tr>\n",
       "    <tr>\n",
       "      <th>1</th>\n",
       "      <td>1</td>\n",
       "      <td>GNK5EQVrDdu7pcsCAKZh3_qxRyEAbiMZAAAB</td>\n",
       "      <td>3</td>\n",
       "    </tr>\n",
       "    <tr>\n",
       "      <th>2</th>\n",
       "      <td>2</td>\n",
       "      <td>GPDHFAWlrY28t9ICAO5LPJxb4xsxbiMZAAAB</td>\n",
       "      <td>13</td>\n",
       "    </tr>\n",
       "    <tr>\n",
       "      <th>3</th>\n",
       "      <td>3</td>\n",
       "      <td>GLMtEAWodQHs4qwAALnKwegHDsknbiMZAAAB</td>\n",
       "      <td>8</td>\n",
       "    </tr>\n",
       "    <tr>\n",
       "      <th>4</th>\n",
       "      <td>4</td>\n",
       "      <td>GBgX5QQ0Rri3QJwAAMBVW0O6Quo0biMZAAAB</td>\n",
       "      <td>0</td>\n",
       "    </tr>\n",
       "  </tbody>\n",
       "</table>\n",
       "</div>"
      ],
      "text/plain": [
       "   0                                     1   2\n",
       "0  0  GDoyEQUtQxd01jACALJMfB_0WrxjbiMZAAAB  13\n",
       "1  1  GNK5EQVrDdu7pcsCAKZh3_qxRyEAbiMZAAAB   3\n",
       "2  2  GPDHFAWlrY28t9ICAO5LPJxb4xsxbiMZAAAB  13\n",
       "3  3  GLMtEAWodQHs4qwAALnKwegHDsknbiMZAAAB   8\n",
       "4  4  GBgX5QQ0Rri3QJwAAMBVW0O6Quo0biMZAAAB   0"
      ]
     },
     "execution_count": 84,
     "metadata": {},
     "output_type": "execute_result"
    }
   ],
   "source": [
    "cleannet_all_256d_df.head()"
   ]
  },
  {
   "cell_type": "code",
   "execution_count": 85,
   "metadata": {},
   "outputs": [
    {
     "data": {
      "text/plain": [
       "277161"
      ]
     },
     "execution_count": 85,
     "metadata": {},
     "output_type": "execute_result"
    }
   ],
   "source": [
    "len(detected)"
   ]
  },
  {
   "cell_type": "code",
   "execution_count": 87,
   "metadata": {},
   "outputs": [
    {
     "name": "stdout",
     "output_type": "stream",
     "text": [
      "['GEa6EwXdt-4vCBABANIEXWabrZENbiMZAAAB', 'GEr3EAUKT1mdjLAAAJ0S6hMQyo58biMZAAAB', 'GB7RXwTOQCW5IWoCAAtANBAS254SbiMZAAAB', 'GBlcAgWMRCjqH5UAAB5fXwMwMmF0biMZAAAB', 'GJqrEAXR9OM1HPYCABTo_blaQ2t3biMZAAAB', 'GDP5EQX7kBJrmuUBAGap_YuekPIqbiMZAAAB', 'GBEQAwUWj63KYZcAAFlk06OknP5NbiMZAAAB', 'GBmrEgV-vQXeHe8AACjcOPf5qudKbiMZAAAB', 'GIYWEQUCMkFqltEAAK36S-YQPT44biMZAAAB', 'GD4JAQWONdCzFCwFALU6A-iIjnALbiMZAAAB'] 277161\n"
     ]
    }
   ],
   "source": [
    "eranked = [everstore_mapping[d] for d in detected]\n",
    "print(eranked[0:10], len(eranked))"
   ]
  },
  {
   "cell_type": "code",
   "execution_count": 88,
   "metadata": {},
   "outputs": [],
   "source": [
    "np.savetxt('out.txt', eranked, fmt='%s')"
   ]
  },
  {
   "cell_type": "markdown",
   "metadata": {},
   "source": [
    "# Interpretability analysis"
   ]
  },
  {
   "cell_type": "code",
   "execution_count": 11,
   "metadata": {},
   "outputs": [],
   "source": [
    "detected = np.loadtxt(path + 'results_200/k=50_a=0.5_bf=1.0_b=1.0_e=2.0.txt')"
   ]
  },
  {
   "cell_type": "code",
   "execution_count": 12,
   "metadata": {},
   "outputs": [
    {
     "data": {
      "text/plain": [
       "'GDoyEQUtQxd01jACALJMfB_0WrxjbiMZAAAB'"
      ]
     },
     "execution_count": 12,
     "metadata": {},
     "output_type": "execute_result"
    }
   ],
   "source": [
    "# cleannet_all_256d.tsv everstore (matches row number)\n",
    "\n",
    "cleannet_all_256d = pd.read_csv(path + 'cleannet_all_256d.tsv', header=None, sep='\\t')\n",
    "\n",
    "cleannet_all_256d_df = cleannet_all_256d\n",
    "\n",
    "cleannet_all_256d_df.head()\n",
    "\n",
    "everstore_mapping = dict(zip(cleannet_all_256d_df[0], cleannet_all_256d_df[1]))\n",
    "everstore_mapping[0]"
   ]
  },
  {
   "cell_type": "code",
   "execution_count": 13,
   "metadata": {},
   "outputs": [
    {
     "data": {
      "text/html": [
       "<div>\n",
       "<style scoped>\n",
       "    .dataframe tbody tr th:only-of-type {\n",
       "        vertical-align: middle;\n",
       "    }\n",
       "\n",
       "    .dataframe tbody tr th {\n",
       "        vertical-align: top;\n",
       "    }\n",
       "\n",
       "    .dataframe thead th {\n",
       "        text-align: right;\n",
       "    }\n",
       "</style>\n",
       "<table border=\"1\" class=\"dataframe\">\n",
       "  <thead>\n",
       "    <tr style=\"text-align: right;\">\n",
       "      <th></th>\n",
       "      <th>0</th>\n",
       "      <th>1</th>\n",
       "      <th>2</th>\n",
       "      <th>3</th>\n",
       "    </tr>\n",
       "  </thead>\n",
       "  <tbody>\n",
       "    <tr>\n",
       "      <th>0</th>\n",
       "      <td>0</td>\n",
       "      <td>GDoyEQUtQxd01jACALJMfB_0WrxjbiMZAAAB</td>\n",
       "      <td>13</td>\n",
       "      <td>0.664,-0.476,-1.639,0.314,-0.354,-1.087,0.202,...</td>\n",
       "    </tr>\n",
       "    <tr>\n",
       "      <th>1</th>\n",
       "      <td>1</td>\n",
       "      <td>GNK5EQVrDdu7pcsCAKZh3_qxRyEAbiMZAAAB</td>\n",
       "      <td>3</td>\n",
       "      <td>-1.596,2.179,0.033,-0.349,-0.972,-1.686,0.054,...</td>\n",
       "    </tr>\n",
       "    <tr>\n",
       "      <th>2</th>\n",
       "      <td>2</td>\n",
       "      <td>GPDHFAWlrY28t9ICAO5LPJxb4xsxbiMZAAAB</td>\n",
       "      <td>13</td>\n",
       "      <td>1.366,-0.64,-0.376,0.742,1.742,0.262,-0.938,0....</td>\n",
       "    </tr>\n",
       "    <tr>\n",
       "      <th>3</th>\n",
       "      <td>3</td>\n",
       "      <td>GLMtEAWodQHs4qwAALnKwegHDsknbiMZAAAB</td>\n",
       "      <td>8</td>\n",
       "      <td>-1.614,2.128,1.153,-1.956,-0.706,0.894,0.579,-...</td>\n",
       "    </tr>\n",
       "    <tr>\n",
       "      <th>4</th>\n",
       "      <td>4</td>\n",
       "      <td>GBgX5QQ0Rri3QJwAAMBVW0O6Quo0biMZAAAB</td>\n",
       "      <td>0</td>\n",
       "      <td>-0.519,0.575,1.326,-0.446,0.174,1.367,0.89,0.0...</td>\n",
       "    </tr>\n",
       "  </tbody>\n",
       "</table>\n",
       "</div>"
      ],
      "text/plain": [
       "   0                                     1   2  \\\n",
       "0  0  GDoyEQUtQxd01jACALJMfB_0WrxjbiMZAAAB  13   \n",
       "1  1  GNK5EQVrDdu7pcsCAKZh3_qxRyEAbiMZAAAB   3   \n",
       "2  2  GPDHFAWlrY28t9ICAO5LPJxb4xsxbiMZAAAB  13   \n",
       "3  3  GLMtEAWodQHs4qwAALnKwegHDsknbiMZAAAB   8   \n",
       "4  4  GBgX5QQ0Rri3QJwAAMBVW0O6Quo0biMZAAAB   0   \n",
       "\n",
       "                                                   3  \n",
       "0  0.664,-0.476,-1.639,0.314,-0.354,-1.087,0.202,...  \n",
       "1  -1.596,2.179,0.033,-0.349,-0.972,-1.686,0.054,...  \n",
       "2  1.366,-0.64,-0.376,0.742,1.742,0.262,-0.938,0....  \n",
       "3  -1.614,2.128,1.153,-1.956,-0.706,0.894,0.579,-...  \n",
       "4  -0.519,0.575,1.326,-0.446,0.174,1.367,0.89,0.0...  "
      ]
     },
     "execution_count": 13,
     "metadata": {},
     "output_type": "execute_result"
    }
   ],
   "source": [
    "cleannet_all_256d_df.head()"
   ]
  },
  {
   "cell_type": "code",
   "execution_count": 14,
   "metadata": {},
   "outputs": [
    {
     "name": "stdout",
     "output_type": "stream",
     "text": [
      "['GEa6EwXdt-4vCBABANIEXWabrZENbiMZAAAB', 'GEr3EAUKT1mdjLAAAJ0S6hMQyo58biMZAAAB', 'GB7RXwTOQCW5IWoCAAtANBAS254SbiMZAAAB', 'GBlcAgWMRCjqH5UAAB5fXwMwMmF0biMZAAAB', 'GJqrEAXR9OM1HPYCABTo_blaQ2t3biMZAAAB', 'GDP5EQX7kBJrmuUBAGap_YuekPIqbiMZAAAB', 'GBEQAwUWj63KYZcAAFlk06OknP5NbiMZAAAB', 'GBmrEgV-vQXeHe8AACjcOPf5qudKbiMZAAAB', 'GIYWEQUCMkFqltEAAK36S-YQPT44biMZAAAB', 'GD4JAQWONdCzFCwFALU6A-iIjnALbiMZAAAB'] 277161\n"
     ]
    }
   ],
   "source": [
    "eranked = [everstore_mapping[d] for d in detected]\n",
    "print(eranked[0:10], len(eranked))"
   ]
  },
  {
   "cell_type": "code",
   "execution_count": 15,
   "metadata": {},
   "outputs": [
    {
     "data": {
      "text/html": [
       "<div>\n",
       "<style scoped>\n",
       "    .dataframe tbody tr th:only-of-type {\n",
       "        vertical-align: middle;\n",
       "    }\n",
       "\n",
       "    .dataframe tbody tr th {\n",
       "        vertical-align: top;\n",
       "    }\n",
       "\n",
       "    .dataframe thead th {\n",
       "        text-align: right;\n",
       "    }\n",
       "</style>\n",
       "<table border=\"1\" class=\"dataframe\">\n",
       "  <thead>\n",
       "    <tr style=\"text-align: right;\">\n",
       "      <th></th>\n",
       "      <th>0</th>\n",
       "      <th>1</th>\n",
       "      <th>2</th>\n",
       "      <th>3</th>\n",
       "      <th>4</th>\n",
       "      <th>5</th>\n",
       "      <th>6</th>\n",
       "      <th>7</th>\n",
       "    </tr>\n",
       "  </thead>\n",
       "  <tbody>\n",
       "    <tr>\n",
       "      <th>0</th>\n",
       "      <td>images/0/53/260975258,2323897053.jpg</td>\n",
       "      <td>260975258,2323897053.jpg</td>\n",
       "      <td>GOotBwWSElDZtFsAAGshNhrA9hdEbiMZAAAB</td>\n",
       "      <td>Jacket</td>\n",
       "      <td>7</td>\n",
       "      <td>0.0</td>\n",
       "      <td>2020-02-04</td>\n",
       "      <td>val</td>\n",
       "    </tr>\n",
       "    <tr>\n",
       "      <th>1</th>\n",
       "      <td>images/3/61/2976764135,2716435361.jpg</td>\n",
       "      <td>2976764135,2716435361.jpg</td>\n",
       "      <td>GProEQWGvjYQw6kAAK1c8Yf51zpabiMZAAAB</td>\n",
       "      <td>Jacket</td>\n",
       "      <td>7</td>\n",
       "      <td>0.0</td>\n",
       "      <td>2020-02-04</td>\n",
       "      <td>val</td>\n",
       "    </tr>\n",
       "    <tr>\n",
       "      <th>2</th>\n",
       "      <td>images/9/51/2289770356,3952390951.jpg</td>\n",
       "      <td>2289770356,3952390951.jpg</td>\n",
       "      <td>GO3cCwUP8P3SX28AANt4RxtOHgYmbiMZAAAB</td>\n",
       "      <td>T-Shirt</td>\n",
       "      <td>0</td>\n",
       "      <td>NaN</td>\n",
       "      <td>2020-02-04</td>\n",
       "      <td>test</td>\n",
       "    </tr>\n",
       "    <tr>\n",
       "      <th>3</th>\n",
       "      <td>images/9/46/430097811,2005980946.jpg</td>\n",
       "      <td>430097811,2005980946.jpg</td>\n",
       "      <td>GCAlEQWVFrN0SpECAJkqle41WVwlbiMZAAAB</td>\n",
       "      <td>Vest</td>\n",
       "      <td>12</td>\n",
       "      <td>NaN</td>\n",
       "      <td>2020-02-04</td>\n",
       "      <td>test</td>\n",
       "    </tr>\n",
       "    <tr>\n",
       "      <th>4</th>\n",
       "      <td>images/4/53/3469714287,432026453.jpg</td>\n",
       "      <td>3469714287,432026453.jpg</td>\n",
       "      <td>GCKSEQVFfl_GL3kAANhTTwICHxdGbiMZAAAB</td>\n",
       "      <td>Dress</td>\n",
       "      <td>11</td>\n",
       "      <td>NaN</td>\n",
       "      <td>2020-02-04</td>\n",
       "      <td>test</td>\n",
       "    </tr>\n",
       "  </tbody>\n",
       "</table>\n",
       "</div>"
      ],
      "text/plain": [
       "                                       0                          1  \\\n",
       "0   images/0/53/260975258,2323897053.jpg   260975258,2323897053.jpg   \n",
       "1  images/3/61/2976764135,2716435361.jpg  2976764135,2716435361.jpg   \n",
       "2  images/9/51/2289770356,3952390951.jpg  2289770356,3952390951.jpg   \n",
       "3   images/9/46/430097811,2005980946.jpg   430097811,2005980946.jpg   \n",
       "4   images/4/53/3469714287,432026453.jpg   3469714287,432026453.jpg   \n",
       "\n",
       "                                      2        3   4    5           6     7  \n",
       "0  GOotBwWSElDZtFsAAGshNhrA9hdEbiMZAAAB   Jacket   7  0.0  2020-02-04   val  \n",
       "1  GProEQWGvjYQw6kAAK1c8Yf51zpabiMZAAAB   Jacket   7  0.0  2020-02-04   val  \n",
       "2  GO3cCwUP8P3SX28AANt4RxtOHgYmbiMZAAAB  T-Shirt   0  NaN  2020-02-04  test  \n",
       "3  GCAlEQWVFrN0SpECAJkqle41WVwlbiMZAAAB     Vest  12  NaN  2020-02-04  test  \n",
       "4  GCKSEQVFfl_GL3kAANhTTwICHxdGbiMZAAAB    Dress  11  NaN  2020-02-04  test  "
      ]
     },
     "execution_count": 15,
     "metadata": {},
     "output_type": "execute_result"
    }
   ],
   "source": [
    "ldf = pd.read_csv('/home/krsharma/ClassificationImageText/trained_models/clothing1m_10e/robustnoiserank/clothing-256d_emb/eluo_clothing1m_everstore_handle_with_label_and_type.csv', header=None)\n",
    "\n",
    "ldf.head()"
   ]
  },
  {
   "cell_type": "code",
   "execution_count": 20,
   "metadata": {},
   "outputs": [
    {
     "name": "stderr",
     "output_type": "stream",
     "text": [
      "/home/krsharma/miniconda3/envs/bert/lib/python3.7/site-packages/ipykernel_launcher.py:3: SettingWithCopyWarning: \n",
      "A value is trying to be set on a copy of a slice from a DataFrame.\n",
      "Try using .loc[row_indexer,col_indexer] = value instead\n",
      "\n",
      "See the caveats in the documentation: http://pandas.pydata.org/pandas-docs/stable/user_guide/indexing.html#returning-a-view-versus-a-copy\n",
      "  This is separate from the ipykernel package so we can avoid doing imports until\n"
     ]
    },
    {
     "name": "stdout",
     "output_type": "stream",
     "text": [
      "P/R/F1 (noise) (1.0, 1.0, 1.0, None)\n",
      "f1_metrics (macro/unweighted mean) 1.0\n",
      "avg accuracy over classes 1.0 AvgErrorRate 0.0\n",
      "[1.0,1.0,1.0,1.0,1.0,1.0,1.0,1.0,1.0,1.0,1.0,1.0,1.0,1.0]\n"
     ]
    }
   ],
   "source": [
    "set_detected_noise = set(eranked)\n",
    "\n",
    "val['detected_label'] = val[2].apply(lambda x: 0.0 if x in set_detected_noise else 1.0)\n",
    "val.head()\n",
    "\n",
    "vlabels = np.array(val[5], dtype=np.int32)\n",
    "preds = np.array(val['detected_label'], dtype=np.int32)\n",
    "preds = vlabels # np.ones((len(preds)), dtype=np.int32)\n",
    "classes = np.array(val[4], dtype=np.int32)\n",
    "\n",
    "from sklearn.metrics import f1_score, classification_report, precision_recall_fscore_support\n",
    "\n",
    "def report_metrics(targets, preds, classes):\n",
    "    C = np.max(classes) + 1\n",
    "    per_class_accuracies = np.zeros((C,))\n",
    "    for c in range(C):\n",
    "        ind = np.where(classes == c)[0]\n",
    "        class_acc = f1_score(targets[ind], preds[ind], average='micro')\n",
    "        per_class_accuracies[c] = class_acc\n",
    "    \n",
    "    print('P/R/F1 (noise)', precision_recall_fscore_support(targets, preds, pos_label=0, average='binary'))\n",
    "    print('f1_metrics (macro/unweighted mean)', f1_score(targets, preds, average='macro'))\n",
    "    acc_classes = np.mean(per_class_accuracies)\n",
    "    print('avg accuracy over classes', acc_classes, 'AvgErrorRate', 1 - acc_classes)\n",
    "    print(\"[\"+ \",\".join(map(str, per_class_accuracies))+\"]\")\n",
    "    \n",
    "    report_additional = False\n",
    "    if report_additional:\n",
    "        print()\n",
    "        acc = f1_score(targets, preds, average='micro')\n",
    "        print('f1_metrics (accuracy/micro)', acc, 'ErrorRate', 1 - acc)\n",
    "        print('P/R/F1 (clean)', precision_recall_fscore_support(targets, preds, pos_label=1, average='binary'))\n",
    "        print('f1_metrics (weighted mean of f1)', f1_score(targets, preds, average='weighted'))\n",
    "    # cr = classification_report(targets, preds)\n",
    "\n",
    "report_metrics(vlabels, preds, classes)"
   ]
  },
  {
   "cell_type": "code",
   "execution_count": 22,
   "metadata": {},
   "outputs": [],
   "source": [
    "import matplotlib.pyplot as plt\n",
    "x = np.arange(14)\n",
    "\n",
    "y1 = [0.4743083003952569,0.6220238095238095,0.23540489642184556,0.844097995545657,0.2838709677419355,0.8121546961325967,0.43806104129263906,0.2696078431372549,0.7534246575342466,0.9104477611940298,0.9791271347248577,0.48872180451127817,0.4893162393162393,0.8285256410256411]\n",
    "y2 = [0.7549407114624506,0.7708333333333333,0.7476459510357817,0.844097995545657,0.5935483870967742,0.8121546961325967,0.7091561938958706,0.8063725490196079,0.7602739726027399,0.8936567164179104,0.9146110056925996,0.6240601503759399,0.7264957264957265,0.8477564102564102]\n",
    "\n"
   ]
  },
  {
   "cell_type": "code",
   "execution_count": 23,
   "metadata": {},
   "outputs": [
    {
     "data": {
      "image/png": "[encoded data removed]",
      "text/plain": [
       "<Figure size 288x288 with 1 Axes>"
      ]
     },
     "metadata": {
      "needs_background": "light"
     },
     "output_type": "display_data"
    }
   ],
   "source": [
    "plt.figure(figsize=(4,4))\n",
    "plt.bar(x, y2, color='green', label='NoiseRank(I)', alpha=0.8)\n",
    "plt.bar(x, y1, color='steelblue', label='Naive', alpha=0.8)\n",
    "\n",
    "names = np.loadtxt(path + 'category_names_eng.txt', dtype=np.str)\n",
    "\n",
    "plt.xticks(np.arange(len(names)), names, rotation=90, size=13)\n",
    "plt.yticks(size=13)\n",
    "plt.legend(loc='upper left')\n",
    "plt.ylabel('Label accuracy / class', size=13)\n",
    "plt.tight_layout()\n",
    "# plt.savefig('accperclass_clothing.png')"
   ]
  },
  {
   "cell_type": "markdown",
   "metadata": {},
   "source": [
    "# Noise transition matrix"
   ]
  },
  {
   "cell_type": "code",
   "execution_count": 24,
   "metadata": {},
   "outputs": [
    {
     "data": {
      "text/html": [
       "<div>\n",
       "<style scoped>\n",
       "    .dataframe tbody tr th:only-of-type {\n",
       "        vertical-align: middle;\n",
       "    }\n",
       "\n",
       "    .dataframe tbody tr th {\n",
       "        vertical-align: top;\n",
       "    }\n",
       "\n",
       "    .dataframe thead th {\n",
       "        text-align: right;\n",
       "    }\n",
       "</style>\n",
       "<table border=\"1\" class=\"dataframe\">\n",
       "  <thead>\n",
       "    <tr style=\"text-align: right;\">\n",
       "      <th></th>\n",
       "      <th>0</th>\n",
       "      <th>1</th>\n",
       "    </tr>\n",
       "  </thead>\n",
       "  <tbody>\n",
       "    <tr>\n",
       "      <th>0</th>\n",
       "      <td>images/3/32/3772565911,269049332.jpg</td>\n",
       "      <td>4</td>\n",
       "    </tr>\n",
       "    <tr>\n",
       "      <th>1</th>\n",
       "      <td>images/5/05/3839087683,82531505.jpg</td>\n",
       "      <td>8</td>\n",
       "    </tr>\n",
       "    <tr>\n",
       "      <th>2</th>\n",
       "      <td>images/1/55/1226943952,3560565155.jpg</td>\n",
       "      <td>8</td>\n",
       "    </tr>\n",
       "    <tr>\n",
       "      <th>3</th>\n",
       "      <td>images/6/84/3191574061,4025018684.jpg</td>\n",
       "      <td>0</td>\n",
       "    </tr>\n",
       "    <tr>\n",
       "      <th>4</th>\n",
       "      <td>images/6/61/1412442307,367965661.jpg</td>\n",
       "      <td>13</td>\n",
       "    </tr>\n",
       "  </tbody>\n",
       "</table>\n",
       "</div>"
      ],
      "text/plain": [
       "                                       0   1\n",
       "0   images/3/32/3772565911,269049332.jpg   4\n",
       "1    images/5/05/3839087683,82531505.jpg   8\n",
       "2  images/1/55/1226943952,3560565155.jpg   8\n",
       "3  images/6/84/3191574061,4025018684.jpg   0\n",
       "4   images/6/61/1412442307,367965661.jpg  13"
      ]
     },
     "execution_count": 24,
     "metadata": {},
     "output_type": "execute_result"
    }
   ],
   "source": [
    "gt_val = pd.read_csv('clothing_gt_val.tsv', sep=' ', header=None)\n",
    "\n",
    "gt_val_dict = dict(zip(gt_val[0], gt_val[1]))\n",
    "gt_val.head()"
   ]
  },
  {
   "cell_type": "code",
   "execution_count": 25,
   "metadata": {},
   "outputs": [
    {
     "name": "stderr",
     "output_type": "stream",
     "text": [
      "/home/krsharma/miniconda3/envs/bert/lib/python3.7/site-packages/ipykernel_launcher.py:2: SettingWithCopyWarning: \n",
      "A value is trying to be set on a copy of a slice from a DataFrame.\n",
      "Try using .loc[row_indexer,col_indexer] = value instead\n",
      "\n",
      "See the caveats in the documentation: http://pandas.pydata.org/pandas-docs/stable/user_guide/indexing.html#returning-a-view-versus-a-copy\n",
      "  \n",
      "/home/krsharma/miniconda3/envs/bert/lib/python3.7/site-packages/ipykernel_launcher.py:3: SettingWithCopyWarning: \n",
      "A value is trying to be set on a copy of a slice from a DataFrame.\n",
      "Try using .loc[row_indexer,col_indexer] = value instead\n",
      "\n",
      "See the caveats in the documentation: http://pandas.pydata.org/pandas-docs/stable/user_guide/indexing.html#returning-a-view-versus-a-copy\n",
      "  This is separate from the ipykernel package so we can avoid doing imports until\n"
     ]
    },
    {
     "data": {
      "text/html": [
       "<div>\n",
       "<style scoped>\n",
       "    .dataframe tbody tr th:only-of-type {\n",
       "        vertical-align: middle;\n",
       "    }\n",
       "\n",
       "    .dataframe tbody tr th {\n",
       "        vertical-align: top;\n",
       "    }\n",
       "\n",
       "    .dataframe thead th {\n",
       "        text-align: right;\n",
       "    }\n",
       "</style>\n",
       "<table border=\"1\" class=\"dataframe\">\n",
       "  <thead>\n",
       "    <tr style=\"text-align: right;\">\n",
       "      <th></th>\n",
       "      <th>0</th>\n",
       "      <th>1</th>\n",
       "      <th>2</th>\n",
       "      <th>3</th>\n",
       "      <th>4</th>\n",
       "      <th>5</th>\n",
       "      <th>6</th>\n",
       "      <th>7</th>\n",
       "      <th>detected_label</th>\n",
       "      <th>gt_label</th>\n",
       "      <th>random_label</th>\n",
       "    </tr>\n",
       "  </thead>\n",
       "  <tbody>\n",
       "    <tr>\n",
       "      <th>0</th>\n",
       "      <td>images/0/53/260975258,2323897053.jpg</td>\n",
       "      <td>260975258,2323897053.jpg</td>\n",
       "      <td>GOotBwWSElDZtFsAAGshNhrA9hdEbiMZAAAB</td>\n",
       "      <td>Jacket</td>\n",
       "      <td>7</td>\n",
       "      <td>0.0</td>\n",
       "      <td>2020-02-04</td>\n",
       "      <td>val</td>\n",
       "      <td>1.0</td>\n",
       "      <td>5</td>\n",
       "      <td>0</td>\n",
       "    </tr>\n",
       "    <tr>\n",
       "      <th>1</th>\n",
       "      <td>images/3/61/2976764135,2716435361.jpg</td>\n",
       "      <td>2976764135,2716435361.jpg</td>\n",
       "      <td>GProEQWGvjYQw6kAAK1c8Yf51zpabiMZAAAB</td>\n",
       "      <td>Jacket</td>\n",
       "      <td>7</td>\n",
       "      <td>0.0</td>\n",
       "      <td>2020-02-04</td>\n",
       "      <td>val</td>\n",
       "      <td>0.0</td>\n",
       "      <td>0</td>\n",
       "      <td>1</td>\n",
       "    </tr>\n",
       "    <tr>\n",
       "      <th>5</th>\n",
       "      <td>images/0/61/2084697051,3460346061.jpg</td>\n",
       "      <td>2084697051,3460346061.jpg</td>\n",
       "      <td>GEMWEgUop6FFgmoAAJa94brcVmQrbiMZAAAB</td>\n",
       "      <td>Jacket</td>\n",
       "      <td>7</td>\n",
       "      <td>0.0</td>\n",
       "      <td>2020-02-04</td>\n",
       "      <td>val</td>\n",
       "      <td>0.0</td>\n",
       "      <td>5</td>\n",
       "      <td>12</td>\n",
       "    </tr>\n",
       "    <tr>\n",
       "      <th>6</th>\n",
       "      <td>images/4/45/1970005206,57268445.jpg</td>\n",
       "      <td>1970005206,57268445.jpg</td>\n",
       "      <td>GNi3DwVh9M2U95wAAIYARk8RzqpEbiMZAAAB</td>\n",
       "      <td>Jacket</td>\n",
       "      <td>7</td>\n",
       "      <td>0.0</td>\n",
       "      <td>2020-02-04</td>\n",
       "      <td>val</td>\n",
       "      <td>0.0</td>\n",
       "      <td>1</td>\n",
       "      <td>3</td>\n",
       "    </tr>\n",
       "    <tr>\n",
       "      <th>7</th>\n",
       "      <td>images/9/45/3795980266,517718945.jpg</td>\n",
       "      <td>3795980266,517718945.jpg</td>\n",
       "      <td>GOjYEAXTDWHbKNQAABY6FZpR1tgabiMZAAAB</td>\n",
       "      <td>Jacket</td>\n",
       "      <td>7</td>\n",
       "      <td>1.0</td>\n",
       "      <td>2020-02-04</td>\n",
       "      <td>val</td>\n",
       "      <td>1.0</td>\n",
       "      <td>7</td>\n",
       "      <td>7</td>\n",
       "    </tr>\n",
       "  </tbody>\n",
       "</table>\n",
       "</div>"
      ],
      "text/plain": [
       "                                       0                          1  \\\n",
       "0   images/0/53/260975258,2323897053.jpg   260975258,2323897053.jpg   \n",
       "1  images/3/61/2976764135,2716435361.jpg  2976764135,2716435361.jpg   \n",
       "5  images/0/61/2084697051,3460346061.jpg  2084697051,3460346061.jpg   \n",
       "6    images/4/45/1970005206,57268445.jpg    1970005206,57268445.jpg   \n",
       "7   images/9/45/3795980266,517718945.jpg   3795980266,517718945.jpg   \n",
       "\n",
       "                                      2       3  4    5           6    7  \\\n",
       "0  GOotBwWSElDZtFsAAGshNhrA9hdEbiMZAAAB  Jacket  7  0.0  2020-02-04  val   \n",
       "1  GProEQWGvjYQw6kAAK1c8Yf51zpabiMZAAAB  Jacket  7  0.0  2020-02-04  val   \n",
       "5  GEMWEgUop6FFgmoAAJa94brcVmQrbiMZAAAB  Jacket  7  0.0  2020-02-04  val   \n",
       "6  GNi3DwVh9M2U95wAAIYARk8RzqpEbiMZAAAB  Jacket  7  0.0  2020-02-04  val   \n",
       "7  GOjYEAXTDWHbKNQAABY6FZpR1tgabiMZAAAB  Jacket  7  1.0  2020-02-04  val   \n",
       "\n",
       "   detected_label  gt_label  random_label  \n",
       "0             1.0         5             0  \n",
       "1             0.0         0             1  \n",
       "5             0.0         5            12  \n",
       "6             0.0         1             3  \n",
       "7             1.0         7             7  "
      ]
     },
     "execution_count": 25,
     "metadata": {},
     "output_type": "execute_result"
    }
   ],
   "source": [
    "val.head(), len(val)\n",
    "val['gt_label'] = val[0].apply(lambda x: gt_val_dict[x])\n",
    "val['random_label'] = np.random.choice(14, len(val))\n",
    "val.head()"
   ]
  },
  {
   "cell_type": "code",
   "execution_count": 26,
   "metadata": {},
   "outputs": [
    {
     "data": {
      "text/plain": [
       "Int64Index([    0,     1,     5,     6,     7,     8,     9,    10,    11,\n",
       "               12,\n",
       "            ...\n",
       "            15749, 15750, 15751, 15752, 15753, 15754, 15755, 15756, 15757,\n",
       "            15758],\n",
       "           dtype='int64', length=7465)"
      ]
     },
     "execution_count": 26,
     "metadata": {},
     "output_type": "execute_result"
    }
   ],
   "source": [
    "index = val.index\n",
    "index"
   ]
  },
  {
   "cell_type": "code",
   "execution_count": 65,
   "metadata": {},
   "outputs": [
    {
     "data": {
      "text/plain": [
       "[[360, 50, 35, 122, 57, 12, 1, 1, 2, 4, 3, 30, 52, 30],\n",
       " [14, 418, 7, 161, 2, 4, 4, 25, 11, 4, 1, 11, 5, 5],\n",
       " [42, 4, 125, 7, 264, 19, 6, 0, 1, 4, 19, 21, 8, 11],\n",
       " [14, 22, 3, 379, 1, 0, 0, 0, 2, 0, 1, 19, 8, 0],\n",
       " [6, 0, 76, 2, 44, 3, 0, 0, 0, 2, 3, 1, 0, 18],\n",
       " [39, 3, 7, 1, 12, 441, 6, 12, 14, 1, 0, 3, 1, 3],\n",
       " [0, 4, 1, 3, 1, 15, 244, 59, 121, 79, 9, 21, 0, 0],\n",
       " [18, 15, 1, 3, 1, 94, 44, 110, 74, 30, 1, 3, 14, 0],\n",
       " [2, 4, 0, 0, 0, 6, 83, 11, 330, 0, 0, 2, 0, 0],\n",
       " [2, 7, 1, 1, 0, 5, 21, 0, 2, 488, 2, 6, 0, 1],\n",
       " [0, 0, 2, 1, 0, 1, 1, 0, 1, 0, 516, 4, 0, 1],\n",
       " [44, 23, 21, 102, 22, 4, 17, 13, 1, 21, 3, 390, 125, 12],\n",
       " [7, 3, 6, 21, 8, 3, 2, 3, 87, 1, 2, 23, 229, 73],\n",
       " [39, 1, 4, 0, 8, 7, 0, 0, 0, 0, 2, 7, 39, 517]]"
      ]
     },
     "execution_count": 65,
     "metadata": {},
     "output_type": "execute_result"
    }
   ],
   "source": [
    "A = [[0]*14 for _ in range(14)]\n",
    "for i in range(14):\n",
    "    for j in range(14):\n",
    "        c = np.sum((val[4] == i) & (val['gt_label'] == j))\n",
    "        # print(i, j, c)\n",
    "        A[i][j] = c\n",
    "A"
   ]
  },
  {
   "cell_type": "code",
   "execution_count": 28,
   "metadata": {},
   "outputs": [
    {
     "name": "stdout",
     "output_type": "stream",
     "text": [
      "[587 554 289 803 420 614 429 234 646 634 562 541 481 671]\n"
     ]
    },
    {
     "data": {
      "image/png": "[encoded data removed]",
      "text/plain": [
       "<Figure size 288x288 with 1 Axes>"
      ]
     },
     "metadata": {
      "needs_background": "light"
     },
     "output_type": "display_data"
    }
   ],
   "source": [
    "import numpy as np\n",
    "print(np.sum(A, axis=0)) # column sum\n",
    "\n",
    "plt.matshow(A/np.sum(A, axis=0))\n",
    "plt.xticks(np.arange(len(names)), names, rotation=90, size=13)\n",
    "plt.yticks(np.arange(len(names)), names, rotation=0, size=13)\n",
    "# plt.colorbar()\n",
    "# plt.tight_layout()\n",
    "plt.ylabel('Given Noisy Label', size=13)\n",
    "plt.xlabel('Clean Label', size=13)\n",
    "plt.savefig('clothing_noise_transition_matrix.png', bbox_inches = \"tight\")\n",
    "\n",
    "\n",
    "otherp = '/home/krsharma/RobustNoiseRank/'\n",
    "I = np.loadtxt(otherp + 'prot_nn_matrix.txt')[index, :]\n",
    "kernel_D = np.loadtxt(otherp + 'kernel_dist_matrix.txt')[index, :]\n",
    "\n",
    "\n",
    "# B = np.loadtxt(otherp + 'score_matrix.txt')[index, :]\n",
    "# plt.matshow(B/np.sum(B, axis=0))\n",
    "# plt.xticks(np.arange(len(names)), names, rotation=90, size=13)\n",
    "# plt.yticks(np.arange(len(names)), names, rotation=0, size=13)\n",
    "# # plt.colorbar()\n",
    "# # plt.tight_layout()\n",
    "# plt.ylabel('Given Noisy Label', size=13)\n",
    "# plt.xlabel('Neighbors (Prototypes) Label', size=13)\n",
    "# plt.savefig('clothing_noise_blame_matrix.png', bbox_inches = \"tight\")\n",
    "# plt.show()"
   ]
  },
  {
   "cell_type": "code",
   "execution_count": 29,
   "metadata": {},
   "outputs": [
    {
     "data": {
      "text/html": [
       "<div>\n",
       "<style scoped>\n",
       "    .dataframe tbody tr th:only-of-type {\n",
       "        vertical-align: middle;\n",
       "    }\n",
       "\n",
       "    .dataframe tbody tr th {\n",
       "        vertical-align: top;\n",
       "    }\n",
       "\n",
       "    .dataframe thead th {\n",
       "        text-align: right;\n",
       "    }\n",
       "</style>\n",
       "<table border=\"1\" class=\"dataframe\">\n",
       "  <thead>\n",
       "    <tr style=\"text-align: right;\">\n",
       "      <th></th>\n",
       "      <th>0</th>\n",
       "      <th>1</th>\n",
       "      <th>2</th>\n",
       "      <th>3</th>\n",
       "    </tr>\n",
       "  </thead>\n",
       "  <tbody>\n",
       "    <tr>\n",
       "      <th>0</th>\n",
       "      <td>0</td>\n",
       "      <td>0</td>\n",
       "      <td>0</td>\n",
       "      <td>-0.486,0.059,0.673,0.141,-0.315,0.351,1.056,-0...</td>\n",
       "    </tr>\n",
       "    <tr>\n",
       "      <th>1</th>\n",
       "      <td>1</td>\n",
       "      <td>1</td>\n",
       "      <td>0</td>\n",
       "      <td>-0.354,-0.281,0.595,-0.419,0.784,0.669,1.373,-...</td>\n",
       "    </tr>\n",
       "    <tr>\n",
       "      <th>2</th>\n",
       "      <td>2</td>\n",
       "      <td>2</td>\n",
       "      <td>0</td>\n",
       "      <td>-1.185,-1.534,-1.001,0.684,-0.073,-0.86,0.161,...</td>\n",
       "    </tr>\n",
       "    <tr>\n",
       "      <th>3</th>\n",
       "      <td>3</td>\n",
       "      <td>3</td>\n",
       "      <td>0</td>\n",
       "      <td>-0.008,-0.692,0.247,-0.151,0.913,1.116,1.488,-...</td>\n",
       "    </tr>\n",
       "    <tr>\n",
       "      <th>4</th>\n",
       "      <td>4</td>\n",
       "      <td>4</td>\n",
       "      <td>0</td>\n",
       "      <td>-0.074,0.269,-0.065,1.263,0.38,0.246,0.987,0.5...</td>\n",
       "    </tr>\n",
       "  </tbody>\n",
       "</table>\n",
       "</div>"
      ],
      "text/plain": [
       "   0  1  2                                                  3\n",
       "0  0  0  0  -0.486,0.059,0.673,0.141,-0.315,0.351,1.056,-0...\n",
       "1  1  1  0  -0.354,-0.281,0.595,-0.419,0.784,0.669,1.373,-...\n",
       "2  2  2  0  -1.185,-1.534,-1.001,0.684,-0.073,-0.86,0.161,...\n",
       "3  3  3  0  -0.008,-0.692,0.247,-0.151,0.913,1.116,1.488,-...\n",
       "4  4  4  0  -0.074,0.269,-0.065,1.263,0.38,0.246,0.987,0.5..."
      ]
     },
     "execution_count": 29,
     "metadata": {},
     "output_type": "execute_result"
    }
   ],
   "source": [
    "ref_input_path='/home/krsharma/ClassificationImageText/trained_models/clothing1m_10e/robustnoiserank/clothing-256d_round1/ref_200.tsv'\n",
    "ref = pd.read_csv(ref_input_path, header=None, sep='\\t')\n",
    "ref.head()"
   ]
  },
  {
   "cell_type": "code",
   "execution_count": 73,
   "metadata": {},
   "outputs": [],
   "source": [
    "# B = np.zeros((14, 14))\n",
    "# prot_labels = np.array(ref[2]) # array of labels\n",
    "I = np.array(I, dtype=np.int32)\n",
    "instance_labels = np.array(val[4])\n",
    "verified_labels = np.array(val[5])\n",
    "\n",
    "# for i in range(len(prot_nn)):\n",
    "#     nn = np.array(prot_nn[i], dtype=np.int32)\n",
    "#     dist = dist_nn[i]\n",
    "#     nn_labels = prot_labels[nn]\n",
    "#     i_label = instance_labels[i]\n",
    "#     for j in range(0, 10): #len(nn_labels)):\n",
    "#         B[i_label][nn_labels[j]] += dist[j]\n",
    "#     # break"
   ]
  },
  {
   "cell_type": "code",
   "execution_count": 79,
   "metadata": {},
   "outputs": [],
   "source": [
    "\n",
    "neighbor_labels = np.array(ref[2])\n",
    "B = np.zeros((14, 14))\n",
    "for i in range(len(I)):\n",
    "    instance_label = instance_labels[i]\n",
    "    veri_label = verified_labels[i]\n",
    "    if veri_label == 0.0: continue\n",
    "    prot_nn, dist = I[i], kernel_D[i]\n",
    "    labels_nn = neighbor_labels[prot_nn]\n",
    "    # print(instance_label, labels_nn)\n",
    "    for j, l_nn in enumerate(labels_nn):\n",
    "        # if instance_label != l_nn:\n",
    "        B[instance_label][l_nn] += dist[j]\n",
    "        # break\n",
    "    # print('ilabel, nlabel', instance_label, labels_nn, dist)\n",
    "    # break\n"
   ]
  },
  {
   "cell_type": "code",
   "execution_count": 81,
   "metadata": {},
   "outputs": [
    {
     "data": {
      "image/png": "[encoded data removed]",
      "text/plain": [
       "<Figure size 288x288 with 1 Axes>"
      ]
     },
     "metadata": {
      "needs_background": "light"
     },
     "output_type": "display_data"
    },
    {
     "data": {
      "image/png": "[encoded data removed]",
      "text/plain": [
       "<Figure size 288x288 with 1 Axes>"
      ]
     },
     "metadata": {
      "needs_background": "light"
     },
     "output_type": "display_data"
    }
   ],
   "source": [
    "B = np.loadtxt(otherp + 'score_matrix.txt')\n",
    "plt.matshow(B/np.sum(B, axis=0))\n",
    "plt.xticks(np.arange(len(names)), names, rotation=90, size=13)\n",
    "plt.yticks(np.arange(len(names)), names, rotation=0, size=13)\n",
    "# plt.colorbar()\n",
    "# plt.tight_layout()\n",
    "plt.ylabel('Given Noisy Label', size=13)\n",
    "plt.xlabel('Neighbors (Prototypes) Label', size=13)\n",
    "plt.savefig('clothing_noise_blame_matrix.png', bbox_inches = \"tight\")\n",
    "plt.show()\n",
    "\n",
    "plt.matshow(A/np.sum(A, axis=0))\n",
    "plt.xticks(np.arange(len(names)), names, rotation=90, size=13)\n",
    "plt.yticks(np.arange(len(names)), names, rotation=0, size=13)\n",
    "# plt.colorbar()\n",
    "# plt.tight_layout()\n",
    "plt.ylabel('Given Noisy Label', size=13)\n",
    "plt.xlabel('Clean Label', size=13)\n",
    "plt.savefig('clothing_noise_transition_matrix.png', bbox_inches = \"tight\")\n"
   ]
  },
  {
   "cell_type": "markdown",
   "metadata": {},
   "source": [
    "# prototype blame matrix"
   ]
  },
  {
   "cell_type": "code",
   "execution_count": null,
   "metadata": {},
   "outputs": [],
   "source": [
    "# i (j blames i or supports i)\n",
    "# i1 given label= prime rib (neighbor=cupcake, neighbor=cupcake, n=str-shortcake)\n",
    "\n",
    "# prime rib noisy, clean cupcake (aggregate/first/all neighbors label)\n",
    "\n",
    "# Given label vs. neighbors label"
   ]
  },
  {
   "cell_type": "code",
   "execution_count": null,
   "metadata": {},
   "outputs": [],
   "source": [
    "example class and all prototypes of that class (show)\n",
    "\n",
    "example instance and its prototype K neighbors (show with score assigned)\n",
    "\n"
   ]
  },
  {
   "cell_type": "code",
   "execution_count": 82,
   "metadata": {},
   "outputs": [
    {
     "data": {
      "text/html": [
       "<div>\n",
       "<style scoped>\n",
       "    .dataframe tbody tr th:only-of-type {\n",
       "        vertical-align: middle;\n",
       "    }\n",
       "\n",
       "    .dataframe tbody tr th {\n",
       "        vertical-align: top;\n",
       "    }\n",
       "\n",
       "    .dataframe thead th {\n",
       "        text-align: right;\n",
       "    }\n",
       "</style>\n",
       "<table border=\"1\" class=\"dataframe\">\n",
       "  <thead>\n",
       "    <tr style=\"text-align: right;\">\n",
       "      <th></th>\n",
       "      <th>0</th>\n",
       "      <th>1</th>\n",
       "      <th>2</th>\n",
       "      <th>3</th>\n",
       "    </tr>\n",
       "  </thead>\n",
       "  <tbody>\n",
       "    <tr>\n",
       "      <th>0</th>\n",
       "      <td>0</td>\n",
       "      <td>0</td>\n",
       "      <td>0</td>\n",
       "      <td>-0.486,0.059,0.673,0.141,-0.315,0.351,1.056,-0...</td>\n",
       "    </tr>\n",
       "    <tr>\n",
       "      <th>1</th>\n",
       "      <td>1</td>\n",
       "      <td>1</td>\n",
       "      <td>0</td>\n",
       "      <td>-0.354,-0.281,0.595,-0.419,0.784,0.669,1.373,-...</td>\n",
       "    </tr>\n",
       "    <tr>\n",
       "      <th>2</th>\n",
       "      <td>2</td>\n",
       "      <td>2</td>\n",
       "      <td>0</td>\n",
       "      <td>-1.185,-1.534,-1.001,0.684,-0.073,-0.86,0.161,...</td>\n",
       "    </tr>\n",
       "    <tr>\n",
       "      <th>3</th>\n",
       "      <td>3</td>\n",
       "      <td>3</td>\n",
       "      <td>0</td>\n",
       "      <td>-0.008,-0.692,0.247,-0.151,0.913,1.116,1.488,-...</td>\n",
       "    </tr>\n",
       "    <tr>\n",
       "      <th>4</th>\n",
       "      <td>4</td>\n",
       "      <td>4</td>\n",
       "      <td>0</td>\n",
       "      <td>-0.074,0.269,-0.065,1.263,0.38,0.246,0.987,0.5...</td>\n",
       "    </tr>\n",
       "  </tbody>\n",
       "</table>\n",
       "</div>"
      ],
      "text/plain": [
       "   0  1  2                                                  3\n",
       "0  0  0  0  -0.486,0.059,0.673,0.141,-0.315,0.351,1.056,-0...\n",
       "1  1  1  0  -0.354,-0.281,0.595,-0.419,0.784,0.669,1.373,-...\n",
       "2  2  2  0  -1.185,-1.534,-1.001,0.684,-0.073,-0.86,0.161,...\n",
       "3  3  3  0  -0.008,-0.692,0.247,-0.151,0.913,1.116,1.488,-...\n",
       "4  4  4  0  -0.074,0.269,-0.065,1.263,0.38,0.246,0.987,0.5..."
      ]
     },
     "execution_count": 82,
     "metadata": {},
     "output_type": "execute_result"
    }
   ],
   "source": [
    "ref.head()"
   ]
  },
  {
   "cell_type": "code",
   "execution_count": 84,
   "metadata": {},
   "outputs": [
    {
     "data": {
      "text/html": [
       "<div>\n",
       "<style scoped>\n",
       "    .dataframe tbody tr th:only-of-type {\n",
       "        vertical-align: middle;\n",
       "    }\n",
       "\n",
       "    .dataframe tbody tr th {\n",
       "        vertical-align: top;\n",
       "    }\n",
       "\n",
       "    .dataframe thead th {\n",
       "        text-align: right;\n",
       "    }\n",
       "</style>\n",
       "<table border=\"1\" class=\"dataframe\">\n",
       "  <thead>\n",
       "    <tr style=\"text-align: right;\">\n",
       "      <th></th>\n",
       "      <th>0</th>\n",
       "      <th>1</th>\n",
       "      <th>2</th>\n",
       "      <th>3</th>\n",
       "    </tr>\n",
       "  </thead>\n",
       "  <tbody>\n",
       "    <tr>\n",
       "      <th>2000</th>\n",
       "      <td>2000</td>\n",
       "      <td>2000</td>\n",
       "      <td>10</td>\n",
       "      <td>-1.178,-0.634,0.384,-1.85,-0.517,-0.829,0.123,...</td>\n",
       "    </tr>\n",
       "    <tr>\n",
       "      <th>2001</th>\n",
       "      <td>2001</td>\n",
       "      <td>2001</td>\n",
       "      <td>10</td>\n",
       "      <td>-1.55,0.215,1.209,-0.408,-0.219,-0.368,-0.562,...</td>\n",
       "    </tr>\n",
       "    <tr>\n",
       "      <th>2002</th>\n",
       "      <td>2002</td>\n",
       "      <td>2002</td>\n",
       "      <td>10</td>\n",
       "      <td>-1.385,-0.339,1.288,-0.201,0.036,0.116,-2.234,...</td>\n",
       "    </tr>\n",
       "    <tr>\n",
       "      <th>2003</th>\n",
       "      <td>2003</td>\n",
       "      <td>2003</td>\n",
       "      <td>10</td>\n",
       "      <td>-0.317,0.129,0.052,0.676,-0.257,-0.081,1.074,-...</td>\n",
       "    </tr>\n",
       "    <tr>\n",
       "      <th>2004</th>\n",
       "      <td>2004</td>\n",
       "      <td>2004</td>\n",
       "      <td>10</td>\n",
       "      <td>-1.145,0.2,1.706,-0.546,0.237,0.427,-0.088,-0....</td>\n",
       "    </tr>\n",
       "    <tr>\n",
       "      <th>...</th>\n",
       "      <td>...</td>\n",
       "      <td>...</td>\n",
       "      <td>...</td>\n",
       "      <td>...</td>\n",
       "    </tr>\n",
       "    <tr>\n",
       "      <th>2195</th>\n",
       "      <td>2195</td>\n",
       "      <td>2195</td>\n",
       "      <td>10</td>\n",
       "      <td>-1.93,-0.032,1.475,0.339,0.436,0.171,-1.572,0....</td>\n",
       "    </tr>\n",
       "    <tr>\n",
       "      <th>2196</th>\n",
       "      <td>2196</td>\n",
       "      <td>2196</td>\n",
       "      <td>10</td>\n",
       "      <td>-1.807,-0.025,2.624,0.025,0.54,0.036,-1.461,0....</td>\n",
       "    </tr>\n",
       "    <tr>\n",
       "      <th>2197</th>\n",
       "      <td>2197</td>\n",
       "      <td>2197</td>\n",
       "      <td>10</td>\n",
       "      <td>-1.148,-0.639,1.503,0.146,0.395,0.089,-0.91,-1...</td>\n",
       "    </tr>\n",
       "    <tr>\n",
       "      <th>2198</th>\n",
       "      <td>2198</td>\n",
       "      <td>2198</td>\n",
       "      <td>10</td>\n",
       "      <td>-1.861,0.037,1.235,-0.448,0.355,-0.448,-1.552,...</td>\n",
       "    </tr>\n",
       "    <tr>\n",
       "      <th>2199</th>\n",
       "      <td>2199</td>\n",
       "      <td>2199</td>\n",
       "      <td>10</td>\n",
       "      <td>-2.318,-1.062,0.834,-0.185,0.744,0.561,-2.099,...</td>\n",
       "    </tr>\n",
       "  </tbody>\n",
       "</table>\n",
       "<p>200 rows × 4 columns</p>\n",
       "</div>"
      ],
      "text/plain": [
       "         0     1   2                                                  3\n",
       "2000  2000  2000  10  -1.178,-0.634,0.384,-1.85,-0.517,-0.829,0.123,...\n",
       "2001  2001  2001  10  -1.55,0.215,1.209,-0.408,-0.219,-0.368,-0.562,...\n",
       "2002  2002  2002  10  -1.385,-0.339,1.288,-0.201,0.036,0.116,-2.234,...\n",
       "2003  2003  2003  10  -0.317,0.129,0.052,0.676,-0.257,-0.081,1.074,-...\n",
       "2004  2004  2004  10  -1.145,0.2,1.706,-0.546,0.237,0.427,-0.088,-0....\n",
       "...    ...   ...  ..                                                ...\n",
       "2195  2195  2195  10  -1.93,-0.032,1.475,0.339,0.436,0.171,-1.572,0....\n",
       "2196  2196  2196  10  -1.807,-0.025,2.624,0.025,0.54,0.036,-1.461,0....\n",
       "2197  2197  2197  10  -1.148,-0.639,1.503,0.146,0.395,0.089,-0.91,-1...\n",
       "2198  2198  2198  10  -1.861,0.037,1.235,-0.448,0.355,-0.448,-1.552,...\n",
       "2199  2199  2199  10  -2.318,-1.062,0.834,-0.185,0.744,0.561,-2.099,...\n",
       "\n",
       "[200 rows x 4 columns]"
      ]
     },
     "execution_count": 84,
     "metadata": {},
     "output_type": "execute_result"
    }
   ],
   "source": [
    "ref[ref[2] == 10]"
   ]
  },
  {
   "cell_type": "code",
   "execution_count": null,
   "metadata": {},
   "outputs": [],
   "source": []
  }
 ],
 "metadata": {
  "kernelspec": {
   "display_name": "bert",
   "language": "python",
   "name": "bert"
  },
  "language_info": {
   "codemirror_mode": {
    "name": "ipython",
    "version": 3
   },
   "file_extension": ".py",
   "mimetype": "text/x-python",
   "name": "python",
   "nbconvert_exporter": "python",
   "pygments_lexer": "ipython3",
   "version": "3.7.4"
  }
 },
 "nbformat": 4,
 "nbformat_minor": 4
}
