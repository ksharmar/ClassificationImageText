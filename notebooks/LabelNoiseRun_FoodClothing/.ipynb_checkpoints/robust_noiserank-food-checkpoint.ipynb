{
 "cells": [
  {
   "cell_type": "markdown",
   "metadata": {},
   "source": [
    "# Format ref numpy to tsv"
   ]
  },
  {
   "cell_type": "code",
   "execution_count": 74,
   "metadata": {},
   "outputs": [
    {
     "name": "stdout",
     "output_type": "stream",
     "text": [
      "(101, 100, 256)\n"
     ]
    }
   ],
   "source": [
    "path = \"/home/krsharma/ClassificationImageText/trained_models/food101n_20e/robustnoiserank/food-256d_emb/ref_100.npy\"\n",
    "import numpy as np\n",
    "\n",
    "ref = np.load(path)\n",
    "\n",
    "print(ref.shape)"
   ]
  },
  {
   "cell_type": "code",
   "execution_count": 75,
   "metadata": {},
   "outputs": [
    {
     "data": {
      "text/html": [
       "<div>\n",
       "<style scoped>\n",
       "    .dataframe tbody tr th:only-of-type {\n",
       "        vertical-align: middle;\n",
       "    }\n",
       "\n",
       "    .dataframe tbody tr th {\n",
       "        vertical-align: top;\n",
       "    }\n",
       "\n",
       "    .dataframe thead th {\n",
       "        text-align: right;\n",
       "    }\n",
       "</style>\n",
       "<table border=\"1\" class=\"dataframe\">\n",
       "  <thead>\n",
       "    <tr style=\"text-align: right;\">\n",
       "      <th></th>\n",
       "      <th>id</th>\n",
       "      <th>img</th>\n",
       "      <th>labels</th>\n",
       "      <th>feats</th>\n",
       "    </tr>\n",
       "  </thead>\n",
       "  <tbody>\n",
       "    <tr>\n",
       "      <th>0</th>\n",
       "      <td>0</td>\n",
       "      <td>0</td>\n",
       "      <td>0</td>\n",
       "      <td>-0.127,-0.154,-0.352,-0.407,-0.961,-0.984,1.42...</td>\n",
       "    </tr>\n",
       "    <tr>\n",
       "      <th>1</th>\n",
       "      <td>1</td>\n",
       "      <td>1</td>\n",
       "      <td>0</td>\n",
       "      <td>-1.359,0.129,-1.758,-0.667,-1.051,-2.595,2.157...</td>\n",
       "    </tr>\n",
       "    <tr>\n",
       "      <th>2</th>\n",
       "      <td>2</td>\n",
       "      <td>2</td>\n",
       "      <td>0</td>\n",
       "      <td>-0.162,0.243,-1.679,0.977,-0.351,-1.193,1.336,...</td>\n",
       "    </tr>\n",
       "    <tr>\n",
       "      <th>3</th>\n",
       "      <td>3</td>\n",
       "      <td>3</td>\n",
       "      <td>0</td>\n",
       "      <td>-3.091,1.11,0.856,-0.491,-1.781,-1.027,2.191,1...</td>\n",
       "    </tr>\n",
       "    <tr>\n",
       "      <th>4</th>\n",
       "      <td>4</td>\n",
       "      <td>4</td>\n",
       "      <td>0</td>\n",
       "      <td>-1.57,1.605,-0.662,-0.56,-1.545,-1.351,0.69,-0...</td>\n",
       "    </tr>\n",
       "  </tbody>\n",
       "</table>\n",
       "</div>"
      ],
      "text/plain": [
       "   id  img  labels                                              feats\n",
       "0   0    0       0  -0.127,-0.154,-0.352,-0.407,-0.961,-0.984,1.42...\n",
       "1   1    1       0  -1.359,0.129,-1.758,-0.667,-1.051,-2.595,2.157...\n",
       "2   2    2       0  -0.162,0.243,-1.679,0.977,-0.351,-1.193,1.336,...\n",
       "3   3    3       0  -3.091,1.11,0.856,-0.491,-1.781,-1.027,2.191,1...\n",
       "4   4    4       0  -1.57,1.605,-0.662,-0.56,-1.545,-1.351,0.69,-0..."
      ]
     },
     "execution_count": 75,
     "metadata": {},
     "output_type": "execute_result"
    }
   ],
   "source": [
    "import pandas as pd\n",
    "\n",
    "df = pd.DataFrame()\n",
    "\n",
    "def join_str(ci):\n",
    "    return \",\".join(map(str, ci))\n",
    "    \n",
    "labels = []\n",
    "vecs = []\n",
    "for classname, c in enumerate(ref):\n",
    "    labels += [int(classname)] * len(c)\n",
    "    vecs += [join_str(ci) for ci in np.round(c, 3)]\n",
    "labels = np.array(labels, dtype=np.int32)\n",
    "df['id'] = np.arange(len(labels))\n",
    "df['img'] = np.arange(len(labels))\n",
    "df['labels'] = labels\n",
    "df['feats'] = vecs\n",
    "\n",
    "df.head()"
   ]
  },
  {
   "cell_type": "code",
   "execution_count": 76,
   "metadata": {},
   "outputs": [],
   "source": [
    "df.to_csv('/home/krsharma/ClassificationImageText/trained_models/food101n_20e/robustnoiserank/food-256d_emb/ref_100.tsv', sep='\\t', header=None, index=False)"
   ]
  },
  {
   "cell_type": "markdown",
   "metadata": {},
   "source": [
    "# Format extracted 256d embeddings from pkl to tsv"
   ]
  },
  {
   "cell_type": "code",
   "execution_count": 3,
   "metadata": {},
   "outputs": [],
   "source": [
    "import pickle as pkl\n",
    "\n",
    "d = pkl.load(open('/home/krsharma/ClassificationImageText/trained_models/food101n_20e/robustnoiserank/food-256d_emb/d_00000_310016x256.pickle', 'rb'))\n",
    "\n"
   ]
  },
  {
   "cell_type": "code",
   "execution_count": 4,
   "metadata": {},
   "outputs": [
    {
     "data": {
      "text/plain": [
       "(310016, 256)"
      ]
     },
     "execution_count": 4,
     "metadata": {},
     "output_type": "execute_result"
    }
   ],
   "source": [
    "d[0].shape"
   ]
  },
  {
   "cell_type": "code",
   "execution_count": 6,
   "metadata": {},
   "outputs": [
    {
     "data": {
      "text/plain": [
       "(   sid                                   eid\n",
       " 0    0  GI9uBAWRhfzG1nUAAAzjnzoJcJgibiMZAAAB\n",
       " 1    1  GCkNDwV7ObrPpLYBABnZ_7w_vr9CbiMZAAAB\n",
       " 2    2  GJBOBAWLhcNljbwAAKQeAWSKKuw-biMZAAAB\n",
       " 3    3  GNISEwVLJSQ7BJkAALjn5V6u0A0cbiMZAAAB\n",
       " 4    4  GLl9CgV4sRPHnSUCAC_aD9jiJ741biMZAAAB, 310016, 310016)"
      ]
     },
     "execution_count": 6,
     "metadata": {},
     "output_type": "execute_result"
    }
   ],
   "source": [
    "import pandas as pd\n",
    "import numpy as np\n",
    "df = pd.DataFrame()\n",
    "sid = np.arange(310016)\n",
    "eid = d[1]\n",
    "df['sid'] = sid\n",
    "df['eid'] = eid\n",
    "df.head(), len(eid), len(sid)"
   ]
  },
  {
   "cell_type": "code",
   "execution_count": 7,
   "metadata": {},
   "outputs": [
    {
     "data": {
      "text/html": [
       "<div>\n",
       "<style scoped>\n",
       "    .dataframe tbody tr th:only-of-type {\n",
       "        vertical-align: middle;\n",
       "    }\n",
       "\n",
       "    .dataframe tbody tr th {\n",
       "        vertical-align: top;\n",
       "    }\n",
       "\n",
       "    .dataframe thead th {\n",
       "        text-align: right;\n",
       "    }\n",
       "</style>\n",
       "<table border=\"1\" class=\"dataframe\">\n",
       "  <thead>\n",
       "    <tr style=\"text-align: right;\">\n",
       "      <th></th>\n",
       "      <th>0</th>\n",
       "      <th>1</th>\n",
       "      <th>2</th>\n",
       "      <th>3</th>\n",
       "      <th>4</th>\n",
       "      <th>5</th>\n",
       "      <th>6</th>\n",
       "      <th>7</th>\n",
       "    </tr>\n",
       "  </thead>\n",
       "  <tbody>\n",
       "    <tr>\n",
       "      <th>0</th>\n",
       "      <td>caesar_salad/f8c49734588789daf70be79ffcef9eeb.jpg</td>\n",
       "      <td>f8c49734588789daf70be79ffcef9eeb.jpg</td>\n",
       "      <td>GGLeAwXvkdcqIkcCAI1Z3nzqCwY_biMZAAAB</td>\n",
       "      <td>caesar_salad</td>\n",
       "      <td>11</td>\n",
       "      <td>1.0</td>\n",
       "      <td>2020-02-04</td>\n",
       "      <td>val</td>\n",
       "    </tr>\n",
       "    <tr>\n",
       "      <th>1</th>\n",
       "      <td>foie_gras/7a46407ee4c2157aa9abbba1d553e2dd.jpg</td>\n",
       "      <td>7a46407ee4c2157aa9abbba1d553e2dd.jpg</td>\n",
       "      <td>GOX-EQULBp9FmCYDAJLabL7HqXAybiMZAAAB</td>\n",
       "      <td>foie_gras</td>\n",
       "      <td>39</td>\n",
       "      <td>1.0</td>\n",
       "      <td>2020-02-04</td>\n",
       "      <td>val</td>\n",
       "    </tr>\n",
       "    <tr>\n",
       "      <th>2</th>\n",
       "      <td>chicken_curry/04b4c813f792838a1cf5ab5086fcb3bb...</td>\n",
       "      <td>04b4c813f792838a1cf5ab5086fcb3bb.jpg</td>\n",
       "      <td>GDSUEQXgTAGMv6kAAAgDm2KPWXBFbiMZAAAB</td>\n",
       "      <td>chicken_curry</td>\n",
       "      <td>18</td>\n",
       "      <td>1.0</td>\n",
       "      <td>2020-02-04</td>\n",
       "      <td>val</td>\n",
       "    </tr>\n",
       "    <tr>\n",
       "      <th>3</th>\n",
       "      <td>caprese_salad/8b77869b9f11f198dab328ea2ba0345b...</td>\n",
       "      <td>8b77869b9f11f198dab328ea2ba0345b.jpg</td>\n",
       "      <td>GCunEwXTgNf9OyQCAH40C9EZf98tbiMZAAAB</td>\n",
       "      <td>caprese_salad</td>\n",
       "      <td>13</td>\n",
       "      <td>1.0</td>\n",
       "      <td>2020-02-04</td>\n",
       "      <td>val</td>\n",
       "    </tr>\n",
       "    <tr>\n",
       "      <th>4</th>\n",
       "      <td>chocolate_cake/a1e79808922f9c3b219718aeda7b591...</td>\n",
       "      <td>a1e79808922f9c3b219718aeda7b5916.jpg</td>\n",
       "      <td>GFiYAwVHTQHbYhQDAC1ZOvBfpK9BbiMZAAAB</td>\n",
       "      <td>chocolate_cake</td>\n",
       "      <td>21</td>\n",
       "      <td>1.0</td>\n",
       "      <td>2020-02-04</td>\n",
       "      <td>val</td>\n",
       "    </tr>\n",
       "  </tbody>\n",
       "</table>\n",
       "</div>"
      ],
      "text/plain": [
       "                                                   0  \\\n",
       "0  caesar_salad/f8c49734588789daf70be79ffcef9eeb.jpg   \n",
       "1     foie_gras/7a46407ee4c2157aa9abbba1d553e2dd.jpg   \n",
       "2  chicken_curry/04b4c813f792838a1cf5ab5086fcb3bb...   \n",
       "3  caprese_salad/8b77869b9f11f198dab328ea2ba0345b...   \n",
       "4  chocolate_cake/a1e79808922f9c3b219718aeda7b591...   \n",
       "\n",
       "                                      1                                     2  \\\n",
       "0  f8c49734588789daf70be79ffcef9eeb.jpg  GGLeAwXvkdcqIkcCAI1Z3nzqCwY_biMZAAAB   \n",
       "1  7a46407ee4c2157aa9abbba1d553e2dd.jpg  GOX-EQULBp9FmCYDAJLabL7HqXAybiMZAAAB   \n",
       "2  04b4c813f792838a1cf5ab5086fcb3bb.jpg  GDSUEQXgTAGMv6kAAAgDm2KPWXBFbiMZAAAB   \n",
       "3  8b77869b9f11f198dab328ea2ba0345b.jpg  GCunEwXTgNf9OyQCAH40C9EZf98tbiMZAAAB   \n",
       "4  a1e79808922f9c3b219718aeda7b5916.jpg  GFiYAwVHTQHbYhQDAC1ZOvBfpK9BbiMZAAAB   \n",
       "\n",
       "                3   4    5           6    7  \n",
       "0    caesar_salad  11  1.0  2020-02-04  val  \n",
       "1       foie_gras  39  1.0  2020-02-04  val  \n",
       "2   chicken_curry  18  1.0  2020-02-04  val  \n",
       "3   caprese_salad  13  1.0  2020-02-04  val  \n",
       "4  chocolate_cake  21  1.0  2020-02-04  val  "
      ]
     },
     "execution_count": 7,
     "metadata": {},
     "output_type": "execute_result"
    }
   ],
   "source": [
    "ldf = pd.read_csv('/home/krsharma/ClassificationImageText/trained_models/food101n_20e/robustnoiserank/food-256d_emb/eluo_food101n_everstore_handle_with_label_and_type.csv', header=None)\n",
    "\n",
    "ldf.head()\n"
   ]
  },
  {
   "cell_type": "code",
   "execution_count": 25,
   "metadata": {},
   "outputs": [
    {
     "data": {
      "text/plain": [
       "array([2467, 2581, 2874, 2028, 2012, 2921, 2802, 2675, 2982, 2752, 2895,\n",
       "       3178, 2846, 2806, 2966, 3494, 3672, 2843, 2979, 2577, 2873, 3016,\n",
       "       2793, 2799, 3070, 2937, 3110, 3063, 2173, 3086, 2392, 3765, 3274,\n",
       "       2647, 2876, 2262, 3590, 2752, 3015, 3036, 2832, 2385, 3046, 2326,\n",
       "       3529, 3253, 2781, 3879, 2972, 2204, 2835, 3369, 3420, 4095, 2225,\n",
       "       3772, 2483, 3803, 3959, 3262, 2544, 2110, 2614, 2710, 2703, 3366,\n",
       "       3727, 2921, 2628, 3686, 4063, 3439, 3704, 2411, 3040, 5344, 5165,\n",
       "       2738, 3643, 3179, 2712, 4600, 3844, 2374, 3357, 2396, 3494, 3150,\n",
       "       2052, 2853, 2744, 2298, 3013, 4791, 2386, 4533, 4423, 2673, 3013,\n",
       "       2691, 3568])"
      ]
     },
     "execution_count": 25,
     "metadata": {},
     "output_type": "execute_result"
    }
   ],
   "source": [
    "np.unique(ldf[4], return_counts=True)[1] # .max() # .mean()"
   ]
  },
  {
   "cell_type": "code",
   "execution_count": 97,
   "metadata": {},
   "outputs": [
    {
     "name": "stdout",
     "output_type": "stream",
     "text": [
      "44.85532298401161\n",
      "55.40758070878027\n",
      "73.10266752998827\n"
     ]
    }
   ],
   "source": [
    "# 30 (min), 40 (mean), 50 (max) vs 100 (min), 190 (mean), 211 (max)\n",
    "K = np.sqrt(2012)\n",
    "print(K)\n",
    "\n",
    "K = np.sqrt(3070)\n",
    "print(K)\n",
    "\n",
    "K = np.sqrt(5344)\n",
    "print(K)"
   ]
  },
  {
   "cell_type": "code",
   "execution_count": 15,
   "metadata": {},
   "outputs": [],
   "source": [
    "ldict = dict(zip(ldf[2], ldf[4]))"
   ]
  },
  {
   "cell_type": "code",
   "execution_count": 16,
   "metadata": {},
   "outputs": [],
   "source": [
    "df['label'] = df['eid'].apply(lambda x: ldict[x])"
   ]
  },
  {
   "cell_type": "code",
   "execution_count": 17,
   "metadata": {},
   "outputs": [
    {
     "data": {
      "text/html": [
       "<div>\n",
       "<style scoped>\n",
       "    .dataframe tbody tr th:only-of-type {\n",
       "        vertical-align: middle;\n",
       "    }\n",
       "\n",
       "    .dataframe tbody tr th {\n",
       "        vertical-align: top;\n",
       "    }\n",
       "\n",
       "    .dataframe thead th {\n",
       "        text-align: right;\n",
       "    }\n",
       "</style>\n",
       "<table border=\"1\" class=\"dataframe\">\n",
       "  <thead>\n",
       "    <tr style=\"text-align: right;\">\n",
       "      <th></th>\n",
       "      <th>sid</th>\n",
       "      <th>eid</th>\n",
       "      <th>label</th>\n",
       "    </tr>\n",
       "  </thead>\n",
       "  <tbody>\n",
       "    <tr>\n",
       "      <th>0</th>\n",
       "      <td>0</td>\n",
       "      <td>GI9uBAWRhfzG1nUAAAzjnzoJcJgibiMZAAAB</td>\n",
       "      <td>15</td>\n",
       "    </tr>\n",
       "    <tr>\n",
       "      <th>1</th>\n",
       "      <td>1</td>\n",
       "      <td>GCkNDwV7ObrPpLYBABnZ_7w_vr9CbiMZAAAB</td>\n",
       "      <td>97</td>\n",
       "    </tr>\n",
       "    <tr>\n",
       "      <th>2</th>\n",
       "      <td>2</td>\n",
       "      <td>GJBOBAWLhcNljbwAAKQeAWSKKuw-biMZAAAB</td>\n",
       "      <td>67</td>\n",
       "    </tr>\n",
       "    <tr>\n",
       "      <th>3</th>\n",
       "      <td>3</td>\n",
       "      <td>GNISEwVLJSQ7BJkAALjn5V6u0A0cbiMZAAAB</td>\n",
       "      <td>52</td>\n",
       "    </tr>\n",
       "    <tr>\n",
       "      <th>4</th>\n",
       "      <td>4</td>\n",
       "      <td>GLl9CgV4sRPHnSUCAC_aD9jiJ741biMZAAAB</td>\n",
       "      <td>69</td>\n",
       "    </tr>\n",
       "  </tbody>\n",
       "</table>\n",
       "</div>"
      ],
      "text/plain": [
       "   sid                                   eid  label\n",
       "0    0  GI9uBAWRhfzG1nUAAAzjnzoJcJgibiMZAAAB     15\n",
       "1    1  GCkNDwV7ObrPpLYBABnZ_7w_vr9CbiMZAAAB     97\n",
       "2    2  GJBOBAWLhcNljbwAAKQeAWSKKuw-biMZAAAB     67\n",
       "3    3  GNISEwVLJSQ7BJkAALjn5V6u0A0cbiMZAAAB     52\n",
       "4    4  GLl9CgV4sRPHnSUCAC_aD9jiJ741biMZAAAB     69"
      ]
     },
     "execution_count": 17,
     "metadata": {},
     "output_type": "execute_result"
    }
   ],
   "source": [
    "df.head()"
   ]
  },
  {
   "cell_type": "code",
   "execution_count": 19,
   "metadata": {},
   "outputs": [],
   "source": [
    "emb = np.vstack([d[0]]) # , d2[0]])"
   ]
  },
  {
   "cell_type": "code",
   "execution_count": 20,
   "metadata": {},
   "outputs": [
    {
     "data": {
      "text/html": [
       "<div>\n",
       "<style scoped>\n",
       "    .dataframe tbody tr th:only-of-type {\n",
       "        vertical-align: middle;\n",
       "    }\n",
       "\n",
       "    .dataframe tbody tr th {\n",
       "        vertical-align: top;\n",
       "    }\n",
       "\n",
       "    .dataframe thead th {\n",
       "        text-align: right;\n",
       "    }\n",
       "</style>\n",
       "<table border=\"1\" class=\"dataframe\">\n",
       "  <thead>\n",
       "    <tr style=\"text-align: right;\">\n",
       "      <th></th>\n",
       "      <th>sid</th>\n",
       "      <th>eid</th>\n",
       "      <th>label</th>\n",
       "      <th>emb</th>\n",
       "    </tr>\n",
       "  </thead>\n",
       "  <tbody>\n",
       "    <tr>\n",
       "      <th>0</th>\n",
       "      <td>0</td>\n",
       "      <td>GI9uBAWRhfzG1nUAAAzjnzoJcJgibiMZAAAB</td>\n",
       "      <td>15</td>\n",
       "      <td>[-0.788, -0.576, -1.599, -0.621, -0.873, 0.211...</td>\n",
       "    </tr>\n",
       "    <tr>\n",
       "      <th>1</th>\n",
       "      <td>1</td>\n",
       "      <td>GCkNDwV7ObrPpLYBABnZ_7w_vr9CbiMZAAAB</td>\n",
       "      <td>97</td>\n",
       "      <td>[-0.298, 1.245, -2.141, -0.648, -1.364, -1.228...</td>\n",
       "    </tr>\n",
       "    <tr>\n",
       "      <th>2</th>\n",
       "      <td>2</td>\n",
       "      <td>GJBOBAWLhcNljbwAAKQeAWSKKuw-biMZAAAB</td>\n",
       "      <td>67</td>\n",
       "      <td>[0.241, -0.815, -1.77, -2.721, -0.594, -0.188,...</td>\n",
       "    </tr>\n",
       "    <tr>\n",
       "      <th>3</th>\n",
       "      <td>3</td>\n",
       "      <td>GNISEwVLJSQ7BJkAALjn5V6u0A0cbiMZAAAB</td>\n",
       "      <td>52</td>\n",
       "      <td>[-3.262, -1.129, 2.943, -2.279, -1.141, 0.328,...</td>\n",
       "    </tr>\n",
       "    <tr>\n",
       "      <th>4</th>\n",
       "      <td>4</td>\n",
       "      <td>GLl9CgV4sRPHnSUCAC_aD9jiJ741biMZAAAB</td>\n",
       "      <td>69</td>\n",
       "      <td>[1.114, -0.484, -0.674, 0.579, -2.052, 1.537, ...</td>\n",
       "    </tr>\n",
       "  </tbody>\n",
       "</table>\n",
       "</div>"
      ],
      "text/plain": [
       "   sid                                   eid  label  \\\n",
       "0    0  GI9uBAWRhfzG1nUAAAzjnzoJcJgibiMZAAAB     15   \n",
       "1    1  GCkNDwV7ObrPpLYBABnZ_7w_vr9CbiMZAAAB     97   \n",
       "2    2  GJBOBAWLhcNljbwAAKQeAWSKKuw-biMZAAAB     67   \n",
       "3    3  GNISEwVLJSQ7BJkAALjn5V6u0A0cbiMZAAAB     52   \n",
       "4    4  GLl9CgV4sRPHnSUCAC_aD9jiJ741biMZAAAB     69   \n",
       "\n",
       "                                                 emb  \n",
       "0  [-0.788, -0.576, -1.599, -0.621, -0.873, 0.211...  \n",
       "1  [-0.298, 1.245, -2.141, -0.648, -1.364, -1.228...  \n",
       "2  [0.241, -0.815, -1.77, -2.721, -0.594, -0.188,...  \n",
       "3  [-3.262, -1.129, 2.943, -2.279, -1.141, 0.328,...  \n",
       "4  [1.114, -0.484, -0.674, 0.579, -2.052, 1.537, ...  "
      ]
     },
     "execution_count": 20,
     "metadata": {},
     "output_type": "execute_result"
    }
   ],
   "source": [
    "df['emb'] = list(np.round(emb, 3))\n",
    "df.head()"
   ]
  },
  {
   "cell_type": "code",
   "execution_count": 21,
   "metadata": {},
   "outputs": [],
   "source": [
    "df['emb'] = df['emb'].apply(lambda x: \",\".join(map(str, x)))"
   ]
  },
  {
   "cell_type": "code",
   "execution_count": 22,
   "metadata": {},
   "outputs": [
    {
     "data": {
      "text/html": [
       "<div>\n",
       "<style scoped>\n",
       "    .dataframe tbody tr th:only-of-type {\n",
       "        vertical-align: middle;\n",
       "    }\n",
       "\n",
       "    .dataframe tbody tr th {\n",
       "        vertical-align: top;\n",
       "    }\n",
       "\n",
       "    .dataframe thead th {\n",
       "        text-align: right;\n",
       "    }\n",
       "</style>\n",
       "<table border=\"1\" class=\"dataframe\">\n",
       "  <thead>\n",
       "    <tr style=\"text-align: right;\">\n",
       "      <th></th>\n",
       "      <th>sid</th>\n",
       "      <th>eid</th>\n",
       "      <th>label</th>\n",
       "      <th>emb</th>\n",
       "    </tr>\n",
       "  </thead>\n",
       "  <tbody>\n",
       "    <tr>\n",
       "      <th>0</th>\n",
       "      <td>0</td>\n",
       "      <td>GI9uBAWRhfzG1nUAAAzjnzoJcJgibiMZAAAB</td>\n",
       "      <td>15</td>\n",
       "      <td>-0.788,-0.576,-1.599,-0.621,-0.873,0.211,-0.87...</td>\n",
       "    </tr>\n",
       "    <tr>\n",
       "      <th>1</th>\n",
       "      <td>1</td>\n",
       "      <td>GCkNDwV7ObrPpLYBABnZ_7w_vr9CbiMZAAAB</td>\n",
       "      <td>97</td>\n",
       "      <td>-0.298,1.245,-2.141,-0.648,-1.364,-1.228,1.341...</td>\n",
       "    </tr>\n",
       "    <tr>\n",
       "      <th>2</th>\n",
       "      <td>2</td>\n",
       "      <td>GJBOBAWLhcNljbwAAKQeAWSKKuw-biMZAAAB</td>\n",
       "      <td>67</td>\n",
       "      <td>0.241,-0.815,-1.77,-2.721,-0.594,-0.188,0.083,...</td>\n",
       "    </tr>\n",
       "    <tr>\n",
       "      <th>3</th>\n",
       "      <td>3</td>\n",
       "      <td>GNISEwVLJSQ7BJkAALjn5V6u0A0cbiMZAAAB</td>\n",
       "      <td>52</td>\n",
       "      <td>-3.262,-1.129,2.943,-2.279,-1.141,0.328,-1.815...</td>\n",
       "    </tr>\n",
       "    <tr>\n",
       "      <th>4</th>\n",
       "      <td>4</td>\n",
       "      <td>GLl9CgV4sRPHnSUCAC_aD9jiJ741biMZAAAB</td>\n",
       "      <td>69</td>\n",
       "      <td>1.114,-0.484,-0.674,0.579,-2.052,1.537,-1.49,0...</td>\n",
       "    </tr>\n",
       "  </tbody>\n",
       "</table>\n",
       "</div>"
      ],
      "text/plain": [
       "   sid                                   eid  label  \\\n",
       "0    0  GI9uBAWRhfzG1nUAAAzjnzoJcJgibiMZAAAB     15   \n",
       "1    1  GCkNDwV7ObrPpLYBABnZ_7w_vr9CbiMZAAAB     97   \n",
       "2    2  GJBOBAWLhcNljbwAAKQeAWSKKuw-biMZAAAB     67   \n",
       "3    3  GNISEwVLJSQ7BJkAALjn5V6u0A0cbiMZAAAB     52   \n",
       "4    4  GLl9CgV4sRPHnSUCAC_aD9jiJ741biMZAAAB     69   \n",
       "\n",
       "                                                 emb  \n",
       "0  -0.788,-0.576,-1.599,-0.621,-0.873,0.211,-0.87...  \n",
       "1  -0.298,1.245,-2.141,-0.648,-1.364,-1.228,1.341...  \n",
       "2  0.241,-0.815,-1.77,-2.721,-0.594,-0.188,0.083,...  \n",
       "3  -3.262,-1.129,2.943,-2.279,-1.141,0.328,-1.815...  \n",
       "4  1.114,-0.484,-0.674,0.579,-2.052,1.537,-1.49,0...  "
      ]
     },
     "execution_count": 22,
     "metadata": {},
     "output_type": "execute_result"
    }
   ],
   "source": [
    "df.head()"
   ]
  },
  {
   "cell_type": "code",
   "execution_count": 24,
   "metadata": {},
   "outputs": [],
   "source": [
    "df.to_csv('/home/krsharma/ClassificationImageText/trained_models/food101n_20e/robustnoiserank/cleannet_all_256d.tsv', sep='\\t', index=False, header=None)\n",
    "\n",
    "\n"
   ]
  },
  {
   "cell_type": "markdown",
   "metadata": {},
   "source": [
    "# Evaluate robustnoiserank"
   ]
  },
  {
   "cell_type": "code",
   "execution_count": 58,
   "metadata": {},
   "outputs": [
    {
     "data": {
      "text/plain": [
       "'GI9uBAWRhfzG1nUAAAzjnzoJcJgibiMZAAAB'"
      ]
     },
     "execution_count": 58,
     "metadata": {},
     "output_type": "execute_result"
    }
   ],
   "source": [
    "cleannet_all_256d = pd.read_csv('/home/krsharma/ClassificationImageText/trained_models/food101n_20e/robustnoiserank/food-256d_emb/cleannet_all_256d.tsv', header=None, sep='\\t')\n",
    "\n",
    "cleannet_all_256d_df = cleannet_all_256d[[0, 1, 2]]\n",
    "\n",
    "cleannet_all_256d_df.head()\n",
    "\n",
    "everstore_mapping = dict(zip(cleannet_all_256d_df[0], cleannet_all_256d_df[1]))\n",
    "everstore_mapping[0]"
   ]
  },
  {
   "cell_type": "code",
   "execution_count": 59,
   "metadata": {},
   "outputs": [
    {
     "data": {
      "text/html": [
       "<div>\n",
       "<style scoped>\n",
       "    .dataframe tbody tr th:only-of-type {\n",
       "        vertical-align: middle;\n",
       "    }\n",
       "\n",
       "    .dataframe tbody tr th {\n",
       "        vertical-align: top;\n",
       "    }\n",
       "\n",
       "    .dataframe thead th {\n",
       "        text-align: right;\n",
       "    }\n",
       "</style>\n",
       "<table border=\"1\" class=\"dataframe\">\n",
       "  <thead>\n",
       "    <tr style=\"text-align: right;\">\n",
       "      <th></th>\n",
       "      <th>0</th>\n",
       "      <th>1</th>\n",
       "      <th>2</th>\n",
       "      <th>3</th>\n",
       "      <th>4</th>\n",
       "      <th>5</th>\n",
       "      <th>6</th>\n",
       "      <th>7</th>\n",
       "    </tr>\n",
       "  </thead>\n",
       "  <tbody>\n",
       "    <tr>\n",
       "      <th>0</th>\n",
       "      <td>caesar_salad/f8c49734588789daf70be79ffcef9eeb.jpg</td>\n",
       "      <td>f8c49734588789daf70be79ffcef9eeb.jpg</td>\n",
       "      <td>GGLeAwXvkdcqIkcCAI1Z3nzqCwY_biMZAAAB</td>\n",
       "      <td>caesar_salad</td>\n",
       "      <td>11</td>\n",
       "      <td>1.0</td>\n",
       "      <td>2020-02-04</td>\n",
       "      <td>val</td>\n",
       "    </tr>\n",
       "    <tr>\n",
       "      <th>1</th>\n",
       "      <td>foie_gras/7a46407ee4c2157aa9abbba1d553e2dd.jpg</td>\n",
       "      <td>7a46407ee4c2157aa9abbba1d553e2dd.jpg</td>\n",
       "      <td>GOX-EQULBp9FmCYDAJLabL7HqXAybiMZAAAB</td>\n",
       "      <td>foie_gras</td>\n",
       "      <td>39</td>\n",
       "      <td>1.0</td>\n",
       "      <td>2020-02-04</td>\n",
       "      <td>val</td>\n",
       "    </tr>\n",
       "    <tr>\n",
       "      <th>2</th>\n",
       "      <td>chicken_curry/04b4c813f792838a1cf5ab5086fcb3bb...</td>\n",
       "      <td>04b4c813f792838a1cf5ab5086fcb3bb.jpg</td>\n",
       "      <td>GDSUEQXgTAGMv6kAAAgDm2KPWXBFbiMZAAAB</td>\n",
       "      <td>chicken_curry</td>\n",
       "      <td>18</td>\n",
       "      <td>1.0</td>\n",
       "      <td>2020-02-04</td>\n",
       "      <td>val</td>\n",
       "    </tr>\n",
       "    <tr>\n",
       "      <th>3</th>\n",
       "      <td>caprese_salad/8b77869b9f11f198dab328ea2ba0345b...</td>\n",
       "      <td>8b77869b9f11f198dab328ea2ba0345b.jpg</td>\n",
       "      <td>GCunEwXTgNf9OyQCAH40C9EZf98tbiMZAAAB</td>\n",
       "      <td>caprese_salad</td>\n",
       "      <td>13</td>\n",
       "      <td>1.0</td>\n",
       "      <td>2020-02-04</td>\n",
       "      <td>val</td>\n",
       "    </tr>\n",
       "    <tr>\n",
       "      <th>4</th>\n",
       "      <td>chocolate_cake/a1e79808922f9c3b219718aeda7b591...</td>\n",
       "      <td>a1e79808922f9c3b219718aeda7b5916.jpg</td>\n",
       "      <td>GFiYAwVHTQHbYhQDAC1ZOvBfpK9BbiMZAAAB</td>\n",
       "      <td>chocolate_cake</td>\n",
       "      <td>21</td>\n",
       "      <td>1.0</td>\n",
       "      <td>2020-02-04</td>\n",
       "      <td>val</td>\n",
       "    </tr>\n",
       "  </tbody>\n",
       "</table>\n",
       "</div>"
      ],
      "text/plain": [
       "                                                   0  \\\n",
       "0  caesar_salad/f8c49734588789daf70be79ffcef9eeb.jpg   \n",
       "1     foie_gras/7a46407ee4c2157aa9abbba1d553e2dd.jpg   \n",
       "2  chicken_curry/04b4c813f792838a1cf5ab5086fcb3bb...   \n",
       "3  caprese_salad/8b77869b9f11f198dab328ea2ba0345b...   \n",
       "4  chocolate_cake/a1e79808922f9c3b219718aeda7b591...   \n",
       "\n",
       "                                      1                                     2  \\\n",
       "0  f8c49734588789daf70be79ffcef9eeb.jpg  GGLeAwXvkdcqIkcCAI1Z3nzqCwY_biMZAAAB   \n",
       "1  7a46407ee4c2157aa9abbba1d553e2dd.jpg  GOX-EQULBp9FmCYDAJLabL7HqXAybiMZAAAB   \n",
       "2  04b4c813f792838a1cf5ab5086fcb3bb.jpg  GDSUEQXgTAGMv6kAAAgDm2KPWXBFbiMZAAAB   \n",
       "3  8b77869b9f11f198dab328ea2ba0345b.jpg  GCunEwXTgNf9OyQCAH40C9EZf98tbiMZAAAB   \n",
       "4  a1e79808922f9c3b219718aeda7b5916.jpg  GFiYAwVHTQHbYhQDAC1ZOvBfpK9BbiMZAAAB   \n",
       "\n",
       "                3   4    5           6    7  \n",
       "0    caesar_salad  11  1.0  2020-02-04  val  \n",
       "1       foie_gras  39  1.0  2020-02-04  val  \n",
       "2   chicken_curry  18  1.0  2020-02-04  val  \n",
       "3   caprese_salad  13  1.0  2020-02-04  val  \n",
       "4  chocolate_cake  21  1.0  2020-02-04  val  "
      ]
     },
     "execution_count": 59,
     "metadata": {},
     "output_type": "execute_result"
    }
   ],
   "source": [
    "dict_noisylabel = dict(zip(ldf[0], ldf[4]))\n",
    "dict_everstorehandle = dict(zip(ldf[0], ldf[2]))\n",
    "ldf.head()"
   ]
  },
  {
   "cell_type": "code",
   "execution_count": 60,
   "metadata": {},
   "outputs": [
    {
     "data": {
      "text/plain": [
       "(4741,                                                    0  \\\n",
       " 0  caesar_salad/f8c49734588789daf70be79ffcef9eeb.jpg   \n",
       " 1     foie_gras/7a46407ee4c2157aa9abbba1d553e2dd.jpg   \n",
       " 2  chicken_curry/04b4c813f792838a1cf5ab5086fcb3bb...   \n",
       " 3  caprese_salad/8b77869b9f11f198dab328ea2ba0345b...   \n",
       " 4  chocolate_cake/a1e79808922f9c3b219718aeda7b591...   \n",
       " \n",
       "                                       1                                     2  \\\n",
       " 0  f8c49734588789daf70be79ffcef9eeb.jpg  GGLeAwXvkdcqIkcCAI1Z3nzqCwY_biMZAAAB   \n",
       " 1  7a46407ee4c2157aa9abbba1d553e2dd.jpg  GOX-EQULBp9FmCYDAJLabL7HqXAybiMZAAAB   \n",
       " 2  04b4c813f792838a1cf5ab5086fcb3bb.jpg  GDSUEQXgTAGMv6kAAAgDm2KPWXBFbiMZAAAB   \n",
       " 3  8b77869b9f11f198dab328ea2ba0345b.jpg  GCunEwXTgNf9OyQCAH40C9EZf98tbiMZAAAB   \n",
       " 4  a1e79808922f9c3b219718aeda7b5916.jpg  GFiYAwVHTQHbYhQDAC1ZOvBfpK9BbiMZAAAB   \n",
       " \n",
       "                 3   4    5           6    7  \n",
       " 0    caesar_salad  11  1.0  2020-02-04  val  \n",
       " 1       foie_gras  39  1.0  2020-02-04  val  \n",
       " 2   chicken_curry  18  1.0  2020-02-04  val  \n",
       " 3   caprese_salad  13  1.0  2020-02-04  val  \n",
       " 4  chocolate_cake  21  1.0  2020-02-04  val  )"
      ]
     },
     "execution_count": 60,
     "metadata": {},
     "output_type": "execute_result"
    }
   ],
   "source": [
    "val = ldf[ldf[7] == 'val']\n",
    "len(val), val.head()"
   ]
  },
  {
   "cell_type": "code",
   "execution_count": 103,
   "metadata": {},
   "outputs": [
    {
     "name": "stdout",
     "output_type": "stream",
     "text": [
      "137303\n",
      "['GM4PEwVswnfNpLIAAIs9aA1zf0s4biMZAAAB', 'GMAfCwWsiJiF8m4AAHJKcnNnT7FtbiMZAAAB', 'GKh6CAWYWsXZLK4AALBrrnF8-4l4biMZAAAB', 'GCphEAVVsGoMXa8AAJUEtaV2xDg3biMZAAAB', 'GKpyBAWRZ7CxwaIAAKvp7ryJlH5_biMZAAAB'] 137303\n",
      "[ 11837.  10330. 171128. 232558. 135771. 103676.  92955. 295004.]\n"
     ]
    }
   ],
   "source": [
    "detected = np.loadtxt('/home/krsharma/ClassificationImageText/trained_models/food101n_20e/robustnoiserank/food-256d_emb/results_100/k=15_a=0.5_bf=1.0_b=1.0_e=2.0.txt')\n",
    "\n",
    "print(len(detected))\n",
    "\n",
    "# 342202 \n",
    "# 633645 k=250_a=0.5_bf=1.0_b=1.0_e=2.0.txt\n",
    "\n",
    "detected_noise_everstore = [everstore_mapping[d] for d in detected]\n",
    "print(detected_noise_everstore[0:5], len(detected_noise_everstore))\n",
    "\n",
    "print(detected[0:8])"
   ]
  },
  {
   "cell_type": "code",
   "execution_count": 104,
   "metadata": {},
   "outputs": [
    {
     "name": "stdout",
     "output_type": "stream",
     "text": [
      "P/R/F1 (noise) (0.4, 0.9029443838604144, 0.5544024104452628, None)\n",
      "f1_metrics (macro/unweighted mean) 0.6747377718123158\n",
      "avg accuracy over classes 0.7175602316924394 AvgErrorRate 0.28243976830756057\n"
     ]
    },
    {
     "name": "stderr",
     "output_type": "stream",
     "text": [
      "/home/krsharma/miniconda3/envs/bert/lib/python3.7/site-packages/ipykernel_launcher.py:3: SettingWithCopyWarning: \n",
      "A value is trying to be set on a copy of a slice from a DataFrame.\n",
      "Try using .loc[row_indexer,col_indexer] = value instead\n",
      "\n",
      "See the caveats in the documentation: http://pandas.pydata.org/pandas-docs/stable/user_guide/indexing.html#returning-a-view-versus-a-copy\n",
      "  This is separate from the ipykernel package so we can avoid doing imports until\n"
     ]
    }
   ],
   "source": [
    "set_detected_noise = set(detected_noise_everstore)\n",
    "\n",
    "val['detected_label'] = val[2].apply(lambda x: 0.0 if x in set_detected_noise else 1.0)\n",
    "val.head()\n",
    "\n",
    "vlabels = np.array(val[5], dtype=np.int32)\n",
    "preds = np.array(val['detected_label'], dtype=np.int32)\n",
    "classes = np.array(val[4], dtype=np.int32)\n",
    "\n",
    "from sklearn.metrics import f1_score, classification_report, precision_recall_fscore_support\n",
    "\n",
    "def report_metrics(targets, preds, classes):\n",
    "    C = np.max(classes) + 1\n",
    "    per_class_accuracies = np.zeros((C,))\n",
    "    for c in range(C):\n",
    "        ind = np.where(classes == c)[0]\n",
    "        class_acc = f1_score(targets[ind], preds[ind], average='micro')\n",
    "        per_class_accuracies[c] = class_acc\n",
    "    \n",
    "    print('P/R/F1 (noise)', precision_recall_fscore_support(targets, preds, pos_label=0, average='binary'))\n",
    "    print('f1_metrics (macro/unweighted mean)', f1_score(targets, preds, average='macro'))\n",
    "    acc_classes = np.mean(per_class_accuracies)\n",
    "    print('avg accuracy over classes', acc_classes, 'AvgErrorRate', 1 - acc_classes)\n",
    "    \n",
    "    report_additional = False\n",
    "    if report_additional:\n",
    "        print()\n",
    "        acc = f1_score(targets, preds, average='micro')\n",
    "        print('f1_metrics (accuracy/micro)', acc, 'ErrorRate', 1 - acc)\n",
    "        print('P/R/F1 (clean)', precision_recall_fscore_support(targets, preds, pos_label=1, average='binary'))\n",
    "        print('f1_metrics (weighted mean of f1)', f1_score(targets, preds, average='weighted'))\n",
    "    # cr = classification_report(targets, preds)\n",
    "\n",
    "report_metrics(vlabels, preds, classes)"
   ]
  },
  {
   "cell_type": "code",
   "execution_count": 102,
   "metadata": {},
   "outputs": [
    {
     "ename": "SyntaxError",
     "evalue": "invalid syntax (<ipython-input-102-e445be1c711d>, line 3)",
     "output_type": "error",
     "traceback": [
      "\u001b[0;36m  File \u001b[0;32m\"<ipython-input-102-e445be1c711d>\"\u001b[0;36m, line \u001b[0;32m3\u001b[0m\n\u001b[0;31m    5P/R/F1 (noise) (0.39812992125984253, 0.8822246455834242, 0.5486605629026788, None)\u001b[0m\n\u001b[0m     ^\u001b[0m\n\u001b[0;31mSyntaxError\u001b[0m\u001b[0;31m:\u001b[0m invalid syntax\n"
     ]
    }
   ],
   "source": [
    "results_30\n",
    "\n",
    "5P/R/F1 (noise) (0.39812992125984253, 0.8822246455834242, 0.5486605629026788, None)\n",
    "f1_metrics (macro/unweighted mean) 0.6724628392348998\n",
    "avg accuracy over classes 0.7185903864103752 AvgErrorRate 0.2814096135896248\n",
    "\n",
    "10P/R/F1 (noise) (0.3869441816461684, 0.8920392584514721, 0.5397558561530847, None)\n",
    "f1_metrics (macro/unweighted mean) 0.6617551564132343\n",
    "avg accuracy over classes 0.7040161392502351 AvgErrorRate 0.2959838607497649\n",
    "\n",
    "results_40\n",
    "\n",
    "5P/R/F1 (noise) (0.40699442473390773, 0.8756815703380589, 0.5557093425605536, None)\n",
    "f1_metrics (macro/unweighted mean) 0.6804638945812477\n",
    "avg accuracy over classes 0.7282107586403482 AvgErrorRate 0.27178924135965177\n",
    "\n",
    "10 P/R/F1 (noise) (0.4025403028822667, 0.8985823336968375, 0.5560053981106613, None)\n",
    "f1_metrics (macro/unweighted mean) 0.6770514870271012\n",
    "avg accuracy over classes 0.7207489675232696 AvgErrorRate 0.27925103247673044\n",
    "\n",
    "\n",
    "results_50\n",
    "5P/R/F1 (noise) (0.4117946110828673, 0.8833151581243184, 0.5617198335644938, None)\n",
    "f1_metrics (macro/unweighted mean) 0.6850733147816408\n",
    "avg accuracy over classes 0.7328569955055766 AvgErrorRate 0.2671430044944234\n",
    "\n",
    "results_100\n",
    "5P/R/F1 (noise) (0.423936170212766, 0.8691384950926936, 0.5698963174830175, None)\n",
    "f1_metrics (macro/unweighted mean) 0.6949705970361983\n",
    "avg accuracy over classes 0.745269233253319 AvgErrorRate 0.25473076674668105\n",
    "\n",
    "10P/R/F1 (noise) (0.4117943548387097, 0.8909487459105779, 0.5632540503274733, None)\n",
    "f1_metrics (macro/unweighted mean) 0.6853650588972118\n",
    "avg accuracy over classes 0.7317169146044237 AvgErrorRate 0.2682830853955763"
   ]
  },
  {
   "cell_type": "markdown",
   "metadata": {},
   "source": [
    "# Give detected ranked list as everstore handles\n"
   ]
  },
  {
   "cell_type": "code",
   "execution_count": 198,
   "metadata": {},
   "outputs": [
    {
     "data": {
      "text/plain": [
       "76144.0"
      ]
     },
     "execution_count": 198,
     "metadata": {},
     "output_type": "execute_result"
    }
   ],
   "source": [
    "detected = np.loadtxt('/home/krsharma/ClassificationImageText/trained_models/clothing1m_10e/robustnoiserank/clothing-256d_emb/results_100/k=100_a=0.5_bf=1.0_b=1.0_e=2.0.txt')"
   ]
  },
  {
   "cell_type": "code",
   "execution_count": 199,
   "metadata": {},
   "outputs": [
    {
     "data": {
      "text/plain": [
       "'GC0fEQWFdXBogHcAABeqOGzEdyUwbiMZAAAB'"
      ]
     },
     "execution_count": 199,
     "metadata": {},
     "output_type": "execute_result"
    }
   ],
   "source": [
    "# cleannet_all_256d.tsv everstore (matches row number)\n",
    "\n",
    "cleannet_all_256d = pd.read_csv('/home/krsharma/ClassificationImageText/trained_models/clothing1m_10e/robustnoiserank/clothing-256d_emb/cleannet_all_256d.tsv', header=None, sep='\\t')\n",
    "\n",
    "cleannet_all_256d_df = cleannet_all_256d[[0, 1, 2]]\n",
    "\n",
    "cleannet_all_256d_df.head()\n",
    "\n",
    "everstore_mapping = dict(zip(cleannet_all_256d_df[0], cleannet_all_256d_df[1]))\n",
    "everstore_mapping[0]"
   ]
  },
  {
   "cell_type": "code",
   "execution_count": 200,
   "metadata": {},
   "outputs": [
    {
     "data": {
      "text/html": [
       "<div>\n",
       "<style scoped>\n",
       "    .dataframe tbody tr th:only-of-type {\n",
       "        vertical-align: middle;\n",
       "    }\n",
       "\n",
       "    .dataframe tbody tr th {\n",
       "        vertical-align: top;\n",
       "    }\n",
       "\n",
       "    .dataframe thead th {\n",
       "        text-align: right;\n",
       "    }\n",
       "</style>\n",
       "<table border=\"1\" class=\"dataframe\">\n",
       "  <thead>\n",
       "    <tr style=\"text-align: right;\">\n",
       "      <th></th>\n",
       "      <th>0</th>\n",
       "      <th>1</th>\n",
       "      <th>2</th>\n",
       "    </tr>\n",
       "  </thead>\n",
       "  <tbody>\n",
       "    <tr>\n",
       "      <th>0</th>\n",
       "      <td>0</td>\n",
       "      <td>GC0fEQWFdXBogHcAABeqOGzEdyUwbiMZAAAB</td>\n",
       "      <td>11</td>\n",
       "    </tr>\n",
       "    <tr>\n",
       "      <th>1</th>\n",
       "      <td>1</td>\n",
       "      <td>GGu2BgVlNA76K6wAACw9uey3qGRmbiMZAAAB</td>\n",
       "      <td>0</td>\n",
       "    </tr>\n",
       "    <tr>\n",
       "      <th>2</th>\n",
       "      <td>2</td>\n",
       "      <td>GIb5EAVPqE2MIqgAAJwWenTzGsMibiMZAAAB</td>\n",
       "      <td>8</td>\n",
       "    </tr>\n",
       "    <tr>\n",
       "      <th>3</th>\n",
       "      <td>3</td>\n",
       "      <td>GMHYDwXmNmm_OO8IAB9d_7IBUAQMbiMZAAAB</td>\n",
       "      <td>2</td>\n",
       "    </tr>\n",
       "    <tr>\n",
       "      <th>4</th>\n",
       "      <td>4</td>\n",
       "      <td>GKYAEQUuckgIWOYDAO8iPtU-xis0biMZAAAB</td>\n",
       "      <td>0</td>\n",
       "    </tr>\n",
       "  </tbody>\n",
       "</table>\n",
       "</div>"
      ],
      "text/plain": [
       "   0                                     1   2\n",
       "0  0  GC0fEQWFdXBogHcAABeqOGzEdyUwbiMZAAAB  11\n",
       "1  1  GGu2BgVlNA76K6wAACw9uey3qGRmbiMZAAAB   0\n",
       "2  2  GIb5EAVPqE2MIqgAAJwWenTzGsMibiMZAAAB   8\n",
       "3  3  GMHYDwXmNmm_OO8IAB9d_7IBUAQMbiMZAAAB   2\n",
       "4  4  GKYAEQUuckgIWOYDAO8iPtU-xis0biMZAAAB   0"
      ]
     },
     "execution_count": 200,
     "metadata": {},
     "output_type": "execute_result"
    }
   ],
   "source": [
    "cleannet_all_256d_df.head()"
   ]
  },
  {
   "cell_type": "code",
   "execution_count": 201,
   "metadata": {},
   "outputs": [
    {
     "data": {
      "text/plain": [
       "342202"
      ]
     },
     "execution_count": 201,
     "metadata": {},
     "output_type": "execute_result"
    }
   ],
   "source": [
    "len(detected)"
   ]
  },
  {
   "cell_type": "code",
   "execution_count": 203,
   "metadata": {},
   "outputs": [
    {
     "name": "stdout",
     "output_type": "stream",
     "text": [
      "['GFUNEQV8QzrF4BYJACLwms5fwYQnbiMZAAAB', 'GLmSAgWfLiGHbKwBALbtKFfLtuBwbiMZAAAB', 'GC2-CAUil1DYCqwAAHb-CgBLniNcbiMZAAAB', 'GPmHCQW2xPBDsn8AADQliIRLNdA9biMZAAAB', 'GIubAgUsjPMi3L0AANPSFAHmlkdabiMZAAAB', 'GDclBwVTvXzzxa8AACdDC9sNSl5bbiMZAAAB', 'GGI_EQUhKwLfq6IDAIThHOj0cvdrbiMZAAAB', 'GHUwCwVv7S3I_FkMAHorw27TxAAWbiMZAAAB', 'GO2wBgV_Ynta2jACALr7YsnChiILbiMZAAAB', 'GGWzEwVbzo2XK6QAALovSL047BtjbiMZAAAB'] 342202\n"
     ]
    }
   ],
   "source": [
    "eranked = [everstore_mapping[d] for d in detected]\n",
    "print(eranked[0:10], len(eranked))"
   ]
  },
  {
   "cell_type": "code",
   "execution_count": 205,
   "metadata": {},
   "outputs": [],
   "source": [
    "np.savetxt('out.txt', eranked, fmt='%s')"
   ]
  },
  {
   "cell_type": "code",
   "execution_count": 45,
   "metadata": {},
   "outputs": [
    {
     "data": {
      "text/plain": [
       "62000.0"
      ]
     },
     "execution_count": 45,
     "metadata": {},
     "output_type": "execute_result"
    }
   ],
   "source": [
    "20/100 * 310000.0"
   ]
  },
  {
   "cell_type": "code",
   "execution_count": null,
   "metadata": {},
   "outputs": [],
   "source": []
  }
 ],
 "metadata": {
  "kernelspec": {
   "display_name": "bert",
   "language": "python",
   "name": "bert"
  },
  "language_info": {
   "codemirror_mode": {
    "name": "ipython",
    "version": 3
   },
   "file_extension": ".py",
   "mimetype": "text/x-python",
   "name": "python",
   "nbconvert_exporter": "python",
   "pygments_lexer": "ipython3",
   "version": "3.7.4"
  }
 },
 "nbformat": 4,
 "nbformat_minor": 4
}
