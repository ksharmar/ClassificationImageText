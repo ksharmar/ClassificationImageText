{
 "cells": [
  {
   "cell_type": "markdown",
   "metadata": {},
   "source": [
    "# Format ref numpy to tsv"
   ]
  },
  {
   "cell_type": "code",
   "execution_count": 228,
   "metadata": {},
   "outputs": [
    {
     "name": "stdout",
     "output_type": "stream",
     "text": [
      "(14, 190, 256)\n"
     ]
    }
   ],
   "source": [
    "path = \"/home/krsharma/ClassificationImageText/trained_models/clothing1m_10e/robustnoiserank/clothing-256d_emb/ref_190.npy\"\n",
    "import numpy as np\n",
    "\n",
    "ref = np.load(path)\n",
    "\n",
    "print(ref.shape)"
   ]
  },
  {
   "cell_type": "code",
   "execution_count": 229,
   "metadata": {},
   "outputs": [
    {
     "data": {
      "text/html": [
       "<div>\n",
       "<style scoped>\n",
       "    .dataframe tbody tr th:only-of-type {\n",
       "        vertical-align: middle;\n",
       "    }\n",
       "\n",
       "    .dataframe tbody tr th {\n",
       "        vertical-align: top;\n",
       "    }\n",
       "\n",
       "    .dataframe thead th {\n",
       "        text-align: right;\n",
       "    }\n",
       "</style>\n",
       "<table border=\"1\" class=\"dataframe\">\n",
       "  <thead>\n",
       "    <tr style=\"text-align: right;\">\n",
       "      <th></th>\n",
       "      <th>id</th>\n",
       "      <th>img</th>\n",
       "      <th>labels</th>\n",
       "      <th>feats</th>\n",
       "    </tr>\n",
       "  </thead>\n",
       "  <tbody>\n",
       "    <tr>\n",
       "      <th>0</th>\n",
       "      <td>0</td>\n",
       "      <td>0</td>\n",
       "      <td>0</td>\n",
       "      <td>-0.235,-0.549,0.175,0.032,0.889,0.204,-0.224,-...</td>\n",
       "    </tr>\n",
       "    <tr>\n",
       "      <th>1</th>\n",
       "      <td>1</td>\n",
       "      <td>1</td>\n",
       "      <td>0</td>\n",
       "      <td>0.128,-0.172,-0.144,0.358,-0.83,-0.064,0.86,0....</td>\n",
       "    </tr>\n",
       "    <tr>\n",
       "      <th>2</th>\n",
       "      <td>2</td>\n",
       "      <td>2</td>\n",
       "      <td>0</td>\n",
       "      <td>-0.314,-0.068,0.655,0.546,-0.412,1.618,-0.114,...</td>\n",
       "    </tr>\n",
       "    <tr>\n",
       "      <th>3</th>\n",
       "      <td>3</td>\n",
       "      <td>3</td>\n",
       "      <td>0</td>\n",
       "      <td>-0.108,-0.794,-0.494,0.216,1.228,0.856,-0.151,...</td>\n",
       "    </tr>\n",
       "    <tr>\n",
       "      <th>4</th>\n",
       "      <td>4</td>\n",
       "      <td>4</td>\n",
       "      <td>0</td>\n",
       "      <td>-0.646,0.022,-0.52,0.535,1.072,0.698,-0.96,-0....</td>\n",
       "    </tr>\n",
       "  </tbody>\n",
       "</table>\n",
       "</div>"
      ],
      "text/plain": [
       "   id  img  labels                                              feats\n",
       "0   0    0       0  -0.235,-0.549,0.175,0.032,0.889,0.204,-0.224,-...\n",
       "1   1    1       0  0.128,-0.172,-0.144,0.358,-0.83,-0.064,0.86,0....\n",
       "2   2    2       0  -0.314,-0.068,0.655,0.546,-0.412,1.618,-0.114,...\n",
       "3   3    3       0  -0.108,-0.794,-0.494,0.216,1.228,0.856,-0.151,...\n",
       "4   4    4       0  -0.646,0.022,-0.52,0.535,1.072,0.698,-0.96,-0...."
      ]
     },
     "execution_count": 229,
     "metadata": {},
     "output_type": "execute_result"
    }
   ],
   "source": [
    "import pandas as pd\n",
    "\n",
    "df = pd.DataFrame()\n",
    "\n",
    "def join_str(ci):\n",
    "    return \",\".join(map(str, ci))\n",
    "    \n",
    "labels = []\n",
    "vecs = []\n",
    "for classname, c in enumerate(ref):\n",
    "    labels += [int(classname)] * len(c)\n",
    "    vecs += [join_str(ci) for ci in np.round(c, 3)]\n",
    "labels = np.array(labels, dtype=np.int32)\n",
    "df['id'] = np.arange(len(labels))\n",
    "df['img'] = np.arange(len(labels))\n",
    "df['labels'] = labels\n",
    "df['feats'] = vecs\n",
    "\n",
    "df.head()"
   ]
  },
  {
   "cell_type": "code",
   "execution_count": 230,
   "metadata": {},
   "outputs": [],
   "source": [
    "df.to_csv('/home/krsharma/ClassificationImageText/trained_models/clothing1m_10e/robustnoiserank/clothing-256d_emb/ref_190.tsv', sep='\\t', header=None, index=False)"
   ]
  },
  {
   "cell_type": "markdown",
   "metadata": {},
   "source": [
    "# Format extracted 256d embeddings from pkl to tsv"
   ]
  },
  {
   "cell_type": "code",
   "execution_count": 22,
   "metadata": {},
   "outputs": [],
   "source": [
    "import pickle as pkl\n",
    "\n",
    "d = pkl.load(open('/home/krsharma/d_00000_781250x256.pickle', 'rb'))"
   ]
  },
  {
   "cell_type": "code",
   "execution_count": 30,
   "metadata": {},
   "outputs": [
    {
     "data": {
      "text/plain": [
       "(781250, 256)"
      ]
     },
     "execution_count": 30,
     "metadata": {},
     "output_type": "execute_result"
    }
   ],
   "source": [
    "d[0].shape"
   ]
  },
  {
   "cell_type": "code",
   "execution_count": 31,
   "metadata": {},
   "outputs": [],
   "source": [
    "d2 = pkl.load(open('/home/krsharma/d_00001_226238x256.pickle', 'rb'))"
   ]
  },
  {
   "cell_type": "code",
   "execution_count": 32,
   "metadata": {},
   "outputs": [
    {
     "data": {
      "text/plain": [
       "(226238, 256)"
      ]
     },
     "execution_count": 32,
     "metadata": {},
     "output_type": "execute_result"
    }
   ],
   "source": [
    "d2[0].shape"
   ]
  },
  {
   "cell_type": "code",
   "execution_count": 33,
   "metadata": {},
   "outputs": [
    {
     "data": {
      "text/plain": [
       "1007488"
      ]
     },
     "execution_count": 33,
     "metadata": {},
     "output_type": "execute_result"
    }
   ],
   "source": [
    "781250 + 226238"
   ]
  },
  {
   "cell_type": "code",
   "execution_count": 43,
   "metadata": {},
   "outputs": [
    {
     "data": {
      "text/plain": [
       "(   sid                                   eid\n",
       " 0    0  GC0fEQWFdXBogHcAABeqOGzEdyUwbiMZAAAB\n",
       " 1    1  GGu2BgVlNA76K6wAACw9uey3qGRmbiMZAAAB\n",
       " 2    2  GIb5EAVPqE2MIqgAAJwWenTzGsMibiMZAAAB\n",
       " 3    3  GMHYDwXmNmm_OO8IAB9d_7IBUAQMbiMZAAAB\n",
       " 4    4  GKYAEQUuckgIWOYDAO8iPtU-xis0biMZAAAB, 1007488, 1007488)"
      ]
     },
     "execution_count": 43,
     "metadata": {},
     "output_type": "execute_result"
    }
   ],
   "source": [
    "import pandas as pd\n",
    "df = pd.DataFrame()\n",
    "sid = np.arange(1007488)\n",
    "eid = d[1] + d2[1]\n",
    "df['sid'] = sid\n",
    "df['eid'] = eid\n",
    "df.head(), len(eid), len(sid)"
   ]
  },
  {
   "cell_type": "code",
   "execution_count": 46,
   "metadata": {},
   "outputs": [
    {
     "data": {
      "text/html": [
       "<div>\n",
       "<style scoped>\n",
       "    .dataframe tbody tr th:only-of-type {\n",
       "        vertical-align: middle;\n",
       "    }\n",
       "\n",
       "    .dataframe tbody tr th {\n",
       "        vertical-align: top;\n",
       "    }\n",
       "\n",
       "    .dataframe thead th {\n",
       "        text-align: right;\n",
       "    }\n",
       "</style>\n",
       "<table border=\"1\" class=\"dataframe\">\n",
       "  <thead>\n",
       "    <tr style=\"text-align: right;\">\n",
       "      <th></th>\n",
       "      <th>0</th>\n",
       "      <th>1</th>\n",
       "      <th>2</th>\n",
       "      <th>3</th>\n",
       "      <th>4</th>\n",
       "      <th>5</th>\n",
       "      <th>6</th>\n",
       "      <th>7</th>\n",
       "    </tr>\n",
       "  </thead>\n",
       "  <tbody>\n",
       "    <tr>\n",
       "      <th>0</th>\n",
       "      <td>images/0/53/260975258,2323897053.jpg</td>\n",
       "      <td>260975258,2323897053.jpg</td>\n",
       "      <td>GOotBwWSElDZtFsAAGshNhrA9hdEbiMZAAAB</td>\n",
       "      <td>Jacket</td>\n",
       "      <td>7</td>\n",
       "      <td>0.0</td>\n",
       "      <td>2020-02-04</td>\n",
       "      <td>val</td>\n",
       "    </tr>\n",
       "    <tr>\n",
       "      <th>1</th>\n",
       "      <td>images/3/61/2976764135,2716435361.jpg</td>\n",
       "      <td>2976764135,2716435361.jpg</td>\n",
       "      <td>GProEQWGvjYQw6kAAK1c8Yf51zpabiMZAAAB</td>\n",
       "      <td>Jacket</td>\n",
       "      <td>7</td>\n",
       "      <td>0.0</td>\n",
       "      <td>2020-02-04</td>\n",
       "      <td>val</td>\n",
       "    </tr>\n",
       "    <tr>\n",
       "      <th>2</th>\n",
       "      <td>images/9/51/2289770356,3952390951.jpg</td>\n",
       "      <td>2289770356,3952390951.jpg</td>\n",
       "      <td>GO3cCwUP8P3SX28AANt4RxtOHgYmbiMZAAAB</td>\n",
       "      <td>T-Shirt</td>\n",
       "      <td>0</td>\n",
       "      <td>NaN</td>\n",
       "      <td>2020-02-04</td>\n",
       "      <td>test</td>\n",
       "    </tr>\n",
       "    <tr>\n",
       "      <th>3</th>\n",
       "      <td>images/9/46/430097811,2005980946.jpg</td>\n",
       "      <td>430097811,2005980946.jpg</td>\n",
       "      <td>GCAlEQWVFrN0SpECAJkqle41WVwlbiMZAAAB</td>\n",
       "      <td>Vest</td>\n",
       "      <td>12</td>\n",
       "      <td>NaN</td>\n",
       "      <td>2020-02-04</td>\n",
       "      <td>test</td>\n",
       "    </tr>\n",
       "    <tr>\n",
       "      <th>4</th>\n",
       "      <td>images/4/53/3469714287,432026453.jpg</td>\n",
       "      <td>3469714287,432026453.jpg</td>\n",
       "      <td>GCKSEQVFfl_GL3kAANhTTwICHxdGbiMZAAAB</td>\n",
       "      <td>Dress</td>\n",
       "      <td>11</td>\n",
       "      <td>NaN</td>\n",
       "      <td>2020-02-04</td>\n",
       "      <td>test</td>\n",
       "    </tr>\n",
       "  </tbody>\n",
       "</table>\n",
       "</div>"
      ],
      "text/plain": [
       "                                       0                          1  \\\n",
       "0   images/0/53/260975258,2323897053.jpg   260975258,2323897053.jpg   \n",
       "1  images/3/61/2976764135,2716435361.jpg  2976764135,2716435361.jpg   \n",
       "2  images/9/51/2289770356,3952390951.jpg  2289770356,3952390951.jpg   \n",
       "3   images/9/46/430097811,2005980946.jpg   430097811,2005980946.jpg   \n",
       "4   images/4/53/3469714287,432026453.jpg   3469714287,432026453.jpg   \n",
       "\n",
       "                                      2        3   4    5           6     7  \n",
       "0  GOotBwWSElDZtFsAAGshNhrA9hdEbiMZAAAB   Jacket   7  0.0  2020-02-04   val  \n",
       "1  GProEQWGvjYQw6kAAK1c8Yf51zpabiMZAAAB   Jacket   7  0.0  2020-02-04   val  \n",
       "2  GO3cCwUP8P3SX28AANt4RxtOHgYmbiMZAAAB  T-Shirt   0  NaN  2020-02-04  test  \n",
       "3  GCAlEQWVFrN0SpECAJkqle41WVwlbiMZAAAB     Vest  12  NaN  2020-02-04  test  \n",
       "4  GCKSEQVFfl_GL3kAANhTTwICHxdGbiMZAAAB    Dress  11  NaN  2020-02-04  test  "
      ]
     },
     "execution_count": 46,
     "metadata": {},
     "output_type": "execute_result"
    }
   ],
   "source": [
    "ldf = pd.read_csv('/home/krsharma/ClassificationImageText/trained_models/clothing1m_10e/robustnoiserank/clothing-256d_emb/eluo_clothing1m_everstore_handle_with_label_and_type.csv', header=None)\n",
    "\n",
    "ldf.head()\n"
   ]
  },
  {
   "cell_type": "code",
   "execution_count": 255,
   "metadata": {},
   "outputs": [
    {
     "data": {
      "text/plain": [
       "72713.64285714286"
      ]
     },
     "execution_count": 255,
     "metadata": {},
     "output_type": "execute_result"
    }
   ],
   "source": [
    "np.unique(ldf[4], return_counts=True)[1].mean() # .mean()"
   ]
  },
  {
   "cell_type": "code",
   "execution_count": 257,
   "metadata": {},
   "outputs": [
    {
     "name": "stdout",
     "output_type": "stream",
     "text": [
      "100.12242506052279\n",
      "190.67464810134416\n",
      "211.95636343360866\n"
     ]
    }
   ],
   "source": [
    "# 200\n",
    "K = np.sqrt(20049/2)\n",
    "print(K)\n",
    "\n",
    "K = np.sqrt(72713.64285714286/2)\n",
    "print(K)\n",
    "\n",
    "K = np.sqrt(89851/2)\n",
    "print(K)"
   ]
  },
  {
   "cell_type": "code",
   "execution_count": 249,
   "metadata": {},
   "outputs": [],
   "source": [
    "ldict = dict(zip(ldf[2], ldf[4]))"
   ]
  },
  {
   "cell_type": "code",
   "execution_count": 56,
   "metadata": {},
   "outputs": [],
   "source": [
    "df['label'] = df['eid'].apply(lambda x: ldict[x])"
   ]
  },
  {
   "cell_type": "code",
   "execution_count": 57,
   "metadata": {},
   "outputs": [
    {
     "data": {
      "text/html": [
       "<div>\n",
       "<style scoped>\n",
       "    .dataframe tbody tr th:only-of-type {\n",
       "        vertical-align: middle;\n",
       "    }\n",
       "\n",
       "    .dataframe tbody tr th {\n",
       "        vertical-align: top;\n",
       "    }\n",
       "\n",
       "    .dataframe thead th {\n",
       "        text-align: right;\n",
       "    }\n",
       "</style>\n",
       "<table border=\"1\" class=\"dataframe\">\n",
       "  <thead>\n",
       "    <tr style=\"text-align: right;\">\n",
       "      <th></th>\n",
       "      <th>sid</th>\n",
       "      <th>eid</th>\n",
       "      <th>label</th>\n",
       "    </tr>\n",
       "  </thead>\n",
       "  <tbody>\n",
       "    <tr>\n",
       "      <th>0</th>\n",
       "      <td>0</td>\n",
       "      <td>GC0fEQWFdXBogHcAABeqOGzEdyUwbiMZAAAB</td>\n",
       "      <td>11</td>\n",
       "    </tr>\n",
       "    <tr>\n",
       "      <th>1</th>\n",
       "      <td>1</td>\n",
       "      <td>GGu2BgVlNA76K6wAACw9uey3qGRmbiMZAAAB</td>\n",
       "      <td>0</td>\n",
       "    </tr>\n",
       "    <tr>\n",
       "      <th>2</th>\n",
       "      <td>2</td>\n",
       "      <td>GIb5EAVPqE2MIqgAAJwWenTzGsMibiMZAAAB</td>\n",
       "      <td>8</td>\n",
       "    </tr>\n",
       "    <tr>\n",
       "      <th>3</th>\n",
       "      <td>3</td>\n",
       "      <td>GMHYDwXmNmm_OO8IAB9d_7IBUAQMbiMZAAAB</td>\n",
       "      <td>2</td>\n",
       "    </tr>\n",
       "    <tr>\n",
       "      <th>4</th>\n",
       "      <td>4</td>\n",
       "      <td>GKYAEQUuckgIWOYDAO8iPtU-xis0biMZAAAB</td>\n",
       "      <td>0</td>\n",
       "    </tr>\n",
       "  </tbody>\n",
       "</table>\n",
       "</div>"
      ],
      "text/plain": [
       "   sid                                   eid  label\n",
       "0    0  GC0fEQWFdXBogHcAABeqOGzEdyUwbiMZAAAB     11\n",
       "1    1  GGu2BgVlNA76K6wAACw9uey3qGRmbiMZAAAB      0\n",
       "2    2  GIb5EAVPqE2MIqgAAJwWenTzGsMibiMZAAAB      8\n",
       "3    3  GMHYDwXmNmm_OO8IAB9d_7IBUAQMbiMZAAAB      2\n",
       "4    4  GKYAEQUuckgIWOYDAO8iPtU-xis0biMZAAAB      0"
      ]
     },
     "execution_count": 57,
     "metadata": {},
     "output_type": "execute_result"
    }
   ],
   "source": [
    "df.head()"
   ]
  },
  {
   "cell_type": "code",
   "execution_count": 58,
   "metadata": {},
   "outputs": [],
   "source": [
    "emb = np.vstack([d[0], d2[0]])"
   ]
  },
  {
   "cell_type": "code",
   "execution_count": 66,
   "metadata": {},
   "outputs": [
    {
     "data": {
      "text/html": [
       "<div>\n",
       "<style scoped>\n",
       "    .dataframe tbody tr th:only-of-type {\n",
       "        vertical-align: middle;\n",
       "    }\n",
       "\n",
       "    .dataframe tbody tr th {\n",
       "        vertical-align: top;\n",
       "    }\n",
       "\n",
       "    .dataframe thead th {\n",
       "        text-align: right;\n",
       "    }\n",
       "</style>\n",
       "<table border=\"1\" class=\"dataframe\">\n",
       "  <thead>\n",
       "    <tr style=\"text-align: right;\">\n",
       "      <th></th>\n",
       "      <th>sid</th>\n",
       "      <th>eid</th>\n",
       "      <th>label</th>\n",
       "      <th>emb</th>\n",
       "    </tr>\n",
       "  </thead>\n",
       "  <tbody>\n",
       "    <tr>\n",
       "      <th>0</th>\n",
       "      <td>0</td>\n",
       "      <td>GC0fEQWFdXBogHcAABeqOGzEdyUwbiMZAAAB</td>\n",
       "      <td>11</td>\n",
       "      <td>[-0.423, -0.407, 1.321, -1.238, -0.747, 0.288,...</td>\n",
       "    </tr>\n",
       "    <tr>\n",
       "      <th>1</th>\n",
       "      <td>1</td>\n",
       "      <td>GGu2BgVlNA76K6wAACw9uey3qGRmbiMZAAAB</td>\n",
       "      <td>0</td>\n",
       "      <td>[-0.228, 0.309, -0.259, -0.004, -0.036, 0.768,...</td>\n",
       "    </tr>\n",
       "    <tr>\n",
       "      <th>2</th>\n",
       "      <td>2</td>\n",
       "      <td>GIb5EAVPqE2MIqgAAJwWenTzGsMibiMZAAAB</td>\n",
       "      <td>8</td>\n",
       "      <td>[-1.511, -0.202, 1.033, 1.426, 0.154, -0.068, ...</td>\n",
       "    </tr>\n",
       "    <tr>\n",
       "      <th>3</th>\n",
       "      <td>3</td>\n",
       "      <td>GMHYDwXmNmm_OO8IAB9d_7IBUAQMbiMZAAAB</td>\n",
       "      <td>2</td>\n",
       "      <td>[-0.597, 0.106, 2.139, -0.824, 0.161, 0.893, -...</td>\n",
       "    </tr>\n",
       "    <tr>\n",
       "      <th>4</th>\n",
       "      <td>4</td>\n",
       "      <td>GKYAEQUuckgIWOYDAO8iPtU-xis0biMZAAAB</td>\n",
       "      <td>0</td>\n",
       "      <td>[0.118, 1.405, -0.913, -0.631, -0.567, 2.513, ...</td>\n",
       "    </tr>\n",
       "  </tbody>\n",
       "</table>\n",
       "</div>"
      ],
      "text/plain": [
       "   sid                                   eid  label  \\\n",
       "0    0  GC0fEQWFdXBogHcAABeqOGzEdyUwbiMZAAAB     11   \n",
       "1    1  GGu2BgVlNA76K6wAACw9uey3qGRmbiMZAAAB      0   \n",
       "2    2  GIb5EAVPqE2MIqgAAJwWenTzGsMibiMZAAAB      8   \n",
       "3    3  GMHYDwXmNmm_OO8IAB9d_7IBUAQMbiMZAAAB      2   \n",
       "4    4  GKYAEQUuckgIWOYDAO8iPtU-xis0biMZAAAB      0   \n",
       "\n",
       "                                                 emb  \n",
       "0  [-0.423, -0.407, 1.321, -1.238, -0.747, 0.288,...  \n",
       "1  [-0.228, 0.309, -0.259, -0.004, -0.036, 0.768,...  \n",
       "2  [-1.511, -0.202, 1.033, 1.426, 0.154, -0.068, ...  \n",
       "3  [-0.597, 0.106, 2.139, -0.824, 0.161, 0.893, -...  \n",
       "4  [0.118, 1.405, -0.913, -0.631, -0.567, 2.513, ...  "
      ]
     },
     "execution_count": 66,
     "metadata": {},
     "output_type": "execute_result"
    }
   ],
   "source": [
    "df['emb'] = list(np.round(emb, 3))\n",
    "df.head()"
   ]
  },
  {
   "cell_type": "code",
   "execution_count": 67,
   "metadata": {},
   "outputs": [],
   "source": [
    "df['emb'] = df['emb'].apply(lambda x: \",\".join(map(str, x)))"
   ]
  },
  {
   "cell_type": "code",
   "execution_count": 68,
   "metadata": {},
   "outputs": [
    {
     "data": {
      "text/html": [
       "<div>\n",
       "<style scoped>\n",
       "    .dataframe tbody tr th:only-of-type {\n",
       "        vertical-align: middle;\n",
       "    }\n",
       "\n",
       "    .dataframe tbody tr th {\n",
       "        vertical-align: top;\n",
       "    }\n",
       "\n",
       "    .dataframe thead th {\n",
       "        text-align: right;\n",
       "    }\n",
       "</style>\n",
       "<table border=\"1\" class=\"dataframe\">\n",
       "  <thead>\n",
       "    <tr style=\"text-align: right;\">\n",
       "      <th></th>\n",
       "      <th>sid</th>\n",
       "      <th>eid</th>\n",
       "      <th>label</th>\n",
       "      <th>emb</th>\n",
       "    </tr>\n",
       "  </thead>\n",
       "  <tbody>\n",
       "    <tr>\n",
       "      <th>0</th>\n",
       "      <td>0</td>\n",
       "      <td>GC0fEQWFdXBogHcAABeqOGzEdyUwbiMZAAAB</td>\n",
       "      <td>11</td>\n",
       "      <td>-0.423,-0.407,1.321,-1.238,-0.747,0.288,-0.724...</td>\n",
       "    </tr>\n",
       "    <tr>\n",
       "      <th>1</th>\n",
       "      <td>1</td>\n",
       "      <td>GGu2BgVlNA76K6wAACw9uey3qGRmbiMZAAAB</td>\n",
       "      <td>0</td>\n",
       "      <td>-0.228,0.309,-0.259,-0.004,-0.036,0.768,-0.613...</td>\n",
       "    </tr>\n",
       "    <tr>\n",
       "      <th>2</th>\n",
       "      <td>2</td>\n",
       "      <td>GIb5EAVPqE2MIqgAAJwWenTzGsMibiMZAAAB</td>\n",
       "      <td>8</td>\n",
       "      <td>-1.511,-0.202,1.033,1.426,0.154,-0.068,-1.277,...</td>\n",
       "    </tr>\n",
       "    <tr>\n",
       "      <th>3</th>\n",
       "      <td>3</td>\n",
       "      <td>GMHYDwXmNmm_OO8IAB9d_7IBUAQMbiMZAAAB</td>\n",
       "      <td>2</td>\n",
       "      <td>-0.597,0.106,2.139,-0.824,0.161,0.893,-1.64,-0...</td>\n",
       "    </tr>\n",
       "    <tr>\n",
       "      <th>4</th>\n",
       "      <td>4</td>\n",
       "      <td>GKYAEQUuckgIWOYDAO8iPtU-xis0biMZAAAB</td>\n",
       "      <td>0</td>\n",
       "      <td>0.118,1.405,-0.913,-0.631,-0.567,2.513,-1.582,...</td>\n",
       "    </tr>\n",
       "  </tbody>\n",
       "</table>\n",
       "</div>"
      ],
      "text/plain": [
       "   sid                                   eid  label  \\\n",
       "0    0  GC0fEQWFdXBogHcAABeqOGzEdyUwbiMZAAAB     11   \n",
       "1    1  GGu2BgVlNA76K6wAACw9uey3qGRmbiMZAAAB      0   \n",
       "2    2  GIb5EAVPqE2MIqgAAJwWenTzGsMibiMZAAAB      8   \n",
       "3    3  GMHYDwXmNmm_OO8IAB9d_7IBUAQMbiMZAAAB      2   \n",
       "4    4  GKYAEQUuckgIWOYDAO8iPtU-xis0biMZAAAB      0   \n",
       "\n",
       "                                                 emb  \n",
       "0  -0.423,-0.407,1.321,-1.238,-0.747,0.288,-0.724...  \n",
       "1  -0.228,0.309,-0.259,-0.004,-0.036,0.768,-0.613...  \n",
       "2  -1.511,-0.202,1.033,1.426,0.154,-0.068,-1.277,...  \n",
       "3  -0.597,0.106,2.139,-0.824,0.161,0.893,-1.64,-0...  \n",
       "4  0.118,1.405,-0.913,-0.631,-0.567,2.513,-1.582,...  "
      ]
     },
     "execution_count": 68,
     "metadata": {},
     "output_type": "execute_result"
    }
   ],
   "source": [
    "df.head()"
   ]
  },
  {
   "cell_type": "code",
   "execution_count": 69,
   "metadata": {},
   "outputs": [],
   "source": [
    "df.to_csv('/home/krsharma/ClassificationImageText/trained_models/clothing1m_10e/robustnoiserank/cleannet_all_256d.tsv', sep='\\t', index=False, header=None)\n",
    "\n",
    "\n"
   ]
  },
  {
   "cell_type": "markdown",
   "metadata": {},
   "source": [
    "# Evaluate robustnoiserank"
   ]
  },
  {
   "cell_type": "code",
   "execution_count": null,
   "metadata": {},
   "outputs": [],
   "source": [
    "cleannet_all_256d = pd.read_csv('/home/krsharma/ClassificationImageText/trained_models/clothing1m_10e/robustnoiserank/clothing-256d_emb/cleannet_all_256d.tsv', header=None, sep='\\t')\n",
    "\n",
    "cleannet_all_256d_df = cleannet_all_256d[[0, 1, 2]]\n",
    "\n",
    "cleannet_all_256d_df.head()\n",
    "\n",
    "everstore_mapping = dict(zip(cleannet_all_256d_df[0], cleannet_all_256d_df[1]))\n",
    "everstore_mapping[0]"
   ]
  },
  {
   "cell_type": "code",
   "execution_count": 239,
   "metadata": {},
   "outputs": [
    {
     "name": "stdout",
     "output_type": "stream",
     "text": [
      "392489\n",
      "['GFUNEQV8QzrF4BYJACLwms5fwYQnbiMZAAAB', 'GLmSAgWfLiGHbKwBALbtKFfLtuBwbiMZAAAB', 'GPmHCQW2xPBDsn8AADQliIRLNdA9biMZAAAB', 'GDclBwVTvXzzxa8AACdDC9sNSl5bbiMZAAAB', 'GGWzEwVbzo2XK6QAALovSL047BtjbiMZAAAB'] 392489\n",
      "[ 76144. 623843.  87420. 812828. 943857. 631377. 483541. 660380.]\n"
     ]
    }
   ],
   "source": [
    "detected = np.loadtxt('/home/krsharma/ClassificationImageText/trained_models/clothing1m_10e/robustnoiserank/clothing-256d_emb/results_190/k=250_a=0.5_bf=1.0_b=1.0_e=2.0.txt')\n",
    "\n",
    "print(len(detected))\n",
    "\n",
    "# 342202 \n",
    "# 633645 k=250_a=0.5_bf=1.0_b=1.0_e=2.0.txt\n",
    "\n",
    "detected_noise_everstore = [everstore_mapping[d] for d in detected]\n",
    "print(detected_noise_everstore[0:5], len(detected_noise_everstore))\n",
    "\n",
    "print(detected[0:8])"
   ]
  },
  {
   "cell_type": "code",
   "execution_count": 182,
   "metadata": {},
   "outputs": [
    {
     "data": {
      "text/html": [
       "<div>\n",
       "<style scoped>\n",
       "    .dataframe tbody tr th:only-of-type {\n",
       "        vertical-align: middle;\n",
       "    }\n",
       "\n",
       "    .dataframe tbody tr th {\n",
       "        vertical-align: top;\n",
       "    }\n",
       "\n",
       "    .dataframe thead th {\n",
       "        text-align: right;\n",
       "    }\n",
       "</style>\n",
       "<table border=\"1\" class=\"dataframe\">\n",
       "  <thead>\n",
       "    <tr style=\"text-align: right;\">\n",
       "      <th></th>\n",
       "      <th>0</th>\n",
       "      <th>1</th>\n",
       "      <th>2</th>\n",
       "      <th>3</th>\n",
       "      <th>4</th>\n",
       "      <th>5</th>\n",
       "      <th>6</th>\n",
       "      <th>7</th>\n",
       "    </tr>\n",
       "  </thead>\n",
       "  <tbody>\n",
       "    <tr>\n",
       "      <th>0</th>\n",
       "      <td>images/0/53/260975258,2323897053.jpg</td>\n",
       "      <td>260975258,2323897053.jpg</td>\n",
       "      <td>GOotBwWSElDZtFsAAGshNhrA9hdEbiMZAAAB</td>\n",
       "      <td>Jacket</td>\n",
       "      <td>7</td>\n",
       "      <td>0.0</td>\n",
       "      <td>2020-02-04</td>\n",
       "      <td>val</td>\n",
       "    </tr>\n",
       "    <tr>\n",
       "      <th>1</th>\n",
       "      <td>images/3/61/2976764135,2716435361.jpg</td>\n",
       "      <td>2976764135,2716435361.jpg</td>\n",
       "      <td>GProEQWGvjYQw6kAAK1c8Yf51zpabiMZAAAB</td>\n",
       "      <td>Jacket</td>\n",
       "      <td>7</td>\n",
       "      <td>0.0</td>\n",
       "      <td>2020-02-04</td>\n",
       "      <td>val</td>\n",
       "    </tr>\n",
       "    <tr>\n",
       "      <th>2</th>\n",
       "      <td>images/9/51/2289770356,3952390951.jpg</td>\n",
       "      <td>2289770356,3952390951.jpg</td>\n",
       "      <td>GO3cCwUP8P3SX28AANt4RxtOHgYmbiMZAAAB</td>\n",
       "      <td>T-Shirt</td>\n",
       "      <td>0</td>\n",
       "      <td>NaN</td>\n",
       "      <td>2020-02-04</td>\n",
       "      <td>test</td>\n",
       "    </tr>\n",
       "    <tr>\n",
       "      <th>3</th>\n",
       "      <td>images/9/46/430097811,2005980946.jpg</td>\n",
       "      <td>430097811,2005980946.jpg</td>\n",
       "      <td>GCAlEQWVFrN0SpECAJkqle41WVwlbiMZAAAB</td>\n",
       "      <td>Vest</td>\n",
       "      <td>12</td>\n",
       "      <td>NaN</td>\n",
       "      <td>2020-02-04</td>\n",
       "      <td>test</td>\n",
       "    </tr>\n",
       "    <tr>\n",
       "      <th>4</th>\n",
       "      <td>images/4/53/3469714287,432026453.jpg</td>\n",
       "      <td>3469714287,432026453.jpg</td>\n",
       "      <td>GCKSEQVFfl_GL3kAANhTTwICHxdGbiMZAAAB</td>\n",
       "      <td>Dress</td>\n",
       "      <td>11</td>\n",
       "      <td>NaN</td>\n",
       "      <td>2020-02-04</td>\n",
       "      <td>test</td>\n",
       "    </tr>\n",
       "  </tbody>\n",
       "</table>\n",
       "</div>"
      ],
      "text/plain": [
       "                                       0                          1  \\\n",
       "0   images/0/53/260975258,2323897053.jpg   260975258,2323897053.jpg   \n",
       "1  images/3/61/2976764135,2716435361.jpg  2976764135,2716435361.jpg   \n",
       "2  images/9/51/2289770356,3952390951.jpg  2289770356,3952390951.jpg   \n",
       "3   images/9/46/430097811,2005980946.jpg   430097811,2005980946.jpg   \n",
       "4   images/4/53/3469714287,432026453.jpg   3469714287,432026453.jpg   \n",
       "\n",
       "                                      2        3   4    5           6     7  \n",
       "0  GOotBwWSElDZtFsAAGshNhrA9hdEbiMZAAAB   Jacket   7  0.0  2020-02-04   val  \n",
       "1  GProEQWGvjYQw6kAAK1c8Yf51zpabiMZAAAB   Jacket   7  0.0  2020-02-04   val  \n",
       "2  GO3cCwUP8P3SX28AANt4RxtOHgYmbiMZAAAB  T-Shirt   0  NaN  2020-02-04  test  \n",
       "3  GCAlEQWVFrN0SpECAJkqle41WVwlbiMZAAAB     Vest  12  NaN  2020-02-04  test  \n",
       "4  GCKSEQVFfl_GL3kAANhTTwICHxdGbiMZAAAB    Dress  11  NaN  2020-02-04  test  "
      ]
     },
     "execution_count": 182,
     "metadata": {},
     "output_type": "execute_result"
    }
   ],
   "source": [
    "dict_noisylabel = dict(zip(ldf[0], ldf[4]))\n",
    "dict_everstorehandle = dict(zip(ldf[0], ldf[2]))\n",
    "ldf.head()"
   ]
  },
  {
   "cell_type": "code",
   "execution_count": 183,
   "metadata": {},
   "outputs": [
    {
     "data": {
      "text/plain": [
       "(7465,                                        0                          1  \\\n",
       " 0   images/0/53/260975258,2323897053.jpg   260975258,2323897053.jpg   \n",
       " 1  images/3/61/2976764135,2716435361.jpg  2976764135,2716435361.jpg   \n",
       " 5  images/0/61/2084697051,3460346061.jpg  2084697051,3460346061.jpg   \n",
       " 6    images/4/45/1970005206,57268445.jpg    1970005206,57268445.jpg   \n",
       " 7   images/9/45/3795980266,517718945.jpg   3795980266,517718945.jpg   \n",
       " \n",
       "                                       2       3  4    5           6    7  \n",
       " 0  GOotBwWSElDZtFsAAGshNhrA9hdEbiMZAAAB  Jacket  7  0.0  2020-02-04  val  \n",
       " 1  GProEQWGvjYQw6kAAK1c8Yf51zpabiMZAAAB  Jacket  7  0.0  2020-02-04  val  \n",
       " 5  GEMWEgUop6FFgmoAAJa94brcVmQrbiMZAAAB  Jacket  7  0.0  2020-02-04  val  \n",
       " 6  GNi3DwVh9M2U95wAAIYARk8RzqpEbiMZAAAB  Jacket  7  0.0  2020-02-04  val  \n",
       " 7  GOjYEAXTDWHbKNQAABY6FZpR1tgabiMZAAAB  Jacket  7  1.0  2020-02-04  val  )"
      ]
     },
     "execution_count": 183,
     "metadata": {},
     "output_type": "execute_result"
    }
   ],
   "source": [
    "val = ldf[ldf[7] == 'val']\n",
    "len(val), val.head()"
   ]
  },
  {
   "cell_type": "code",
   "execution_count": 240,
   "metadata": {},
   "outputs": [
    {
     "name": "stdout",
     "output_type": "stream",
     "text": [
      "P/R/F1 (noise) (0.5976923076923077, 0.8110647181628392, 0.6882196634189548, None)\n",
      "f1_metrics (macro/unweighted mean) 0.7146345987521454\n",
      "avg accuracy over classes 0.7213610046174749 AvgErrorRate 0.2786389953825251\n"
     ]
    },
    {
     "name": "stderr",
     "output_type": "stream",
     "text": [
      "/home/krsharma/miniconda3/envs/bert/lib/python3.7/site-packages/ipykernel_launcher.py:3: SettingWithCopyWarning: \n",
      "A value is trying to be set on a copy of a slice from a DataFrame.\n",
      "Try using .loc[row_indexer,col_indexer] = value instead\n",
      "\n",
      "See the caveats in the documentation: http://pandas.pydata.org/pandas-docs/stable/user_guide/indexing.html#returning-a-view-versus-a-copy\n",
      "  This is separate from the ipykernel package so we can avoid doing imports until\n"
     ]
    }
   ],
   "source": [
    "set_detected_noise = set(detected_noise_everstore)\n",
    "\n",
    "val['detected_label'] = val[2].apply(lambda x: 0.0 if x in set_detected_noise else 1.0)\n",
    "val.head()\n",
    "\n",
    "vlabels = np.array(val[5], dtype=np.int32)\n",
    "preds = np.array(val['detected_label'], dtype=np.int32)\n",
    "classes = np.array(val[4], dtype=np.int32)\n",
    "\n",
    "from sklearn.metrics import f1_score, classification_report, precision_recall_fscore_support\n",
    "\n",
    "def report_metrics(targets, preds, classes):\n",
    "    C = np.max(classes) + 1\n",
    "    per_class_accuracies = np.zeros((C,))\n",
    "    for c in range(C):\n",
    "        ind = np.where(classes == c)[0]\n",
    "        class_acc = f1_score(targets[ind], preds[ind], average='micro')\n",
    "        per_class_accuracies[c] = class_acc\n",
    "    \n",
    "    print('P/R/F1 (noise)', precision_recall_fscore_support(targets, preds, pos_label=0, average='binary'))\n",
    "    print('f1_metrics (macro/unweighted mean)', f1_score(targets, preds, average='macro'))\n",
    "    acc_classes = np.mean(per_class_accuracies)\n",
    "    print('avg accuracy over classes', acc_classes, 'AvgErrorRate', 1 - acc_classes)\n",
    "    \n",
    "    report_additional = False\n",
    "    if report_additional:\n",
    "        print()\n",
    "        acc = f1_score(targets, preds, average='micro')\n",
    "        print('f1_metrics (accuracy/micro)', acc, 'ErrorRate', 1 - acc)\n",
    "        print('P/R/F1 (clean)', precision_recall_fscore_support(targets, preds, pos_label=1, average='binary'))\n",
    "        print('f1_metrics (weighted mean of f1)', f1_score(targets, preds, average='weighted'))\n",
    "    # cr = classification_report(targets, preds)\n",
    "\n",
    "report_metrics(vlabels, preds, classes)"
   ]
  },
  {
   "cell_type": "code",
   "execution_count": null,
   "metadata": {},
   "outputs": [],
   "source": [
    "*342202 detected = np.loadtxt('/home/krsharma/ClassificationImageText/trained_models/clothing1m_10e/robustnoiserank/clothing-256d_emb/results_100/k=100_a=0.5_bf=1.0_b=1.0_e=2.0.txt')\n",
    "\n",
    "P/R/F1 (noise) (0.6354902514834699, 0.7825330549756437, 0.7013878060190238, None)\n",
    "f1_metrics (macro/unweighted mean) 0.738271688614772\n",
    "avg accuracy over classes 0.7441506457285033 AvgErrorRate 0.2558493542714967\n",
    "\n",
    "\n",
    "287874 detected = np.loadtxt('/home/krsharma/ClassificationImageText/trained_models/clothing1m_10e/robustnoiserank/clothing-256d_emb/results_500/k=250_a=0.5_bf=1.0_b=1.0_e=2.0.txt')\n",
    "\n",
    "P/R/F1 (noise) (0.6724960254372019, 0.7359081419624217, 0.702774547266988, None)\n",
    "f1_metrics (macro/unweighted mean) 0.7510057227413381\n",
    "avg accuracy over classes 0.7569446650329086 AvgErrorRate 0.24305533496709142\n",
    "\n",
    "361041 detected = np.loadtxt('/home/krsharma/ClassificationImageText/trained_models/clothing1m_10e/robustnoiserank/clothing-256d_emb/results_500/k=250_a=0.5_bf=1.0_b=1.0_e=2.0.txt')\n",
    "\n",
    "P/R/F1 (noise) (0.6197106197106197, 0.789839944328462, 0.6945081841823466, None)\n",
    "f1_metrics (macro/unweighted mean) 0.728285904315646\n",
    "avg accuracy over classes 0.7348079459620196 AvgErrorRate 0.2651920540379804\n",
    "\n",
    "\n",
    "*best*247021 detected = np.loadtxt('/home/krsharma/ClassificationImageText/trained_models/clothing1m_10e/robustnoiserank/clothing-256d_emb/results_190/k=50_a=0.5_bf=1.0_b=1.0_e=2.0.txt')\n",
    "\n",
    "P/R/F1 (noise) (0.7011772853185596, 0.7045929018789144, 0.7028809441166263, None)\n",
    "f1_metrics (macro/unweighted mean) 0.7580722347110183\n",
    "avg accuracy over classes 0.7645810177532378 AvgErrorRate 0.23541898224676217\n",
    "\n",
    "detected = np.loadtxt('/home/krsharma/ClassificationImageText/trained_models/clothing1m_10e/robustnoiserank/clothing-256d_emb/results_190/k=100_a=0.5_bf=1.0_b=1.0_e=2.0.txt')\n",
    "\n",
    "P/R/F1 (noise) (0.6735020826658122, 0.7313848295059151, 0.7012510425354462, None)\n",
    "f1_metrics (macro/unweighted mean) 0.750401682431685\n",
    "avg accuracy over classes 0.7553283437043063 AvgErrorRate 0.24467165629569365\n"
   ]
  },
  {
   "cell_type": "markdown",
   "metadata": {},
   "source": [
    "# Give detected ranked list as everstore handles\n"
   ]
  },
  {
   "cell_type": "code",
   "execution_count": 198,
   "metadata": {},
   "outputs": [
    {
     "data": {
      "text/plain": [
       "76144.0"
      ]
     },
     "execution_count": 198,
     "metadata": {},
     "output_type": "execute_result"
    }
   ],
   "source": [
    "detected = np.loadtxt('/home/krsharma/ClassificationImageText/trained_models/clothing1m_10e/robustnoiserank/clothing-256d_emb/results_100/k=100_a=0.5_bf=1.0_b=1.0_e=2.0.txt')"
   ]
  },
  {
   "cell_type": "code",
   "execution_count": 199,
   "metadata": {},
   "outputs": [
    {
     "data": {
      "text/plain": [
       "'GC0fEQWFdXBogHcAABeqOGzEdyUwbiMZAAAB'"
      ]
     },
     "execution_count": 199,
     "metadata": {},
     "output_type": "execute_result"
    }
   ],
   "source": [
    "# cleannet_all_256d.tsv everstore (matches row number)\n",
    "\n",
    "cleannet_all_256d = pd.read_csv('/home/krsharma/ClassificationImageText/trained_models/clothing1m_10e/robustnoiserank/clothing-256d_emb/cleannet_all_256d.tsv', header=None, sep='\\t')\n",
    "\n",
    "cleannet_all_256d_df = cleannet_all_256d[[0, 1, 2]]\n",
    "\n",
    "cleannet_all_256d_df.head()\n",
    "\n",
    "everstore_mapping = dict(zip(cleannet_all_256d_df[0], cleannet_all_256d_df[1]))\n",
    "everstore_mapping[0]"
   ]
  },
  {
   "cell_type": "code",
   "execution_count": 200,
   "metadata": {},
   "outputs": [
    {
     "data": {
      "text/html": [
       "<div>\n",
       "<style scoped>\n",
       "    .dataframe tbody tr th:only-of-type {\n",
       "        vertical-align: middle;\n",
       "    }\n",
       "\n",
       "    .dataframe tbody tr th {\n",
       "        vertical-align: top;\n",
       "    }\n",
       "\n",
       "    .dataframe thead th {\n",
       "        text-align: right;\n",
       "    }\n",
       "</style>\n",
       "<table border=\"1\" class=\"dataframe\">\n",
       "  <thead>\n",
       "    <tr style=\"text-align: right;\">\n",
       "      <th></th>\n",
       "      <th>0</th>\n",
       "      <th>1</th>\n",
       "      <th>2</th>\n",
       "    </tr>\n",
       "  </thead>\n",
       "  <tbody>\n",
       "    <tr>\n",
       "      <th>0</th>\n",
       "      <td>0</td>\n",
       "      <td>GC0fEQWFdXBogHcAABeqOGzEdyUwbiMZAAAB</td>\n",
       "      <td>11</td>\n",
       "    </tr>\n",
       "    <tr>\n",
       "      <th>1</th>\n",
       "      <td>1</td>\n",
       "      <td>GGu2BgVlNA76K6wAACw9uey3qGRmbiMZAAAB</td>\n",
       "      <td>0</td>\n",
       "    </tr>\n",
       "    <tr>\n",
       "      <th>2</th>\n",
       "      <td>2</td>\n",
       "      <td>GIb5EAVPqE2MIqgAAJwWenTzGsMibiMZAAAB</td>\n",
       "      <td>8</td>\n",
       "    </tr>\n",
       "    <tr>\n",
       "      <th>3</th>\n",
       "      <td>3</td>\n",
       "      <td>GMHYDwXmNmm_OO8IAB9d_7IBUAQMbiMZAAAB</td>\n",
       "      <td>2</td>\n",
       "    </tr>\n",
       "    <tr>\n",
       "      <th>4</th>\n",
       "      <td>4</td>\n",
       "      <td>GKYAEQUuckgIWOYDAO8iPtU-xis0biMZAAAB</td>\n",
       "      <td>0</td>\n",
       "    </tr>\n",
       "  </tbody>\n",
       "</table>\n",
       "</div>"
      ],
      "text/plain": [
       "   0                                     1   2\n",
       "0  0  GC0fEQWFdXBogHcAABeqOGzEdyUwbiMZAAAB  11\n",
       "1  1  GGu2BgVlNA76K6wAACw9uey3qGRmbiMZAAAB   0\n",
       "2  2  GIb5EAVPqE2MIqgAAJwWenTzGsMibiMZAAAB   8\n",
       "3  3  GMHYDwXmNmm_OO8IAB9d_7IBUAQMbiMZAAAB   2\n",
       "4  4  GKYAEQUuckgIWOYDAO8iPtU-xis0biMZAAAB   0"
      ]
     },
     "execution_count": 200,
     "metadata": {},
     "output_type": "execute_result"
    }
   ],
   "source": [
    "cleannet_all_256d_df.head()"
   ]
  },
  {
   "cell_type": "code",
   "execution_count": 201,
   "metadata": {},
   "outputs": [
    {
     "data": {
      "text/plain": [
       "342202"
      ]
     },
     "execution_count": 201,
     "metadata": {},
     "output_type": "execute_result"
    }
   ],
   "source": [
    "len(detected)"
   ]
  },
  {
   "cell_type": "code",
   "execution_count": 203,
   "metadata": {},
   "outputs": [
    {
     "name": "stdout",
     "output_type": "stream",
     "text": [
      "['GFUNEQV8QzrF4BYJACLwms5fwYQnbiMZAAAB', 'GLmSAgWfLiGHbKwBALbtKFfLtuBwbiMZAAAB', 'GC2-CAUil1DYCqwAAHb-CgBLniNcbiMZAAAB', 'GPmHCQW2xPBDsn8AADQliIRLNdA9biMZAAAB', 'GIubAgUsjPMi3L0AANPSFAHmlkdabiMZAAAB', 'GDclBwVTvXzzxa8AACdDC9sNSl5bbiMZAAAB', 'GGI_EQUhKwLfq6IDAIThHOj0cvdrbiMZAAAB', 'GHUwCwVv7S3I_FkMAHorw27TxAAWbiMZAAAB', 'GO2wBgV_Ynta2jACALr7YsnChiILbiMZAAAB', 'GGWzEwVbzo2XK6QAALovSL047BtjbiMZAAAB'] 342202\n"
     ]
    }
   ],
   "source": [
    "eranked = [everstore_mapping[d] for d in detected]\n",
    "print(eranked[0:10], len(eranked))"
   ]
  },
  {
   "cell_type": "code",
   "execution_count": 205,
   "metadata": {},
   "outputs": [],
   "source": [
    "np.savetxt('out.txt', eranked, fmt='%s')"
   ]
  },
  {
   "cell_type": "code",
   "execution_count": null,
   "metadata": {},
   "outputs": [],
   "source": []
  }
 ],
 "metadata": {
  "kernelspec": {
   "display_name": "bert",
   "language": "python",
   "name": "bert"
  },
  "language_info": {
   "codemirror_mode": {
    "name": "ipython",
    "version": 3
   },
   "file_extension": ".py",
   "mimetype": "text/x-python",
   "name": "python",
   "nbconvert_exporter": "python",
   "pygments_lexer": "ipython3",
   "version": "3.7.4"
  }
 },
 "nbformat": 4,
 "nbformat_minor": 4
}
